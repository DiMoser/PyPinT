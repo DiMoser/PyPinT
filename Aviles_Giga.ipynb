{
 "metadata": {
  "name": "",
  "signature": "sha256:7b4130ae3b7dfff8fe67fd2c2bc8d1ae85a7e9667824405dba86cbb97fa20f43"
 },
 "nbformat": 3,
 "nbformat_minor": 0,
 "worksheets": [
  {
   "cells": [
    {
     "cell_type": "code",
     "collapsed": false,
     "input": [
      "from examples.problems.aviles_giga import AvilesGiga\n",
      "from pypint.solvers.cores import SemiImplicitSdcCore\n",
      "from pypint.utilities.sdc_solver_factory import sdc_solver_factory\n",
      "from pypint.utilities.threshold_check import ThresholdCheck\n",
      "\n",
      "n = 20\n",
      "m = 2*n+1\n",
      "problem = AvilesGiga(epsilon=0.1, n=n, time_start=0.0, time_end=1)\n",
      "\n",
      "def solve_with_factory(prob, core, num_solvers, num_total_time_steps):\n",
      "    thresh = ThresholdCheck(max_threshold=15,\n",
      "                            min_threshold=1e-7,\n",
      "                            conditions=('residual', 'iterations'))\n",
      "    solvers = sdc_solver_factory(prob, num_solvers, num_total_time_steps, core, threshold=thresh, num_time_steps=1, num_nodes=5)\n",
      "    return solvers\n",
      "\n",
      "solvers = solve_with_factory(problem, SemiImplicitSdcCore, 1, 100)\n",
      "print(\"RHS Evaluations: %d\" % problem.rhs_evaluations)"
     ],
     "language": "python",
     "metadata": {},
     "outputs": [
      {
       "output_type": "stream",
       "stream": "stdout",
       "text": [
        "[INFO    ] !> ################################################################################\n"
       ]
      },
      {
       "output_type": "stream",
       "stream": "stdout",
       "text": [
        "[INFO    ] !> START: Semi-Implicit SDC #######################################################\n"
       ]
      },
      {
       "output_type": "stream",
       "stream": "stderr",
       "text": [
        "[2014-05-23 14:21] DEBUG: PyPinT Logging: Total number of solver calls: 100\n"
       ]
      },
      {
       "output_type": "stream",
       "stream": "stderr",
       "text": [
        "[2014-05-23 14:21] DEBUG: PyPinT Logging: Interval width per solver call: 0.010000\n"
       ]
      },
      {
       "output_type": "stream",
       "stream": "stdout",
       "text": [
        "[INFO    ] !>   Problem:\n"
       ]
      },
      {
       "output_type": "stream",
       "stream": "stdout",
       "text": [
        "[INFO    ] !>     DOFs:                          (41, 41, 1)\n"
       ]
      },
      {
       "output_type": "stream",
       "stream": "stdout",
       "text": [
        "[INFO    ] !>     Time Interval:                 [0.000, 1.000]\n"
       ]
      },
      {
       "output_type": "stream",
       "stream": "stdout",
       "text": [
        "[INFO    ] !>     Initial Value:                 u(0.000) = [[  0.0000e+00]\n",
        " [  0.0000e+00]\n",
        " [  0.0000e+00]\n",
        " ..., \n",
        " [  1.9158e-17]\n",
        " [  9.6085e-18]\n",
        " [  1.4998e-32]]\n"
       ]
      },
      {
       "output_type": "stream",
       "stream": "stdout",
       "text": [
        "[INFO    ] !>     Formula:                       d u(x,t) / dt = -\\epsilon \\laplace^2 u(x,t) + (\\grad \\cdot ((|grad u|^2-1)\\grad u))\n"
       ]
      },
      {
       "output_type": "stream",
       "stream": "stdout",
       "text": [
        "[INFO    ] !>     Coefficients:\n"
       ]
      },
      {
       "output_type": "stream",
       "stream": "stdout",
       "text": [
        "[INFO    ] !>       \\epsilon:                    0.1\n"
       ]
      },
      {
       "output_type": "stream",
       "stream": "stdout",
       "text": [
        "[INFO    ] !>   Number Solver Instances:         1\n"
       ]
      },
      {
       "output_type": "stream",
       "stream": "stdout",
       "text": [
        "[INFO    ] !>   Interval Width per Solver Call:  0.010\n"
       ]
      },
      {
       "output_type": "stream",
       "stream": "stdout",
       "text": [
        "[INFO    ] !>   Total Number Solver Calls:       100\n"
       ]
      },
      {
       "output_type": "stream",
       "stream": "stdout",
       "text": [
        "[INFO    ] !>   Individual Solver:\n"
       ]
      },
      {
       "output_type": "stream",
       "stream": "stdout",
       "text": [
        "[INFO    ] !>     Thresholds:\n"
       ]
      },
      {
       "output_type": "stream",
       "stream": "stdout",
       "text": [
        "[INFO    ] !>       iterations:                  15\n"
       ]
      },
      {
       "output_type": "stream",
       "stream": "stdout",
       "text": [
        "[INFO    ] !>       residual:                    1e-07\n"
       ]
      },
      {
       "output_type": "stream",
       "stream": "stdout",
       "text": [
        "[INFO    ] !>     Integrator:\n"
       ]
      },
      {
       "output_type": "stream",
       "stream": "stdout",
       "text": [
        "[INFO    ] !>       Number Time Steps:           1\n"
       ]
      },
      {
       "output_type": "stream",
       "stream": "stdout",
       "text": [
        "[INFO    ] !>       Number Nodes per Time Step:  5\n"
       ]
      },
      {
       "output_type": "stream",
       "stream": "stdout",
       "text": [
        "[INFO    ] !>       Type:                        SdcIntegrator\n"
       ]
      },
      {
       "output_type": "stream",
       "stream": "stdout",
       "text": [
        "[INFO    ] !> ################################################################################\n"
       ]
      },
      {
       "output_type": "stream",
       "stream": "stdout",
       "text": [
        "[INFO    ] !> Calling solver 0\n"
       ]
      },
      {
       "output_type": "stream",
       "stream": "stderr",
       "text": [
        "[2014-05-23 14:21] DEBUG: PyPinT Logging: Work Loop: 1\n"
       ]
      },
      {
       "output_type": "stream",
       "stream": "stderr",
       "text": [
        "[2014-05-23 14:21] DEBUG: PyPinT Logging: Nodes: [0.0, 0.001726731646460115, 0.005, 0.008273268353539885, 0.01]\n"
       ]
      },
      {
       "output_type": "stream",
       "stream": "stderr",
       "text": [
        "[2014-05-23 14:21] DEBUG: PyPinT Logging: Nodes: [0.0, 0.0017267316464601148, 0.005, 0.008273268353539885, 0.01]\n"
       ]
      },
      {
       "output_type": "stream",
       "stream": "stderr",
       "text": [
        "[2014-05-23 14:21] DEBUG: PyPinT Logging: New Interval Initialized\n"
       ]
      },
      {
       "output_type": "stream",
       "stream": "stdout",
       "text": [
        "[INFO    ] !> ................................................................................\n"
       ]
      },
      {
       "output_type": "stream",
       "stream": "stdout",
       "text": [
        "[INFO    ] !>   Interval: [0.000, 0.010]\n"
       ]
      },
      {
       "output_type": "stream",
       "stream": "stdout",
       "text": [
        "[INFO    ] !>    iter\n"
       ]
      },
      {
       "output_type": "stream",
       "stream": "stdout",
       "text": [
        "[INFO    ] >>         \\\n"
       ]
      },
      {
       "output_type": "stream",
       "stream": "stdout",
       "text": [
        "[INFO    ] >>          |- time    start     end        delta\n"
       ]
      },
      {
       "output_type": "stream",
       "stream": "stdout",
       "text": [
        "[INFO    ]  >          |     \\\n"
       ]
      },
      {
       "output_type": "stream",
       "stream": "stdout",
       "text": [
        "[INFO    ]  >          |      |- step    t_0      t_1       phi(t_1)    resid       err\n"
       ]
      },
      {
       "output_type": "stream",
       "stream": "stdout",
       "text": [
        "[INFO    ] >>          |      \\_\n"
       ]
      },
      {
       "output_type": "stream",
       "stream": "stdout",
       "text": [
        "[INFO    ] !>          \\_   sol r.red    err r.red      resid       time\n"
       ]
      },
      {
       "output_type": "stream",
       "stream": "stderr",
       "text": [
        "[2014-05-23 14:21] DEBUG: PyPinT Logging: Starting New Solver Main Loop\n"
       ]
      },
      {
       "output_type": "stream",
       "stream": "stdout",
       "text": [
        "[INFO    ] !>        1\n"
       ]
      },
      {
       "output_type": "stream",
       "stream": "stdout",
       "text": [
        "[INFO    ] >>         \\\n"
       ]
      },
      {
       "output_type": "stream",
       "stream": "stdout",
       "text": [
        "[INFO    ] >>          |-   1     0.000     0.010     0.010\n"
       ]
      },
      {
       "output_type": "stream",
       "stream": "stdout",
       "text": [
        "[INFO    ]  >          |     \\\n"
       ]
      },
      {
       "output_type": "stream",
       "stream": "stdout",
       "text": [
        "[INFO    ]  >          |      |-  1      na       0.000     1.000       na           na    \n"
       ]
      },
      {
       "output_type": "stream",
       "stream": "stdout",
       "text": [
        "[INFO    ]  >          |      |-  2     0.000     0.002     1.009     1.84e-02       na    \n"
       ]
      },
      {
       "output_type": "stream",
       "stream": "stdout",
       "text": [
        "[INFO    ]  >          |      |-  3     0.002     0.005     1.026     5.45e-02       na    \n"
       ]
      },
      {
       "output_type": "stream",
       "stream": "stdout",
       "text": [
        "[INFO    ]  >          |      |-  4     0.005     0.008     1.044     8.98e-02       na    \n"
       ]
      },
      {
       "output_type": "stream",
       "stream": "stdout",
       "text": [
        "[INFO    ]  >          |      |-  5     0.008     0.010     1.054     1.08e-01       na    \n"
       ]
      },
      {
       "output_type": "stream",
       "stream": "stdout",
       "text": [
        "[INFO    ] >>          |      \\_\n"
       ]
      },
      {
       "output_type": "stream",
       "stream": "stderr",
       "text": [
        "[2014-05-23 14:21] DEBUG: PyPinT Logging: Skipping computation of reduction: No previous iteration available.\n"
       ]
      },
      {
       "output_type": "stream",
       "stream": "stdout",
       "text": [
        "[INFO    ] !>          \\_      na           na           na         0.601\n"
       ]
      },
      {
       "output_type": "stream",
       "stream": "stderr",
       "text": [
        "[2014-05-23 14:21] DEBUG: PyPinT Logging: Work Loop: 2\n"
       ]
      },
      {
       "output_type": "stream",
       "stream": "stderr",
       "text": [
        "[2014-05-23 14:21] DEBUG: PyPinT Logging: Next Iteration\n"
       ]
      },
      {
       "output_type": "stream",
       "stream": "stderr",
       "text": [
        "[2014-05-23 14:21] DEBUG: PyPinT Logging: Starting New Solver Main Loop\n"
       ]
      },
      {
       "output_type": "stream",
       "stream": "stdout",
       "text": [
        "[INFO    ] !>        2\n"
       ]
      },
      {
       "output_type": "stream",
       "stream": "stdout",
       "text": [
        "[INFO    ] >>         \\\n"
       ]
      },
      {
       "output_type": "stream",
       "stream": "stdout",
       "text": [
        "[INFO    ] >>          |-   1     0.000     0.010     0.010\n"
       ]
      },
      {
       "output_type": "stream",
       "stream": "stdout",
       "text": [
        "[INFO    ]  >          |     \\\n"
       ]
      },
      {
       "output_type": "stream",
       "stream": "stdout",
       "text": [
        "[INFO    ]  >          |      |-  1      na       0.000     1.000       na           na    \n"
       ]
      },
      {
       "output_type": "stream",
       "stream": "stdout",
       "text": [
        "[INFO    ]  >          |      |-  2     0.000     0.002     1.009     1.94e-02       na    \n"
       ]
      },
      {
       "output_type": "stream",
       "stream": "stdout",
       "text": [
        "[INFO    ]  >          |      |-  3     0.002     0.005     1.027     5.63e-02       na    \n"
       ]
      },
      {
       "output_type": "stream",
       "stream": "stdout",
       "text": [
        "[INFO    ]  >          |      |-  4     0.005     0.008     1.045     9.42e-02       na    \n"
       ]
      },
      {
       "output_type": "stream",
       "stream": "stdout",
       "text": [
        "[INFO    ]  >          |      |-  5     0.008     0.010     1.055     1.13e-01       na    \n"
       ]
      },
      {
       "output_type": "stream",
       "stream": "stdout",
       "text": [
        "[INFO    ] >>          |      \\_\n"
       ]
      },
      {
       "output_type": "stream",
       "stream": "stdout",
       "text": [
        "[INFO    ] !>          \\_    9.55e-02       na         1.94e-02     0.487\n"
       ]
      },
      {
       "output_type": "stream",
       "stream": "stderr",
       "text": [
        "[2014-05-23 14:21] DEBUG: PyPinT Logging: Work Loop: 3\n"
       ]
      },
      {
       "output_type": "stream",
       "stream": "stderr",
       "text": [
        "[2014-05-23 14:21] DEBUG: PyPinT Logging: Next Iteration\n"
       ]
      },
      {
       "output_type": "stream",
       "stream": "stderr",
       "text": [
        "[2014-05-23 14:21] DEBUG: PyPinT Logging: Starting New Solver Main Loop\n"
       ]
      },
      {
       "output_type": "stream",
       "stream": "stdout",
       "text": [
        "[INFO    ] !>        3\n"
       ]
      },
      {
       "output_type": "stream",
       "stream": "stdout",
       "text": [
        "[INFO    ] >>         \\\n"
       ]
      },
      {
       "output_type": "stream",
       "stream": "stdout",
       "text": [
        "[INFO    ] >>          |-   1     0.000     0.010     0.010\n"
       ]
      },
      {
       "output_type": "stream",
       "stream": "stdout",
       "text": [
        "[INFO    ]  >          |     \\\n"
       ]
      },
      {
       "output_type": "stream",
       "stream": "stdout",
       "text": [
        "[INFO    ]  >          |      |-  1      na       0.000     1.000       na           na    \n"
       ]
      },
      {
       "output_type": "stream",
       "stream": "stdout",
       "text": [
        "[INFO    ]  >          |      |-  2     0.000     0.002     1.009     2.01e-02       na    \n"
       ]
      },
      {
       "output_type": "stream",
       "stream": "stdout",
       "text": [
        "[INFO    ]  >          |      |-  3     0.002     0.005     1.027     5.65e-02       na    \n"
       ]
      },
      {
       "output_type": "stream",
       "stream": "stdout",
       "text": [
        "[INFO    ]  >          |      |-  4     0.005     0.008     1.045     9.48e-02       na    \n"
       ]
      },
      {
       "output_type": "stream",
       "stream": "stdout",
       "text": [
        "[INFO    ]  >          |      |-  5     0.008     0.010     1.055     1.14e-01       na    \n"
       ]
      },
      {
       "output_type": "stream",
       "stream": "stdout",
       "text": [
        "[INFO    ] >>          |      \\_\n"
       ]
      },
      {
       "output_type": "stream",
       "stream": "stdout",
       "text": [
        "[INFO    ] !>          \\_    7.31e-03       na         2.01e-02     0.430\n"
       ]
      },
      {
       "output_type": "stream",
       "stream": "stderr",
       "text": [
        "[2014-05-23 14:21] DEBUG: PyPinT Logging: Work Loop: 4\n"
       ]
      },
      {
       "output_type": "stream",
       "stream": "stderr",
       "text": [
        "[2014-05-23 14:21] DEBUG: PyPinT Logging: Next Iteration\n"
       ]
      },
      {
       "output_type": "stream",
       "stream": "stderr",
       "text": [
        "[2014-05-23 14:21] DEBUG: PyPinT Logging: Starting New Solver Main Loop\n"
       ]
      },
      {
       "output_type": "stream",
       "stream": "stdout",
       "text": [
        "[INFO    ] !>        4\n"
       ]
      },
      {
       "output_type": "stream",
       "stream": "stdout",
       "text": [
        "[INFO    ] >>         \\\n"
       ]
      },
      {
       "output_type": "stream",
       "stream": "stdout",
       "text": [
        "[INFO    ] >>          |-   1     0.000     0.010     0.010\n"
       ]
      },
      {
       "output_type": "stream",
       "stream": "stdout",
       "text": [
        "[INFO    ]  >          |     \\\n"
       ]
      },
      {
       "output_type": "stream",
       "stream": "stdout",
       "text": [
        "[INFO    ]  >          |      |-  1      na       0.000     1.000       na           na    \n"
       ]
      },
      {
       "output_type": "stream",
       "stream": "stdout",
       "text": [
        "[INFO    ]  >          |      |-  2     0.000     0.002     1.009     2.03e-02       na    \n"
       ]
      },
      {
       "output_type": "stream",
       "stream": "stdout",
       "text": [
        "[INFO    ]  >          |      |-  3     0.002     0.005     1.027     5.67e-02       na    \n"
       ]
      },
      {
       "output_type": "stream",
       "stream": "stdout",
       "text": [
        "[INFO    ]  >          |      |-  4     0.005     0.008     1.045     9.54e-02       na    \n"
       ]
      },
      {
       "output_type": "stream",
       "stream": "stdout",
       "text": [
        "[INFO    ]  >          |      |-  5     0.008     0.010     1.055     1.14e-01       na    \n"
       ]
      },
      {
       "output_type": "stream",
       "stream": "stdout",
       "text": [
        "[INFO    ] >>          |      \\_\n"
       ]
      },
      {
       "output_type": "stream",
       "stream": "stdout",
       "text": [
        "[INFO    ] !>          \\_    2.20e-03       na         2.03e-02     0.444\n"
       ]
      },
      {
       "output_type": "stream",
       "stream": "stderr",
       "text": [
        "[2014-05-23 14:21] DEBUG: PyPinT Logging: Work Loop: 5\n"
       ]
      },
      {
       "output_type": "stream",
       "stream": "stderr",
       "text": [
        "[2014-05-23 14:21] DEBUG: PyPinT Logging: Next Iteration\n"
       ]
      },
      {
       "output_type": "stream",
       "stream": "stderr",
       "text": [
        "[2014-05-23 14:21] DEBUG: PyPinT Logging: Starting New Solver Main Loop\n"
       ]
      },
      {
       "output_type": "stream",
       "stream": "stdout",
       "text": [
        "[INFO    ] !>        5\n"
       ]
      },
      {
       "output_type": "stream",
       "stream": "stdout",
       "text": [
        "[INFO    ] >>         \\\n"
       ]
      },
      {
       "output_type": "stream",
       "stream": "stdout",
       "text": [
        "[INFO    ] >>          |-   1     0.000     0.010     0.010\n"
       ]
      },
      {
       "output_type": "stream",
       "stream": "stdout",
       "text": [
        "[INFO    ]  >          |     \\\n"
       ]
      },
      {
       "output_type": "stream",
       "stream": "stdout",
       "text": [
        "[INFO    ]  >          |      |-  1      na       0.000     1.000       na           na    \n"
       ]
      },
      {
       "output_type": "stream",
       "stream": "stdout",
       "text": [
        "[INFO    ]  >          |      |-  2     0.000     0.002     1.009     2.03e-02       na    \n"
       ]
      },
      {
       "output_type": "stream",
       "stream": "stdout",
       "text": [
        "[INFO    ]  >          |      |-  3     0.002     0.005     1.027     5.71e-02       na    \n"
       ]
      },
      {
       "output_type": "stream",
       "stream": "stdout",
       "text": [
        "[INFO    ]  >          |      |-  4     0.005     0.008     1.045     9.58e-02       na    \n"
       ]
      },
      {
       "output_type": "stream",
       "stream": "stdout",
       "text": [
        "[INFO    ]  >          |      |-  5     0.008     0.010     1.055     1.15e-01       na    \n"
       ]
      },
      {
       "output_type": "stream",
       "stream": "stdout",
       "text": [
        "[INFO    ] >>          |      \\_\n"
       ]
      },
      {
       "output_type": "stream",
       "stream": "stdout",
       "text": [
        "[INFO    ] !>          \\_    3.92e-03       na         2.03e-02     0.402\n"
       ]
      },
      {
       "output_type": "stream",
       "stream": "stderr",
       "text": [
        "[2014-05-23 14:21] DEBUG: PyPinT Logging: Work Loop: 6\n"
       ]
      },
      {
       "output_type": "stream",
       "stream": "stderr",
       "text": [
        "[2014-05-23 14:21] DEBUG: PyPinT Logging: Next Iteration\n"
       ]
      },
      {
       "output_type": "stream",
       "stream": "stderr",
       "text": [
        "[2014-05-23 14:21] DEBUG: PyPinT Logging: Starting New Solver Main Loop\n"
       ]
      },
      {
       "output_type": "stream",
       "stream": "stdout",
       "text": [
        "[INFO    ] !>        6\n"
       ]
      },
      {
       "output_type": "stream",
       "stream": "stdout",
       "text": [
        "[INFO    ] >>         \\\n"
       ]
      },
      {
       "output_type": "stream",
       "stream": "stdout",
       "text": [
        "[INFO    ] >>          |-   1     0.000     0.010     0.010\n"
       ]
      },
      {
       "output_type": "stream",
       "stream": "stdout",
       "text": [
        "[INFO    ]  >          |     \\\n"
       ]
      },
      {
       "output_type": "stream",
       "stream": "stdout",
       "text": [
        "[INFO    ]  >          |      |-  1      na       0.000     1.000       na           na    \n"
       ]
      },
      {
       "output_type": "stream",
       "stream": "stdout",
       "text": [
        "[INFO    ]  >          |      |-  2     0.000     0.002     1.009     2.03e-02       na    \n"
       ]
      },
      {
       "output_type": "stream",
       "stream": "stdout",
       "text": [
        "[INFO    ]  >          |      |-  3     0.002     0.005     1.027     5.73e-02       na    \n"
       ]
      },
      {
       "output_type": "stream",
       "stream": "stdout",
       "text": [
        "[INFO    ]  >          |      |-  4     0.005     0.008     1.045     9.60e-02       na    \n"
       ]
      },
      {
       "output_type": "stream",
       "stream": "stdout",
       "text": [
        "[INFO    ]  >          |      |-  5     0.008     0.010     1.055     1.15e-01       na    \n"
       ]
      },
      {
       "output_type": "stream",
       "stream": "stdout",
       "text": [
        "[INFO    ] >>          |      \\_\n"
       ]
      },
      {
       "output_type": "stream",
       "stream": "stdout",
       "text": [
        "[INFO    ] !>          \\_    4.45e-03       na         2.03e-02     0.388\n"
       ]
      },
      {
       "output_type": "stream",
       "stream": "stderr",
       "text": [
        "[2014-05-23 14:21] DEBUG: PyPinT Logging: Work Loop: 7\n"
       ]
      },
      {
       "output_type": "stream",
       "stream": "stderr",
       "text": [
        "[2014-05-23 14:21] DEBUG: PyPinT Logging: Next Iteration\n"
       ]
      },
      {
       "output_type": "stream",
       "stream": "stderr",
       "text": [
        "[2014-05-23 14:21] DEBUG: PyPinT Logging: Starting New Solver Main Loop\n"
       ]
      },
      {
       "output_type": "stream",
       "stream": "stdout",
       "text": [
        "[INFO    ] !>        7\n"
       ]
      },
      {
       "output_type": "stream",
       "stream": "stdout",
       "text": [
        "[INFO    ] >>         \\\n"
       ]
      },
      {
       "output_type": "stream",
       "stream": "stdout",
       "text": [
        "[INFO    ] >>          |-   1     0.000     0.010     0.010\n"
       ]
      },
      {
       "output_type": "stream",
       "stream": "stdout",
       "text": [
        "[INFO    ]  >          |     \\\n"
       ]
      },
      {
       "output_type": "stream",
       "stream": "stdout",
       "text": [
        "[INFO    ]  >          |      |-  1      na       0.000     1.000       na           na    \n"
       ]
      },
      {
       "output_type": "stream",
       "stream": "stdout",
       "text": [
        "[INFO    ]  >          |      |-  2     0.000     0.002     1.009     2.03e-02       na    \n"
       ]
      },
      {
       "output_type": "stream",
       "stream": "stdout",
       "text": [
        "[INFO    ]  >          |      |-  3     0.002     0.005     1.027     5.75e-02       na    \n"
       ]
      },
      {
       "output_type": "stream",
       "stream": "stdout",
       "text": [
        "[INFO    ]  >          |      |-  4     0.005     0.008     1.045     9.60e-02       na    \n"
       ]
      },
      {
       "output_type": "stream",
       "stream": "stdout",
       "text": [
        "[INFO    ]  >          |      |-  5     0.008     0.010     1.055     1.15e-01       na    \n"
       ]
      },
      {
       "output_type": "stream",
       "stream": "stdout",
       "text": [
        "[INFO    ] >>          |      \\_\n"
       ]
      },
      {
       "output_type": "stream",
       "stream": "stdout",
       "text": [
        "[INFO    ] !>          \\_    3.17e-03       na         2.03e-02     0.333\n"
       ]
      },
      {
       "output_type": "stream",
       "stream": "stderr",
       "text": [
        "[2014-05-23 14:21] DEBUG: PyPinT Logging: Work Loop: 8\n"
       ]
      },
      {
       "output_type": "stream",
       "stream": "stderr",
       "text": [
        "[2014-05-23 14:21] DEBUG: PyPinT Logging: Next Iteration\n"
       ]
      },
      {
       "output_type": "stream",
       "stream": "stderr",
       "text": [
        "[2014-05-23 14:21] DEBUG: PyPinT Logging: Starting New Solver Main Loop\n"
       ]
      },
      {
       "output_type": "stream",
       "stream": "stdout",
       "text": [
        "[INFO    ] !>        8\n"
       ]
      },
      {
       "output_type": "stream",
       "stream": "stdout",
       "text": [
        "[INFO    ] >>         \\\n"
       ]
      },
      {
       "output_type": "stream",
       "stream": "stdout",
       "text": [
        "[INFO    ] >>          |-   1     0.000     0.010     0.010\n"
       ]
      },
      {
       "output_type": "stream",
       "stream": "stdout",
       "text": [
        "[INFO    ]  >          |     \\\n"
       ]
      },
      {
       "output_type": "stream",
       "stream": "stdout",
       "text": [
        "[INFO    ]  >          |      |-  1      na       0.000     1.000       na           na    \n"
       ]
      },
      {
       "output_type": "stream",
       "stream": "stdout",
       "text": [
        "[INFO    ]  >          |      |-  2     0.000     0.002     1.009     2.03e-02       na    \n"
       ]
      },
      {
       "output_type": "stream",
       "stream": "stdout",
       "text": [
        "[INFO    ]  >          |      |-  3     0.002     0.005     1.027     5.76e-02       na    \n"
       ]
      },
      {
       "output_type": "stream",
       "stream": "stdout",
       "text": [
        "[INFO    ]  >          |      |-  4     0.005     0.008     1.045     9.60e-02       na    \n"
       ]
      },
      {
       "output_type": "stream",
       "stream": "stdout",
       "text": [
        "[INFO    ]  >          |      |-  5     0.008     0.010     1.055     1.15e-01       na    \n"
       ]
      },
      {
       "output_type": "stream",
       "stream": "stdout",
       "text": [
        "[INFO    ] >>          |      \\_\n"
       ]
      },
      {
       "output_type": "stream",
       "stream": "stdout",
       "text": [
        "[INFO    ] !>          \\_    1.32e-03       na         2.03e-02     0.330\n"
       ]
      },
      {
       "output_type": "stream",
       "stream": "stderr",
       "text": [
        "[2014-05-23 14:21] DEBUG: PyPinT Logging: Work Loop: 9\n"
       ]
      },
      {
       "output_type": "stream",
       "stream": "stderr",
       "text": [
        "[2014-05-23 14:21] DEBUG: PyPinT Logging: Next Iteration\n"
       ]
      },
      {
       "output_type": "stream",
       "stream": "stderr",
       "text": [
        "[2014-05-23 14:21] DEBUG: PyPinT Logging: Starting New Solver Main Loop\n"
       ]
      },
      {
       "output_type": "stream",
       "stream": "stdout",
       "text": [
        "[INFO    ] !>        9\n"
       ]
      },
      {
       "output_type": "stream",
       "stream": "stdout",
       "text": [
        "[INFO    ] >>         \\\n"
       ]
      },
      {
       "output_type": "stream",
       "stream": "stdout",
       "text": [
        "[INFO    ] >>          |-   1     0.000     0.010     0.010\n"
       ]
      },
      {
       "output_type": "stream",
       "stream": "stdout",
       "text": [
        "[INFO    ]  >          |     \\\n"
       ]
      },
      {
       "output_type": "stream",
       "stream": "stdout",
       "text": [
        "[INFO    ]  >          |      |-  1      na       0.000     1.000       na           na    \n"
       ]
      },
      {
       "output_type": "stream",
       "stream": "stdout",
       "text": [
        "[INFO    ]  >          |      |-  2     0.000     0.002     1.009     2.02e-02       na    \n"
       ]
      },
      {
       "output_type": "stream",
       "stream": "stdout",
       "text": [
        "[INFO    ]  >          |      |-  3     0.002     0.005     1.027     5.76e-02       na    \n"
       ]
      },
      {
       "output_type": "stream",
       "stream": "stdout",
       "text": [
        "[INFO    ]  >          |      |-  4     0.005     0.008     1.045     9.59e-02       na    \n"
       ]
      },
      {
       "output_type": "stream",
       "stream": "stdout",
       "text": [
        "[INFO    ]  >          |      |-  5     0.008     0.010     1.055     1.15e-01       na    \n"
       ]
      },
      {
       "output_type": "stream",
       "stream": "stdout",
       "text": [
        "[INFO    ] >>          |      \\_\n"
       ]
      },
      {
       "output_type": "stream",
       "stream": "stdout",
       "text": [
        "[INFO    ] !>          \\_    2.39e-05       na         2.02e-02     0.275\n"
       ]
      },
      {
       "output_type": "stream",
       "stream": "stderr",
       "text": [
        "[2014-05-23 14:21] DEBUG: PyPinT Logging: Work Loop: 10\n"
       ]
      },
      {
       "output_type": "stream",
       "stream": "stderr",
       "text": [
        "[2014-05-23 14:21] DEBUG: PyPinT Logging: Next Iteration\n"
       ]
      },
      {
       "output_type": "stream",
       "stream": "stderr",
       "text": [
        "[2014-05-23 14:21] DEBUG: PyPinT Logging: Starting New Solver Main Loop\n"
       ]
      },
      {
       "output_type": "stream",
       "stream": "stdout",
       "text": [
        "[INFO    ] !>       10\n"
       ]
      },
      {
       "output_type": "stream",
       "stream": "stdout",
       "text": [
        "[INFO    ] >>         \\\n"
       ]
      },
      {
       "output_type": "stream",
       "stream": "stdout",
       "text": [
        "[INFO    ] >>          |-   1     0.000     0.010     0.010\n"
       ]
      },
      {
       "output_type": "stream",
       "stream": "stdout",
       "text": [
        "[INFO    ]  >          |     \\\n"
       ]
      },
      {
       "output_type": "stream",
       "stream": "stdout",
       "text": [
        "[INFO    ]  >          |      |-  1      na       0.000     1.000       na           na    \n"
       ]
      },
      {
       "output_type": "stream",
       "stream": "stdout",
       "text": [
        "[INFO    ]  >          |      |-  2     0.000     0.002     1.009     2.02e-02       na    \n"
       ]
      },
      {
       "output_type": "stream",
       "stream": "stdout",
       "text": [
        "[INFO    ]  >          |      |-  3     0.002     0.005     1.027     5.76e-02       na    \n"
       ]
      },
      {
       "output_type": "stream",
       "stream": "stdout",
       "text": [
        "[INFO    ]  >          |      |-  4     0.005     0.008     1.045     9.59e-02       na    \n"
       ]
      },
      {
       "output_type": "stream",
       "stream": "stdout",
       "text": [
        "[INFO    ]  >          |      |-  5     0.008     0.010     1.055     1.15e-01       na    \n"
       ]
      },
      {
       "output_type": "stream",
       "stream": "stdout",
       "text": [
        "[INFO    ] >>          |      \\_\n"
       ]
      },
      {
       "output_type": "stream",
       "stream": "stdout",
       "text": [
        "[INFO    ] !>          \\_    5.99e-04       na         2.02e-02     0.267\n"
       ]
      },
      {
       "output_type": "stream",
       "stream": "stderr",
       "text": [
        "[2014-05-23 14:21] DEBUG: PyPinT Logging: Work Loop: 11\n"
       ]
      },
      {
       "output_type": "stream",
       "stream": "stderr",
       "text": [
        "[2014-05-23 14:21] DEBUG: PyPinT Logging: Next Iteration\n"
       ]
      },
      {
       "output_type": "stream",
       "stream": "stderr",
       "text": [
        "[2014-05-23 14:21] DEBUG: PyPinT Logging: Starting New Solver Main Loop\n"
       ]
      },
      {
       "output_type": "stream",
       "stream": "stdout",
       "text": [
        "[INFO    ] !>       11\n"
       ]
      },
      {
       "output_type": "stream",
       "stream": "stdout",
       "text": [
        "[INFO    ] >>         \\\n"
       ]
      },
      {
       "output_type": "stream",
       "stream": "stdout",
       "text": [
        "[INFO    ] >>          |-   1     0.000     0.010     0.010\n"
       ]
      },
      {
       "output_type": "stream",
       "stream": "stdout",
       "text": [
        "[INFO    ]  >          |     \\\n"
       ]
      },
      {
       "output_type": "stream",
       "stream": "stdout",
       "text": [
        "[INFO    ]  >          |      |-  1      na       0.000     1.000       na           na    \n"
       ]
      },
      {
       "output_type": "stream",
       "stream": "stdout",
       "text": [
        "[INFO    ]  >          |      |-  2     0.000     0.002     1.009     2.02e-02       na    \n"
       ]
      },
      {
       "output_type": "stream",
       "stream": "stdout",
       "text": [
        "[INFO    ]  >          |      |-  3     0.002     0.005     1.027     5.76e-02       na    \n"
       ]
      },
      {
       "output_type": "stream",
       "stream": "stdout",
       "text": [
        "[INFO    ]  >          |      |-  4     0.005     0.008     1.045     9.58e-02       na    \n"
       ]
      },
      {
       "output_type": "stream",
       "stream": "stdout",
       "text": [
        "[INFO    ]  >          |      |-  5     0.008     0.010     1.055     1.15e-01       na    \n"
       ]
      },
      {
       "output_type": "stream",
       "stream": "stdout",
       "text": [
        "[INFO    ] >>          |      \\_\n"
       ]
      },
      {
       "output_type": "stream",
       "stream": "stdout",
       "text": [
        "[INFO    ] !>          \\_    6.02e-04       na         2.02e-02     0.277\n"
       ]
      },
      {
       "output_type": "stream",
       "stream": "stderr",
       "text": [
        "[2014-05-23 14:21] DEBUG: PyPinT Logging: Work Loop: 12\n"
       ]
      },
      {
       "output_type": "stream",
       "stream": "stderr",
       "text": [
        "[2014-05-23 14:21] DEBUG: PyPinT Logging: Next Iteration\n"
       ]
      },
      {
       "output_type": "stream",
       "stream": "stderr",
       "text": [
        "[2014-05-23 14:21] DEBUG: PyPinT Logging: Starting New Solver Main Loop\n"
       ]
      },
      {
       "output_type": "stream",
       "stream": "stdout",
       "text": [
        "[INFO    ] !>       12\n"
       ]
      },
      {
       "output_type": "stream",
       "stream": "stdout",
       "text": [
        "[INFO    ] >>         \\\n"
       ]
      },
      {
       "output_type": "stream",
       "stream": "stdout",
       "text": [
        "[INFO    ] >>          |-   1     0.000     0.010     0.010\n"
       ]
      },
      {
       "output_type": "stream",
       "stream": "stdout",
       "text": [
        "[INFO    ]  >          |     \\\n"
       ]
      },
      {
       "output_type": "stream",
       "stream": "stdout",
       "text": [
        "[INFO    ]  >          |      |-  1      na       0.000     1.000       na           na    \n"
       ]
      },
      {
       "output_type": "stream",
       "stream": "stdout",
       "text": [
        "[INFO    ]  >          |      |-  2     0.000     0.002     1.009     2.02e-02       na    \n"
       ]
      },
      {
       "output_type": "stream",
       "stream": "stdout",
       "text": [
        "[INFO    ]  >          |      |-  3     0.002     0.005     1.027     5.76e-02       na    \n"
       ]
      },
      {
       "output_type": "stream",
       "stream": "stdout",
       "text": [
        "[INFO    ]  >          |      |-  4     0.005     0.008     1.045     9.58e-02       na    \n"
       ]
      },
      {
       "output_type": "stream",
       "stream": "stdout",
       "text": [
        "[INFO    ]  >          |      |-  5     0.008     0.010     1.055     1.15e-01       na    \n"
       ]
      },
      {
       "output_type": "stream",
       "stream": "stdout",
       "text": [
        "[INFO    ] >>          |      \\_\n"
       ]
      },
      {
       "output_type": "stream",
       "stream": "stdout",
       "text": [
        "[INFO    ] !>          \\_    3.62e-04       na         2.02e-02     0.272\n"
       ]
      },
      {
       "output_type": "stream",
       "stream": "stderr",
       "text": [
        "[2014-05-23 14:21] DEBUG: PyPinT Logging: Work Loop: 13\n"
       ]
      },
      {
       "output_type": "stream",
       "stream": "stderr",
       "text": [
        "[2014-05-23 14:21] DEBUG: PyPinT Logging: Next Iteration\n"
       ]
      },
      {
       "output_type": "stream",
       "stream": "stderr",
       "text": [
        "[2014-05-23 14:21] DEBUG: PyPinT Logging: Starting New Solver Main Loop\n"
       ]
      },
      {
       "output_type": "stream",
       "stream": "stdout",
       "text": [
        "[INFO    ] !>       13\n"
       ]
      },
      {
       "output_type": "stream",
       "stream": "stdout",
       "text": [
        "[INFO    ] >>         \\\n"
       ]
      },
      {
       "output_type": "stream",
       "stream": "stdout",
       "text": [
        "[INFO    ] >>          |-   1     0.000     0.010     0.010\n"
       ]
      },
      {
       "output_type": "stream",
       "stream": "stdout",
       "text": [
        "[INFO    ]  >          |     \\\n"
       ]
      },
      {
       "output_type": "stream",
       "stream": "stdout",
       "text": [
        "[INFO    ]  >          |      |-  1      na       0.000     1.000       na           na    \n"
       ]
      },
      {
       "output_type": "stream",
       "stream": "stdout",
       "text": [
        "[INFO    ]  >          |      |-  2     0.000     0.002     1.009     2.02e-02       na    \n"
       ]
      },
      {
       "output_type": "stream",
       "stream": "stdout",
       "text": [
        "[INFO    ]  >          |      |-  3     0.002     0.005     1.027     5.76e-02       na    \n"
       ]
      },
      {
       "output_type": "stream",
       "stream": "stdout",
       "text": [
        "[INFO    ]  >          |      |-  4     0.005     0.008     1.045     9.58e-02       na    \n"
       ]
      },
      {
       "output_type": "stream",
       "stream": "stdout",
       "text": [
        "[INFO    ]  >          |      |-  5     0.008     0.010     1.055     1.15e-01       na    \n"
       ]
      },
      {
       "output_type": "stream",
       "stream": "stdout",
       "text": [
        "[INFO    ] >>          |      \\_\n"
       ]
      },
      {
       "output_type": "stream",
       "stream": "stdout",
       "text": [
        "[INFO    ] !>          \\_    1.18e-04       na         2.02e-02     0.278\n"
       ]
      },
      {
       "output_type": "stream",
       "stream": "stderr",
       "text": [
        "[2014-05-23 14:21] DEBUG: PyPinT Logging: Work Loop: 14\n"
       ]
      },
      {
       "output_type": "stream",
       "stream": "stderr",
       "text": [
        "[2014-05-23 14:21] DEBUG: PyPinT Logging: Next Iteration\n"
       ]
      },
      {
       "output_type": "stream",
       "stream": "stderr",
       "text": [
        "[2014-05-23 14:21] DEBUG: PyPinT Logging: Starting New Solver Main Loop\n"
       ]
      },
      {
       "output_type": "stream",
       "stream": "stdout",
       "text": [
        "[INFO    ] !>       14\n"
       ]
      },
      {
       "output_type": "stream",
       "stream": "stdout",
       "text": [
        "[INFO    ] >>         \\\n"
       ]
      },
      {
       "output_type": "stream",
       "stream": "stdout",
       "text": [
        "[INFO    ] >>          |-   1     0.000     0.010     0.010\n"
       ]
      },
      {
       "output_type": "stream",
       "stream": "stdout",
       "text": [
        "[INFO    ]  >          |     \\\n"
       ]
      },
      {
       "output_type": "stream",
       "stream": "stdout",
       "text": [
        "[INFO    ]  >          |      |-  1      na       0.000     1.000       na           na    \n"
       ]
      },
      {
       "output_type": "stream",
       "stream": "stdout",
       "text": [
        "[INFO    ]  >          |      |-  2     0.000     0.002     1.009     2.02e-02       na    \n"
       ]
      },
      {
       "output_type": "stream",
       "stream": "stdout",
       "text": [
        "[INFO    ]  >          |      |-  3     0.002     0.005     1.027     5.76e-02       na    \n"
       ]
      },
      {
       "output_type": "stream",
       "stream": "stdout",
       "text": [
        "[INFO    ]  >          |      |-  4     0.005     0.008     1.045     9.58e-02       na    \n"
       ]
      },
      {
       "output_type": "stream",
       "stream": "stdout",
       "text": [
        "[INFO    ]  >          |      |-  5     0.008     0.010     1.055     1.15e-01       na    \n"
       ]
      },
      {
       "output_type": "stream",
       "stream": "stdout",
       "text": [
        "[INFO    ] >>          |      \\_\n"
       ]
      },
      {
       "output_type": "stream",
       "stream": "stdout",
       "text": [
        "[INFO    ] !>          \\_    3.43e-05       na         2.02e-02     0.271\n"
       ]
      },
      {
       "output_type": "stream",
       "stream": "stderr",
       "text": [
        "[2014-05-23 14:21] DEBUG: PyPinT Logging: Work Loop: 15\n"
       ]
      },
      {
       "output_type": "stream",
       "stream": "stderr",
       "text": [
        "[2014-05-23 14:21] DEBUG: PyPinT Logging: Next Iteration\n"
       ]
      },
      {
       "output_type": "stream",
       "stream": "stderr",
       "text": [
        "[2014-05-23 14:21] DEBUG: PyPinT Logging: Starting New Solver Main Loop\n"
       ]
      },
      {
       "output_type": "stream",
       "stream": "stdout",
       "text": [
        "[INFO    ] !>       15\n"
       ]
      },
      {
       "output_type": "stream",
       "stream": "stdout",
       "text": [
        "[INFO    ] >>         \\\n"
       ]
      },
      {
       "output_type": "stream",
       "stream": "stdout",
       "text": [
        "[INFO    ] >>          |-   1     0.000     0.010     0.010\n"
       ]
      },
      {
       "output_type": "stream",
       "stream": "stdout",
       "text": [
        "[INFO    ]  >          |     \\\n"
       ]
      },
      {
       "output_type": "stream",
       "stream": "stdout",
       "text": [
        "[INFO    ]  >          |      |-  1      na       0.000     1.000       na           na    \n"
       ]
      },
      {
       "output_type": "stream",
       "stream": "stdout",
       "text": [
        "[INFO    ]  >          |      |-  2     0.000     0.002     1.009     2.02e-02       na    \n"
       ]
      },
      {
       "output_type": "stream",
       "stream": "stdout",
       "text": [
        "[INFO    ]  >          |      |-  3     0.002     0.005     1.027     5.76e-02       na    \n"
       ]
      },
      {
       "output_type": "stream",
       "stream": "stdout",
       "text": [
        "[INFO    ]  >          |      |-  4     0.005     0.008     1.045     9.58e-02       na    \n"
       ]
      },
      {
       "output_type": "stream",
       "stream": "stdout",
       "text": [
        "[INFO    ]  >          |      |-  5     0.008     0.010     1.055     1.15e-01       na    \n"
       ]
      },
      {
       "output_type": "stream",
       "stream": "stdout",
       "text": [
        "[INFO    ] >>          |      \\_\n"
       ]
      },
      {
       "output_type": "stream",
       "stream": "stderr",
       "text": [
        "[2014-05-23 14:21] DEBUG: PyPinT Logging: Maximum of iterations exceeded: 15 >= 15\n"
       ]
      },
      {
       "output_type": "stream",
       "stream": "stdout",
       "text": [
        "[INFO    ] !>          \\_    9.02e-05       na         2.02e-02     0.275\n"
       ]
      },
      {
       "output_type": "stream",
       "stream": "stdout",
       "text": [
        "[INFO    ] !>   Converged after 15 iteration(s):\n"
       ]
      },
      {
       "output_type": "stream",
       "stream": "stdout",
       "text": [
        "[INFO    ] !>     Threshold condition(s) met:    iterations\n"
       ]
      },
      {
       "output_type": "stream",
       "stream": "stdout",
       "text": [
        "[INFO    ] !>     Final Residual:                1.152e-01\n"
       ]
      },
      {
       "output_type": "stream",
       "stream": "stdout",
       "text": [
        "[INFO    ] !>     Solution Reduction:            9.023e-05\n"
       ]
      },
      {
       "output_type": "stream",
       "stream": "stderr",
       "text": [
        "[2014-05-23 14:21] DEBUG: PyPinT Logging: Work Loop: 16\n"
       ]
      },
      {
       "output_type": "stream",
       "stream": "stderr",
       "text": [
        "[2014-05-23 14:21] DEBUG: PyPinT Logging: Nodes: [0.01, 0.011726731646460115, 0.015, 0.018273268353539887, 0.02]\n"
       ]
      },
      {
       "output_type": "stream",
       "stream": "stderr",
       "text": [
        "[2014-05-23 14:21] DEBUG: PyPinT Logging: Nodes: [0.01, 0.011726731646460115, 0.015, 0.018273268353539887, 0.02]\n"
       ]
      },
      {
       "output_type": "stream",
       "stream": "stderr",
       "text": [
        "[2014-05-23 14:21] DEBUG: PyPinT Logging: New Interval Initialized\n"
       ]
      },
      {
       "output_type": "stream",
       "stream": "stdout",
       "text": [
        "[INFO    ] !> ................................................................................\n"
       ]
      },
      {
       "output_type": "stream",
       "stream": "stdout",
       "text": [
        "[INFO    ] !>   Interval: [0.010, 0.020]\n"
       ]
      },
      {
       "output_type": "stream",
       "stream": "stdout",
       "text": [
        "[INFO    ] !>    iter\n"
       ]
      },
      {
       "output_type": "stream",
       "stream": "stdout",
       "text": [
        "[INFO    ] >>         \\\n"
       ]
      },
      {
       "output_type": "stream",
       "stream": "stdout",
       "text": [
        "[INFO    ] >>          |- time    start     end        delta\n"
       ]
      },
      {
       "output_type": "stream",
       "stream": "stdout",
       "text": [
        "[INFO    ]  >          |     \\\n"
       ]
      },
      {
       "output_type": "stream",
       "stream": "stdout",
       "text": [
        "[INFO    ]  >          |      |- step    t_0      t_1       phi(t_1)    resid       err\n"
       ]
      },
      {
       "output_type": "stream",
       "stream": "stdout",
       "text": [
        "[INFO    ] >>          |      \\_\n"
       ]
      },
      {
       "output_type": "stream",
       "stream": "stdout",
       "text": [
        "[INFO    ] !>          \\_   sol r.red    err r.red      resid       time\n"
       ]
      },
      {
       "output_type": "stream",
       "stream": "stderr",
       "text": [
        "[2014-05-23 14:21] DEBUG: PyPinT Logging: Starting New Solver Main Loop\n"
       ]
      },
      {
       "output_type": "stream",
       "stream": "stdout",
       "text": [
        "[INFO    ] !>        1\n"
       ]
      },
      {
       "output_type": "stream",
       "stream": "stdout",
       "text": [
        "[INFO    ] >>         \\\n"
       ]
      },
      {
       "output_type": "stream",
       "stream": "stdout",
       "text": [
        "[INFO    ] >>          |-   1     0.010     0.020     0.010\n"
       ]
      },
      {
       "output_type": "stream",
       "stream": "stdout",
       "text": [
        "[INFO    ]  >          |     \\\n"
       ]
      },
      {
       "output_type": "stream",
       "stream": "stdout",
       "text": [
        "[INFO    ]  >          |      |-  1      na       0.010     1.054       na           na    \n"
       ]
      },
      {
       "output_type": "stream",
       "stream": "stdout",
       "text": [
        "[INFO    ]  >          |      |-  2     0.010     0.012     1.064     2.00e-02       na    \n"
       ]
      },
      {
       "output_type": "stream",
       "stream": "stdout",
       "text": [
        "[INFO    ]  >          |      |-  3     0.012     0.015     1.084     5.95e-02       na    \n"
       ]
      },
      {
       "output_type": "stream",
       "stream": "stdout",
       "text": [
        "[INFO    ]  >          |      |-  4     0.015     0.018     1.104     9.77e-02       na    \n"
       ]
      },
      {
       "output_type": "stream",
       "stream": "stdout",
       "text": [
        "[INFO    ]  >          |      |-  5     0.018     0.020     1.116     1.16e-01       na    \n"
       ]
      },
      {
       "output_type": "stream",
       "stream": "stdout",
       "text": [
        "[INFO    ] >>          |      \\_\n"
       ]
      },
      {
       "output_type": "stream",
       "stream": "stderr",
       "text": [
        "[2014-05-23 14:21] DEBUG: PyPinT Logging: Skipping computation of reduction: No previous iteration available.\n"
       ]
      },
      {
       "output_type": "stream",
       "stream": "stdout",
       "text": [
        "[INFO    ] !>          \\_      na           na           na         0.557\n"
       ]
      },
      {
       "output_type": "stream",
       "stream": "stderr",
       "text": [
        "[2014-05-23 14:21] DEBUG: PyPinT Logging: Work Loop: 17\n"
       ]
      },
      {
       "output_type": "stream",
       "stream": "stderr",
       "text": [
        "[2014-05-23 14:21] DEBUG: PyPinT Logging: Next Iteration\n"
       ]
      },
      {
       "output_type": "stream",
       "stream": "stderr",
       "text": [
        "[2014-05-23 14:21] DEBUG: PyPinT Logging: Starting New Solver Main Loop\n"
       ]
      },
      {
       "output_type": "stream",
       "stream": "stdout",
       "text": [
        "[INFO    ] !>        2\n"
       ]
      },
      {
       "output_type": "stream",
       "stream": "stdout",
       "text": [
        "[INFO    ] >>         \\\n"
       ]
      },
      {
       "output_type": "stream",
       "stream": "stdout",
       "text": [
        "[INFO    ] >>          |-   1     0.010     0.020     0.010\n"
       ]
      },
      {
       "output_type": "stream",
       "stream": "stdout",
       "text": [
        "[INFO    ]  >          |     \\\n"
       ]
      },
      {
       "output_type": "stream",
       "stream": "stdout",
       "text": [
        "[INFO    ]  >          |      |-  1      na       0.010     1.054       na           na    \n"
       ]
      },
      {
       "output_type": "stream",
       "stream": "stdout",
       "text": [
        "[INFO    ]  >          |      |-  2     0.010     0.012     1.064     2.21e-02       na    \n"
       ]
      },
      {
       "output_type": "stream",
       "stream": "stdout",
       "text": [
        "[INFO    ]  >          |      |-  3     0.012     0.015     1.085     6.65e-02       na    \n"
       ]
      },
      {
       "output_type": "stream",
       "stream": "stdout",
       "text": [
        "[INFO    ]  >          |      |-  4     0.015     0.018     1.106     1.07e-01       na    \n"
       ]
      },
      {
       "output_type": "stream",
       "stream": "stdout",
       "text": [
        "[INFO    ]  >          |      |-  5     0.018     0.020     1.118     1.25e-01       na    \n"
       ]
      },
      {
       "output_type": "stream",
       "stream": "stdout",
       "text": [
        "[INFO    ] >>          |      \\_\n"
       ]
      },
      {
       "output_type": "stream",
       "stream": "stdout",
       "text": [
        "[INFO    ] !>          \\_    1.71e-01       na         2.21e-02     0.450\n"
       ]
      },
      {
       "output_type": "stream",
       "stream": "stderr",
       "text": [
        "[2014-05-23 14:21] DEBUG: PyPinT Logging: Work Loop: 18\n"
       ]
      },
      {
       "output_type": "stream",
       "stream": "stderr",
       "text": [
        "[2014-05-23 14:21] DEBUG: PyPinT Logging: Next Iteration\n"
       ]
      },
      {
       "output_type": "stream",
       "stream": "stderr",
       "text": [
        "[2014-05-23 14:21] DEBUG: PyPinT Logging: Starting New Solver Main Loop\n"
       ]
      },
      {
       "output_type": "stream",
       "stream": "stdout",
       "text": [
        "[INFO    ] !>        3\n"
       ]
      },
      {
       "output_type": "stream",
       "stream": "stdout",
       "text": [
        "[INFO    ] >>         \\\n"
       ]
      },
      {
       "output_type": "stream",
       "stream": "stdout",
       "text": [
        "[INFO    ] >>          |-   1     0.010     0.020     0.010\n"
       ]
      },
      {
       "output_type": "stream",
       "stream": "stdout",
       "text": [
        "[INFO    ]  >          |     \\\n"
       ]
      },
      {
       "output_type": "stream",
       "stream": "stdout",
       "text": [
        "[INFO    ]  >          |      |-  1      na       0.010     1.054       na           na    \n"
       ]
      },
      {
       "output_type": "stream",
       "stream": "stdout",
       "text": [
        "[INFO    ]  >          |      |-  2     0.010     0.012     1.064     2.27e-02       na    \n"
       ]
      },
      {
       "output_type": "stream",
       "stream": "stdout",
       "text": [
        "[INFO    ]  >          |      |-  3     0.012     0.015     1.085     6.79e-02       na    \n"
       ]
      },
      {
       "output_type": "stream",
       "stream": "stdout",
       "text": [
        "[INFO    ]  >          |      |-  4     0.015     0.018     1.106     1.08e-01       na    \n"
       ]
      },
      {
       "output_type": "stream",
       "stream": "stdout",
       "text": [
        "[INFO    ]  >          |      |-  5     0.018     0.020     1.118     1.27e-01       na    \n"
       ]
      },
      {
       "output_type": "stream",
       "stream": "stdout",
       "text": [
        "[INFO    ] >>          |      \\_\n"
       ]
      },
      {
       "output_type": "stream",
       "stream": "stdout",
       "text": [
        "[INFO    ] !>          \\_    3.10e-02       na         2.27e-02     0.449\n"
       ]
      },
      {
       "output_type": "stream",
       "stream": "stderr",
       "text": [
        "[2014-05-23 14:21] DEBUG: PyPinT Logging: Work Loop: 19\n"
       ]
      },
      {
       "output_type": "stream",
       "stream": "stderr",
       "text": [
        "[2014-05-23 14:21] DEBUG: PyPinT Logging: Next Iteration\n"
       ]
      },
      {
       "output_type": "stream",
       "stream": "stderr",
       "text": [
        "[2014-05-23 14:21] DEBUG: PyPinT Logging: Starting New Solver Main Loop\n"
       ]
      },
      {
       "output_type": "stream",
       "stream": "stdout",
       "text": [
        "[INFO    ] !>        4\n"
       ]
      },
      {
       "output_type": "stream",
       "stream": "stdout",
       "text": [
        "[INFO    ] >>         \\\n"
       ]
      },
      {
       "output_type": "stream",
       "stream": "stdout",
       "text": [
        "[INFO    ] >>          |-   1     0.010     0.020     0.010\n"
       ]
      },
      {
       "output_type": "stream",
       "stream": "stdout",
       "text": [
        "[INFO    ]  >          |     \\\n"
       ]
      },
      {
       "output_type": "stream",
       "stream": "stdout",
       "text": [
        "[INFO    ]  >          |      |-  1      na       0.010     1.054       na           na    \n"
       ]
      },
      {
       "output_type": "stream",
       "stream": "stdout",
       "text": [
        "[INFO    ]  >          |      |-  2     0.010     0.012     1.064     2.28e-02       na    \n"
       ]
      },
      {
       "output_type": "stream",
       "stream": "stdout",
       "text": [
        "[INFO    ]  >          |      |-  3     0.012     0.015     1.085     6.82e-02       na    \n"
       ]
      },
      {
       "output_type": "stream",
       "stream": "stdout",
       "text": [
        "[INFO    ]  >          |      |-  4     0.015     0.018     1.106     1.09e-01       na    \n"
       ]
      },
      {
       "output_type": "stream",
       "stream": "stdout",
       "text": [
        "[INFO    ]  >          |      |-  5     0.018     0.020     1.118     1.27e-01       na    \n"
       ]
      },
      {
       "output_type": "stream",
       "stream": "stdout",
       "text": [
        "[INFO    ] >>          |      \\_\n"
       ]
      },
      {
       "output_type": "stream",
       "stream": "stdout",
       "text": [
        "[INFO    ] !>          \\_    7.36e-03       na         2.28e-02     0.442\n"
       ]
      },
      {
       "output_type": "stream",
       "stream": "stderr",
       "text": [
        "[2014-05-23 14:21] DEBUG: PyPinT Logging: Work Loop: 20\n"
       ]
      },
      {
       "output_type": "stream",
       "stream": "stderr",
       "text": [
        "[2014-05-23 14:21] DEBUG: PyPinT Logging: Next Iteration\n"
       ]
      },
      {
       "output_type": "stream",
       "stream": "stderr",
       "text": [
        "[2014-05-23 14:21] DEBUG: PyPinT Logging: Starting New Solver Main Loop\n"
       ]
      },
      {
       "output_type": "stream",
       "stream": "stdout",
       "text": [
        "[INFO    ] !>        5\n"
       ]
      },
      {
       "output_type": "stream",
       "stream": "stdout",
       "text": [
        "[INFO    ] >>         \\\n"
       ]
      },
      {
       "output_type": "stream",
       "stream": "stdout",
       "text": [
        "[INFO    ] >>          |-   1     0.010     0.020     0.010\n"
       ]
      },
      {
       "output_type": "stream",
       "stream": "stdout",
       "text": [
        "[INFO    ]  >          |     \\\n"
       ]
      },
      {
       "output_type": "stream",
       "stream": "stdout",
       "text": [
        "[INFO    ]  >          |      |-  1      na       0.010     1.054       na           na    \n"
       ]
      },
      {
       "output_type": "stream",
       "stream": "stdout",
       "text": [
        "[INFO    ]  >          |      |-  2     0.010     0.012     1.064     2.28e-02       na    \n"
       ]
      },
      {
       "output_type": "stream",
       "stream": "stdout",
       "text": [
        "[INFO    ]  >          |      |-  3     0.012     0.015     1.085     6.82e-02       na    \n"
       ]
      },
      {
       "output_type": "stream",
       "stream": "stdout",
       "text": [
        "[INFO    ]  >          |      |-  4     0.015     0.018     1.106     1.09e-01       na    \n"
       ]
      },
      {
       "output_type": "stream",
       "stream": "stdout",
       "text": [
        "[INFO    ]  >          |      |-  5     0.018     0.020     1.118     1.27e-01       na    \n"
       ]
      },
      {
       "output_type": "stream",
       "stream": "stdout",
       "text": [
        "[INFO    ] >>          |      \\_\n"
       ]
      },
      {
       "output_type": "stream",
       "stream": "stdout",
       "text": [
        "[INFO    ] !>          \\_    1.05e-04       na         2.28e-02     0.454\n"
       ]
      },
      {
       "output_type": "stream",
       "stream": "stderr",
       "text": [
        "[2014-05-23 14:21] DEBUG: PyPinT Logging: Work Loop: 21\n"
       ]
      },
      {
       "output_type": "stream",
       "stream": "stderr",
       "text": [
        "[2014-05-23 14:21] DEBUG: PyPinT Logging: Next Iteration\n"
       ]
      },
      {
       "output_type": "stream",
       "stream": "stderr",
       "text": [
        "[2014-05-23 14:21] DEBUG: PyPinT Logging: Starting New Solver Main Loop\n"
       ]
      },
      {
       "output_type": "stream",
       "stream": "stdout",
       "text": [
        "[INFO    ] !>        6\n"
       ]
      },
      {
       "output_type": "stream",
       "stream": "stdout",
       "text": [
        "[INFO    ] >>         \\\n"
       ]
      },
      {
       "output_type": "stream",
       "stream": "stdout",
       "text": [
        "[INFO    ] >>          |-   1     0.010     0.020     0.010\n"
       ]
      },
      {
       "output_type": "stream",
       "stream": "stdout",
       "text": [
        "[INFO    ]  >          |     \\\n"
       ]
      },
      {
       "output_type": "stream",
       "stream": "stdout",
       "text": [
        "[INFO    ]  >          |      |-  1      na       0.010     1.054       na           na    \n"
       ]
      },
      {
       "output_type": "stream",
       "stream": "stdout",
       "text": [
        "[INFO    ]  >          |      |-  2     0.010     0.012     1.064     2.28e-02       na    \n"
       ]
      },
      {
       "output_type": "stream",
       "stream": "stdout",
       "text": [
        "[INFO    ]  >          |      |-  3     0.012     0.015     1.085     6.82e-02       na    \n"
       ]
      },
      {
       "output_type": "stream",
       "stream": "stdout",
       "text": [
        "[INFO    ]  >          |      |-  4     0.015     0.018     1.106     1.09e-01       na    \n"
       ]
      },
      {
       "output_type": "stream",
       "stream": "stdout",
       "text": [
        "[INFO    ]  >          |      |-  5     0.018     0.020     1.118     1.27e-01       na    \n"
       ]
      },
      {
       "output_type": "stream",
       "stream": "stdout",
       "text": [
        "[INFO    ] >>          |      \\_\n"
       ]
      },
      {
       "output_type": "stream",
       "stream": "stdout",
       "text": [
        "[INFO    ] !>          \\_    1.89e-03       na         2.28e-02     0.393\n"
       ]
      },
      {
       "output_type": "stream",
       "stream": "stderr",
       "text": [
        "[2014-05-23 14:21] DEBUG: PyPinT Logging: Work Loop: 22\n"
       ]
      },
      {
       "output_type": "stream",
       "stream": "stderr",
       "text": [
        "[2014-05-23 14:21] DEBUG: PyPinT Logging: Next Iteration\n"
       ]
      },
      {
       "output_type": "stream",
       "stream": "stderr",
       "text": [
        "[2014-05-23 14:21] DEBUG: PyPinT Logging: Starting New Solver Main Loop\n"
       ]
      },
      {
       "output_type": "stream",
       "stream": "stdout",
       "text": [
        "[INFO    ] !>        7\n"
       ]
      },
      {
       "output_type": "stream",
       "stream": "stdout",
       "text": [
        "[INFO    ] >>         \\\n"
       ]
      },
      {
       "output_type": "stream",
       "stream": "stdout",
       "text": [
        "[INFO    ] >>          |-   1     0.010     0.020     0.010\n"
       ]
      },
      {
       "output_type": "stream",
       "stream": "stdout",
       "text": [
        "[INFO    ]  >          |     \\\n"
       ]
      },
      {
       "output_type": "stream",
       "stream": "stdout",
       "text": [
        "[INFO    ]  >          |      |-  1      na       0.010     1.054       na           na    \n"
       ]
      },
      {
       "output_type": "stream",
       "stream": "stdout",
       "text": [
        "[INFO    ]  >          |      |-  2     0.010     0.012     1.064     2.28e-02       na    \n"
       ]
      },
      {
       "output_type": "stream",
       "stream": "stdout",
       "text": [
        "[INFO    ]  >          |      |-  3     0.012     0.015     1.085     6.82e-02       na    \n"
       ]
      },
      {
       "output_type": "stream",
       "stream": "stdout",
       "text": [
        "[INFO    ]  >          |      |-  4     0.015     0.018     1.106     1.09e-01       na    \n"
       ]
      },
      {
       "output_type": "stream",
       "stream": "stdout",
       "text": [
        "[INFO    ]  >          |      |-  5     0.018     0.020     1.118     1.27e-01       na    \n"
       ]
      },
      {
       "output_type": "stream",
       "stream": "stdout",
       "text": [
        "[INFO    ] >>          |      \\_\n"
       ]
      },
      {
       "output_type": "stream",
       "stream": "stdout",
       "text": [
        "[INFO    ] !>          \\_    2.07e-03       na         2.28e-02     0.326\n"
       ]
      },
      {
       "output_type": "stream",
       "stream": "stderr",
       "text": [
        "[2014-05-23 14:21] DEBUG: PyPinT Logging: Work Loop: 23\n"
       ]
      },
      {
       "output_type": "stream",
       "stream": "stderr",
       "text": [
        "[2014-05-23 14:21] DEBUG: PyPinT Logging: Next Iteration\n"
       ]
      },
      {
       "output_type": "stream",
       "stream": "stderr",
       "text": [
        "[2014-05-23 14:21] DEBUG: PyPinT Logging: Starting New Solver Main Loop\n"
       ]
      },
      {
       "output_type": "stream",
       "stream": "stdout",
       "text": [
        "[INFO    ] !>        8\n"
       ]
      },
      {
       "output_type": "stream",
       "stream": "stdout",
       "text": [
        "[INFO    ] >>         \\\n"
       ]
      },
      {
       "output_type": "stream",
       "stream": "stdout",
       "text": [
        "[INFO    ] >>          |-   1     0.010     0.020     0.010\n"
       ]
      },
      {
       "output_type": "stream",
       "stream": "stdout",
       "text": [
        "[INFO    ]  >          |     \\\n"
       ]
      },
      {
       "output_type": "stream",
       "stream": "stdout",
       "text": [
        "[INFO    ]  >          |      |-  1      na       0.010     1.054       na           na    \n"
       ]
      },
      {
       "output_type": "stream",
       "stream": "stdout",
       "text": [
        "[INFO    ]  >          |      |-  2     0.010     0.012     1.064     2.28e-02       na    \n"
       ]
      },
      {
       "output_type": "stream",
       "stream": "stdout",
       "text": [
        "[INFO    ]  >          |      |-  3     0.012     0.015     1.085     6.82e-02       na    \n"
       ]
      },
      {
       "output_type": "stream",
       "stream": "stdout",
       "text": [
        "[INFO    ]  >          |      |-  4     0.015     0.018     1.106     1.09e-01       na    \n"
       ]
      },
      {
       "output_type": "stream",
       "stream": "stdout",
       "text": [
        "[INFO    ]  >          |      |-  5     0.018     0.020     1.118     1.27e-01       na    \n"
       ]
      },
      {
       "output_type": "stream",
       "stream": "stdout",
       "text": [
        "[INFO    ] >>          |      \\_\n"
       ]
      },
      {
       "output_type": "stream",
       "stream": "stdout",
       "text": [
        "[INFO    ] !>          \\_    1.77e-03       na         2.28e-02     0.338\n"
       ]
      },
      {
       "output_type": "stream",
       "stream": "stderr",
       "text": [
        "[2014-05-23 14:21] DEBUG: PyPinT Logging: Work Loop: 24\n"
       ]
      },
      {
       "output_type": "stream",
       "stream": "stderr",
       "text": [
        "[2014-05-23 14:21] DEBUG: PyPinT Logging: Next Iteration\n"
       ]
      },
      {
       "output_type": "stream",
       "stream": "stderr",
       "text": [
        "[2014-05-23 14:21] DEBUG: PyPinT Logging: Starting New Solver Main Loop\n"
       ]
      },
      {
       "output_type": "stream",
       "stream": "stdout",
       "text": [
        "[INFO    ] !>        9\n"
       ]
      },
      {
       "output_type": "stream",
       "stream": "stdout",
       "text": [
        "[INFO    ] >>         \\\n"
       ]
      },
      {
       "output_type": "stream",
       "stream": "stdout",
       "text": [
        "[INFO    ] >>          |-   1     0.010     0.020     0.010\n"
       ]
      },
      {
       "output_type": "stream",
       "stream": "stdout",
       "text": [
        "[INFO    ]  >          |     \\\n"
       ]
      },
      {
       "output_type": "stream",
       "stream": "stdout",
       "text": [
        "[INFO    ]  >          |      |-  1      na       0.010     1.054       na           na    \n"
       ]
      },
      {
       "output_type": "stream",
       "stream": "stdout",
       "text": [
        "[INFO    ]  >          |      |-  2     0.010     0.012     1.064     2.28e-02       na    \n"
       ]
      },
      {
       "output_type": "stream",
       "stream": "stdout",
       "text": [
        "[INFO    ]  >          |      |-  3     0.012     0.015     1.085     6.82e-02       na    \n"
       ]
      },
      {
       "output_type": "stream",
       "stream": "stdout",
       "text": [
        "[INFO    ]  >          |      |-  4     0.015     0.018     1.106     1.09e-01       na    \n"
       ]
      },
      {
       "output_type": "stream",
       "stream": "stdout",
       "text": [
        "[INFO    ]  >          |      |-  5     0.018     0.020     1.118     1.27e-01       na    \n"
       ]
      },
      {
       "output_type": "stream",
       "stream": "stdout",
       "text": [
        "[INFO    ] >>          |      \\_\n"
       ]
      },
      {
       "output_type": "stream",
       "stream": "stdout",
       "text": [
        "[INFO    ] !>          \\_    1.37e-03       na         2.28e-02     0.268\n"
       ]
      },
      {
       "output_type": "stream",
       "stream": "stderr",
       "text": [
        "[2014-05-23 14:21] DEBUG: PyPinT Logging: Work Loop: 25\n"
       ]
      },
      {
       "output_type": "stream",
       "stream": "stderr",
       "text": [
        "[2014-05-23 14:21] DEBUG: PyPinT Logging: Next Iteration\n"
       ]
      },
      {
       "output_type": "stream",
       "stream": "stderr",
       "text": [
        "[2014-05-23 14:21] DEBUG: PyPinT Logging: Starting New Solver Main Loop\n"
       ]
      },
      {
       "output_type": "stream",
       "stream": "stdout",
       "text": [
        "[INFO    ] !>       10\n"
       ]
      },
      {
       "output_type": "stream",
       "stream": "stdout",
       "text": [
        "[INFO    ] >>         \\\n"
       ]
      },
      {
       "output_type": "stream",
       "stream": "stdout",
       "text": [
        "[INFO    ] >>          |-   1     0.010     0.020     0.010\n"
       ]
      },
      {
       "output_type": "stream",
       "stream": "stdout",
       "text": [
        "[INFO    ]  >          |     \\\n"
       ]
      },
      {
       "output_type": "stream",
       "stream": "stdout",
       "text": [
        "[INFO    ]  >          |      |-  1      na       0.010     1.054       na           na    \n"
       ]
      },
      {
       "output_type": "stream",
       "stream": "stdout",
       "text": [
        "[INFO    ]  >          |      |-  2     0.010     0.012     1.064     2.28e-02       na    \n"
       ]
      },
      {
       "output_type": "stream",
       "stream": "stdout",
       "text": [
        "[INFO    ]  >          |      |-  3     0.012     0.015     1.085     6.82e-02       na    \n"
       ]
      },
      {
       "output_type": "stream",
       "stream": "stdout",
       "text": [
        "[INFO    ]  >          |      |-  4     0.015     0.018     1.106     1.09e-01       na    \n"
       ]
      },
      {
       "output_type": "stream",
       "stream": "stdout",
       "text": [
        "[INFO    ]  >          |      |-  5     0.018     0.020     1.118     1.27e-01       na    \n"
       ]
      },
      {
       "output_type": "stream",
       "stream": "stdout",
       "text": [
        "[INFO    ] >>          |      \\_\n"
       ]
      },
      {
       "output_type": "stream",
       "stream": "stdout",
       "text": [
        "[INFO    ] !>          \\_    9.95e-04       na         2.28e-02     0.276\n"
       ]
      },
      {
       "output_type": "stream",
       "stream": "stderr",
       "text": [
        "[2014-05-23 14:21] DEBUG: PyPinT Logging: Work Loop: 26\n"
       ]
      },
      {
       "output_type": "stream",
       "stream": "stderr",
       "text": [
        "[2014-05-23 14:21] DEBUG: PyPinT Logging: Next Iteration\n"
       ]
      },
      {
       "output_type": "stream",
       "stream": "stderr",
       "text": [
        "[2014-05-23 14:21] DEBUG: PyPinT Logging: Starting New Solver Main Loop\n"
       ]
      },
      {
       "output_type": "stream",
       "stream": "stdout",
       "text": [
        "[INFO    ] !>       11\n"
       ]
      },
      {
       "output_type": "stream",
       "stream": "stdout",
       "text": [
        "[INFO    ] >>         \\\n"
       ]
      },
      {
       "output_type": "stream",
       "stream": "stdout",
       "text": [
        "[INFO    ] >>          |-   1     0.010     0.020     0.010\n"
       ]
      },
      {
       "output_type": "stream",
       "stream": "stdout",
       "text": [
        "[INFO    ]  >          |     \\\n"
       ]
      },
      {
       "output_type": "stream",
       "stream": "stdout",
       "text": [
        "[INFO    ]  >          |      |-  1      na       0.010     1.054       na           na    \n"
       ]
      },
      {
       "output_type": "stream",
       "stream": "stdout",
       "text": [
        "[INFO    ]  >          |      |-  2     0.010     0.012     1.064     2.28e-02       na    \n"
       ]
      },
      {
       "output_type": "stream",
       "stream": "stdout",
       "text": [
        "[INFO    ]  >          |      |-  3     0.012     0.015     1.085     6.81e-02       na    \n"
       ]
      },
      {
       "output_type": "stream",
       "stream": "stdout",
       "text": [
        "[INFO    ]  >          |      |-  4     0.015     0.018     1.106     1.09e-01       na    \n"
       ]
      },
      {
       "output_type": "stream",
       "stream": "stdout",
       "text": [
        "[INFO    ]  >          |      |-  5     0.018     0.020     1.118     1.27e-01       na    \n"
       ]
      },
      {
       "output_type": "stream",
       "stream": "stdout",
       "text": [
        "[INFO    ] >>          |      \\_\n"
       ]
      },
      {
       "output_type": "stream",
       "stream": "stdout",
       "text": [
        "[INFO    ] !>          \\_    6.77e-04       na         2.28e-02     0.268\n"
       ]
      },
      {
       "output_type": "stream",
       "stream": "stderr",
       "text": [
        "[2014-05-23 14:21] DEBUG: PyPinT Logging: Work Loop: 27\n"
       ]
      },
      {
       "output_type": "stream",
       "stream": "stderr",
       "text": [
        "[2014-05-23 14:21] DEBUG: PyPinT Logging: Next Iteration\n"
       ]
      },
      {
       "output_type": "stream",
       "stream": "stderr",
       "text": [
        "[2014-05-23 14:21] DEBUG: PyPinT Logging: Starting New Solver Main Loop\n"
       ]
      },
      {
       "output_type": "stream",
       "stream": "stdout",
       "text": [
        "[INFO    ] !>       12\n"
       ]
      },
      {
       "output_type": "stream",
       "stream": "stdout",
       "text": [
        "[INFO    ] >>         \\\n"
       ]
      },
      {
       "output_type": "stream",
       "stream": "stdout",
       "text": [
        "[INFO    ] >>          |-   1     0.010     0.020     0.010\n"
       ]
      },
      {
       "output_type": "stream",
       "stream": "stdout",
       "text": [
        "[INFO    ]  >          |     \\\n"
       ]
      },
      {
       "output_type": "stream",
       "stream": "stdout",
       "text": [
        "[INFO    ]  >          |      |-  1      na       0.010     1.054       na           na    \n"
       ]
      },
      {
       "output_type": "stream",
       "stream": "stdout",
       "text": [
        "[INFO    ]  >          |      |-  2     0.010     0.012     1.064     2.28e-02       na    \n"
       ]
      },
      {
       "output_type": "stream",
       "stream": "stdout",
       "text": [
        "[INFO    ]  >          |      |-  3     0.012     0.015     1.085     6.81e-02       na    \n"
       ]
      },
      {
       "output_type": "stream",
       "stream": "stdout",
       "text": [
        "[INFO    ]  >          |      |-  4     0.015     0.018     1.106     1.09e-01       na    \n"
       ]
      },
      {
       "output_type": "stream",
       "stream": "stdout",
       "text": [
        "[INFO    ]  >          |      |-  5     0.018     0.020     1.118     1.27e-01       na    \n"
       ]
      },
      {
       "output_type": "stream",
       "stream": "stdout",
       "text": [
        "[INFO    ] >>          |      \\_\n"
       ]
      },
      {
       "output_type": "stream",
       "stream": "stdout",
       "text": [
        "[INFO    ] !>          \\_    4.39e-04       na         2.28e-02     0.277\n"
       ]
      },
      {
       "output_type": "stream",
       "stream": "stderr",
       "text": [
        "[2014-05-23 14:21] DEBUG: PyPinT Logging: Work Loop: 28\n"
       ]
      },
      {
       "output_type": "stream",
       "stream": "stderr",
       "text": [
        "[2014-05-23 14:21] DEBUG: PyPinT Logging: Next Iteration\n"
       ]
      },
      {
       "output_type": "stream",
       "stream": "stderr",
       "text": [
        "[2014-05-23 14:21] DEBUG: PyPinT Logging: Starting New Solver Main Loop\n"
       ]
      },
      {
       "output_type": "stream",
       "stream": "stdout",
       "text": [
        "[INFO    ] !>       13\n"
       ]
      },
      {
       "output_type": "stream",
       "stream": "stdout",
       "text": [
        "[INFO    ] >>         \\\n"
       ]
      },
      {
       "output_type": "stream",
       "stream": "stdout",
       "text": [
        "[INFO    ] >>          |-   1     0.010     0.020     0.010\n"
       ]
      },
      {
       "output_type": "stream",
       "stream": "stdout",
       "text": [
        "[INFO    ]  >          |     \\\n"
       ]
      },
      {
       "output_type": "stream",
       "stream": "stdout",
       "text": [
        "[INFO    ]  >          |      |-  1      na       0.010     1.054       na           na    \n"
       ]
      },
      {
       "output_type": "stream",
       "stream": "stdout",
       "text": [
        "[INFO    ]  >          |      |-  2     0.010     0.012     1.064     2.28e-02       na    \n"
       ]
      },
      {
       "output_type": "stream",
       "stream": "stdout",
       "text": [
        "[INFO    ]  >          |      |-  3     0.012     0.015     1.085     6.81e-02       na    \n"
       ]
      },
      {
       "output_type": "stream",
       "stream": "stdout",
       "text": [
        "[INFO    ]  >          |      |-  4     0.015     0.018     1.106     1.09e-01       na    \n"
       ]
      },
      {
       "output_type": "stream",
       "stream": "stdout",
       "text": [
        "[INFO    ]  >          |      |-  5     0.018     0.020     1.118     1.27e-01       na    \n"
       ]
      },
      {
       "output_type": "stream",
       "stream": "stdout",
       "text": [
        "[INFO    ] >>          |      \\_\n"
       ]
      },
      {
       "output_type": "stream",
       "stream": "stdout",
       "text": [
        "[INFO    ] !>          \\_    2.80e-04       na         2.28e-02     0.270\n"
       ]
      },
      {
       "output_type": "stream",
       "stream": "stderr",
       "text": [
        "[2014-05-23 14:21] DEBUG: PyPinT Logging: Work Loop: 29\n"
       ]
      },
      {
       "output_type": "stream",
       "stream": "stderr",
       "text": [
        "[2014-05-23 14:21] DEBUG: PyPinT Logging: Next Iteration\n"
       ]
      },
      {
       "output_type": "stream",
       "stream": "stderr",
       "text": [
        "[2014-05-23 14:21] DEBUG: PyPinT Logging: Starting New Solver Main Loop\n"
       ]
      },
      {
       "output_type": "stream",
       "stream": "stdout",
       "text": [
        "[INFO    ] !>       14\n"
       ]
      },
      {
       "output_type": "stream",
       "stream": "stdout",
       "text": [
        "[INFO    ] >>         \\\n"
       ]
      },
      {
       "output_type": "stream",
       "stream": "stdout",
       "text": [
        "[INFO    ] >>          |-   1     0.010     0.020     0.010\n"
       ]
      },
      {
       "output_type": "stream",
       "stream": "stdout",
       "text": [
        "[INFO    ]  >          |     \\\n"
       ]
      },
      {
       "output_type": "stream",
       "stream": "stdout",
       "text": [
        "[INFO    ]  >          |      |-  1      na       0.010     1.054       na           na    \n"
       ]
      },
      {
       "output_type": "stream",
       "stream": "stdout",
       "text": [
        "[INFO    ]  >          |      |-  2     0.010     0.012     1.064     2.28e-02       na    \n"
       ]
      },
      {
       "output_type": "stream",
       "stream": "stdout",
       "text": [
        "[INFO    ]  >          |      |-  3     0.012     0.015     1.085     6.81e-02       na    \n"
       ]
      },
      {
       "output_type": "stream",
       "stream": "stdout",
       "text": [
        "[INFO    ]  >          |      |-  4     0.015     0.018     1.106     1.09e-01       na    \n"
       ]
      },
      {
       "output_type": "stream",
       "stream": "stdout",
       "text": [
        "[INFO    ]  >          |      |-  5     0.018     0.020     1.118     1.27e-01       na    \n"
       ]
      },
      {
       "output_type": "stream",
       "stream": "stdout",
       "text": [
        "[INFO    ] >>          |      \\_\n"
       ]
      },
      {
       "output_type": "stream",
       "stream": "stdout",
       "text": [
        "[INFO    ] !>          \\_    1.80e-04       na         2.28e-02     0.264\n"
       ]
      },
      {
       "output_type": "stream",
       "stream": "stderr",
       "text": [
        "[2014-05-23 14:21] DEBUG: PyPinT Logging: Work Loop: 30\n"
       ]
      },
      {
       "output_type": "stream",
       "stream": "stderr",
       "text": [
        "[2014-05-23 14:21] DEBUG: PyPinT Logging: Next Iteration\n"
       ]
      },
      {
       "output_type": "stream",
       "stream": "stderr",
       "text": [
        "[2014-05-23 14:21] DEBUG: PyPinT Logging: Starting New Solver Main Loop\n"
       ]
      },
      {
       "output_type": "stream",
       "stream": "stdout",
       "text": [
        "[INFO    ] !>       15\n"
       ]
      },
      {
       "output_type": "stream",
       "stream": "stdout",
       "text": [
        "[INFO    ] >>         \\\n"
       ]
      },
      {
       "output_type": "stream",
       "stream": "stdout",
       "text": [
        "[INFO    ] >>          |-   1     0.010     0.020     0.010\n"
       ]
      },
      {
       "output_type": "stream",
       "stream": "stdout",
       "text": [
        "[INFO    ]  >          |     \\\n"
       ]
      },
      {
       "output_type": "stream",
       "stream": "stdout",
       "text": [
        "[INFO    ]  >          |      |-  1      na       0.010     1.054       na           na    \n"
       ]
      },
      {
       "output_type": "stream",
       "stream": "stdout",
       "text": [
        "[INFO    ]  >          |      |-  2     0.010     0.012     1.064     2.28e-02       na    \n"
       ]
      },
      {
       "output_type": "stream",
       "stream": "stdout",
       "text": [
        "[INFO    ]  >          |      |-  3     0.012     0.015     1.085     6.81e-02       na    \n"
       ]
      },
      {
       "output_type": "stream",
       "stream": "stdout",
       "text": [
        "[INFO    ]  >          |      |-  4     0.015     0.018     1.106     1.09e-01       na    \n"
       ]
      },
      {
       "output_type": "stream",
       "stream": "stdout",
       "text": [
        "[INFO    ]  >          |      |-  5     0.018     0.020     1.118     1.27e-01       na    \n"
       ]
      },
      {
       "output_type": "stream",
       "stream": "stdout",
       "text": [
        "[INFO    ] >>          |      \\_\n"
       ]
      },
      {
       "output_type": "stream",
       "stream": "stderr",
       "text": [
        "[2014-05-23 14:21] DEBUG: PyPinT Logging: Maximum of iterations exceeded: 15 >= 15\n"
       ]
      },
      {
       "output_type": "stream",
       "stream": "stdout",
       "text": [
        "[INFO    ] !>          \\_    1.20e-04       na         2.28e-02     0.264\n"
       ]
      },
      {
       "output_type": "stream",
       "stream": "stdout",
       "text": [
        "[INFO    ] !>   Converged after 15 iteration(s):\n"
       ]
      },
      {
       "output_type": "stream",
       "stream": "stdout",
       "text": [
        "[INFO    ] !>     Threshold condition(s) met:    iterations\n"
       ]
      },
      {
       "output_type": "stream",
       "stream": "stdout",
       "text": [
        "[INFO    ] !>     Final Residual:                1.273e-01\n"
       ]
      },
      {
       "output_type": "stream",
       "stream": "stdout",
       "text": [
        "[INFO    ] !>     Solution Reduction:            1.202e-04\n"
       ]
      },
      {
       "output_type": "stream",
       "stream": "stderr",
       "text": [
        "[2014-05-23 14:21] DEBUG: PyPinT Logging: Work Loop: 31\n"
       ]
      },
      {
       "output_type": "stream",
       "stream": "stderr",
       "text": [
        "[2014-05-23 14:21] DEBUG: PyPinT Logging: Nodes: [0.02, 0.021726731646460114, 0.025, 0.028273268353539882, 0.03]\n"
       ]
      },
      {
       "output_type": "stream",
       "stream": "stderr",
       "text": [
        "[2014-05-23 14:21] DEBUG: PyPinT Logging: Nodes: [0.02, 0.021726731646460114, 0.025, 0.028273268353539882, 0.03]\n"
       ]
      },
      {
       "output_type": "stream",
       "stream": "stderr",
       "text": [
        "[2014-05-23 14:21] DEBUG: PyPinT Logging: New Interval Initialized\n"
       ]
      },
      {
       "output_type": "stream",
       "stream": "stdout",
       "text": [
        "[INFO    ] !> ................................................................................\n"
       ]
      },
      {
       "output_type": "stream",
       "stream": "stdout",
       "text": [
        "[INFO    ] !>   Interval: [0.020, 0.030]\n"
       ]
      },
      {
       "output_type": "stream",
       "stream": "stdout",
       "text": [
        "[INFO    ] !>    iter\n"
       ]
      },
      {
       "output_type": "stream",
       "stream": "stdout",
       "text": [
        "[INFO    ] >>         \\\n"
       ]
      },
      {
       "output_type": "stream",
       "stream": "stdout",
       "text": [
        "[INFO    ] >>          |- time    start     end        delta\n"
       ]
      },
      {
       "output_type": "stream",
       "stream": "stdout",
       "text": [
        "[INFO    ]  >          |     \\\n"
       ]
      },
      {
       "output_type": "stream",
       "stream": "stdout",
       "text": [
        "[INFO    ]  >          |      |- step    t_0      t_1       phi(t_1)    resid       err\n"
       ]
      },
      {
       "output_type": "stream",
       "stream": "stdout",
       "text": [
        "[INFO    ] >>          |      \\_\n"
       ]
      },
      {
       "output_type": "stream",
       "stream": "stdout",
       "text": [
        "[INFO    ] !>          \\_   sol r.red    err r.red      resid       time\n"
       ]
      },
      {
       "output_type": "stream",
       "stream": "stderr",
       "text": [
        "[2014-05-23 14:21] DEBUG: PyPinT Logging: Starting New Solver Main Loop\n"
       ]
      },
      {
       "output_type": "stream",
       "stream": "stdout",
       "text": [
        "[INFO    ] !>        1\n"
       ]
      },
      {
       "output_type": "stream",
       "stream": "stdout",
       "text": [
        "[INFO    ] >>         \\\n"
       ]
      },
      {
       "output_type": "stream",
       "stream": "stdout",
       "text": [
        "[INFO    ] >>          |-   1     0.020     0.030     0.010\n"
       ]
      },
      {
       "output_type": "stream",
       "stream": "stdout",
       "text": [
        "[INFO    ]  >          |     \\\n"
       ]
      },
      {
       "output_type": "stream",
       "stream": "stdout",
       "text": [
        "[INFO    ]  >          |      |-  1      na       0.020     1.116       na           na    \n"
       ]
      },
      {
       "output_type": "stream",
       "stream": "stdout",
       "text": [
        "[INFO    ]  >          |      |-  2     0.020     0.022     1.128     1.71e-02       na    \n"
       ]
      },
      {
       "output_type": "stream",
       "stream": "stdout",
       "text": [
        "[INFO    ]  >          |      |-  3     0.022     0.025     1.151     4.74e-02       na    \n"
       ]
      },
      {
       "output_type": "stream",
       "stream": "stdout",
       "text": [
        "[INFO    ]  >          |      |-  4     0.025     0.028     1.176     7.45e-02       na    \n"
       ]
      },
      {
       "output_type": "stream",
       "stream": "stdout",
       "text": [
        "[INFO    ]  >          |      |-  5     0.028     0.030     1.191     8.85e-02       na    \n"
       ]
      },
      {
       "output_type": "stream",
       "stream": "stdout",
       "text": [
        "[INFO    ] >>          |      \\_\n"
       ]
      },
      {
       "output_type": "stream",
       "stream": "stderr",
       "text": [
        "[2014-05-23 14:21] DEBUG: PyPinT Logging: Skipping computation of reduction: No previous iteration available.\n"
       ]
      },
      {
       "output_type": "stream",
       "stream": "stdout",
       "text": [
        "[INFO    ] !>          \\_      na           na           na         0.597\n"
       ]
      },
      {
       "output_type": "stream",
       "stream": "stderr",
       "text": [
        "[2014-05-23 14:21] DEBUG: PyPinT Logging: Work Loop: 32\n"
       ]
      },
      {
       "output_type": "stream",
       "stream": "stderr",
       "text": [
        "[2014-05-23 14:21] DEBUG: PyPinT Logging: Next Iteration\n"
       ]
      },
      {
       "output_type": "stream",
       "stream": "stderr",
       "text": [
        "[2014-05-23 14:21] DEBUG: PyPinT Logging: Starting New Solver Main Loop\n"
       ]
      },
      {
       "output_type": "stream",
       "stream": "stdout",
       "text": [
        "[INFO    ] !>        2\n"
       ]
      },
      {
       "output_type": "stream",
       "stream": "stdout",
       "text": [
        "[INFO    ] >>         \\\n"
       ]
      },
      {
       "output_type": "stream",
       "stream": "stdout",
       "text": [
        "[INFO    ] >>          |-   1     0.020     0.030     0.010\n"
       ]
      },
      {
       "output_type": "stream",
       "stream": "stdout",
       "text": [
        "[INFO    ]  >          |     \\\n"
       ]
      },
      {
       "output_type": "stream",
       "stream": "stdout",
       "text": [
        "[INFO    ]  >          |      |-  1      na       0.020     1.116       na           na    \n"
       ]
      },
      {
       "output_type": "stream",
       "stream": "stdout",
       "text": [
        "[INFO    ]  >          |      |-  2     0.020     0.022     1.128     2.17e-02       na    \n"
       ]
      },
      {
       "output_type": "stream",
       "stream": "stdout",
       "text": [
        "[INFO    ]  >          |      |-  3     0.022     0.025     1.153     5.99e-02       na    \n"
       ]
      },
      {
       "output_type": "stream",
       "stream": "stdout",
       "text": [
        "[INFO    ]  >          |      |-  4     0.025     0.028     1.180     9.22e-02       na    \n"
       ]
      },
      {
       "output_type": "stream",
       "stream": "stdout",
       "text": [
        "[INFO    ]  >          |      |-  5     0.028     0.030     1.196     1.05e-01       na    \n"
       ]
      },
      {
       "output_type": "stream",
       "stream": "stdout",
       "text": [
        "[INFO    ] >>          |      \\_\n"
       ]
      },
      {
       "output_type": "stream",
       "stream": "stdout",
       "text": [
        "[INFO    ] !>          \\_    3.98e-01       na         2.17e-02     0.506\n"
       ]
      },
      {
       "output_type": "stream",
       "stream": "stderr",
       "text": [
        "[2014-05-23 14:21] DEBUG: PyPinT Logging: Work Loop: 33\n"
       ]
      },
      {
       "output_type": "stream",
       "stream": "stderr",
       "text": [
        "[2014-05-23 14:21] DEBUG: PyPinT Logging: Next Iteration\n"
       ]
      },
      {
       "output_type": "stream",
       "stream": "stderr",
       "text": [
        "[2014-05-23 14:21] DEBUG: PyPinT Logging: Starting New Solver Main Loop\n"
       ]
      },
      {
       "output_type": "stream",
       "stream": "stdout",
       "text": [
        "[INFO    ] !>        3\n"
       ]
      },
      {
       "output_type": "stream",
       "stream": "stdout",
       "text": [
        "[INFO    ] >>         \\\n"
       ]
      },
      {
       "output_type": "stream",
       "stream": "stdout",
       "text": [
        "[INFO    ] >>          |-   1     0.020     0.030     0.010\n"
       ]
      },
      {
       "output_type": "stream",
       "stream": "stdout",
       "text": [
        "[INFO    ]  >          |     \\\n"
       ]
      },
      {
       "output_type": "stream",
       "stream": "stdout",
       "text": [
        "[INFO    ]  >          |      |-  1      na       0.020     1.116       na           na    \n"
       ]
      },
      {
       "output_type": "stream",
       "stream": "stdout",
       "text": [
        "[INFO    ]  >          |      |-  2     0.020     0.022     1.128     2.50e-02       na    \n"
       ]
      },
      {
       "output_type": "stream",
       "stream": "stdout",
       "text": [
        "[INFO    ]  >          |      |-  3     0.022     0.025     1.153     6.66e-02       na    \n"
       ]
      },
      {
       "output_type": "stream",
       "stream": "stdout",
       "text": [
        "[INFO    ]  >          |      |-  4     0.025     0.028     1.181     9.88e-02       na    \n"
       ]
      },
      {
       "output_type": "stream",
       "stream": "stdout",
       "text": [
        "[INFO    ]  >          |      |-  5     0.028     0.030     1.197     1.09e-01       na    \n"
       ]
      },
      {
       "output_type": "stream",
       "stream": "stdout",
       "text": [
        "[INFO    ] >>          |      \\_\n"
       ]
      },
      {
       "output_type": "stream",
       "stream": "stdout",
       "text": [
        "[INFO    ] !>          \\_    1.37e-01       na         2.50e-02     0.461\n"
       ]
      },
      {
       "output_type": "stream",
       "stream": "stderr",
       "text": [
        "[2014-05-23 14:21] DEBUG: PyPinT Logging: Work Loop: 34\n"
       ]
      },
      {
       "output_type": "stream",
       "stream": "stderr",
       "text": [
        "[2014-05-23 14:21] DEBUG: PyPinT Logging: Next Iteration\n"
       ]
      },
      {
       "output_type": "stream",
       "stream": "stderr",
       "text": [
        "[2014-05-23 14:21] DEBUG: PyPinT Logging: Starting New Solver Main Loop\n"
       ]
      },
      {
       "output_type": "stream",
       "stream": "stdout",
       "text": [
        "[INFO    ] !>        4\n"
       ]
      },
      {
       "output_type": "stream",
       "stream": "stdout",
       "text": [
        "[INFO    ] >>         \\\n"
       ]
      },
      {
       "output_type": "stream",
       "stream": "stdout",
       "text": [
        "[INFO    ] >>          |-   1     0.020     0.030     0.010\n"
       ]
      },
      {
       "output_type": "stream",
       "stream": "stdout",
       "text": [
        "[INFO    ]  >          |     \\\n"
       ]
      },
      {
       "output_type": "stream",
       "stream": "stdout",
       "text": [
        "[INFO    ]  >          |      |-  1      na       0.020     1.116       na           na    \n"
       ]
      },
      {
       "output_type": "stream",
       "stream": "stdout",
       "text": [
        "[INFO    ]  >          |      |-  2     0.020     0.022     1.128     2.64e-02       na    \n"
       ]
      },
      {
       "output_type": "stream",
       "stream": "stdout",
       "text": [
        "[INFO    ]  >          |      |-  3     0.022     0.025     1.153     6.91e-02       na    \n"
       ]
      },
      {
       "output_type": "stream",
       "stream": "stdout",
       "text": [
        "[INFO    ]  >          |      |-  4     0.025     0.028     1.181     1.00e-01       na    \n"
       ]
      },
      {
       "output_type": "stream",
       "stream": "stdout",
       "text": [
        "[INFO    ]  >          |      |-  5     0.028     0.030     1.198     1.11e-01       na    \n"
       ]
      },
      {
       "output_type": "stream",
       "stream": "stdout",
       "text": [
        "[INFO    ] >>          |      \\_\n"
       ]
      },
      {
       "output_type": "stream",
       "stream": "stdout",
       "text": [
        "[INFO    ] !>          \\_    6.82e-02       na         2.64e-02     0.441\n"
       ]
      },
      {
       "output_type": "stream",
       "stream": "stderr",
       "text": [
        "[2014-05-23 14:21] DEBUG: PyPinT Logging: Work Loop: 35\n"
       ]
      },
      {
       "output_type": "stream",
       "stream": "stderr",
       "text": [
        "[2014-05-23 14:21] DEBUG: PyPinT Logging: Next Iteration\n"
       ]
      },
      {
       "output_type": "stream",
       "stream": "stderr",
       "text": [
        "[2014-05-23 14:21] DEBUG: PyPinT Logging: Starting New Solver Main Loop\n"
       ]
      },
      {
       "output_type": "stream",
       "stream": "stdout",
       "text": [
        "[INFO    ] !>        5\n"
       ]
      },
      {
       "output_type": "stream",
       "stream": "stdout",
       "text": [
        "[INFO    ] >>         \\\n"
       ]
      },
      {
       "output_type": "stream",
       "stream": "stdout",
       "text": [
        "[INFO    ] >>          |-   1     0.020     0.030     0.010\n"
       ]
      },
      {
       "output_type": "stream",
       "stream": "stdout",
       "text": [
        "[INFO    ]  >          |     \\\n"
       ]
      },
      {
       "output_type": "stream",
       "stream": "stdout",
       "text": [
        "[INFO    ]  >          |      |-  1      na       0.020     1.116       na           na    \n"
       ]
      },
      {
       "output_type": "stream",
       "stream": "stdout",
       "text": [
        "[INFO    ]  >          |      |-  2     0.020     0.022     1.128     2.69e-02       na    \n"
       ]
      },
      {
       "output_type": "stream",
       "stream": "stdout",
       "text": [
        "[INFO    ]  >          |      |-  3     0.022     0.025     1.153     6.98e-02       na    \n"
       ]
      },
      {
       "output_type": "stream",
       "stream": "stdout",
       "text": [
        "[INFO    ]  >          |      |-  4     0.025     0.028     1.182     1.00e-01       na    \n"
       ]
      },
      {
       "output_type": "stream",
       "stream": "stdout",
       "text": [
        "[INFO    ]  >          |      |-  5     0.028     0.030     1.199     1.11e-01       na    \n"
       ]
      },
      {
       "output_type": "stream",
       "stream": "stdout",
       "text": [
        "[INFO    ] >>          |      \\_\n"
       ]
      },
      {
       "output_type": "stream",
       "stream": "stdout",
       "text": [
        "[INFO    ] !>          \\_    3.70e-02       na         2.69e-02     0.447\n"
       ]
      },
      {
       "output_type": "stream",
       "stream": "stderr",
       "text": [
        "[2014-05-23 14:21] DEBUG: PyPinT Logging: Work Loop: 36\n"
       ]
      },
      {
       "output_type": "stream",
       "stream": "stderr",
       "text": [
        "[2014-05-23 14:21] DEBUG: PyPinT Logging: Next Iteration\n"
       ]
      },
      {
       "output_type": "stream",
       "stream": "stderr",
       "text": [
        "[2014-05-23 14:21] DEBUG: PyPinT Logging: Starting New Solver Main Loop\n"
       ]
      },
      {
       "output_type": "stream",
       "stream": "stdout",
       "text": [
        "[INFO    ] !>        6\n"
       ]
      },
      {
       "output_type": "stream",
       "stream": "stdout",
       "text": [
        "[INFO    ] >>         \\\n"
       ]
      },
      {
       "output_type": "stream",
       "stream": "stdout",
       "text": [
        "[INFO    ] >>          |-   1     0.020     0.030     0.010\n"
       ]
      },
      {
       "output_type": "stream",
       "stream": "stdout",
       "text": [
        "[INFO    ]  >          |     \\\n"
       ]
      },
      {
       "output_type": "stream",
       "stream": "stdout",
       "text": [
        "[INFO    ]  >          |      |-  1      na       0.020     1.116       na           na    \n"
       ]
      },
      {
       "output_type": "stream",
       "stream": "stdout",
       "text": [
        "[INFO    ]  >          |      |-  2     0.020     0.022     1.128     2.70e-02       na    \n"
       ]
      },
      {
       "output_type": "stream",
       "stream": "stdout",
       "text": [
        "[INFO    ]  >          |      |-  3     0.022     0.025     1.153     6.99e-02       na    \n"
       ]
      },
      {
       "output_type": "stream",
       "stream": "stdout",
       "text": [
        "[INFO    ]  >          |      |-  4     0.025     0.028     1.182     1.00e-01       na    \n"
       ]
      },
      {
       "output_type": "stream",
       "stream": "stdout",
       "text": [
        "[INFO    ]  >          |      |-  5     0.028     0.030     1.199     1.12e-01       na    \n"
       ]
      },
      {
       "output_type": "stream",
       "stream": "stdout",
       "text": [
        "[INFO    ] >>          |      \\_\n"
       ]
      },
      {
       "output_type": "stream",
       "stream": "stdout",
       "text": [
        "[INFO    ] !>          \\_    2.05e-02       na         2.70e-02     0.388\n"
       ]
      },
      {
       "output_type": "stream",
       "stream": "stderr",
       "text": [
        "[2014-05-23 14:21] DEBUG: PyPinT Logging: Work Loop: 37\n"
       ]
      },
      {
       "output_type": "stream",
       "stream": "stderr",
       "text": [
        "[2014-05-23 14:21] DEBUG: PyPinT Logging: Next Iteration\n"
       ]
      },
      {
       "output_type": "stream",
       "stream": "stderr",
       "text": [
        "[2014-05-23 14:21] DEBUG: PyPinT Logging: Starting New Solver Main Loop\n"
       ]
      },
      {
       "output_type": "stream",
       "stream": "stdout",
       "text": [
        "[INFO    ] !>        7\n"
       ]
      },
      {
       "output_type": "stream",
       "stream": "stdout",
       "text": [
        "[INFO    ] >>         \\\n"
       ]
      },
      {
       "output_type": "stream",
       "stream": "stdout",
       "text": [
        "[INFO    ] >>          |-   1     0.020     0.030     0.010\n"
       ]
      },
      {
       "output_type": "stream",
       "stream": "stdout",
       "text": [
        "[INFO    ]  >          |     \\\n"
       ]
      },
      {
       "output_type": "stream",
       "stream": "stdout",
       "text": [
        "[INFO    ]  >          |      |-  1      na       0.020     1.116       na           na    \n"
       ]
      },
      {
       "output_type": "stream",
       "stream": "stdout",
       "text": [
        "[INFO    ]  >          |      |-  2     0.020     0.022     1.128     2.71e-02       na    \n"
       ]
      },
      {
       "output_type": "stream",
       "stream": "stdout",
       "text": [
        "[INFO    ]  >          |      |-  3     0.022     0.025     1.153     6.98e-02       na    \n"
       ]
      },
      {
       "output_type": "stream",
       "stream": "stdout",
       "text": [
        "[INFO    ]  >          |      |-  4     0.025     0.028     1.182     1.00e-01       na    \n"
       ]
      },
      {
       "output_type": "stream",
       "stream": "stdout",
       "text": [
        "[INFO    ]  >          |      |-  5     0.028     0.030     1.199     1.12e-01       na    \n"
       ]
      },
      {
       "output_type": "stream",
       "stream": "stdout",
       "text": [
        "[INFO    ] >>          |      \\_\n"
       ]
      },
      {
       "output_type": "stream",
       "stream": "stdout",
       "text": [
        "[INFO    ] !>          \\_    1.15e-02       na         2.71e-02     0.320\n"
       ]
      },
      {
       "output_type": "stream",
       "stream": "stderr",
       "text": [
        "[2014-05-23 14:21] DEBUG: PyPinT Logging: Work Loop: 38\n"
       ]
      },
      {
       "output_type": "stream",
       "stream": "stderr",
       "text": [
        "[2014-05-23 14:21] DEBUG: PyPinT Logging: Next Iteration\n"
       ]
      },
      {
       "output_type": "stream",
       "stream": "stderr",
       "text": [
        "[2014-05-23 14:21] DEBUG: PyPinT Logging: Starting New Solver Main Loop\n"
       ]
      },
      {
       "output_type": "stream",
       "stream": "stdout",
       "text": [
        "[INFO    ] !>        8\n"
       ]
      },
      {
       "output_type": "stream",
       "stream": "stdout",
       "text": [
        "[INFO    ] >>         \\\n"
       ]
      },
      {
       "output_type": "stream",
       "stream": "stdout",
       "text": [
        "[INFO    ] >>          |-   1     0.020     0.030     0.010\n"
       ]
      },
      {
       "output_type": "stream",
       "stream": "stdout",
       "text": [
        "[INFO    ]  >          |     \\\n"
       ]
      },
      {
       "output_type": "stream",
       "stream": "stdout",
       "text": [
        "[INFO    ]  >          |      |-  1      na       0.020     1.116       na           na    \n"
       ]
      },
      {
       "output_type": "stream",
       "stream": "stdout",
       "text": [
        "[INFO    ]  >          |      |-  2     0.020     0.022     1.128     2.71e-02       na    \n"
       ]
      },
      {
       "output_type": "stream",
       "stream": "stdout",
       "text": [
        "[INFO    ]  >          |      |-  3     0.022     0.025     1.153     6.98e-02       na    \n"
       ]
      },
      {
       "output_type": "stream",
       "stream": "stdout",
       "text": [
        "[INFO    ]  >          |      |-  4     0.025     0.028     1.182     1.01e-01       na    \n"
       ]
      },
      {
       "output_type": "stream",
       "stream": "stdout",
       "text": [
        "[INFO    ]  >          |      |-  5     0.028     0.030     1.199     1.12e-01       na    \n"
       ]
      },
      {
       "output_type": "stream",
       "stream": "stdout",
       "text": [
        "[INFO    ] >>          |      \\_\n"
       ]
      },
      {
       "output_type": "stream",
       "stream": "stdout",
       "text": [
        "[INFO    ] !>          \\_    6.63e-03       na         2.71e-02     0.321\n"
       ]
      },
      {
       "output_type": "stream",
       "stream": "stderr",
       "text": [
        "[2014-05-23 14:21] DEBUG: PyPinT Logging: Work Loop: 39\n"
       ]
      },
      {
       "output_type": "stream",
       "stream": "stderr",
       "text": [
        "[2014-05-23 14:21] DEBUG: PyPinT Logging: Next Iteration\n"
       ]
      },
      {
       "output_type": "stream",
       "stream": "stderr",
       "text": [
        "[2014-05-23 14:21] DEBUG: PyPinT Logging: Starting New Solver Main Loop\n"
       ]
      },
      {
       "output_type": "stream",
       "stream": "stdout",
       "text": [
        "[INFO    ] !>        9\n"
       ]
      },
      {
       "output_type": "stream",
       "stream": "stdout",
       "text": [
        "[INFO    ] >>         \\\n"
       ]
      },
      {
       "output_type": "stream",
       "stream": "stdout",
       "text": [
        "[INFO    ] >>          |-   1     0.020     0.030     0.010\n"
       ]
      },
      {
       "output_type": "stream",
       "stream": "stdout",
       "text": [
        "[INFO    ]  >          |     \\\n"
       ]
      },
      {
       "output_type": "stream",
       "stream": "stdout",
       "text": [
        "[INFO    ]  >          |      |-  1      na       0.020     1.116       na           na    \n"
       ]
      },
      {
       "output_type": "stream",
       "stream": "stdout",
       "text": [
        "[INFO    ]  >          |      |-  2     0.020     0.022     1.128     2.71e-02       na    \n"
       ]
      },
      {
       "output_type": "stream",
       "stream": "stdout",
       "text": [
        "[INFO    ]  >          |      |-  3     0.022     0.025     1.153     6.98e-02       na    \n"
       ]
      },
      {
       "output_type": "stream",
       "stream": "stdout",
       "text": [
        "[INFO    ]  >          |      |-  4     0.025     0.028     1.182     1.01e-01       na    \n"
       ]
      },
      {
       "output_type": "stream",
       "stream": "stdout",
       "text": [
        "[INFO    ]  >          |      |-  5     0.028     0.030     1.199     1.12e-01       na    \n"
       ]
      },
      {
       "output_type": "stream",
       "stream": "stdout",
       "text": [
        "[INFO    ] >>          |      \\_\n"
       ]
      },
      {
       "output_type": "stream",
       "stream": "stdout",
       "text": [
        "[INFO    ] !>          \\_    3.84e-03       na         2.71e-02     0.336\n"
       ]
      },
      {
       "output_type": "stream",
       "stream": "stderr",
       "text": [
        "[2014-05-23 14:21] DEBUG: PyPinT Logging: Work Loop: 40\n"
       ]
      },
      {
       "output_type": "stream",
       "stream": "stderr",
       "text": [
        "[2014-05-23 14:21] DEBUG: PyPinT Logging: Next Iteration\n"
       ]
      },
      {
       "output_type": "stream",
       "stream": "stderr",
       "text": [
        "[2014-05-23 14:21] DEBUG: PyPinT Logging: Starting New Solver Main Loop\n"
       ]
      },
      {
       "output_type": "stream",
       "stream": "stdout",
       "text": [
        "[INFO    ] !>       10\n"
       ]
      },
      {
       "output_type": "stream",
       "stream": "stdout",
       "text": [
        "[INFO    ] >>         \\\n"
       ]
      },
      {
       "output_type": "stream",
       "stream": "stdout",
       "text": [
        "[INFO    ] >>          |-   1     0.020     0.030     0.010\n"
       ]
      },
      {
       "output_type": "stream",
       "stream": "stdout",
       "text": [
        "[INFO    ]  >          |     \\\n"
       ]
      },
      {
       "output_type": "stream",
       "stream": "stdout",
       "text": [
        "[INFO    ]  >          |      |-  1      na       0.020     1.116       na           na    \n"
       ]
      },
      {
       "output_type": "stream",
       "stream": "stdout",
       "text": [
        "[INFO    ]  >          |      |-  2     0.020     0.022     1.128     2.71e-02       na    \n"
       ]
      },
      {
       "output_type": "stream",
       "stream": "stdout",
       "text": [
        "[INFO    ]  >          |      |-  3     0.022     0.025     1.153     6.98e-02       na    \n"
       ]
      },
      {
       "output_type": "stream",
       "stream": "stdout",
       "text": [
        "[INFO    ]  >          |      |-  4     0.025     0.028     1.182     1.01e-01       na    \n"
       ]
      },
      {
       "output_type": "stream",
       "stream": "stdout",
       "text": [
        "[INFO    ]  >          |      |-  5     0.028     0.030     1.199     1.12e-01       na    \n"
       ]
      },
      {
       "output_type": "stream",
       "stream": "stdout",
       "text": [
        "[INFO    ] >>          |      \\_\n"
       ]
      },
      {
       "output_type": "stream",
       "stream": "stdout",
       "text": [
        "[INFO    ] !>          \\_    2.21e-03       na         2.71e-02     0.275\n"
       ]
      },
      {
       "output_type": "stream",
       "stream": "stderr",
       "text": [
        "[2014-05-23 14:21] DEBUG: PyPinT Logging: Work Loop: 41\n"
       ]
      },
      {
       "output_type": "stream",
       "stream": "stderr",
       "text": [
        "[2014-05-23 14:21] DEBUG: PyPinT Logging: Next Iteration\n"
       ]
      },
      {
       "output_type": "stream",
       "stream": "stderr",
       "text": [
        "[2014-05-23 14:21] DEBUG: PyPinT Logging: Starting New Solver Main Loop\n"
       ]
      },
      {
       "output_type": "stream",
       "stream": "stdout",
       "text": [
        "[INFO    ] !>       11\n"
       ]
      },
      {
       "output_type": "stream",
       "stream": "stdout",
       "text": [
        "[INFO    ] >>         \\\n"
       ]
      },
      {
       "output_type": "stream",
       "stream": "stdout",
       "text": [
        "[INFO    ] >>          |-   1     0.020     0.030     0.010\n"
       ]
      },
      {
       "output_type": "stream",
       "stream": "stdout",
       "text": [
        "[INFO    ]  >          |     \\\n"
       ]
      },
      {
       "output_type": "stream",
       "stream": "stdout",
       "text": [
        "[INFO    ]  >          |      |-  1      na       0.020     1.116       na           na    \n"
       ]
      },
      {
       "output_type": "stream",
       "stream": "stdout",
       "text": [
        "[INFO    ]  >          |      |-  2     0.020     0.022     1.128     2.71e-02       na    \n"
       ]
      },
      {
       "output_type": "stream",
       "stream": "stdout",
       "text": [
        "[INFO    ]  >          |      |-  3     0.022     0.025     1.153     6.98e-02       na    \n"
       ]
      },
      {
       "output_type": "stream",
       "stream": "stdout",
       "text": [
        "[INFO    ]  >          |      |-  4     0.025     0.028     1.182     1.01e-01       na    \n"
       ]
      },
      {
       "output_type": "stream",
       "stream": "stdout",
       "text": [
        "[INFO    ]  >          |      |-  5     0.028     0.030     1.199     1.12e-01       na    \n"
       ]
      },
      {
       "output_type": "stream",
       "stream": "stdout",
       "text": [
        "[INFO    ] >>          |      \\_\n"
       ]
      },
      {
       "output_type": "stream",
       "stream": "stdout",
       "text": [
        "[INFO    ] !>          \\_    1.25e-03       na         2.71e-02     0.270\n"
       ]
      },
      {
       "output_type": "stream",
       "stream": "stderr",
       "text": [
        "[2014-05-23 14:21] DEBUG: PyPinT Logging: Work Loop: 42\n"
       ]
      },
      {
       "output_type": "stream",
       "stream": "stderr",
       "text": [
        "[2014-05-23 14:21] DEBUG: PyPinT Logging: Next Iteration\n"
       ]
      },
      {
       "output_type": "stream",
       "stream": "stderr",
       "text": [
        "[2014-05-23 14:21] DEBUG: PyPinT Logging: Starting New Solver Main Loop\n"
       ]
      },
      {
       "output_type": "stream",
       "stream": "stdout",
       "text": [
        "[INFO    ] !>       12\n"
       ]
      },
      {
       "output_type": "stream",
       "stream": "stdout",
       "text": [
        "[INFO    ] >>         \\\n"
       ]
      },
      {
       "output_type": "stream",
       "stream": "stdout",
       "text": [
        "[INFO    ] >>          |-   1     0.020     0.030     0.010\n"
       ]
      },
      {
       "output_type": "stream",
       "stream": "stdout",
       "text": [
        "[INFO    ]  >          |     \\\n"
       ]
      },
      {
       "output_type": "stream",
       "stream": "stdout",
       "text": [
        "[INFO    ]  >          |      |-  1      na       0.020     1.116       na           na    \n"
       ]
      },
      {
       "output_type": "stream",
       "stream": "stdout",
       "text": [
        "[INFO    ]  >          |      |-  2     0.020     0.022     1.128     2.71e-02       na    \n"
       ]
      },
      {
       "output_type": "stream",
       "stream": "stdout",
       "text": [
        "[INFO    ]  >          |      |-  3     0.022     0.025     1.153     6.98e-02       na    \n"
       ]
      },
      {
       "output_type": "stream",
       "stream": "stdout",
       "text": [
        "[INFO    ]  >          |      |-  4     0.025     0.028     1.182     1.01e-01       na    \n"
       ]
      },
      {
       "output_type": "stream",
       "stream": "stdout",
       "text": [
        "[INFO    ]  >          |      |-  5     0.028     0.030     1.199     1.12e-01       na    \n"
       ]
      },
      {
       "output_type": "stream",
       "stream": "stdout",
       "text": [
        "[INFO    ] >>          |      \\_\n"
       ]
      },
      {
       "output_type": "stream",
       "stream": "stdout",
       "text": [
        "[INFO    ] !>          \\_    6.92e-04       na         2.71e-02     0.277\n"
       ]
      },
      {
       "output_type": "stream",
       "stream": "stderr",
       "text": [
        "[2014-05-23 14:21] DEBUG: PyPinT Logging: Work Loop: 43\n"
       ]
      },
      {
       "output_type": "stream",
       "stream": "stderr",
       "text": [
        "[2014-05-23 14:21] DEBUG: PyPinT Logging: Next Iteration\n"
       ]
      },
      {
       "output_type": "stream",
       "stream": "stderr",
       "text": [
        "[2014-05-23 14:21] DEBUG: PyPinT Logging: Starting New Solver Main Loop\n"
       ]
      },
      {
       "output_type": "stream",
       "stream": "stdout",
       "text": [
        "[INFO    ] !>       13\n"
       ]
      },
      {
       "output_type": "stream",
       "stream": "stdout",
       "text": [
        "[INFO    ] >>         \\\n"
       ]
      },
      {
       "output_type": "stream",
       "stream": "stdout",
       "text": [
        "[INFO    ] >>          |-   1     0.020     0.030     0.010\n"
       ]
      },
      {
       "output_type": "stream",
       "stream": "stdout",
       "text": [
        "[INFO    ]  >          |     \\\n"
       ]
      },
      {
       "output_type": "stream",
       "stream": "stdout",
       "text": [
        "[INFO    ]  >          |      |-  1      na       0.020     1.116       na           na    \n"
       ]
      },
      {
       "output_type": "stream",
       "stream": "stdout",
       "text": [
        "[INFO    ]  >          |      |-  2     0.020     0.022     1.128     2.71e-02       na    \n"
       ]
      },
      {
       "output_type": "stream",
       "stream": "stdout",
       "text": [
        "[INFO    ]  >          |      |-  3     0.022     0.025     1.153     6.98e-02       na    \n"
       ]
      },
      {
       "output_type": "stream",
       "stream": "stdout",
       "text": [
        "[INFO    ]  >          |      |-  4     0.025     0.028     1.182     1.01e-01       na    \n"
       ]
      },
      {
       "output_type": "stream",
       "stream": "stdout",
       "text": [
        "[INFO    ]  >          |      |-  5     0.028     0.030     1.199     1.12e-01       na    \n"
       ]
      },
      {
       "output_type": "stream",
       "stream": "stdout",
       "text": [
        "[INFO    ] >>          |      \\_\n"
       ]
      },
      {
       "output_type": "stream",
       "stream": "stdout",
       "text": [
        "[INFO    ] !>          \\_    3.78e-04       na         2.71e-02     0.274\n"
       ]
      },
      {
       "output_type": "stream",
       "stream": "stderr",
       "text": [
        "[2014-05-23 14:21] DEBUG: PyPinT Logging: Work Loop: 44\n"
       ]
      },
      {
       "output_type": "stream",
       "stream": "stderr",
       "text": [
        "[2014-05-23 14:21] DEBUG: PyPinT Logging: Next Iteration\n"
       ]
      },
      {
       "output_type": "stream",
       "stream": "stderr",
       "text": [
        "[2014-05-23 14:21] DEBUG: PyPinT Logging: Starting New Solver Main Loop\n"
       ]
      },
      {
       "output_type": "stream",
       "stream": "stdout",
       "text": [
        "[INFO    ] !>       14\n"
       ]
      },
      {
       "output_type": "stream",
       "stream": "stdout",
       "text": [
        "[INFO    ] >>         \\\n"
       ]
      },
      {
       "output_type": "stream",
       "stream": "stdout",
       "text": [
        "[INFO    ] >>          |-   1     0.020     0.030     0.010\n"
       ]
      },
      {
       "output_type": "stream",
       "stream": "stdout",
       "text": [
        "[INFO    ]  >          |     \\\n"
       ]
      },
      {
       "output_type": "stream",
       "stream": "stdout",
       "text": [
        "[INFO    ]  >          |      |-  1      na       0.020     1.116       na           na    \n"
       ]
      },
      {
       "output_type": "stream",
       "stream": "stdout",
       "text": [
        "[INFO    ]  >          |      |-  2     0.020     0.022     1.128     2.71e-02       na    \n"
       ]
      },
      {
       "output_type": "stream",
       "stream": "stdout",
       "text": [
        "[INFO    ]  >          |      |-  3     0.022     0.025     1.153     6.98e-02       na    \n"
       ]
      },
      {
       "output_type": "stream",
       "stream": "stdout",
       "text": [
        "[INFO    ]  >          |      |-  4     0.025     0.028     1.182     1.01e-01       na    \n"
       ]
      },
      {
       "output_type": "stream",
       "stream": "stdout",
       "text": [
        "[INFO    ]  >          |      |-  5     0.028     0.030     1.199     1.12e-01       na    \n"
       ]
      },
      {
       "output_type": "stream",
       "stream": "stdout",
       "text": [
        "[INFO    ] >>          |      \\_\n"
       ]
      },
      {
       "output_type": "stream",
       "stream": "stdout",
       "text": [
        "[INFO    ] !>          \\_    2.06e-04       na         2.71e-02     0.272\n"
       ]
      },
      {
       "output_type": "stream",
       "stream": "stderr",
       "text": [
        "[2014-05-23 14:21] DEBUG: PyPinT Logging: Work Loop: 45\n"
       ]
      },
      {
       "output_type": "stream",
       "stream": "stderr",
       "text": [
        "[2014-05-23 14:21] DEBUG: PyPinT Logging: Next Iteration\n"
       ]
      },
      {
       "output_type": "stream",
       "stream": "stderr",
       "text": [
        "[2014-05-23 14:21] DEBUG: PyPinT Logging: Starting New Solver Main Loop\n"
       ]
      },
      {
       "output_type": "stream",
       "stream": "stdout",
       "text": [
        "[INFO    ] !>       15\n"
       ]
      },
      {
       "output_type": "stream",
       "stream": "stdout",
       "text": [
        "[INFO    ] >>         \\\n"
       ]
      },
      {
       "output_type": "stream",
       "stream": "stdout",
       "text": [
        "[INFO    ] >>          |-   1     0.020     0.030     0.010\n"
       ]
      },
      {
       "output_type": "stream",
       "stream": "stdout",
       "text": [
        "[INFO    ]  >          |     \\\n"
       ]
      },
      {
       "output_type": "stream",
       "stream": "stdout",
       "text": [
        "[INFO    ]  >          |      |-  1      na       0.020     1.116       na           na    \n"
       ]
      },
      {
       "output_type": "stream",
       "stream": "stdout",
       "text": [
        "[INFO    ]  >          |      |-  2     0.020     0.022     1.128     2.71e-02       na    \n"
       ]
      },
      {
       "output_type": "stream",
       "stream": "stdout",
       "text": [
        "[INFO    ]  >          |      |-  3     0.022     0.025     1.153     6.98e-02       na    \n"
       ]
      },
      {
       "output_type": "stream",
       "stream": "stdout",
       "text": [
        "[INFO    ]  >          |      |-  4     0.025     0.028     1.182     1.01e-01       na    \n"
       ]
      },
      {
       "output_type": "stream",
       "stream": "stdout",
       "text": [
        "[INFO    ]  >          |      |-  5     0.028     0.030     1.199     1.12e-01       na    \n"
       ]
      },
      {
       "output_type": "stream",
       "stream": "stdout",
       "text": [
        "[INFO    ] >>          |      \\_\n"
       ]
      },
      {
       "output_type": "stream",
       "stream": "stderr",
       "text": [
        "[2014-05-23 14:21] DEBUG: PyPinT Logging: Maximum of iterations exceeded: 15 >= 15\n"
       ]
      },
      {
       "output_type": "stream",
       "stream": "stdout",
       "text": [
        "[INFO    ] !>          \\_    1.14e-04       na         2.71e-02     0.265\n"
       ]
      },
      {
       "output_type": "stream",
       "stream": "stdout",
       "text": [
        "[INFO    ] !>   Converged after 15 iteration(s):\n"
       ]
      },
      {
       "output_type": "stream",
       "stream": "stdout",
       "text": [
        "[INFO    ] !>     Threshold condition(s) met:    iterations\n"
       ]
      },
      {
       "output_type": "stream",
       "stream": "stdout",
       "text": [
        "[INFO    ] !>     Final Residual:                1.121e-01\n"
       ]
      },
      {
       "output_type": "stream",
       "stream": "stdout",
       "text": [
        "[INFO    ] !>     Solution Reduction:            1.137e-04\n"
       ]
      },
      {
       "output_type": "stream",
       "stream": "stderr",
       "text": [
        "[2014-05-23 14:21] DEBUG: PyPinT Logging: Work Loop: 46\n"
       ]
      },
      {
       "output_type": "stream",
       "stream": "stderr",
       "text": [
        "[2014-05-23 14:21] DEBUG: PyPinT Logging: Nodes: [0.03, 0.031726731646460116, 0.035, 0.038273268353539884, 0.04]\n"
       ]
      },
      {
       "output_type": "stream",
       "stream": "stderr",
       "text": [
        "[2014-05-23 14:21] DEBUG: PyPinT Logging: Nodes: [0.03, 0.031726731646460116, 0.035, 0.038273268353539884, 0.04]\n"
       ]
      },
      {
       "output_type": "stream",
       "stream": "stderr",
       "text": [
        "[2014-05-23 14:21] DEBUG: PyPinT Logging: New Interval Initialized\n"
       ]
      },
      {
       "output_type": "stream",
       "stream": "stdout",
       "text": [
        "[INFO    ] !> ................................................................................\n"
       ]
      },
      {
       "output_type": "stream",
       "stream": "stdout",
       "text": [
        "[INFO    ] !>   Interval: [0.030, 0.040]\n"
       ]
      },
      {
       "output_type": "stream",
       "stream": "stdout",
       "text": [
        "[INFO    ] !>    iter\n"
       ]
      },
      {
       "output_type": "stream",
       "stream": "stdout",
       "text": [
        "[INFO    ] >>         \\\n"
       ]
      },
      {
       "output_type": "stream",
       "stream": "stdout",
       "text": [
        "[INFO    ] >>          |- time    start     end        delta\n"
       ]
      },
      {
       "output_type": "stream",
       "stream": "stdout",
       "text": [
        "[INFO    ]  >          |     \\\n"
       ]
      },
      {
       "output_type": "stream",
       "stream": "stdout",
       "text": [
        "[INFO    ]  >          |      |- step    t_0      t_1       phi(t_1)    resid       err\n"
       ]
      },
      {
       "output_type": "stream",
       "stream": "stdout",
       "text": [
        "[INFO    ] >>          |      \\_\n"
       ]
      },
      {
       "output_type": "stream",
       "stream": "stdout",
       "text": [
        "[INFO    ] !>          \\_   sol r.red    err r.red      resid       time\n"
       ]
      },
      {
       "output_type": "stream",
       "stream": "stderr",
       "text": [
        "[2014-05-23 14:21] DEBUG: PyPinT Logging: Starting New Solver Main Loop\n"
       ]
      },
      {
       "output_type": "stream",
       "stream": "stdout",
       "text": [
        "[INFO    ] !>        1\n"
       ]
      },
      {
       "output_type": "stream",
       "stream": "stdout",
       "text": [
        "[INFO    ] >>         \\\n"
       ]
      },
      {
       "output_type": "stream",
       "stream": "stdout",
       "text": [
        "[INFO    ] >>          |-   1     0.030     0.040     0.010\n"
       ]
      },
      {
       "output_type": "stream",
       "stream": "stdout",
       "text": [
        "[INFO    ]  >          |     \\\n"
       ]
      },
      {
       "output_type": "stream",
       "stream": "stdout",
       "text": [
        "[INFO    ]  >          |      |-  1      na       0.030     1.191       na           na    \n"
       ]
      },
      {
       "output_type": "stream",
       "stream": "stdout",
       "text": [
        "[INFO    ]  >          |      |-  2     0.030     0.032     1.207     1.46e-02       na    \n"
       ]
      },
      {
       "output_type": "stream",
       "stream": "stdout",
       "text": [
        "[INFO    ]  >          |      |-  3     0.032     0.035     1.237     4.54e-02       na    \n"
       ]
      },
      {
       "output_type": "stream",
       "stream": "stdout",
       "text": [
        "[INFO    ]  >          |      |-  4     0.035     0.038     1.272     7.99e-02       na    \n"
       ]
      },
      {
       "output_type": "stream",
       "stream": "stdout",
       "text": [
        "[INFO    ]  >          |      |-  5     0.038     0.040     1.293     1.01e-01       na    \n"
       ]
      },
      {
       "output_type": "stream",
       "stream": "stdout",
       "text": [
        "[INFO    ] >>          |      \\_\n"
       ]
      },
      {
       "output_type": "stream",
       "stream": "stderr",
       "text": [
        "[2014-05-23 14:21] DEBUG: PyPinT Logging: Skipping computation of reduction: No previous iteration available.\n"
       ]
      },
      {
       "output_type": "stream",
       "stream": "stdout",
       "text": [
        "[INFO    ] !>          \\_      na           na           na         0.616\n"
       ]
      },
      {
       "output_type": "stream",
       "stream": "stderr",
       "text": [
        "[2014-05-23 14:21] DEBUG: PyPinT Logging: Work Loop: 47\n"
       ]
      },
      {
       "output_type": "stream",
       "stream": "stderr",
       "text": [
        "[2014-05-23 14:21] DEBUG: PyPinT Logging: Next Iteration\n"
       ]
      },
      {
       "output_type": "stream",
       "stream": "stderr",
       "text": [
        "[2014-05-23 14:21] DEBUG: PyPinT Logging: Starting New Solver Main Loop\n"
       ]
      },
      {
       "output_type": "stream",
       "stream": "stdout",
       "text": [
        "[INFO    ] !>        2\n"
       ]
      },
      {
       "output_type": "stream",
       "stream": "stdout",
       "text": [
        "[INFO    ] >>         \\\n"
       ]
      },
      {
       "output_type": "stream",
       "stream": "stdout",
       "text": [
        "[INFO    ] >>          |-   1     0.030     0.040     0.010\n"
       ]
      },
      {
       "output_type": "stream",
       "stream": "stdout",
       "text": [
        "[INFO    ]  >          |     \\\n"
       ]
      },
      {
       "output_type": "stream",
       "stream": "stdout",
       "text": [
        "[INFO    ]  >          |      |-  1      na       0.030     1.191       na           na    \n"
       ]
      },
      {
       "output_type": "stream",
       "stream": "stdout",
       "text": [
        "[INFO    ]  >          |      |-  2     0.030     0.032     1.207     1.89e-02       na    \n"
       ]
      },
      {
       "output_type": "stream",
       "stream": "stdout",
       "text": [
        "[INFO    ]  >          |      |-  3     0.032     0.035     1.241     4.92e-02       na    \n"
       ]
      },
      {
       "output_type": "stream",
       "stream": "stdout",
       "text": [
        "[INFO    ]  >          |      |-  4     0.035     0.038     1.281     8.88e-02       na    \n"
       ]
      },
      {
       "output_type": "stream",
       "stream": "stdout",
       "text": [
        "[INFO    ]  >          |      |-  5     0.038     0.040     1.306     1.14e-01       na    \n"
       ]
      },
      {
       "output_type": "stream",
       "stream": "stdout",
       "text": [
        "[INFO    ] >>          |      \\_\n"
       ]
      },
      {
       "output_type": "stream",
       "stream": "stdout",
       "text": [
        "[INFO    ] !>          \\_    9.83e-01       na         1.89e-02     0.491\n"
       ]
      },
      {
       "output_type": "stream",
       "stream": "stderr",
       "text": [
        "[2014-05-23 14:21] DEBUG: PyPinT Logging: Work Loop: 48\n"
       ]
      },
      {
       "output_type": "stream",
       "stream": "stderr",
       "text": [
        "[2014-05-23 14:21] DEBUG: PyPinT Logging: Next Iteration\n"
       ]
      },
      {
       "output_type": "stream",
       "stream": "stderr",
       "text": [
        "[2014-05-23 14:21] DEBUG: PyPinT Logging: Starting New Solver Main Loop\n"
       ]
      },
      {
       "output_type": "stream",
       "stream": "stdout",
       "text": [
        "[INFO    ] !>        3\n"
       ]
      },
      {
       "output_type": "stream",
       "stream": "stdout",
       "text": [
        "[INFO    ] >>         \\\n"
       ]
      },
      {
       "output_type": "stream",
       "stream": "stdout",
       "text": [
        "[INFO    ] >>          |-   1     0.030     0.040     0.010\n"
       ]
      },
      {
       "output_type": "stream",
       "stream": "stdout",
       "text": [
        "[INFO    ]  >          |     \\\n"
       ]
      },
      {
       "output_type": "stream",
       "stream": "stdout",
       "text": [
        "[INFO    ]  >          |      |-  1      na       0.030     1.191       na           na    \n"
       ]
      },
      {
       "output_type": "stream",
       "stream": "stdout",
       "text": [
        "[INFO    ]  >          |      |-  2     0.030     0.032     1.208     2.24e-02       na    \n"
       ]
      },
      {
       "output_type": "stream",
       "stream": "stdout",
       "text": [
        "[INFO    ]  >          |      |-  3     0.032     0.035     1.243     5.63e-02       na    \n"
       ]
      },
      {
       "output_type": "stream",
       "stream": "stdout",
       "text": [
        "[INFO    ]  >          |      |-  4     0.035     0.038     1.285     9.25e-02       na    \n"
       ]
      },
      {
       "output_type": "stream",
       "stream": "stdout",
       "text": [
        "[INFO    ]  >          |      |-  5     0.038     0.040     1.311     1.19e-01       na    \n"
       ]
      },
      {
       "output_type": "stream",
       "stream": "stdout",
       "text": [
        "[INFO    ] >>          |      \\_\n"
       ]
      },
      {
       "output_type": "stream",
       "stream": "stdout",
       "text": [
        "[INFO    ] !>          \\_    4.19e-01       na         2.24e-02     0.457\n"
       ]
      },
      {
       "output_type": "stream",
       "stream": "stderr",
       "text": [
        "[2014-05-23 14:21] DEBUG: PyPinT Logging: Work Loop: 49\n"
       ]
      },
      {
       "output_type": "stream",
       "stream": "stderr",
       "text": [
        "[2014-05-23 14:21] DEBUG: PyPinT Logging: Next Iteration\n"
       ]
      },
      {
       "output_type": "stream",
       "stream": "stderr",
       "text": [
        "[2014-05-23 14:21] DEBUG: PyPinT Logging: Starting New Solver Main Loop\n"
       ]
      },
      {
       "output_type": "stream",
       "stream": "stdout",
       "text": [
        "[INFO    ] !>        4\n"
       ]
      },
      {
       "output_type": "stream",
       "stream": "stdout",
       "text": [
        "[INFO    ] >>         \\\n"
       ]
      },
      {
       "output_type": "stream",
       "stream": "stdout",
       "text": [
        "[INFO    ] >>          |-   1     0.030     0.040     0.010\n"
       ]
      },
      {
       "output_type": "stream",
       "stream": "stdout",
       "text": [
        "[INFO    ]  >          |     \\\n"
       ]
      },
      {
       "output_type": "stream",
       "stream": "stdout",
       "text": [
        "[INFO    ]  >          |      |-  1      na       0.030     1.191       na           na    \n"
       ]
      },
      {
       "output_type": "stream",
       "stream": "stdout",
       "text": [
        "[INFO    ]  >          |      |-  2     0.030     0.032     1.208     2.42e-02       na    \n"
       ]
      },
      {
       "output_type": "stream",
       "stream": "stdout",
       "text": [
        "[INFO    ]  >          |      |-  3     0.032     0.035     1.243     5.93e-02       na    \n"
       ]
      },
      {
       "output_type": "stream",
       "stream": "stdout",
       "text": [
        "[INFO    ]  >          |      |-  4     0.035     0.038     1.287     9.45e-02       na    \n"
       ]
      },
      {
       "output_type": "stream",
       "stream": "stdout",
       "text": [
        "[INFO    ]  >          |      |-  5     0.038     0.040     1.314     1.22e-01       na    \n"
       ]
      },
      {
       "output_type": "stream",
       "stream": "stdout",
       "text": [
        "[INFO    ] >>          |      \\_\n"
       ]
      },
      {
       "output_type": "stream",
       "stream": "stdout",
       "text": [
        "[INFO    ] !>          \\_    2.28e-01       na         2.42e-02     0.438\n"
       ]
      },
      {
       "output_type": "stream",
       "stream": "stderr",
       "text": [
        "[2014-05-23 14:21] DEBUG: PyPinT Logging: Work Loop: 50\n"
       ]
      },
      {
       "output_type": "stream",
       "stream": "stderr",
       "text": [
        "[2014-05-23 14:21] DEBUG: PyPinT Logging: Next Iteration\n"
       ]
      },
      {
       "output_type": "stream",
       "stream": "stderr",
       "text": [
        "[2014-05-23 14:21] DEBUG: PyPinT Logging: Starting New Solver Main Loop\n"
       ]
      },
      {
       "output_type": "stream",
       "stream": "stdout",
       "text": [
        "[INFO    ] !>        5\n"
       ]
      },
      {
       "output_type": "stream",
       "stream": "stdout",
       "text": [
        "[INFO    ] >>         \\\n"
       ]
      },
      {
       "output_type": "stream",
       "stream": "stdout",
       "text": [
        "[INFO    ] >>          |-   1     0.030     0.040     0.010\n"
       ]
      },
      {
       "output_type": "stream",
       "stream": "stdout",
       "text": [
        "[INFO    ]  >          |     \\\n"
       ]
      },
      {
       "output_type": "stream",
       "stream": "stdout",
       "text": [
        "[INFO    ]  >          |      |-  1      na       0.030     1.191       na           na    \n"
       ]
      },
      {
       "output_type": "stream",
       "stream": "stdout",
       "text": [
        "[INFO    ]  >          |      |-  2     0.030     0.032     1.208     2.49e-02       na    \n"
       ]
      },
      {
       "output_type": "stream",
       "stream": "stdout",
       "text": [
        "[INFO    ]  >          |      |-  3     0.032     0.035     1.244     6.03e-02       na    \n"
       ]
      },
      {
       "output_type": "stream",
       "stream": "stdout",
       "text": [
        "[INFO    ]  >          |      |-  4     0.035     0.038     1.288     9.57e-02       na    \n"
       ]
      },
      {
       "output_type": "stream",
       "stream": "stdout",
       "text": [
        "[INFO    ]  >          |      |-  5     0.038     0.040     1.316     1.24e-01       na    \n"
       ]
      },
      {
       "output_type": "stream",
       "stream": "stdout",
       "text": [
        "[INFO    ] >>          |      \\_\n"
       ]
      },
      {
       "output_type": "stream",
       "stream": "stdout",
       "text": [
        "[INFO    ] !>          \\_    1.34e-01       na         2.49e-02     0.390\n"
       ]
      },
      {
       "output_type": "stream",
       "stream": "stderr",
       "text": [
        "[2014-05-23 14:21] DEBUG: PyPinT Logging: Work Loop: 51\n"
       ]
      },
      {
       "output_type": "stream",
       "stream": "stderr",
       "text": [
        "[2014-05-23 14:21] DEBUG: PyPinT Logging: Next Iteration\n"
       ]
      },
      {
       "output_type": "stream",
       "stream": "stderr",
       "text": [
        "[2014-05-23 14:21] DEBUG: PyPinT Logging: Starting New Solver Main Loop\n"
       ]
      },
      {
       "output_type": "stream",
       "stream": "stdout",
       "text": [
        "[INFO    ] !>        6\n"
       ]
      },
      {
       "output_type": "stream",
       "stream": "stdout",
       "text": [
        "[INFO    ] >>         \\\n"
       ]
      },
      {
       "output_type": "stream",
       "stream": "stdout",
       "text": [
        "[INFO    ] >>          |-   1     0.030     0.040     0.010\n"
       ]
      },
      {
       "output_type": "stream",
       "stream": "stdout",
       "text": [
        "[INFO    ]  >          |     \\\n"
       ]
      },
      {
       "output_type": "stream",
       "stream": "stdout",
       "text": [
        "[INFO    ]  >          |      |-  1      na       0.030     1.191       na           na    \n"
       ]
      },
      {
       "output_type": "stream",
       "stream": "stdout",
       "text": [
        "[INFO    ]  >          |      |-  2     0.030     0.032     1.208     2.52e-02       na    \n"
       ]
      },
      {
       "output_type": "stream",
       "stream": "stdout",
       "text": [
        "[INFO    ]  >          |      |-  3     0.032     0.035     1.244     6.05e-02       na    \n"
       ]
      },
      {
       "output_type": "stream",
       "stream": "stdout",
       "text": [
        "[INFO    ]  >          |      |-  4     0.035     0.038     1.289     9.65e-02       na    \n"
       ]
      },
      {
       "output_type": "stream",
       "stream": "stdout",
       "text": [
        "[INFO    ]  >          |      |-  5     0.038     0.040     1.317     1.25e-01       na    \n"
       ]
      },
      {
       "output_type": "stream",
       "stream": "stdout",
       "text": [
        "[INFO    ] >>          |      \\_\n"
       ]
      },
      {
       "output_type": "stream",
       "stream": "stdout",
       "text": [
        "[INFO    ] !>          \\_    8.06e-02       na         2.52e-02     0.388\n"
       ]
      },
      {
       "output_type": "stream",
       "stream": "stderr",
       "text": [
        "[2014-05-23 14:21] DEBUG: PyPinT Logging: Work Loop: 52\n"
       ]
      },
      {
       "output_type": "stream",
       "stream": "stderr",
       "text": [
        "[2014-05-23 14:21] DEBUG: PyPinT Logging: Next Iteration\n"
       ]
      },
      {
       "output_type": "stream",
       "stream": "stderr",
       "text": [
        "[2014-05-23 14:21] DEBUG: PyPinT Logging: Starting New Solver Main Loop\n"
       ]
      },
      {
       "output_type": "stream",
       "stream": "stdout",
       "text": [
        "[INFO    ] !>        7\n"
       ]
      },
      {
       "output_type": "stream",
       "stream": "stdout",
       "text": [
        "[INFO    ] >>         \\\n"
       ]
      },
      {
       "output_type": "stream",
       "stream": "stdout",
       "text": [
        "[INFO    ] >>          |-   1     0.030     0.040     0.010\n"
       ]
      },
      {
       "output_type": "stream",
       "stream": "stdout",
       "text": [
        "[INFO    ]  >          |     \\\n"
       ]
      },
      {
       "output_type": "stream",
       "stream": "stdout",
       "text": [
        "[INFO    ]  >          |      |-  1      na       0.030     1.191       na           na    \n"
       ]
      },
      {
       "output_type": "stream",
       "stream": "stdout",
       "text": [
        "[INFO    ]  >          |      |-  2     0.030     0.032     1.208     2.53e-02       na    \n"
       ]
      },
      {
       "output_type": "stream",
       "stream": "stdout",
       "text": [
        "[INFO    ]  >          |      |-  3     0.032     0.035     1.244     6.05e-02       na    \n"
       ]
      },
      {
       "output_type": "stream",
       "stream": "stdout",
       "text": [
        "[INFO    ]  >          |      |-  4     0.035     0.038     1.289     9.70e-02       na    \n"
       ]
      },
      {
       "output_type": "stream",
       "stream": "stdout",
       "text": [
        "[INFO    ]  >          |      |-  5     0.038     0.040     1.318     1.26e-01       na    \n"
       ]
      },
      {
       "output_type": "stream",
       "stream": "stdout",
       "text": [
        "[INFO    ] >>          |      \\_\n"
       ]
      },
      {
       "output_type": "stream",
       "stream": "stdout",
       "text": [
        "[INFO    ] !>          \\_    4.92e-02       na         2.53e-02     0.395\n"
       ]
      },
      {
       "output_type": "stream",
       "stream": "stderr",
       "text": [
        "[2014-05-23 14:21] DEBUG: PyPinT Logging: Work Loop: 53\n"
       ]
      },
      {
       "output_type": "stream",
       "stream": "stderr",
       "text": [
        "[2014-05-23 14:21] DEBUG: PyPinT Logging: Next Iteration\n"
       ]
      },
      {
       "output_type": "stream",
       "stream": "stderr",
       "text": [
        "[2014-05-23 14:21] DEBUG: PyPinT Logging: Starting New Solver Main Loop\n"
       ]
      },
      {
       "output_type": "stream",
       "stream": "stdout",
       "text": [
        "[INFO    ] !>        8\n"
       ]
      },
      {
       "output_type": "stream",
       "stream": "stdout",
       "text": [
        "[INFO    ] >>         \\\n"
       ]
      },
      {
       "output_type": "stream",
       "stream": "stdout",
       "text": [
        "[INFO    ] >>          |-   1     0.030     0.040     0.010\n"
       ]
      },
      {
       "output_type": "stream",
       "stream": "stdout",
       "text": [
        "[INFO    ]  >          |     \\\n"
       ]
      },
      {
       "output_type": "stream",
       "stream": "stdout",
       "text": [
        "[INFO    ]  >          |      |-  1      na       0.030     1.191       na           na    \n"
       ]
      },
      {
       "output_type": "stream",
       "stream": "stdout",
       "text": [
        "[INFO    ]  >          |      |-  2     0.030     0.032     1.208     2.54e-02       na    \n"
       ]
      },
      {
       "output_type": "stream",
       "stream": "stdout",
       "text": [
        "[INFO    ]  >          |      |-  3     0.032     0.035     1.244     6.04e-02       na    \n"
       ]
      },
      {
       "output_type": "stream",
       "stream": "stdout",
       "text": [
        "[INFO    ]  >          |      |-  4     0.035     0.038     1.290     9.73e-02       na    \n"
       ]
      },
      {
       "output_type": "stream",
       "stream": "stdout",
       "text": [
        "[INFO    ]  >          |      |-  5     0.038     0.040     1.318     1.26e-01       na    \n"
       ]
      },
      {
       "output_type": "stream",
       "stream": "stdout",
       "text": [
        "[INFO    ] >>          |      \\_\n"
       ]
      },
      {
       "output_type": "stream",
       "stream": "stdout",
       "text": [
        "[INFO    ] !>          \\_    3.00e-02       na         2.54e-02     0.269\n"
       ]
      },
      {
       "output_type": "stream",
       "stream": "stderr",
       "text": [
        "[2014-05-23 14:21] DEBUG: PyPinT Logging: Work Loop: 54\n"
       ]
      },
      {
       "output_type": "stream",
       "stream": "stderr",
       "text": [
        "[2014-05-23 14:21] DEBUG: PyPinT Logging: Next Iteration\n"
       ]
      },
      {
       "output_type": "stream",
       "stream": "stderr",
       "text": [
        "[2014-05-23 14:21] DEBUG: PyPinT Logging: Starting New Solver Main Loop\n"
       ]
      },
      {
       "output_type": "stream",
       "stream": "stdout",
       "text": [
        "[INFO    ] !>        9\n"
       ]
      },
      {
       "output_type": "stream",
       "stream": "stdout",
       "text": [
        "[INFO    ] >>         \\\n"
       ]
      },
      {
       "output_type": "stream",
       "stream": "stdout",
       "text": [
        "[INFO    ] >>          |-   1     0.030     0.040     0.010\n"
       ]
      },
      {
       "output_type": "stream",
       "stream": "stdout",
       "text": [
        "[INFO    ]  >          |     \\\n"
       ]
      },
      {
       "output_type": "stream",
       "stream": "stdout",
       "text": [
        "[INFO    ]  >          |      |-  1      na       0.030     1.191       na           na    \n"
       ]
      },
      {
       "output_type": "stream",
       "stream": "stdout",
       "text": [
        "[INFO    ]  >          |      |-  2     0.030     0.032     1.208     2.54e-02       na    \n"
       ]
      },
      {
       "output_type": "stream",
       "stream": "stdout",
       "text": [
        "[INFO    ]  >          |      |-  3     0.032     0.035     1.244     6.03e-02       na    \n"
       ]
      },
      {
       "output_type": "stream",
       "stream": "stdout",
       "text": [
        "[INFO    ]  >          |      |-  4     0.035     0.038     1.290     9.75e-02       na    \n"
       ]
      },
      {
       "output_type": "stream",
       "stream": "stdout",
       "text": [
        "[INFO    ]  >          |      |-  5     0.038     0.040     1.318     1.26e-01       na    \n"
       ]
      },
      {
       "output_type": "stream",
       "stream": "stdout",
       "text": [
        "[INFO    ] >>          |      \\_\n"
       ]
      },
      {
       "output_type": "stream",
       "stream": "stdout",
       "text": [
        "[INFO    ] !>          \\_    1.87e-02       na         2.54e-02     0.266\n"
       ]
      },
      {
       "output_type": "stream",
       "stream": "stderr",
       "text": [
        "[2014-05-23 14:21] DEBUG: PyPinT Logging: Work Loop: 55\n"
       ]
      },
      {
       "output_type": "stream",
       "stream": "stderr",
       "text": [
        "[2014-05-23 14:21] DEBUG: PyPinT Logging: Next Iteration\n"
       ]
      },
      {
       "output_type": "stream",
       "stream": "stderr",
       "text": [
        "[2014-05-23 14:21] DEBUG: PyPinT Logging: Starting New Solver Main Loop\n"
       ]
      },
      {
       "output_type": "stream",
       "stream": "stdout",
       "text": [
        "[INFO    ] !>       10\n"
       ]
      },
      {
       "output_type": "stream",
       "stream": "stdout",
       "text": [
        "[INFO    ] >>         \\\n"
       ]
      },
      {
       "output_type": "stream",
       "stream": "stdout",
       "text": [
        "[INFO    ] >>          |-   1     0.030     0.040     0.010\n"
       ]
      },
      {
       "output_type": "stream",
       "stream": "stdout",
       "text": [
        "[INFO    ]  >          |     \\\n"
       ]
      },
      {
       "output_type": "stream",
       "stream": "stdout",
       "text": [
        "[INFO    ]  >          |      |-  1      na       0.030     1.191       na           na    \n"
       ]
      },
      {
       "output_type": "stream",
       "stream": "stdout",
       "text": [
        "[INFO    ]  >          |      |-  2     0.030     0.032     1.208     2.54e-02       na    \n"
       ]
      },
      {
       "output_type": "stream",
       "stream": "stdout",
       "text": [
        "[INFO    ]  >          |      |-  3     0.032     0.035     1.244     6.02e-02       na    \n"
       ]
      },
      {
       "output_type": "stream",
       "stream": "stdout",
       "text": [
        "[INFO    ]  >          |      |-  4     0.035     0.038     1.290     9.76e-02       na    \n"
       ]
      },
      {
       "output_type": "stream",
       "stream": "stdout",
       "text": [
        "[INFO    ]  >          |      |-  5     0.038     0.040     1.319     1.26e-01       na    \n"
       ]
      },
      {
       "output_type": "stream",
       "stream": "stdout",
       "text": [
        "[INFO    ] >>          |      \\_\n"
       ]
      },
      {
       "output_type": "stream",
       "stream": "stdout",
       "text": [
        "[INFO    ] !>          \\_    1.16e-02       na         2.54e-02     0.278\n"
       ]
      },
      {
       "output_type": "stream",
       "stream": "stderr",
       "text": [
        "[2014-05-23 14:21] DEBUG: PyPinT Logging: Work Loop: 56\n"
       ]
      },
      {
       "output_type": "stream",
       "stream": "stderr",
       "text": [
        "[2014-05-23 14:21] DEBUG: PyPinT Logging: Next Iteration\n"
       ]
      },
      {
       "output_type": "stream",
       "stream": "stderr",
       "text": [
        "[2014-05-23 14:21] DEBUG: PyPinT Logging: Starting New Solver Main Loop\n"
       ]
      },
      {
       "output_type": "stream",
       "stream": "stdout",
       "text": [
        "[INFO    ] !>       11\n"
       ]
      },
      {
       "output_type": "stream",
       "stream": "stdout",
       "text": [
        "[INFO    ] >>         \\\n"
       ]
      },
      {
       "output_type": "stream",
       "stream": "stdout",
       "text": [
        "[INFO    ] >>          |-   1     0.030     0.040     0.010\n"
       ]
      },
      {
       "output_type": "stream",
       "stream": "stdout",
       "text": [
        "[INFO    ]  >          |     \\\n"
       ]
      },
      {
       "output_type": "stream",
       "stream": "stdout",
       "text": [
        "[INFO    ]  >          |      |-  1      na       0.030     1.191       na           na    \n"
       ]
      },
      {
       "output_type": "stream",
       "stream": "stdout",
       "text": [
        "[INFO    ]  >          |      |-  2     0.030     0.032     1.208     2.54e-02       na    \n"
       ]
      },
      {
       "output_type": "stream",
       "stream": "stdout",
       "text": [
        "[INFO    ]  >          |      |-  3     0.032     0.035     1.244     6.02e-02       na    \n"
       ]
      },
      {
       "output_type": "stream",
       "stream": "stdout",
       "text": [
        "[INFO    ]  >          |      |-  4     0.035     0.038     1.290     9.77e-02       na    \n"
       ]
      },
      {
       "output_type": "stream",
       "stream": "stdout",
       "text": [
        "[INFO    ]  >          |      |-  5     0.038     0.040     1.319     1.26e-01       na    \n"
       ]
      },
      {
       "output_type": "stream",
       "stream": "stdout",
       "text": [
        "[INFO    ] >>          |      \\_\n"
       ]
      },
      {
       "output_type": "stream",
       "stream": "stdout",
       "text": [
        "[INFO    ] !>          \\_    7.22e-03       na         2.54e-02     0.284\n"
       ]
      },
      {
       "output_type": "stream",
       "stream": "stderr",
       "text": [
        "[2014-05-23 14:21] DEBUG: PyPinT Logging: Work Loop: 57\n"
       ]
      },
      {
       "output_type": "stream",
       "stream": "stderr",
       "text": [
        "[2014-05-23 14:21] DEBUG: PyPinT Logging: Next Iteration\n"
       ]
      },
      {
       "output_type": "stream",
       "stream": "stderr",
       "text": [
        "[2014-05-23 14:21] DEBUG: PyPinT Logging: Starting New Solver Main Loop\n"
       ]
      },
      {
       "output_type": "stream",
       "stream": "stdout",
       "text": [
        "[INFO    ] !>       12\n"
       ]
      },
      {
       "output_type": "stream",
       "stream": "stdout",
       "text": [
        "[INFO    ] >>         \\\n"
       ]
      },
      {
       "output_type": "stream",
       "stream": "stdout",
       "text": [
        "[INFO    ] >>          |-   1     0.030     0.040     0.010\n"
       ]
      },
      {
       "output_type": "stream",
       "stream": "stdout",
       "text": [
        "[INFO    ]  >          |     \\\n"
       ]
      },
      {
       "output_type": "stream",
       "stream": "stdout",
       "text": [
        "[INFO    ]  >          |      |-  1      na       0.030     1.191       na           na    \n"
       ]
      },
      {
       "output_type": "stream",
       "stream": "stdout",
       "text": [
        "[INFO    ]  >          |      |-  2     0.030     0.032     1.208     2.54e-02       na    \n"
       ]
      },
      {
       "output_type": "stream",
       "stream": "stdout",
       "text": [
        "[INFO    ]  >          |      |-  3     0.032     0.035     1.244     6.02e-02       na    \n"
       ]
      },
      {
       "output_type": "stream",
       "stream": "stdout",
       "text": [
        "[INFO    ]  >          |      |-  4     0.035     0.038     1.290     9.78e-02       na    \n"
       ]
      },
      {
       "output_type": "stream",
       "stream": "stdout",
       "text": [
        "[INFO    ]  >          |      |-  5     0.038     0.040     1.319     1.27e-01       na    \n"
       ]
      },
      {
       "output_type": "stream",
       "stream": "stdout",
       "text": [
        "[INFO    ] >>          |      \\_\n"
       ]
      },
      {
       "output_type": "stream",
       "stream": "stdout",
       "text": [
        "[INFO    ] !>          \\_    4.48e-03       na         2.54e-02     0.265\n"
       ]
      },
      {
       "output_type": "stream",
       "stream": "stderr",
       "text": [
        "[2014-05-23 14:21] DEBUG: PyPinT Logging: Work Loop: 58\n"
       ]
      },
      {
       "output_type": "stream",
       "stream": "stderr",
       "text": [
        "[2014-05-23 14:21] DEBUG: PyPinT Logging: Next Iteration\n"
       ]
      },
      {
       "output_type": "stream",
       "stream": "stderr",
       "text": [
        "[2014-05-23 14:21] DEBUG: PyPinT Logging: Starting New Solver Main Loop\n"
       ]
      },
      {
       "output_type": "stream",
       "stream": "stdout",
       "text": [
        "[INFO    ] !>       13\n"
       ]
      },
      {
       "output_type": "stream",
       "stream": "stdout",
       "text": [
        "[INFO    ] >>         \\\n"
       ]
      },
      {
       "output_type": "stream",
       "stream": "stdout",
       "text": [
        "[INFO    ] >>          |-   1     0.030     0.040     0.010\n"
       ]
      },
      {
       "output_type": "stream",
       "stream": "stdout",
       "text": [
        "[INFO    ]  >          |     \\\n"
       ]
      },
      {
       "output_type": "stream",
       "stream": "stdout",
       "text": [
        "[INFO    ]  >          |      |-  1      na       0.030     1.191       na           na    \n"
       ]
      },
      {
       "output_type": "stream",
       "stream": "stdout",
       "text": [
        "[INFO    ]  >          |      |-  2     0.030     0.032     1.208     2.54e-02       na    \n"
       ]
      },
      {
       "output_type": "stream",
       "stream": "stdout",
       "text": [
        "[INFO    ]  >          |      |-  3     0.032     0.035     1.244     6.03e-02       na    \n"
       ]
      },
      {
       "output_type": "stream",
       "stream": "stdout",
       "text": [
        "[INFO    ]  >          |      |-  4     0.035     0.038     1.290     9.78e-02       na    \n"
       ]
      },
      {
       "output_type": "stream",
       "stream": "stdout",
       "text": [
        "[INFO    ]  >          |      |-  5     0.038     0.040     1.319     1.27e-01       na    \n"
       ]
      },
      {
       "output_type": "stream",
       "stream": "stdout",
       "text": [
        "[INFO    ] >>          |      \\_\n"
       ]
      },
      {
       "output_type": "stream",
       "stream": "stdout",
       "text": [
        "[INFO    ] !>          \\_    2.79e-03       na         2.54e-02     0.267\n"
       ]
      },
      {
       "output_type": "stream",
       "stream": "stderr",
       "text": [
        "[2014-05-23 14:21] DEBUG: PyPinT Logging: Work Loop: 59\n"
       ]
      },
      {
       "output_type": "stream",
       "stream": "stderr",
       "text": [
        "[2014-05-23 14:21] DEBUG: PyPinT Logging: Next Iteration\n"
       ]
      },
      {
       "output_type": "stream",
       "stream": "stderr",
       "text": [
        "[2014-05-23 14:21] DEBUG: PyPinT Logging: Starting New Solver Main Loop\n"
       ]
      },
      {
       "output_type": "stream",
       "stream": "stdout",
       "text": [
        "[INFO    ] !>       14\n"
       ]
      },
      {
       "output_type": "stream",
       "stream": "stdout",
       "text": [
        "[INFO    ] >>         \\\n"
       ]
      },
      {
       "output_type": "stream",
       "stream": "stdout",
       "text": [
        "[INFO    ] >>          |-   1     0.030     0.040     0.010\n"
       ]
      },
      {
       "output_type": "stream",
       "stream": "stdout",
       "text": [
        "[INFO    ]  >          |     \\\n"
       ]
      },
      {
       "output_type": "stream",
       "stream": "stdout",
       "text": [
        "[INFO    ]  >          |      |-  1      na       0.030     1.191       na           na    \n"
       ]
      },
      {
       "output_type": "stream",
       "stream": "stdout",
       "text": [
        "[INFO    ]  >          |      |-  2     0.030     0.032     1.208     2.54e-02       na    \n"
       ]
      },
      {
       "output_type": "stream",
       "stream": "stdout",
       "text": [
        "[INFO    ]  >          |      |-  3     0.032     0.035     1.244     6.03e-02       na    \n"
       ]
      },
      {
       "output_type": "stream",
       "stream": "stdout",
       "text": [
        "[INFO    ]  >          |      |-  4     0.035     0.038     1.290     9.78e-02       na    \n"
       ]
      },
      {
       "output_type": "stream",
       "stream": "stdout",
       "text": [
        "[INFO    ]  >          |      |-  5     0.038     0.040     1.319     1.27e-01       na    \n"
       ]
      },
      {
       "output_type": "stream",
       "stream": "stdout",
       "text": [
        "[INFO    ] >>          |      \\_\n"
       ]
      },
      {
       "output_type": "stream",
       "stream": "stdout",
       "text": [
        "[INFO    ] !>          \\_    1.74e-03       na         2.54e-02     0.275\n"
       ]
      },
      {
       "output_type": "stream",
       "stream": "stderr",
       "text": [
        "[2014-05-23 14:21] DEBUG: PyPinT Logging: Work Loop: 60\n"
       ]
      },
      {
       "output_type": "stream",
       "stream": "stderr",
       "text": [
        "[2014-05-23 14:21] DEBUG: PyPinT Logging: Next Iteration\n"
       ]
      },
      {
       "output_type": "stream",
       "stream": "stderr",
       "text": [
        "[2014-05-23 14:21] DEBUG: PyPinT Logging: Starting New Solver Main Loop\n"
       ]
      },
      {
       "output_type": "stream",
       "stream": "stdout",
       "text": [
        "[INFO    ] !>       15\n"
       ]
      },
      {
       "output_type": "stream",
       "stream": "stdout",
       "text": [
        "[INFO    ] >>         \\\n"
       ]
      },
      {
       "output_type": "stream",
       "stream": "stdout",
       "text": [
        "[INFO    ] >>          |-   1     0.030     0.040     0.010\n"
       ]
      },
      {
       "output_type": "stream",
       "stream": "stdout",
       "text": [
        "[INFO    ]  >          |     \\\n"
       ]
      },
      {
       "output_type": "stream",
       "stream": "stdout",
       "text": [
        "[INFO    ]  >          |      |-  1      na       0.030     1.191       na           na    \n"
       ]
      },
      {
       "output_type": "stream",
       "stream": "stdout",
       "text": [
        "[INFO    ]  >          |      |-  2     0.030     0.032     1.208     2.54e-02       na    \n"
       ]
      },
      {
       "output_type": "stream",
       "stream": "stdout",
       "text": [
        "[INFO    ]  >          |      |-  3     0.032     0.035     1.244     6.03e-02       na    \n"
       ]
      },
      {
       "output_type": "stream",
       "stream": "stdout",
       "text": [
        "[INFO    ]  >          |      |-  4     0.035     0.038     1.290     9.78e-02       na    \n"
       ]
      },
      {
       "output_type": "stream",
       "stream": "stdout",
       "text": [
        "[INFO    ]  >          |      |-  5     0.038     0.040     1.319     1.27e-01       na    \n"
       ]
      },
      {
       "output_type": "stream",
       "stream": "stdout",
       "text": [
        "[INFO    ] >>          |      \\_\n"
       ]
      },
      {
       "output_type": "stream",
       "stream": "stderr",
       "text": [
        "[2014-05-23 14:21] DEBUG: PyPinT Logging: Maximum of iterations exceeded: 15 >= 15\n"
       ]
      },
      {
       "output_type": "stream",
       "stream": "stdout",
       "text": [
        "[INFO    ] !>          \\_    1.10e-03       na         2.54e-02     0.276\n"
       ]
      },
      {
       "output_type": "stream",
       "stream": "stdout",
       "text": [
        "[INFO    ] !>   Converged after 15 iteration(s):\n"
       ]
      },
      {
       "output_type": "stream",
       "stream": "stdout",
       "text": [
        "[INFO    ] !>     Threshold condition(s) met:    iterations\n"
       ]
      },
      {
       "output_type": "stream",
       "stream": "stdout",
       "text": [
        "[INFO    ] !>     Final Residual:                1.266e-01\n"
       ]
      },
      {
       "output_type": "stream",
       "stream": "stdout",
       "text": [
        "[INFO    ] !>     Solution Reduction:            1.100e-03\n"
       ]
      },
      {
       "output_type": "stream",
       "stream": "stderr",
       "text": [
        "[2014-05-23 14:21] DEBUG: PyPinT Logging: Work Loop: 61\n"
       ]
      },
      {
       "output_type": "stream",
       "stream": "stderr",
       "text": [
        "[2014-05-23 14:21] DEBUG: PyPinT Logging: Nodes: [0.04, 0.04172673164646012, 0.045, 0.048273268353539886, 0.05]\n"
       ]
      },
      {
       "output_type": "stream",
       "stream": "stderr",
       "text": [
        "[2014-05-23 14:21] DEBUG: PyPinT Logging: Nodes: [0.04, 0.04172673164646012, 0.045, 0.048273268353539886, 0.05]\n"
       ]
      },
      {
       "output_type": "stream",
       "stream": "stderr",
       "text": [
        "[2014-05-23 14:21] DEBUG: PyPinT Logging: New Interval Initialized\n"
       ]
      },
      {
       "output_type": "stream",
       "stream": "stdout",
       "text": [
        "[INFO    ] !> ................................................................................\n"
       ]
      },
      {
       "output_type": "stream",
       "stream": "stdout",
       "text": [
        "[INFO    ] !>   Interval: [0.040, 0.050]\n"
       ]
      },
      {
       "output_type": "stream",
       "stream": "stdout",
       "text": [
        "[INFO    ] !>    iter\n"
       ]
      },
      {
       "output_type": "stream",
       "stream": "stdout",
       "text": [
        "[INFO    ] >>         \\\n"
       ]
      },
      {
       "output_type": "stream",
       "stream": "stdout",
       "text": [
        "[INFO    ] >>          |- time    start     end        delta\n"
       ]
      },
      {
       "output_type": "stream",
       "stream": "stdout",
       "text": [
        "[INFO    ]  >          |     \\\n"
       ]
      },
      {
       "output_type": "stream",
       "stream": "stdout",
       "text": [
        "[INFO    ]  >          |      |- step    t_0      t_1       phi(t_1)    resid       err\n"
       ]
      },
      {
       "output_type": "stream",
       "stream": "stdout",
       "text": [
        "[INFO    ] >>          |      \\_\n"
       ]
      },
      {
       "output_type": "stream",
       "stream": "stdout",
       "text": [
        "[INFO    ] !>          \\_   sol r.red    err r.red      resid       time\n"
       ]
      },
      {
       "output_type": "stream",
       "stream": "stderr",
       "text": [
        "[2014-05-23 14:21] DEBUG: PyPinT Logging: Starting New Solver Main Loop\n"
       ]
      },
      {
       "output_type": "stream",
       "stream": "stdout",
       "text": [
        "[INFO    ] !>        1\n"
       ]
      },
      {
       "output_type": "stream",
       "stream": "stdout",
       "text": [
        "[INFO    ] >>         \\\n"
       ]
      },
      {
       "output_type": "stream",
       "stream": "stdout",
       "text": [
        "[INFO    ] >>          |-   1     0.040     0.050     0.010\n"
       ]
      },
      {
       "output_type": "stream",
       "stream": "stdout",
       "text": [
        "[INFO    ]  >          |     \\\n"
       ]
      },
      {
       "output_type": "stream",
       "stream": "stdout",
       "text": [
        "[INFO    ]  >          |      |-  1      na       0.040     1.293       na           na    \n"
       ]
      },
      {
       "output_type": "stream",
       "stream": "stdout",
       "text": [
        "[INFO    ]  >          |      |-  2     0.040     0.042     1.316     2.18e-02       na    \n"
       ]
      },
      {
       "output_type": "stream",
       "stream": "stdout",
       "text": [
        "[INFO    ]  >          |      |-  3     0.042     0.045     1.362     6.78e-02       na    \n"
       ]
      },
      {
       "output_type": "stream",
       "stream": "stdout",
       "text": [
        "[INFO    ]  >          |      |-  4     0.045     0.048     1.415     1.20e-01       na    \n"
       ]
      },
      {
       "output_type": "stream",
       "stream": "stdout",
       "text": [
        "[INFO    ]  >          |      |-  5     0.048     0.050     1.448     1.54e-01       na    \n"
       ]
      },
      {
       "output_type": "stream",
       "stream": "stdout",
       "text": [
        "[INFO    ] >>          |      \\_\n"
       ]
      },
      {
       "output_type": "stream",
       "stream": "stderr",
       "text": [
        "[2014-05-23 14:22] DEBUG: PyPinT Logging: Skipping computation of reduction: No previous iteration available.\n"
       ]
      },
      {
       "output_type": "stream",
       "stream": "stdout",
       "text": [
        "[INFO    ] !>          \\_      na           na           na         0.604\n"
       ]
      },
      {
       "output_type": "stream",
       "stream": "stderr",
       "text": [
        "[2014-05-23 14:22] DEBUG: PyPinT Logging: Work Loop: 62\n"
       ]
      },
      {
       "output_type": "stream",
       "stream": "stderr",
       "text": [
        "[2014-05-23 14:22] DEBUG: PyPinT Logging: Next Iteration\n"
       ]
      },
      {
       "output_type": "stream",
       "stream": "stderr",
       "text": [
        "[2014-05-23 14:22] DEBUG: PyPinT Logging: Starting New Solver Main Loop\n"
       ]
      },
      {
       "output_type": "stream",
       "stream": "stdout",
       "text": [
        "[INFO    ] !>        2\n"
       ]
      },
      {
       "output_type": "stream",
       "stream": "stdout",
       "text": [
        "[INFO    ] >>         \\\n"
       ]
      },
      {
       "output_type": "stream",
       "stream": "stdout",
       "text": [
        "[INFO    ] >>          |-   1     0.040     0.050     0.010\n"
       ]
      },
      {
       "output_type": "stream",
       "stream": "stdout",
       "text": [
        "[INFO    ]  >          |     \\\n"
       ]
      },
      {
       "output_type": "stream",
       "stream": "stdout",
       "text": [
        "[INFO    ]  >          |      |-  1      na       0.040     1.293       na           na    \n"
       ]
      },
      {
       "output_type": "stream",
       "stream": "stdout",
       "text": [
        "[INFO    ]  >          |      |-  2     0.040     0.042     1.319     2.36e-02       na    \n"
       ]
      },
      {
       "output_type": "stream",
       "stream": "stdout",
       "text": [
        "[INFO    ]  >          |      |-  3     0.042     0.045     1.372     7.71e-02       na    \n"
       ]
      },
      {
       "output_type": "stream",
       "stream": "stdout",
       "text": [
        "[INFO    ]  >          |      |-  4     0.045     0.048     1.435     1.40e-01       na    \n"
       ]
      },
      {
       "output_type": "stream",
       "stream": "stdout",
       "text": [
        "[INFO    ]  >          |      |-  5     0.048     0.050     1.474     1.78e-01       na    \n"
       ]
      },
      {
       "output_type": "stream",
       "stream": "stdout",
       "text": [
        "[INFO    ] >>          |      \\_\n"
       ]
      },
      {
       "output_type": "stream",
       "stream": "stdout",
       "text": [
        "[INFO    ] !>          \\_    1.73e+00       na         2.36e-02     0.518\n"
       ]
      },
      {
       "output_type": "stream",
       "stream": "stderr",
       "text": [
        "[2014-05-23 14:22] DEBUG: PyPinT Logging: Work Loop: 63\n"
       ]
      },
      {
       "output_type": "stream",
       "stream": "stderr",
       "text": [
        "[2014-05-23 14:22] DEBUG: PyPinT Logging: Next Iteration\n"
       ]
      },
      {
       "output_type": "stream",
       "stream": "stderr",
       "text": [
        "[2014-05-23 14:22] DEBUG: PyPinT Logging: Starting New Solver Main Loop\n"
       ]
      },
      {
       "output_type": "stream",
       "stream": "stdout",
       "text": [
        "[INFO    ] !>        3\n"
       ]
      },
      {
       "output_type": "stream",
       "stream": "stdout",
       "text": [
        "[INFO    ] >>         \\\n"
       ]
      },
      {
       "output_type": "stream",
       "stream": "stdout",
       "text": [
        "[INFO    ] >>          |-   1     0.040     0.050     0.010\n"
       ]
      },
      {
       "output_type": "stream",
       "stream": "stdout",
       "text": [
        "[INFO    ]  >          |     \\\n"
       ]
      },
      {
       "output_type": "stream",
       "stream": "stdout",
       "text": [
        "[INFO    ]  >          |      |-  1      na       0.040     1.293       na           na    \n"
       ]
      },
      {
       "output_type": "stream",
       "stream": "stdout",
       "text": [
        "[INFO    ]  >          |      |-  2     0.040     0.042     1.320     2.42e-02       na    \n"
       ]
      },
      {
       "output_type": "stream",
       "stream": "stdout",
       "text": [
        "[INFO    ]  >          |      |-  3     0.042     0.045     1.376     8.07e-02       na    \n"
       ]
      },
      {
       "output_type": "stream",
       "stream": "stdout",
       "text": [
        "[INFO    ]  >          |      |-  4     0.045     0.048     1.443     1.47e-01       na    \n"
       ]
      },
      {
       "output_type": "stream",
       "stream": "stdout",
       "text": [
        "[INFO    ]  >          |      |-  5     0.048     0.050     1.482     1.86e-01       na    \n"
       ]
      },
      {
       "output_type": "stream",
       "stream": "stdout",
       "text": [
        "[INFO    ] >>          |      \\_\n"
       ]
      },
      {
       "output_type": "stream",
       "stream": "stdout",
       "text": [
        "[INFO    ] !>          \\_    5.56e-01       na         2.42e-02     0.463\n"
       ]
      },
      {
       "output_type": "stream",
       "stream": "stderr",
       "text": [
        "[2014-05-23 14:22] DEBUG: PyPinT Logging: Work Loop: 64\n"
       ]
      },
      {
       "output_type": "stream",
       "stream": "stderr",
       "text": [
        "[2014-05-23 14:22] DEBUG: PyPinT Logging: Next Iteration\n"
       ]
      },
      {
       "output_type": "stream",
       "stream": "stderr",
       "text": [
        "[2014-05-23 14:22] DEBUG: PyPinT Logging: Starting New Solver Main Loop\n"
       ]
      },
      {
       "output_type": "stream",
       "stream": "stdout",
       "text": [
        "[INFO    ] !>        4\n"
       ]
      },
      {
       "output_type": "stream",
       "stream": "stdout",
       "text": [
        "[INFO    ] >>         \\\n"
       ]
      },
      {
       "output_type": "stream",
       "stream": "stdout",
       "text": [
        "[INFO    ] >>          |-   1     0.040     0.050     0.010\n"
       ]
      },
      {
       "output_type": "stream",
       "stream": "stdout",
       "text": [
        "[INFO    ]  >          |     \\\n"
       ]
      },
      {
       "output_type": "stream",
       "stream": "stdout",
       "text": [
        "[INFO    ]  >          |      |-  1      na       0.040     1.293       na           na    \n"
       ]
      },
      {
       "output_type": "stream",
       "stream": "stdout",
       "text": [
        "[INFO    ]  >          |      |-  2     0.040     0.042     1.320     2.46e-02       na    \n"
       ]
      },
      {
       "output_type": "stream",
       "stream": "stdout",
       "text": [
        "[INFO    ]  >          |      |-  3     0.042     0.045     1.378     8.25e-02       na    \n"
       ]
      },
      {
       "output_type": "stream",
       "stream": "stdout",
       "text": [
        "[INFO    ]  >          |      |-  4     0.045     0.048     1.446     1.51e-01       na    \n"
       ]
      },
      {
       "output_type": "stream",
       "stream": "stdout",
       "text": [
        "[INFO    ]  >          |      |-  5     0.048     0.050     1.485     1.89e-01       na    \n"
       ]
      },
      {
       "output_type": "stream",
       "stream": "stdout",
       "text": [
        "[INFO    ] >>          |      \\_\n"
       ]
      },
      {
       "output_type": "stream",
       "stream": "stdout",
       "text": [
        "[INFO    ] !>          \\_    2.02e-01       na         2.46e-02     0.449\n"
       ]
      },
      {
       "output_type": "stream",
       "stream": "stderr",
       "text": [
        "[2014-05-23 14:22] DEBUG: PyPinT Logging: Work Loop: 65\n"
       ]
      },
      {
       "output_type": "stream",
       "stream": "stderr",
       "text": [
        "[2014-05-23 14:22] DEBUG: PyPinT Logging: Next Iteration\n"
       ]
      },
      {
       "output_type": "stream",
       "stream": "stderr",
       "text": [
        "[2014-05-23 14:22] DEBUG: PyPinT Logging: Starting New Solver Main Loop\n"
       ]
      },
      {
       "output_type": "stream",
       "stream": "stdout",
       "text": [
        "[INFO    ] !>        5\n"
       ]
      },
      {
       "output_type": "stream",
       "stream": "stdout",
       "text": [
        "[INFO    ] >>         \\\n"
       ]
      },
      {
       "output_type": "stream",
       "stream": "stdout",
       "text": [
        "[INFO    ] >>          |-   1     0.040     0.050     0.010\n"
       ]
      },
      {
       "output_type": "stream",
       "stream": "stdout",
       "text": [
        "[INFO    ]  >          |     \\\n"
       ]
      },
      {
       "output_type": "stream",
       "stream": "stdout",
       "text": [
        "[INFO    ]  >          |      |-  1      na       0.040     1.293       na           na    \n"
       ]
      },
      {
       "output_type": "stream",
       "stream": "stdout",
       "text": [
        "[INFO    ]  >          |      |-  2     0.040     0.042     1.320     2.47e-02       na    \n"
       ]
      },
      {
       "output_type": "stream",
       "stream": "stdout",
       "text": [
        "[INFO    ]  >          |      |-  3     0.042     0.045     1.379     8.35e-02       na    \n"
       ]
      },
      {
       "output_type": "stream",
       "stream": "stdout",
       "text": [
        "[INFO    ]  >          |      |-  4     0.045     0.048     1.448     1.52e-01       na    \n"
       ]
      },
      {
       "output_type": "stream",
       "stream": "stdout",
       "text": [
        "[INFO    ]  >          |      |-  5     0.048     0.050     1.486     1.91e-01       na    \n"
       ]
      },
      {
       "output_type": "stream",
       "stream": "stdout",
       "text": [
        "[INFO    ] >>          |      \\_\n"
       ]
      },
      {
       "output_type": "stream",
       "stream": "stdout",
       "text": [
        "[INFO    ] !>          \\_    7.05e-02       na         2.47e-02     0.381\n"
       ]
      },
      {
       "output_type": "stream",
       "stream": "stderr",
       "text": [
        "[2014-05-23 14:22] DEBUG: PyPinT Logging: Work Loop: 66\n"
       ]
      },
      {
       "output_type": "stream",
       "stream": "stderr",
       "text": [
        "[2014-05-23 14:22] DEBUG: PyPinT Logging: Next Iteration\n"
       ]
      },
      {
       "output_type": "stream",
       "stream": "stderr",
       "text": [
        "[2014-05-23 14:22] DEBUG: PyPinT Logging: Starting New Solver Main Loop\n"
       ]
      },
      {
       "output_type": "stream",
       "stream": "stdout",
       "text": [
        "[INFO    ] !>        6\n"
       ]
      },
      {
       "output_type": "stream",
       "stream": "stdout",
       "text": [
        "[INFO    ] >>         \\\n"
       ]
      },
      {
       "output_type": "stream",
       "stream": "stdout",
       "text": [
        "[INFO    ] >>          |-   1     0.040     0.050     0.010\n"
       ]
      },
      {
       "output_type": "stream",
       "stream": "stdout",
       "text": [
        "[INFO    ]  >          |     \\\n"
       ]
      },
      {
       "output_type": "stream",
       "stream": "stdout",
       "text": [
        "[INFO    ]  >          |      |-  1      na       0.040     1.293       na           na    \n"
       ]
      },
      {
       "output_type": "stream",
       "stream": "stdout",
       "text": [
        "[INFO    ]  >          |      |-  2     0.040     0.042     1.320     2.48e-02       na    \n"
       ]
      },
      {
       "output_type": "stream",
       "stream": "stdout",
       "text": [
        "[INFO    ]  >          |      |-  3     0.042     0.045     1.379     8.41e-02       na    \n"
       ]
      },
      {
       "output_type": "stream",
       "stream": "stdout",
       "text": [
        "[INFO    ]  >          |      |-  4     0.045     0.048     1.448     1.53e-01       na    \n"
       ]
      },
      {
       "output_type": "stream",
       "stream": "stdout",
       "text": [
        "[INFO    ]  >          |      |-  5     0.048     0.050     1.486     1.91e-01       na    \n"
       ]
      },
      {
       "output_type": "stream",
       "stream": "stdout",
       "text": [
        "[INFO    ] >>          |      \\_\n"
       ]
      },
      {
       "output_type": "stream",
       "stream": "stdout",
       "text": [
        "[INFO    ] !>          \\_    1.96e-02       na         2.48e-02     0.387\n"
       ]
      },
      {
       "output_type": "stream",
       "stream": "stderr",
       "text": [
        "[2014-05-23 14:22] DEBUG: PyPinT Logging: Work Loop: 67\n"
       ]
      },
      {
       "output_type": "stream",
       "stream": "stderr",
       "text": [
        "[2014-05-23 14:22] DEBUG: PyPinT Logging: Next Iteration\n"
       ]
      },
      {
       "output_type": "stream",
       "stream": "stderr",
       "text": [
        "[2014-05-23 14:22] DEBUG: PyPinT Logging: Starting New Solver Main Loop\n"
       ]
      },
      {
       "output_type": "stream",
       "stream": "stdout",
       "text": [
        "[INFO    ] !>        7\n"
       ]
      },
      {
       "output_type": "stream",
       "stream": "stdout",
       "text": [
        "[INFO    ] >>         \\\n"
       ]
      },
      {
       "output_type": "stream",
       "stream": "stdout",
       "text": [
        "[INFO    ] >>          |-   1     0.040     0.050     0.010\n"
       ]
      },
      {
       "output_type": "stream",
       "stream": "stdout",
       "text": [
        "[INFO    ]  >          |     \\\n"
       ]
      },
      {
       "output_type": "stream",
       "stream": "stdout",
       "text": [
        "[INFO    ]  >          |      |-  1      na       0.040     1.293       na           na    \n"
       ]
      },
      {
       "output_type": "stream",
       "stream": "stdout",
       "text": [
        "[INFO    ]  >          |      |-  2     0.040     0.042     1.320     2.49e-02       na    \n"
       ]
      },
      {
       "output_type": "stream",
       "stream": "stdout",
       "text": [
        "[INFO    ]  >          |      |-  3     0.042     0.045     1.380     8.44e-02       na    \n"
       ]
      },
      {
       "output_type": "stream",
       "stream": "stdout",
       "text": [
        "[INFO    ]  >          |      |-  4     0.045     0.048     1.449     1.54e-01       na    \n"
       ]
      },
      {
       "output_type": "stream",
       "stream": "stdout",
       "text": [
        "[INFO    ]  >          |      |-  5     0.048     0.050     1.486     1.91e-01       na    \n"
       ]
      },
      {
       "output_type": "stream",
       "stream": "stdout",
       "text": [
        "[INFO    ] >>          |      \\_\n"
       ]
      },
      {
       "output_type": "stream",
       "stream": "stdout",
       "text": [
        "[INFO    ] !>          \\_    1.10e-03       na         2.49e-02     0.335\n"
       ]
      },
      {
       "output_type": "stream",
       "stream": "stderr",
       "text": [
        "[2014-05-23 14:22] DEBUG: PyPinT Logging: Work Loop: 68\n"
       ]
      },
      {
       "output_type": "stream",
       "stream": "stderr",
       "text": [
        "[2014-05-23 14:22] DEBUG: PyPinT Logging: Next Iteration\n"
       ]
      },
      {
       "output_type": "stream",
       "stream": "stderr",
       "text": [
        "[2014-05-23 14:22] DEBUG: PyPinT Logging: Starting New Solver Main Loop\n"
       ]
      },
      {
       "output_type": "stream",
       "stream": "stdout",
       "text": [
        "[INFO    ] !>        8\n"
       ]
      },
      {
       "output_type": "stream",
       "stream": "stdout",
       "text": [
        "[INFO    ] >>         \\\n"
       ]
      },
      {
       "output_type": "stream",
       "stream": "stdout",
       "text": [
        "[INFO    ] >>          |-   1     0.040     0.050     0.010\n"
       ]
      },
      {
       "output_type": "stream",
       "stream": "stdout",
       "text": [
        "[INFO    ]  >          |     \\\n"
       ]
      },
      {
       "output_type": "stream",
       "stream": "stdout",
       "text": [
        "[INFO    ]  >          |      |-  1      na       0.040     1.293       na           na    \n"
       ]
      },
      {
       "output_type": "stream",
       "stream": "stdout",
       "text": [
        "[INFO    ]  >          |      |-  2     0.040     0.042     1.320     2.49e-02       na    \n"
       ]
      },
      {
       "output_type": "stream",
       "stream": "stdout",
       "text": [
        "[INFO    ]  >          |      |-  3     0.042     0.045     1.380     8.46e-02       na    \n"
       ]
      },
      {
       "output_type": "stream",
       "stream": "stdout",
       "text": [
        "[INFO    ]  >          |      |-  4     0.045     0.048     1.449     1.54e-01       na    \n"
       ]
      },
      {
       "output_type": "stream",
       "stream": "stdout",
       "text": [
        "[INFO    ]  >          |      |-  5     0.048     0.050     1.486     1.91e-01       na    \n"
       ]
      },
      {
       "output_type": "stream",
       "stream": "stdout",
       "text": [
        "[INFO    ] >>          |      \\_\n"
       ]
      },
      {
       "output_type": "stream",
       "stream": "stdout",
       "text": [
        "[INFO    ] !>          \\_    4.08e-03       na         2.49e-02     0.335\n"
       ]
      },
      {
       "output_type": "stream",
       "stream": "stderr",
       "text": [
        "[2014-05-23 14:22] DEBUG: PyPinT Logging: Work Loop: 69\n"
       ]
      },
      {
       "output_type": "stream",
       "stream": "stderr",
       "text": [
        "[2014-05-23 14:22] DEBUG: PyPinT Logging: Next Iteration\n"
       ]
      },
      {
       "output_type": "stream",
       "stream": "stderr",
       "text": [
        "[2014-05-23 14:22] DEBUG: PyPinT Logging: Starting New Solver Main Loop\n"
       ]
      },
      {
       "output_type": "stream",
       "stream": "stdout",
       "text": [
        "[INFO    ] !>        9\n"
       ]
      },
      {
       "output_type": "stream",
       "stream": "stdout",
       "text": [
        "[INFO    ] >>         \\\n"
       ]
      },
      {
       "output_type": "stream",
       "stream": "stdout",
       "text": [
        "[INFO    ] >>          |-   1     0.040     0.050     0.010\n"
       ]
      },
      {
       "output_type": "stream",
       "stream": "stdout",
       "text": [
        "[INFO    ]  >          |     \\\n"
       ]
      },
      {
       "output_type": "stream",
       "stream": "stdout",
       "text": [
        "[INFO    ]  >          |      |-  1      na       0.040     1.293       na           na    \n"
       ]
      },
      {
       "output_type": "stream",
       "stream": "stdout",
       "text": [
        "[INFO    ]  >          |      |-  2     0.040     0.042     1.320     2.49e-02       na    \n"
       ]
      },
      {
       "output_type": "stream",
       "stream": "stdout",
       "text": [
        "[INFO    ]  >          |      |-  3     0.042     0.045     1.380     8.47e-02       na    \n"
       ]
      },
      {
       "output_type": "stream",
       "stream": "stdout",
       "text": [
        "[INFO    ]  >          |      |-  4     0.045     0.048     1.449     1.54e-01       na    \n"
       ]
      },
      {
       "output_type": "stream",
       "stream": "stdout",
       "text": [
        "[INFO    ]  >          |      |-  5     0.048     0.050     1.486     1.91e-01       na    \n"
       ]
      },
      {
       "output_type": "stream",
       "stream": "stdout",
       "text": [
        "[INFO    ] >>          |      \\_\n"
       ]
      },
      {
       "output_type": "stream",
       "stream": "stdout",
       "text": [
        "[INFO    ] !>          \\_    4.08e-03       na         2.49e-02     0.271\n"
       ]
      },
      {
       "output_type": "stream",
       "stream": "stderr",
       "text": [
        "[2014-05-23 14:22] DEBUG: PyPinT Logging: Work Loop: 70\n"
       ]
      },
      {
       "output_type": "stream",
       "stream": "stderr",
       "text": [
        "[2014-05-23 14:22] DEBUG: PyPinT Logging: Next Iteration\n"
       ]
      },
      {
       "output_type": "stream",
       "stream": "stderr",
       "text": [
        "[2014-05-23 14:22] DEBUG: PyPinT Logging: Starting New Solver Main Loop\n"
       ]
      },
      {
       "output_type": "stream",
       "stream": "stdout",
       "text": [
        "[INFO    ] !>       10\n"
       ]
      },
      {
       "output_type": "stream",
       "stream": "stdout",
       "text": [
        "[INFO    ] >>         \\\n"
       ]
      },
      {
       "output_type": "stream",
       "stream": "stdout",
       "text": [
        "[INFO    ] >>          |-   1     0.040     0.050     0.010\n"
       ]
      },
      {
       "output_type": "stream",
       "stream": "stdout",
       "text": [
        "[INFO    ]  >          |     \\\n"
       ]
      },
      {
       "output_type": "stream",
       "stream": "stdout",
       "text": [
        "[INFO    ]  >          |      |-  1      na       0.040     1.293       na           na    \n"
       ]
      },
      {
       "output_type": "stream",
       "stream": "stdout",
       "text": [
        "[INFO    ]  >          |      |-  2     0.040     0.042     1.320     2.49e-02       na    \n"
       ]
      },
      {
       "output_type": "stream",
       "stream": "stdout",
       "text": [
        "[INFO    ]  >          |      |-  3     0.042     0.045     1.380     8.48e-02       na    \n"
       ]
      },
      {
       "output_type": "stream",
       "stream": "stdout",
       "text": [
        "[INFO    ]  >          |      |-  4     0.045     0.048     1.449     1.54e-01       na    \n"
       ]
      },
      {
       "output_type": "stream",
       "stream": "stdout",
       "text": [
        "[INFO    ]  >          |      |-  5     0.048     0.050     1.486     1.91e-01       na    \n"
       ]
      },
      {
       "output_type": "stream",
       "stream": "stdout",
       "text": [
        "[INFO    ] >>          |      \\_\n"
       ]
      },
      {
       "output_type": "stream",
       "stream": "stdout",
       "text": [
        "[INFO    ] !>          \\_    2.58e-03       na         2.49e-02     0.271\n"
       ]
      },
      {
       "output_type": "stream",
       "stream": "stderr",
       "text": [
        "[2014-05-23 14:22] DEBUG: PyPinT Logging: Work Loop: 71\n"
       ]
      },
      {
       "output_type": "stream",
       "stream": "stderr",
       "text": [
        "[2014-05-23 14:22] DEBUG: PyPinT Logging: Next Iteration\n"
       ]
      },
      {
       "output_type": "stream",
       "stream": "stderr",
       "text": [
        "[2014-05-23 14:22] DEBUG: PyPinT Logging: Starting New Solver Main Loop\n"
       ]
      },
      {
       "output_type": "stream",
       "stream": "stdout",
       "text": [
        "[INFO    ] !>       11\n"
       ]
      },
      {
       "output_type": "stream",
       "stream": "stdout",
       "text": [
        "[INFO    ] >>         \\\n"
       ]
      },
      {
       "output_type": "stream",
       "stream": "stdout",
       "text": [
        "[INFO    ] >>          |-   1     0.040     0.050     0.010\n"
       ]
      },
      {
       "output_type": "stream",
       "stream": "stdout",
       "text": [
        "[INFO    ]  >          |     \\\n"
       ]
      },
      {
       "output_type": "stream",
       "stream": "stdout",
       "text": [
        "[INFO    ]  >          |      |-  1      na       0.040     1.293       na           na    \n"
       ]
      },
      {
       "output_type": "stream",
       "stream": "stdout",
       "text": [
        "[INFO    ]  >          |      |-  2     0.040     0.042     1.320     2.49e-02       na    \n"
       ]
      },
      {
       "output_type": "stream",
       "stream": "stdout",
       "text": [
        "[INFO    ]  >          |      |-  3     0.042     0.045     1.380     8.49e-02       na    \n"
       ]
      },
      {
       "output_type": "stream",
       "stream": "stdout",
       "text": [
        "[INFO    ]  >          |      |-  4     0.045     0.048     1.449     1.54e-01       na    \n"
       ]
      },
      {
       "output_type": "stream",
       "stream": "stdout",
       "text": [
        "[INFO    ]  >          |      |-  5     0.048     0.050     1.486     1.91e-01       na    \n"
       ]
      },
      {
       "output_type": "stream",
       "stream": "stdout",
       "text": [
        "[INFO    ] >>          |      \\_\n"
       ]
      },
      {
       "output_type": "stream",
       "stream": "stdout",
       "text": [
        "[INFO    ] !>          \\_    1.11e-03       na         2.49e-02     0.288\n"
       ]
      },
      {
       "output_type": "stream",
       "stream": "stderr",
       "text": [
        "[2014-05-23 14:22] DEBUG: PyPinT Logging: Work Loop: 72\n"
       ]
      },
      {
       "output_type": "stream",
       "stream": "stderr",
       "text": [
        "[2014-05-23 14:22] DEBUG: PyPinT Logging: Next Iteration\n"
       ]
      },
      {
       "output_type": "stream",
       "stream": "stderr",
       "text": [
        "[2014-05-23 14:22] DEBUG: PyPinT Logging: Starting New Solver Main Loop\n"
       ]
      },
      {
       "output_type": "stream",
       "stream": "stdout",
       "text": [
        "[INFO    ] !>       12\n"
       ]
      },
      {
       "output_type": "stream",
       "stream": "stdout",
       "text": [
        "[INFO    ] >>         \\\n"
       ]
      },
      {
       "output_type": "stream",
       "stream": "stdout",
       "text": [
        "[INFO    ] >>          |-   1     0.040     0.050     0.010\n"
       ]
      },
      {
       "output_type": "stream",
       "stream": "stdout",
       "text": [
        "[INFO    ]  >          |     \\\n"
       ]
      },
      {
       "output_type": "stream",
       "stream": "stdout",
       "text": [
        "[INFO    ]  >          |      |-  1      na       0.040     1.293       na           na    \n"
       ]
      },
      {
       "output_type": "stream",
       "stream": "stdout",
       "text": [
        "[INFO    ]  >          |      |-  2     0.040     0.042     1.320     2.49e-02       na    \n"
       ]
      },
      {
       "output_type": "stream",
       "stream": "stdout",
       "text": [
        "[INFO    ]  >          |      |-  3     0.042     0.045     1.380     8.49e-02       na    \n"
       ]
      },
      {
       "output_type": "stream",
       "stream": "stdout",
       "text": [
        "[INFO    ]  >          |      |-  4     0.045     0.048     1.449     1.54e-01       na    \n"
       ]
      },
      {
       "output_type": "stream",
       "stream": "stdout",
       "text": [
        "[INFO    ]  >          |      |-  5     0.048     0.050     1.486     1.91e-01       na    \n"
       ]
      },
      {
       "output_type": "stream",
       "stream": "stdout",
       "text": [
        "[INFO    ] >>          |      \\_\n"
       ]
      },
      {
       "output_type": "stream",
       "stream": "stdout",
       "text": [
        "[INFO    ] !>          \\_    2.24e-05       na         2.49e-02     0.272\n"
       ]
      },
      {
       "output_type": "stream",
       "stream": "stderr",
       "text": [
        "[2014-05-23 14:22] DEBUG: PyPinT Logging: Work Loop: 73\n"
       ]
      },
      {
       "output_type": "stream",
       "stream": "stderr",
       "text": [
        "[2014-05-23 14:22] DEBUG: PyPinT Logging: Next Iteration\n"
       ]
      },
      {
       "output_type": "stream",
       "stream": "stderr",
       "text": [
        "[2014-05-23 14:22] DEBUG: PyPinT Logging: Starting New Solver Main Loop\n"
       ]
      },
      {
       "output_type": "stream",
       "stream": "stdout",
       "text": [
        "[INFO    ] !>       13\n"
       ]
      },
      {
       "output_type": "stream",
       "stream": "stdout",
       "text": [
        "[INFO    ] >>         \\\n"
       ]
      },
      {
       "output_type": "stream",
       "stream": "stdout",
       "text": [
        "[INFO    ] >>          |-   1     0.040     0.050     0.010\n"
       ]
      },
      {
       "output_type": "stream",
       "stream": "stdout",
       "text": [
        "[INFO    ]  >          |     \\\n"
       ]
      },
      {
       "output_type": "stream",
       "stream": "stdout",
       "text": [
        "[INFO    ]  >          |      |-  1      na       0.040     1.293       na           na    \n"
       ]
      },
      {
       "output_type": "stream",
       "stream": "stdout",
       "text": [
        "[INFO    ]  >          |      |-  2     0.040     0.042     1.320     2.50e-02       na    \n"
       ]
      },
      {
       "output_type": "stream",
       "stream": "stdout",
       "text": [
        "[INFO    ]  >          |      |-  3     0.042     0.045     1.380     8.49e-02       na    \n"
       ]
      },
      {
       "output_type": "stream",
       "stream": "stdout",
       "text": [
        "[INFO    ]  >          |      |-  4     0.045     0.048     1.449     1.54e-01       na    \n"
       ]
      },
      {
       "output_type": "stream",
       "stream": "stdout",
       "text": [
        "[INFO    ]  >          |      |-  5     0.048     0.050     1.486     1.91e-01       na    \n"
       ]
      },
      {
       "output_type": "stream",
       "stream": "stdout",
       "text": [
        "[INFO    ] >>          |      \\_\n"
       ]
      },
      {
       "output_type": "stream",
       "stream": "stdout",
       "text": [
        "[INFO    ] !>          \\_    5.53e-04       na         2.50e-02     0.277\n"
       ]
      },
      {
       "output_type": "stream",
       "stream": "stderr",
       "text": [
        "[2014-05-23 14:22] DEBUG: PyPinT Logging: Work Loop: 74\n"
       ]
      },
      {
       "output_type": "stream",
       "stream": "stderr",
       "text": [
        "[2014-05-23 14:22] DEBUG: PyPinT Logging: Next Iteration\n"
       ]
      },
      {
       "output_type": "stream",
       "stream": "stderr",
       "text": [
        "[2014-05-23 14:22] DEBUG: PyPinT Logging: Starting New Solver Main Loop\n"
       ]
      },
      {
       "output_type": "stream",
       "stream": "stdout",
       "text": [
        "[INFO    ] !>       14\n"
       ]
      },
      {
       "output_type": "stream",
       "stream": "stdout",
       "text": [
        "[INFO    ] >>         \\\n"
       ]
      },
      {
       "output_type": "stream",
       "stream": "stdout",
       "text": [
        "[INFO    ] >>          |-   1     0.040     0.050     0.010\n"
       ]
      },
      {
       "output_type": "stream",
       "stream": "stdout",
       "text": [
        "[INFO    ]  >          |     \\\n"
       ]
      },
      {
       "output_type": "stream",
       "stream": "stdout",
       "text": [
        "[INFO    ]  >          |      |-  1      na       0.040     1.293       na           na    \n"
       ]
      },
      {
       "output_type": "stream",
       "stream": "stdout",
       "text": [
        "[INFO    ]  >          |      |-  2     0.040     0.042     1.320     2.50e-02       na    \n"
       ]
      },
      {
       "output_type": "stream",
       "stream": "stdout",
       "text": [
        "[INFO    ]  >          |      |-  3     0.042     0.045     1.380     8.49e-02       na    \n"
       ]
      },
      {
       "output_type": "stream",
       "stream": "stdout",
       "text": [
        "[INFO    ]  >          |      |-  4     0.045     0.048     1.449     1.54e-01       na    \n"
       ]
      },
      {
       "output_type": "stream",
       "stream": "stdout",
       "text": [
        "[INFO    ]  >          |      |-  5     0.048     0.050     1.486     1.91e-01       na    \n"
       ]
      },
      {
       "output_type": "stream",
       "stream": "stdout",
       "text": [
        "[INFO    ] >>          |      \\_\n"
       ]
      },
      {
       "output_type": "stream",
       "stream": "stdout",
       "text": [
        "[INFO    ] !>          \\_    7.43e-04       na         2.50e-02     0.270\n"
       ]
      },
      {
       "output_type": "stream",
       "stream": "stderr",
       "text": [
        "[2014-05-23 14:22] DEBUG: PyPinT Logging: Work Loop: 75\n"
       ]
      },
      {
       "output_type": "stream",
       "stream": "stderr",
       "text": [
        "[2014-05-23 14:22] DEBUG: PyPinT Logging: Next Iteration\n"
       ]
      },
      {
       "output_type": "stream",
       "stream": "stderr",
       "text": [
        "[2014-05-23 14:22] DEBUG: PyPinT Logging: Starting New Solver Main Loop\n"
       ]
      },
      {
       "output_type": "stream",
       "stream": "stdout",
       "text": [
        "[INFO    ] !>       15\n"
       ]
      },
      {
       "output_type": "stream",
       "stream": "stdout",
       "text": [
        "[INFO    ] >>         \\\n"
       ]
      },
      {
       "output_type": "stream",
       "stream": "stdout",
       "text": [
        "[INFO    ] >>          |-   1     0.040     0.050     0.010\n"
       ]
      },
      {
       "output_type": "stream",
       "stream": "stdout",
       "text": [
        "[INFO    ]  >          |     \\\n"
       ]
      },
      {
       "output_type": "stream",
       "stream": "stdout",
       "text": [
        "[INFO    ]  >          |      |-  1      na       0.040     1.293       na           na    \n"
       ]
      },
      {
       "output_type": "stream",
       "stream": "stdout",
       "text": [
        "[INFO    ]  >          |      |-  2     0.040     0.042     1.320     2.50e-02       na    \n"
       ]
      },
      {
       "output_type": "stream",
       "stream": "stdout",
       "text": [
        "[INFO    ]  >          |      |-  3     0.042     0.045     1.380     8.49e-02       na    \n"
       ]
      },
      {
       "output_type": "stream",
       "stream": "stdout",
       "text": [
        "[INFO    ]  >          |      |-  4     0.045     0.048     1.449     1.54e-01       na    \n"
       ]
      },
      {
       "output_type": "stream",
       "stream": "stdout",
       "text": [
        "[INFO    ]  >          |      |-  5     0.048     0.050     1.486     1.91e-01       na    \n"
       ]
      },
      {
       "output_type": "stream",
       "stream": "stdout",
       "text": [
        "[INFO    ] >>          |      \\_\n"
       ]
      },
      {
       "output_type": "stream",
       "stream": "stderr",
       "text": [
        "[2014-05-23 14:22] DEBUG: PyPinT Logging: Maximum of iterations exceeded: 15 >= 15\n"
       ]
      },
      {
       "output_type": "stream",
       "stream": "stdout",
       "text": [
        "[INFO    ] !>          \\_    6.87e-04       na         2.50e-02     0.269\n"
       ]
      },
      {
       "output_type": "stream",
       "stream": "stdout",
       "text": [
        "[INFO    ] !>   Converged after 15 iteration(s):\n"
       ]
      },
      {
       "output_type": "stream",
       "stream": "stdout",
       "text": [
        "[INFO    ] !>     Threshold condition(s) met:    iterations\n"
       ]
      },
      {
       "output_type": "stream",
       "stream": "stdout",
       "text": [
        "[INFO    ] !>     Final Residual:                1.908e-01\n"
       ]
      },
      {
       "output_type": "stream",
       "stream": "stdout",
       "text": [
        "[INFO    ] !>     Solution Reduction:            6.868e-04\n"
       ]
      },
      {
       "output_type": "stream",
       "stream": "stderr",
       "text": [
        "[2014-05-23 14:22] DEBUG: PyPinT Logging: Work Loop: 76\n"
       ]
      },
      {
       "output_type": "stream",
       "stream": "stderr",
       "text": [
        "[2014-05-23 14:22] DEBUG: PyPinT Logging: Nodes: [0.05, 0.05172673164646012, 0.05500000000000001, 0.05827326835353989, 0.060000000000000005]\n"
       ]
      },
      {
       "output_type": "stream",
       "stream": "stderr",
       "text": [
        "[2014-05-23 14:22] DEBUG: PyPinT Logging: Nodes: [0.05, 0.05172673164646012, 0.05500000000000001, 0.05827326835353989, 0.060000000000000005]\n"
       ]
      },
      {
       "output_type": "stream",
       "stream": "stderr",
       "text": [
        "[2014-05-23 14:22] DEBUG: PyPinT Logging: New Interval Initialized\n"
       ]
      },
      {
       "output_type": "stream",
       "stream": "stdout",
       "text": [
        "[INFO    ] !> ................................................................................\n"
       ]
      },
      {
       "output_type": "stream",
       "stream": "stdout",
       "text": [
        "[INFO    ] !>   Interval: [0.050, 0.060]\n"
       ]
      },
      {
       "output_type": "stream",
       "stream": "stdout",
       "text": [
        "[INFO    ] !>    iter\n"
       ]
      },
      {
       "output_type": "stream",
       "stream": "stdout",
       "text": [
        "[INFO    ] >>         \\\n"
       ]
      },
      {
       "output_type": "stream",
       "stream": "stdout",
       "text": [
        "[INFO    ] >>          |- time    start     end        delta\n"
       ]
      },
      {
       "output_type": "stream",
       "stream": "stdout",
       "text": [
        "[INFO    ]  >          |     \\\n"
       ]
      },
      {
       "output_type": "stream",
       "stream": "stdout",
       "text": [
        "[INFO    ]  >          |      |- step    t_0      t_1       phi(t_1)    resid       err\n"
       ]
      },
      {
       "output_type": "stream",
       "stream": "stdout",
       "text": [
        "[INFO    ] >>          |      \\_\n"
       ]
      },
      {
       "output_type": "stream",
       "stream": "stdout",
       "text": [
        "[INFO    ] !>          \\_   sol r.red    err r.red      resid       time\n"
       ]
      },
      {
       "output_type": "stream",
       "stream": "stderr",
       "text": [
        "[2014-05-23 14:22] DEBUG: PyPinT Logging: Starting New Solver Main Loop\n"
       ]
      },
      {
       "output_type": "stream",
       "stream": "stdout",
       "text": [
        "[INFO    ] !>        1\n"
       ]
      },
      {
       "output_type": "stream",
       "stream": "stdout",
       "text": [
        "[INFO    ] >>         \\\n"
       ]
      },
      {
       "output_type": "stream",
       "stream": "stdout",
       "text": [
        "[INFO    ] >>          |-   1     0.050     0.060     0.010\n"
       ]
      },
      {
       "output_type": "stream",
       "stream": "stdout",
       "text": [
        "[INFO    ]  >          |     \\\n"
       ]
      },
      {
       "output_type": "stream",
       "stream": "stdout",
       "text": [
        "[INFO    ]  >          |      |-  1      na       0.050     1.448       na           na    \n"
       ]
      },
      {
       "output_type": "stream",
       "stream": "stdout",
       "text": [
        "[INFO    ]  >          |      |-  2     0.050     0.052     1.483     3.25e-02       na    \n"
       ]
      },
      {
       "output_type": "stream",
       "stream": "stdout",
       "text": [
        "[INFO    ]  >          |      |-  3     0.052     0.055     1.547     9.64e-02       na    \n"
       ]
      },
      {
       "output_type": "stream",
       "stream": "stdout",
       "text": [
        "[INFO    ]  >          |      |-  4     0.055     0.058     1.611     1.60e-01       na    \n"
       ]
      },
      {
       "output_type": "stream",
       "stream": "stdout",
       "text": [
        "[INFO    ]  >          |      |-  5     0.058     0.060     1.643     1.92e-01       na    \n"
       ]
      },
      {
       "output_type": "stream",
       "stream": "stdout",
       "text": [
        "[INFO    ] >>          |      \\_\n"
       ]
      },
      {
       "output_type": "stream",
       "stream": "stderr",
       "text": [
        "[2014-05-23 14:22] DEBUG: PyPinT Logging: Skipping computation of reduction: No previous iteration available.\n"
       ]
      },
      {
       "output_type": "stream",
       "stream": "stdout",
       "text": [
        "[INFO    ] !>          \\_      na           na           na         0.606\n"
       ]
      },
      {
       "output_type": "stream",
       "stream": "stderr",
       "text": [
        "[2014-05-23 14:22] DEBUG: PyPinT Logging: Work Loop: 77\n"
       ]
      },
      {
       "output_type": "stream",
       "stream": "stderr",
       "text": [
        "[2014-05-23 14:22] DEBUG: PyPinT Logging: Next Iteration\n"
       ]
      },
      {
       "output_type": "stream",
       "stream": "stderr",
       "text": [
        "[2014-05-23 14:22] DEBUG: PyPinT Logging: Starting New Solver Main Loop\n"
       ]
      },
      {
       "output_type": "stream",
       "stream": "stdout",
       "text": [
        "[INFO    ] !>        2\n"
       ]
      },
      {
       "output_type": "stream",
       "stream": "stdout",
       "text": [
        "[INFO    ] >>         \\\n"
       ]
      },
      {
       "output_type": "stream",
       "stream": "stdout",
       "text": [
        "[INFO    ] >>          |-   1     0.050     0.060     0.010\n"
       ]
      },
      {
       "output_type": "stream",
       "stream": "stdout",
       "text": [
        "[INFO    ]  >          |     \\\n"
       ]
      },
      {
       "output_type": "stream",
       "stream": "stdout",
       "text": [
        "[INFO    ]  >          |      |-  1      na       0.050     1.448       na           na    \n"
       ]
      },
      {
       "output_type": "stream",
       "stream": "stdout",
       "text": [
        "[INFO    ]  >          |      |-  2     0.050     0.052     1.487     3.60e-02       na    \n"
       ]
      },
      {
       "output_type": "stream",
       "stream": "stdout",
       "text": [
        "[INFO    ]  >          |      |-  3     0.052     0.055     1.558     1.07e-01       na    \n"
       ]
      },
      {
       "output_type": "stream",
       "stream": "stdout",
       "text": [
        "[INFO    ]  >          |      |-  4     0.055     0.058     1.623     1.72e-01       na    \n"
       ]
      },
      {
       "output_type": "stream",
       "stream": "stdout",
       "text": [
        "[INFO    ]  >          |      |-  5     0.058     0.060     1.653     2.02e-01       na    \n"
       ]
      },
      {
       "output_type": "stream",
       "stream": "stdout",
       "text": [
        "[INFO    ] >>          |      \\_\n"
       ]
      },
      {
       "output_type": "stream",
       "stream": "stdout",
       "text": [
        "[INFO    ] !>          \\_    5.94e-01       na         3.60e-02     0.511\n"
       ]
      },
      {
       "output_type": "stream",
       "stream": "stderr",
       "text": [
        "[2014-05-23 14:22] DEBUG: PyPinT Logging: Work Loop: 78\n"
       ]
      },
      {
       "output_type": "stream",
       "stream": "stderr",
       "text": [
        "[2014-05-23 14:22] DEBUG: PyPinT Logging: Next Iteration\n"
       ]
      },
      {
       "output_type": "stream",
       "stream": "stderr",
       "text": [
        "[2014-05-23 14:22] DEBUG: PyPinT Logging: Starting New Solver Main Loop\n"
       ]
      },
      {
       "output_type": "stream",
       "stream": "stdout",
       "text": [
        "[INFO    ] !>        3\n"
       ]
      },
      {
       "output_type": "stream",
       "stream": "stdout",
       "text": [
        "[INFO    ] >>         \\\n"
       ]
      },
      {
       "output_type": "stream",
       "stream": "stdout",
       "text": [
        "[INFO    ] >>          |-   1     0.050     0.060     0.010\n"
       ]
      },
      {
       "output_type": "stream",
       "stream": "stdout",
       "text": [
        "[INFO    ]  >          |     \\\n"
       ]
      },
      {
       "output_type": "stream",
       "stream": "stdout",
       "text": [
        "[INFO    ]  >          |      |-  1      na       0.050     1.448       na           na    \n"
       ]
      },
      {
       "output_type": "stream",
       "stream": "stdout",
       "text": [
        "[INFO    ]  >          |      |-  2     0.050     0.052     1.488     3.76e-02       na    \n"
       ]
      },
      {
       "output_type": "stream",
       "stream": "stdout",
       "text": [
        "[INFO    ]  >          |      |-  3     0.052     0.055     1.560     1.10e-01       na    \n"
       ]
      },
      {
       "output_type": "stream",
       "stream": "stdout",
       "text": [
        "[INFO    ]  >          |      |-  4     0.055     0.058     1.624     1.73e-01       na    \n"
       ]
      },
      {
       "output_type": "stream",
       "stream": "stdout",
       "text": [
        "[INFO    ]  >          |      |-  5     0.058     0.060     1.652     2.02e-01       na    \n"
       ]
      },
      {
       "output_type": "stream",
       "stream": "stdout",
       "text": [
        "[INFO    ] >>          |      \\_\n"
       ]
      },
      {
       "output_type": "stream",
       "stream": "stdout",
       "text": [
        "[INFO    ] !>          \\_    3.84e-02       na         3.76e-02     0.449\n"
       ]
      },
      {
       "output_type": "stream",
       "stream": "stderr",
       "text": [
        "[2014-05-23 14:22] DEBUG: PyPinT Logging: Work Loop: 79\n"
       ]
      },
      {
       "output_type": "stream",
       "stream": "stderr",
       "text": [
        "[2014-05-23 14:22] DEBUG: PyPinT Logging: Next Iteration\n"
       ]
      },
      {
       "output_type": "stream",
       "stream": "stderr",
       "text": [
        "[2014-05-23 14:22] DEBUG: PyPinT Logging: Starting New Solver Main Loop\n"
       ]
      },
      {
       "output_type": "stream",
       "stream": "stdout",
       "text": [
        "[INFO    ] !>        4\n"
       ]
      },
      {
       "output_type": "stream",
       "stream": "stdout",
       "text": [
        "[INFO    ] >>         \\\n"
       ]
      },
      {
       "output_type": "stream",
       "stream": "stdout",
       "text": [
        "[INFO    ] >>          |-   1     0.050     0.060     0.010\n"
       ]
      },
      {
       "output_type": "stream",
       "stream": "stdout",
       "text": [
        "[INFO    ]  >          |     \\\n"
       ]
      },
      {
       "output_type": "stream",
       "stream": "stdout",
       "text": [
        "[INFO    ]  >          |      |-  1      na       0.050     1.448       na           na    \n"
       ]
      },
      {
       "output_type": "stream",
       "stream": "stdout",
       "text": [
        "[INFO    ]  >          |      |-  2     0.050     0.052     1.489     3.84e-02       na    \n"
       ]
      },
      {
       "output_type": "stream",
       "stream": "stdout",
       "text": [
        "[INFO    ]  >          |      |-  3     0.052     0.055     1.561     1.10e-01       na    \n"
       ]
      },
      {
       "output_type": "stream",
       "stream": "stdout",
       "text": [
        "[INFO    ]  >          |      |-  4     0.055     0.058     1.624     1.73e-01       na    \n"
       ]
      },
      {
       "output_type": "stream",
       "stream": "stdout",
       "text": [
        "[INFO    ]  >          |      |-  5     0.058     0.060     1.652     2.01e-01       na    \n"
       ]
      },
      {
       "output_type": "stream",
       "stream": "stdout",
       "text": [
        "[INFO    ] >>          |      \\_\n"
       ]
      },
      {
       "output_type": "stream",
       "stream": "stdout",
       "text": [
        "[INFO    ] !>          \\_    4.50e-02       na         3.84e-02     0.445\n"
       ]
      },
      {
       "output_type": "stream",
       "stream": "stderr",
       "text": [
        "[2014-05-23 14:22] DEBUG: PyPinT Logging: Work Loop: 80\n"
       ]
      },
      {
       "output_type": "stream",
       "stream": "stderr",
       "text": [
        "[2014-05-23 14:22] DEBUG: PyPinT Logging: Next Iteration\n"
       ]
      },
      {
       "output_type": "stream",
       "stream": "stderr",
       "text": [
        "[2014-05-23 14:22] DEBUG: PyPinT Logging: Starting New Solver Main Loop\n"
       ]
      },
      {
       "output_type": "stream",
       "stream": "stdout",
       "text": [
        "[INFO    ] !>        5\n"
       ]
      },
      {
       "output_type": "stream",
       "stream": "stdout",
       "text": [
        "[INFO    ] >>         \\\n"
       ]
      },
      {
       "output_type": "stream",
       "stream": "stdout",
       "text": [
        "[INFO    ] >>          |-   1     0.050     0.060     0.010\n"
       ]
      },
      {
       "output_type": "stream",
       "stream": "stdout",
       "text": [
        "[INFO    ]  >          |     \\\n"
       ]
      },
      {
       "output_type": "stream",
       "stream": "stdout",
       "text": [
        "[INFO    ]  >          |      |-  1      na       0.050     1.448       na           na    \n"
       ]
      },
      {
       "output_type": "stream",
       "stream": "stdout",
       "text": [
        "[INFO    ]  >          |      |-  2     0.050     0.052     1.489     3.87e-02       na    \n"
       ]
      },
      {
       "output_type": "stream",
       "stream": "stdout",
       "text": [
        "[INFO    ]  >          |      |-  3     0.052     0.055     1.561     1.11e-01       na    \n"
       ]
      },
      {
       "output_type": "stream",
       "stream": "stdout",
       "text": [
        "[INFO    ]  >          |      |-  4     0.055     0.058     1.623     1.73e-01       na    \n"
       ]
      },
      {
       "output_type": "stream",
       "stream": "stdout",
       "text": [
        "[INFO    ]  >          |      |-  5     0.058     0.060     1.651     2.01e-01       na    \n"
       ]
      },
      {
       "output_type": "stream",
       "stream": "stdout",
       "text": [
        "[INFO    ] >>          |      \\_\n"
       ]
      },
      {
       "output_type": "stream",
       "stream": "stdout",
       "text": [
        "[INFO    ] !>          \\_    1.88e-02       na         3.87e-02     0.387\n"
       ]
      },
      {
       "output_type": "stream",
       "stream": "stderr",
       "text": [
        "[2014-05-23 14:22] DEBUG: PyPinT Logging: Work Loop: 81\n"
       ]
      },
      {
       "output_type": "stream",
       "stream": "stderr",
       "text": [
        "[2014-05-23 14:22] DEBUG: PyPinT Logging: Next Iteration\n"
       ]
      },
      {
       "output_type": "stream",
       "stream": "stderr",
       "text": [
        "[2014-05-23 14:22] DEBUG: PyPinT Logging: Starting New Solver Main Loop\n"
       ]
      },
      {
       "output_type": "stream",
       "stream": "stdout",
       "text": [
        "[INFO    ] !>        6\n"
       ]
      },
      {
       "output_type": "stream",
       "stream": "stdout",
       "text": [
        "[INFO    ] >>         \\\n"
       ]
      },
      {
       "output_type": "stream",
       "stream": "stdout",
       "text": [
        "[INFO    ] >>          |-   1     0.050     0.060     0.010\n"
       ]
      },
      {
       "output_type": "stream",
       "stream": "stdout",
       "text": [
        "[INFO    ]  >          |     \\\n"
       ]
      },
      {
       "output_type": "stream",
       "stream": "stdout",
       "text": [
        "[INFO    ]  >          |      |-  1      na       0.050     1.448       na           na    \n"
       ]
      },
      {
       "output_type": "stream",
       "stream": "stdout",
       "text": [
        "[INFO    ]  >          |      |-  2     0.050     0.052     1.489     3.88e-02       na    \n"
       ]
      },
      {
       "output_type": "stream",
       "stream": "stdout",
       "text": [
        "[INFO    ]  >          |      |-  3     0.052     0.055     1.561     1.11e-01       na    \n"
       ]
      },
      {
       "output_type": "stream",
       "stream": "stdout",
       "text": [
        "[INFO    ]  >          |      |-  4     0.055     0.058     1.623     1.73e-01       na    \n"
       ]
      },
      {
       "output_type": "stream",
       "stream": "stdout",
       "text": [
        "[INFO    ]  >          |      |-  5     0.058     0.060     1.651     2.01e-01       na    \n"
       ]
      },
      {
       "output_type": "stream",
       "stream": "stdout",
       "text": [
        "[INFO    ] >>          |      \\_\n"
       ]
      },
      {
       "output_type": "stream",
       "stream": "stdout",
       "text": [
        "[INFO    ] !>          \\_    6.51e-05       na         3.88e-02     0.384\n"
       ]
      },
      {
       "output_type": "stream",
       "stream": "stderr",
       "text": [
        "[2014-05-23 14:22] DEBUG: PyPinT Logging: Work Loop: 82\n"
       ]
      },
      {
       "output_type": "stream",
       "stream": "stderr",
       "text": [
        "[2014-05-23 14:22] DEBUG: PyPinT Logging: Next Iteration\n"
       ]
      },
      {
       "output_type": "stream",
       "stream": "stderr",
       "text": [
        "[2014-05-23 14:22] DEBUG: PyPinT Logging: Starting New Solver Main Loop\n"
       ]
      },
      {
       "output_type": "stream",
       "stream": "stdout",
       "text": [
        "[INFO    ] !>        7\n"
       ]
      },
      {
       "output_type": "stream",
       "stream": "stdout",
       "text": [
        "[INFO    ] >>         \\\n"
       ]
      },
      {
       "output_type": "stream",
       "stream": "stdout",
       "text": [
        "[INFO    ] >>          |-   1     0.050     0.060     0.010\n"
       ]
      },
      {
       "output_type": "stream",
       "stream": "stdout",
       "text": [
        "[INFO    ]  >          |     \\\n"
       ]
      },
      {
       "output_type": "stream",
       "stream": "stdout",
       "text": [
        "[INFO    ]  >          |      |-  1      na       0.050     1.448       na           na    \n"
       ]
      },
      {
       "output_type": "stream",
       "stream": "stdout",
       "text": [
        "[INFO    ]  >          |      |-  2     0.050     0.052     1.489     3.88e-02       na    \n"
       ]
      },
      {
       "output_type": "stream",
       "stream": "stdout",
       "text": [
        "[INFO    ]  >          |      |-  3     0.052     0.055     1.561     1.10e-01       na    \n"
       ]
      },
      {
       "output_type": "stream",
       "stream": "stdout",
       "text": [
        "[INFO    ]  >          |      |-  4     0.055     0.058     1.623     1.72e-01       na    \n"
       ]
      },
      {
       "output_type": "stream",
       "stream": "stdout",
       "text": [
        "[INFO    ]  >          |      |-  5     0.058     0.060     1.651     2.01e-01       na    \n"
       ]
      },
      {
       "output_type": "stream",
       "stream": "stdout",
       "text": [
        "[INFO    ] >>          |      \\_\n"
       ]
      },
      {
       "output_type": "stream",
       "stream": "stdout",
       "text": [
        "[INFO    ] !>          \\_    6.63e-03       na         3.88e-02     0.392\n"
       ]
      },
      {
       "output_type": "stream",
       "stream": "stderr",
       "text": [
        "[2014-05-23 14:22] DEBUG: PyPinT Logging: Work Loop: 83\n"
       ]
      },
      {
       "output_type": "stream",
       "stream": "stderr",
       "text": [
        "[2014-05-23 14:22] DEBUG: PyPinT Logging: Next Iteration\n"
       ]
      },
      {
       "output_type": "stream",
       "stream": "stderr",
       "text": [
        "[2014-05-23 14:22] DEBUG: PyPinT Logging: Starting New Solver Main Loop\n"
       ]
      },
      {
       "output_type": "stream",
       "stream": "stdout",
       "text": [
        "[INFO    ] !>        8\n"
       ]
      },
      {
       "output_type": "stream",
       "stream": "stdout",
       "text": [
        "[INFO    ] >>         \\\n"
       ]
      },
      {
       "output_type": "stream",
       "stream": "stdout",
       "text": [
        "[INFO    ] >>          |-   1     0.050     0.060     0.010\n"
       ]
      },
      {
       "output_type": "stream",
       "stream": "stdout",
       "text": [
        "[INFO    ]  >          |     \\\n"
       ]
      },
      {
       "output_type": "stream",
       "stream": "stdout",
       "text": [
        "[INFO    ]  >          |      |-  1      na       0.050     1.448       na           na    \n"
       ]
      },
      {
       "output_type": "stream",
       "stream": "stdout",
       "text": [
        "[INFO    ]  >          |      |-  2     0.050     0.052     1.489     3.88e-02       na    \n"
       ]
      },
      {
       "output_type": "stream",
       "stream": "stdout",
       "text": [
        "[INFO    ]  >          |      |-  3     0.052     0.055     1.561     1.10e-01       na    \n"
       ]
      },
      {
       "output_type": "stream",
       "stream": "stdout",
       "text": [
        "[INFO    ]  >          |      |-  4     0.055     0.058     1.623     1.72e-01       na    \n"
       ]
      },
      {
       "output_type": "stream",
       "stream": "stdout",
       "text": [
        "[INFO    ]  >          |      |-  5     0.058     0.060     1.651     2.01e-01       na    \n"
       ]
      },
      {
       "output_type": "stream",
       "stream": "stdout",
       "text": [
        "[INFO    ] >>          |      \\_\n"
       ]
      },
      {
       "output_type": "stream",
       "stream": "stdout",
       "text": [
        "[INFO    ] !>          \\_    6.05e-03       na         3.88e-02     0.384\n"
       ]
      },
      {
       "output_type": "stream",
       "stream": "stderr",
       "text": [
        "[2014-05-23 14:22] DEBUG: PyPinT Logging: Work Loop: 84\n"
       ]
      },
      {
       "output_type": "stream",
       "stream": "stderr",
       "text": [
        "[2014-05-23 14:22] DEBUG: PyPinT Logging: Next Iteration\n"
       ]
      },
      {
       "output_type": "stream",
       "stream": "stderr",
       "text": [
        "[2014-05-23 14:22] DEBUG: PyPinT Logging: Starting New Solver Main Loop\n"
       ]
      },
      {
       "output_type": "stream",
       "stream": "stdout",
       "text": [
        "[INFO    ] !>        9\n"
       ]
      },
      {
       "output_type": "stream",
       "stream": "stdout",
       "text": [
        "[INFO    ] >>         \\\n"
       ]
      },
      {
       "output_type": "stream",
       "stream": "stdout",
       "text": [
        "[INFO    ] >>          |-   1     0.050     0.060     0.010\n"
       ]
      },
      {
       "output_type": "stream",
       "stream": "stdout",
       "text": [
        "[INFO    ]  >          |     \\\n"
       ]
      },
      {
       "output_type": "stream",
       "stream": "stdout",
       "text": [
        "[INFO    ]  >          |      |-  1      na       0.050     1.448       na           na    \n"
       ]
      },
      {
       "output_type": "stream",
       "stream": "stdout",
       "text": [
        "[INFO    ]  >          |      |-  2     0.050     0.052     1.489     3.88e-02       na    \n"
       ]
      },
      {
       "output_type": "stream",
       "stream": "stdout",
       "text": [
        "[INFO    ]  >          |      |-  3     0.052     0.055     1.561     1.10e-01       na    \n"
       ]
      },
      {
       "output_type": "stream",
       "stream": "stdout",
       "text": [
        "[INFO    ]  >          |      |-  4     0.055     0.058     1.623     1.72e-01       na    \n"
       ]
      },
      {
       "output_type": "stream",
       "stream": "stdout",
       "text": [
        "[INFO    ]  >          |      |-  5     0.058     0.060     1.652     2.01e-01       na    \n"
       ]
      },
      {
       "output_type": "stream",
       "stream": "stdout",
       "text": [
        "[INFO    ] >>          |      \\_\n"
       ]
      },
      {
       "output_type": "stream",
       "stream": "stdout",
       "text": [
        "[INFO    ] !>          \\_    3.03e-03       na         3.88e-02     0.385\n"
       ]
      },
      {
       "output_type": "stream",
       "stream": "stderr",
       "text": [
        "[2014-05-23 14:22] DEBUG: PyPinT Logging: Work Loop: 85\n"
       ]
      },
      {
       "output_type": "stream",
       "stream": "stderr",
       "text": [
        "[2014-05-23 14:22] DEBUG: PyPinT Logging: Next Iteration\n"
       ]
      },
      {
       "output_type": "stream",
       "stream": "stderr",
       "text": [
        "[2014-05-23 14:22] DEBUG: PyPinT Logging: Starting New Solver Main Loop\n"
       ]
      },
      {
       "output_type": "stream",
       "stream": "stdout",
       "text": [
        "[INFO    ] !>       10\n"
       ]
      },
      {
       "output_type": "stream",
       "stream": "stdout",
       "text": [
        "[INFO    ] >>         \\\n"
       ]
      },
      {
       "output_type": "stream",
       "stream": "stdout",
       "text": [
        "[INFO    ] >>          |-   1     0.050     0.060     0.010\n"
       ]
      },
      {
       "output_type": "stream",
       "stream": "stdout",
       "text": [
        "[INFO    ]  >          |     \\\n"
       ]
      },
      {
       "output_type": "stream",
       "stream": "stdout",
       "text": [
        "[INFO    ]  >          |      |-  1      na       0.050     1.448       na           na    \n"
       ]
      },
      {
       "output_type": "stream",
       "stream": "stdout",
       "text": [
        "[INFO    ]  >          |      |-  2     0.050     0.052     1.489     3.88e-02       na    \n"
       ]
      },
      {
       "output_type": "stream",
       "stream": "stdout",
       "text": [
        "[INFO    ]  >          |      |-  3     0.052     0.055     1.561     1.10e-01       na    \n"
       ]
      },
      {
       "output_type": "stream",
       "stream": "stdout",
       "text": [
        "[INFO    ]  >          |      |-  4     0.055     0.058     1.623     1.73e-01       na    \n"
       ]
      },
      {
       "output_type": "stream",
       "stream": "stdout",
       "text": [
        "[INFO    ]  >          |      |-  5     0.058     0.060     1.652     2.01e-01       na    \n"
       ]
      },
      {
       "output_type": "stream",
       "stream": "stdout",
       "text": [
        "[INFO    ] >>          |      \\_\n"
       ]
      },
      {
       "output_type": "stream",
       "stream": "stdout",
       "text": [
        "[INFO    ] !>          \\_    3.32e-04       na         3.88e-02     0.394\n"
       ]
      },
      {
       "output_type": "stream",
       "stream": "stderr",
       "text": [
        "[2014-05-23 14:22] DEBUG: PyPinT Logging: Work Loop: 86\n"
       ]
      },
      {
       "output_type": "stream",
       "stream": "stderr",
       "text": [
        "[2014-05-23 14:22] DEBUG: PyPinT Logging: Next Iteration\n"
       ]
      },
      {
       "output_type": "stream",
       "stream": "stderr",
       "text": [
        "[2014-05-23 14:22] DEBUG: PyPinT Logging: Starting New Solver Main Loop\n"
       ]
      },
      {
       "output_type": "stream",
       "stream": "stdout",
       "text": [
        "[INFO    ] !>       11\n"
       ]
      },
      {
       "output_type": "stream",
       "stream": "stdout",
       "text": [
        "[INFO    ] >>         \\\n"
       ]
      },
      {
       "output_type": "stream",
       "stream": "stdout",
       "text": [
        "[INFO    ] >>          |-   1     0.050     0.060     0.010\n"
       ]
      },
      {
       "output_type": "stream",
       "stream": "stdout",
       "text": [
        "[INFO    ]  >          |     \\\n"
       ]
      },
      {
       "output_type": "stream",
       "stream": "stdout",
       "text": [
        "[INFO    ]  >          |      |-  1      na       0.050     1.448       na           na    \n"
       ]
      },
      {
       "output_type": "stream",
       "stream": "stdout",
       "text": [
        "[INFO    ]  >          |      |-  2     0.050     0.052     1.489     3.88e-02       na    \n"
       ]
      },
      {
       "output_type": "stream",
       "stream": "stdout",
       "text": [
        "[INFO    ]  >          |      |-  3     0.052     0.055     1.561     1.10e-01       na    \n"
       ]
      },
      {
       "output_type": "stream",
       "stream": "stdout",
       "text": [
        "[INFO    ]  >          |      |-  4     0.055     0.058     1.623     1.73e-01       na    \n"
       ]
      },
      {
       "output_type": "stream",
       "stream": "stdout",
       "text": [
        "[INFO    ]  >          |      |-  5     0.058     0.060     1.652     2.01e-01       na    \n"
       ]
      },
      {
       "output_type": "stream",
       "stream": "stdout",
       "text": [
        "[INFO    ] >>          |      \\_\n"
       ]
      },
      {
       "output_type": "stream",
       "stream": "stdout",
       "text": [
        "[INFO    ] !>          \\_    1.11e-03       na         3.88e-02     0.383\n"
       ]
      },
      {
       "output_type": "stream",
       "stream": "stderr",
       "text": [
        "[2014-05-23 14:22] DEBUG: PyPinT Logging: Work Loop: 87\n"
       ]
      },
      {
       "output_type": "stream",
       "stream": "stderr",
       "text": [
        "[2014-05-23 14:22] DEBUG: PyPinT Logging: Next Iteration\n"
       ]
      },
      {
       "output_type": "stream",
       "stream": "stderr",
       "text": [
        "[2014-05-23 14:22] DEBUG: PyPinT Logging: Starting New Solver Main Loop\n"
       ]
      },
      {
       "output_type": "stream",
       "stream": "stdout",
       "text": [
        "[INFO    ] !>       12\n"
       ]
      },
      {
       "output_type": "stream",
       "stream": "stdout",
       "text": [
        "[INFO    ] >>         \\\n"
       ]
      },
      {
       "output_type": "stream",
       "stream": "stdout",
       "text": [
        "[INFO    ] >>          |-   1     0.050     0.060     0.010\n"
       ]
      },
      {
       "output_type": "stream",
       "stream": "stdout",
       "text": [
        "[INFO    ]  >          |     \\\n"
       ]
      },
      {
       "output_type": "stream",
       "stream": "stdout",
       "text": [
        "[INFO    ]  >          |      |-  1      na       0.050     1.448       na           na    \n"
       ]
      },
      {
       "output_type": "stream",
       "stream": "stdout",
       "text": [
        "[INFO    ]  >          |      |-  2     0.050     0.052     1.489     3.88e-02       na    \n"
       ]
      },
      {
       "output_type": "stream",
       "stream": "stdout",
       "text": [
        "[INFO    ]  >          |      |-  3     0.052     0.055     1.561     1.10e-01       na    \n"
       ]
      },
      {
       "output_type": "stream",
       "stream": "stdout",
       "text": [
        "[INFO    ]  >          |      |-  4     0.055     0.058     1.623     1.73e-01       na    \n"
       ]
      },
      {
       "output_type": "stream",
       "stream": "stdout",
       "text": [
        "[INFO    ]  >          |      |-  5     0.058     0.060     1.652     2.01e-01       na    \n"
       ]
      },
      {
       "output_type": "stream",
       "stream": "stdout",
       "text": [
        "[INFO    ] >>          |      \\_\n"
       ]
      },
      {
       "output_type": "stream",
       "stream": "stdout",
       "text": [
        "[INFO    ] !>          \\_    1.43e-03       na         3.88e-02     0.385\n"
       ]
      },
      {
       "output_type": "stream",
       "stream": "stderr",
       "text": [
        "[2014-05-23 14:22] DEBUG: PyPinT Logging: Work Loop: 88\n"
       ]
      },
      {
       "output_type": "stream",
       "stream": "stderr",
       "text": [
        "[2014-05-23 14:22] DEBUG: PyPinT Logging: Next Iteration\n"
       ]
      },
      {
       "output_type": "stream",
       "stream": "stderr",
       "text": [
        "[2014-05-23 14:22] DEBUG: PyPinT Logging: Starting New Solver Main Loop\n"
       ]
      },
      {
       "output_type": "stream",
       "stream": "stdout",
       "text": [
        "[INFO    ] !>       13\n"
       ]
      },
      {
       "output_type": "stream",
       "stream": "stdout",
       "text": [
        "[INFO    ] >>         \\\n"
       ]
      },
      {
       "output_type": "stream",
       "stream": "stdout",
       "text": [
        "[INFO    ] >>          |-   1     0.050     0.060     0.010\n"
       ]
      },
      {
       "output_type": "stream",
       "stream": "stdout",
       "text": [
        "[INFO    ]  >          |     \\\n"
       ]
      },
      {
       "output_type": "stream",
       "stream": "stdout",
       "text": [
        "[INFO    ]  >          |      |-  1      na       0.050     1.448       na           na    \n"
       ]
      },
      {
       "output_type": "stream",
       "stream": "stdout",
       "text": [
        "[INFO    ]  >          |      |-  2     0.050     0.052     1.489     3.88e-02       na    \n"
       ]
      },
      {
       "output_type": "stream",
       "stream": "stdout",
       "text": [
        "[INFO    ]  >          |      |-  3     0.052     0.055     1.561     1.10e-01       na    \n"
       ]
      },
      {
       "output_type": "stream",
       "stream": "stdout",
       "text": [
        "[INFO    ]  >          |      |-  4     0.055     0.058     1.623     1.73e-01       na    \n"
       ]
      },
      {
       "output_type": "stream",
       "stream": "stdout",
       "text": [
        "[INFO    ]  >          |      |-  5     0.058     0.060     1.651     2.01e-01       na    \n"
       ]
      },
      {
       "output_type": "stream",
       "stream": "stdout",
       "text": [
        "[INFO    ] >>          |      \\_\n"
       ]
      },
      {
       "output_type": "stream",
       "stream": "stdout",
       "text": [
        "[INFO    ] !>          \\_    1.11e-03       na         3.88e-02     0.388\n"
       ]
      },
      {
       "output_type": "stream",
       "stream": "stderr",
       "text": [
        "[2014-05-23 14:22] DEBUG: PyPinT Logging: Work Loop: 89\n"
       ]
      },
      {
       "output_type": "stream",
       "stream": "stderr",
       "text": [
        "[2014-05-23 14:22] DEBUG: PyPinT Logging: Next Iteration\n"
       ]
      },
      {
       "output_type": "stream",
       "stream": "stderr",
       "text": [
        "[2014-05-23 14:22] DEBUG: PyPinT Logging: Starting New Solver Main Loop\n"
       ]
      },
      {
       "output_type": "stream",
       "stream": "stdout",
       "text": [
        "[INFO    ] !>       14\n"
       ]
      },
      {
       "output_type": "stream",
       "stream": "stdout",
       "text": [
        "[INFO    ] >>         \\\n"
       ]
      },
      {
       "output_type": "stream",
       "stream": "stdout",
       "text": [
        "[INFO    ] >>          |-   1     0.050     0.060     0.010\n"
       ]
      },
      {
       "output_type": "stream",
       "stream": "stdout",
       "text": [
        "[INFO    ]  >          |     \\\n"
       ]
      },
      {
       "output_type": "stream",
       "stream": "stdout",
       "text": [
        "[INFO    ]  >          |      |-  1      na       0.050     1.448       na           na    \n"
       ]
      },
      {
       "output_type": "stream",
       "stream": "stdout",
       "text": [
        "[INFO    ]  >          |      |-  2     0.050     0.052     1.489     3.88e-02       na    \n"
       ]
      },
      {
       "output_type": "stream",
       "stream": "stdout",
       "text": [
        "[INFO    ]  >          |      |-  3     0.052     0.055     1.561     1.10e-01       na    \n"
       ]
      },
      {
       "output_type": "stream",
       "stream": "stdout",
       "text": [
        "[INFO    ]  >          |      |-  4     0.055     0.058     1.623     1.73e-01       na    \n"
       ]
      },
      {
       "output_type": "stream",
       "stream": "stdout",
       "text": [
        "[INFO    ]  >          |      |-  5     0.058     0.060     1.651     2.01e-01       na    \n"
       ]
      },
      {
       "output_type": "stream",
       "stream": "stdout",
       "text": [
        "[INFO    ] >>          |      \\_\n"
       ]
      },
      {
       "output_type": "stream",
       "stream": "stdout",
       "text": [
        "[INFO    ] !>          \\_    5.95e-04       na         3.88e-02     0.382\n"
       ]
      },
      {
       "output_type": "stream",
       "stream": "stderr",
       "text": [
        "[2014-05-23 14:22] DEBUG: PyPinT Logging: Work Loop: 90\n"
       ]
      },
      {
       "output_type": "stream",
       "stream": "stderr",
       "text": [
        "[2014-05-23 14:22] DEBUG: PyPinT Logging: Next Iteration\n"
       ]
      },
      {
       "output_type": "stream",
       "stream": "stderr",
       "text": [
        "[2014-05-23 14:22] DEBUG: PyPinT Logging: Starting New Solver Main Loop\n"
       ]
      },
      {
       "output_type": "stream",
       "stream": "stdout",
       "text": [
        "[INFO    ] !>       15\n"
       ]
      },
      {
       "output_type": "stream",
       "stream": "stdout",
       "text": [
        "[INFO    ] >>         \\\n"
       ]
      },
      {
       "output_type": "stream",
       "stream": "stdout",
       "text": [
        "[INFO    ] >>          |-   1     0.050     0.060     0.010\n"
       ]
      },
      {
       "output_type": "stream",
       "stream": "stdout",
       "text": [
        "[INFO    ]  >          |     \\\n"
       ]
      },
      {
       "output_type": "stream",
       "stream": "stdout",
       "text": [
        "[INFO    ]  >          |      |-  1      na       0.050     1.448       na           na    \n"
       ]
      },
      {
       "output_type": "stream",
       "stream": "stdout",
       "text": [
        "[INFO    ]  >          |      |-  2     0.050     0.052     1.489     3.88e-02       na    \n"
       ]
      },
      {
       "output_type": "stream",
       "stream": "stdout",
       "text": [
        "[INFO    ]  >          |      |-  3     0.052     0.055     1.561     1.10e-01       na    \n"
       ]
      },
      {
       "output_type": "stream",
       "stream": "stdout",
       "text": [
        "[INFO    ]  >          |      |-  4     0.055     0.058     1.623     1.73e-01       na    \n"
       ]
      },
      {
       "output_type": "stream",
       "stream": "stdout",
       "text": [
        "[INFO    ]  >          |      |-  5     0.058     0.060     1.651     2.01e-01       na    \n"
       ]
      },
      {
       "output_type": "stream",
       "stream": "stdout",
       "text": [
        "[INFO    ] >>          |      \\_\n"
       ]
      },
      {
       "output_type": "stream",
       "stream": "stderr",
       "text": [
        "[2014-05-23 14:22] DEBUG: PyPinT Logging: Maximum of iterations exceeded: 15 >= 15\n"
       ]
      },
      {
       "output_type": "stream",
       "stream": "stdout",
       "text": [
        "[INFO    ] !>          \\_    1.76e-04       na         3.88e-02     0.386\n"
       ]
      },
      {
       "output_type": "stream",
       "stream": "stdout",
       "text": [
        "[INFO    ] !>   Converged after 15 iteration(s):\n"
       ]
      },
      {
       "output_type": "stream",
       "stream": "stdout",
       "text": [
        "[INFO    ] !>     Threshold condition(s) met:    iterations\n"
       ]
      },
      {
       "output_type": "stream",
       "stream": "stdout",
       "text": [
        "[INFO    ] !>     Final Residual:                2.011e-01\n"
       ]
      },
      {
       "output_type": "stream",
       "stream": "stdout",
       "text": [
        "[INFO    ] !>     Solution Reduction:            1.762e-04\n"
       ]
      },
      {
       "output_type": "stream",
       "stream": "stderr",
       "text": [
        "[2014-05-23 14:22] DEBUG: PyPinT Logging: Work Loop: 91\n"
       ]
      },
      {
       "output_type": "stream",
       "stream": "stderr",
       "text": [
        "[2014-05-23 14:22] DEBUG: PyPinT Logging: Nodes: [0.060000000000000005, 0.06172673164646012, 0.065, 0.06827326835353989, 0.07]\n"
       ]
      },
      {
       "output_type": "stream",
       "stream": "stderr",
       "text": [
        "[2014-05-23 14:22] DEBUG: PyPinT Logging: Nodes: [0.060000000000000005, 0.06172673164646012, 0.065, 0.06827326835353989, 0.07]\n"
       ]
      },
      {
       "output_type": "stream",
       "stream": "stderr",
       "text": [
        "[2014-05-23 14:22] DEBUG: PyPinT Logging: New Interval Initialized\n"
       ]
      },
      {
       "output_type": "stream",
       "stream": "stdout",
       "text": [
        "[INFO    ] !> ................................................................................\n"
       ]
      },
      {
       "output_type": "stream",
       "stream": "stdout",
       "text": [
        "[INFO    ] !>   Interval: [0.060, 0.070]\n"
       ]
      },
      {
       "output_type": "stream",
       "stream": "stdout",
       "text": [
        "[INFO    ] !>    iter\n"
       ]
      },
      {
       "output_type": "stream",
       "stream": "stdout",
       "text": [
        "[INFO    ] >>         \\\n"
       ]
      },
      {
       "output_type": "stream",
       "stream": "stdout",
       "text": [
        "[INFO    ] >>          |- time    start     end        delta\n"
       ]
      },
      {
       "output_type": "stream",
       "stream": "stdout",
       "text": [
        "[INFO    ]  >          |     \\\n"
       ]
      },
      {
       "output_type": "stream",
       "stream": "stdout",
       "text": [
        "[INFO    ]  >          |      |- step    t_0      t_1       phi(t_1)    resid       err\n"
       ]
      },
      {
       "output_type": "stream",
       "stream": "stdout",
       "text": [
        "[INFO    ] >>          |      \\_\n"
       ]
      },
      {
       "output_type": "stream",
       "stream": "stdout",
       "text": [
        "[INFO    ] !>          \\_   sol r.red    err r.red      resid       time\n"
       ]
      },
      {
       "output_type": "stream",
       "stream": "stderr",
       "text": [
        "[2014-05-23 14:22] DEBUG: PyPinT Logging: Starting New Solver Main Loop\n"
       ]
      },
      {
       "output_type": "stream",
       "stream": "stdout",
       "text": [
        "[INFO    ] !>        1\n"
       ]
      },
      {
       "output_type": "stream",
       "stream": "stdout",
       "text": [
        "[INFO    ] >>         \\\n"
       ]
      },
      {
       "output_type": "stream",
       "stream": "stdout",
       "text": [
        "[INFO    ] >>          |-   1     0.060     0.070     0.010\n"
       ]
      },
      {
       "output_type": "stream",
       "stream": "stdout",
       "text": [
        "[INFO    ]  >          |     \\\n"
       ]
      },
      {
       "output_type": "stream",
       "stream": "stdout",
       "text": [
        "[INFO    ]  >          |      |-  1      na       0.060     1.643       na           na    \n"
       ]
      },
      {
       "output_type": "stream",
       "stream": "stdout",
       "text": [
        "[INFO    ]  >          |      |-  2     0.060     0.062     1.672     2.65e-02       na    \n"
       ]
      },
      {
       "output_type": "stream",
       "stream": "stdout",
       "text": [
        "[INFO    ]  >          |      |-  3     0.062     0.065     1.720     7.40e-02       na    \n"
       ]
      },
      {
       "output_type": "stream",
       "stream": "stdout",
       "text": [
        "[INFO    ]  >          |      |-  4     0.065     0.068     1.759     1.14e-01       na    \n"
       ]
      },
      {
       "output_type": "stream",
       "stream": "stdout",
       "text": [
        "[INFO    ]  >          |      |-  5     0.068     0.070     1.777     1.32e-01       na    \n"
       ]
      },
      {
       "output_type": "stream",
       "stream": "stdout",
       "text": [
        "[INFO    ] >>          |      \\_\n"
       ]
      },
      {
       "output_type": "stream",
       "stream": "stderr",
       "text": [
        "[2014-05-23 14:22] DEBUG: PyPinT Logging: Skipping computation of reduction: No previous iteration available.\n"
       ]
      },
      {
       "output_type": "stream",
       "stream": "stdout",
       "text": [
        "[INFO    ] !>          \\_      na           na           na         0.606\n"
       ]
      },
      {
       "output_type": "stream",
       "stream": "stderr",
       "text": [
        "[2014-05-23 14:22] DEBUG: PyPinT Logging: Work Loop: 92\n"
       ]
      },
      {
       "output_type": "stream",
       "stream": "stderr",
       "text": [
        "[2014-05-23 14:22] DEBUG: PyPinT Logging: Next Iteration\n"
       ]
      },
      {
       "output_type": "stream",
       "stream": "stderr",
       "text": [
        "[2014-05-23 14:22] DEBUG: PyPinT Logging: Starting New Solver Main Loop\n"
       ]
      },
      {
       "output_type": "stream",
       "stream": "stdout",
       "text": [
        "[INFO    ] !>        2\n"
       ]
      },
      {
       "output_type": "stream",
       "stream": "stdout",
       "text": [
        "[INFO    ] >>         \\\n"
       ]
      },
      {
       "output_type": "stream",
       "stream": "stdout",
       "text": [
        "[INFO    ] >>          |-   1     0.060     0.070     0.010\n"
       ]
      },
      {
       "output_type": "stream",
       "stream": "stdout",
       "text": [
        "[INFO    ]  >          |     \\\n"
       ]
      },
      {
       "output_type": "stream",
       "stream": "stdout",
       "text": [
        "[INFO    ]  >          |      |-  1      na       0.060     1.643       na           na    \n"
       ]
      },
      {
       "output_type": "stream",
       "stream": "stdout",
       "text": [
        "[INFO    ]  >          |      |-  2     0.060     0.062     1.672     2.75e-02       na    \n"
       ]
      },
      {
       "output_type": "stream",
       "stream": "stdout",
       "text": [
        "[INFO    ]  >          |      |-  3     0.062     0.065     1.718     7.29e-02       na    \n"
       ]
      },
      {
       "output_type": "stream",
       "stream": "stdout",
       "text": [
        "[INFO    ]  >          |      |-  4     0.065     0.068     1.756     1.11e-01       na    \n"
       ]
      },
      {
       "output_type": "stream",
       "stream": "stdout",
       "text": [
        "[INFO    ]  >          |      |-  5     0.068     0.070     1.774     1.29e-01       na    \n"
       ]
      },
      {
       "output_type": "stream",
       "stream": "stdout",
       "text": [
        "[INFO    ] >>          |      \\_\n"
       ]
      },
      {
       "output_type": "stream",
       "stream": "stdout",
       "text": [
        "[INFO    ] !>          \\_    1.76e-01       na         2.75e-02     0.508\n"
       ]
      },
      {
       "output_type": "stream",
       "stream": "stderr",
       "text": [
        "[2014-05-23 14:22] DEBUG: PyPinT Logging: Work Loop: 93\n"
       ]
      },
      {
       "output_type": "stream",
       "stream": "stderr",
       "text": [
        "[2014-05-23 14:22] DEBUG: PyPinT Logging: Next Iteration\n"
       ]
      },
      {
       "output_type": "stream",
       "stream": "stderr",
       "text": [
        "[2014-05-23 14:22] DEBUG: PyPinT Logging: Starting New Solver Main Loop\n"
       ]
      },
      {
       "output_type": "stream",
       "stream": "stdout",
       "text": [
        "[INFO    ] !>        3\n"
       ]
      },
      {
       "output_type": "stream",
       "stream": "stdout",
       "text": [
        "[INFO    ] >>         \\\n"
       ]
      },
      {
       "output_type": "stream",
       "stream": "stdout",
       "text": [
        "[INFO    ] >>          |-   1     0.060     0.070     0.010\n"
       ]
      },
      {
       "output_type": "stream",
       "stream": "stdout",
       "text": [
        "[INFO    ]  >          |     \\\n"
       ]
      },
      {
       "output_type": "stream",
       "stream": "stdout",
       "text": [
        "[INFO    ]  >          |      |-  1      na       0.060     1.643       na           na    \n"
       ]
      },
      {
       "output_type": "stream",
       "stream": "stdout",
       "text": [
        "[INFO    ]  >          |      |-  2     0.060     0.062     1.673     2.82e-02       na    \n"
       ]
      },
      {
       "output_type": "stream",
       "stream": "stdout",
       "text": [
        "[INFO    ]  >          |      |-  3     0.062     0.065     1.718     7.36e-02       na    \n"
       ]
      },
      {
       "output_type": "stream",
       "stream": "stdout",
       "text": [
        "[INFO    ]  >          |      |-  4     0.065     0.068     1.757     1.12e-01       na    \n"
       ]
      },
      {
       "output_type": "stream",
       "stream": "stdout",
       "text": [
        "[INFO    ]  >          |      |-  5     0.068     0.070     1.774     1.30e-01       na    \n"
       ]
      },
      {
       "output_type": "stream",
       "stream": "stdout",
       "text": [
        "[INFO    ] >>          |      \\_\n"
       ]
      },
      {
       "output_type": "stream",
       "stream": "stdout",
       "text": [
        "[INFO    ] !>          \\_    2.20e-03       na         2.82e-02     0.437\n"
       ]
      },
      {
       "output_type": "stream",
       "stream": "stderr",
       "text": [
        "[2014-05-23 14:22] DEBUG: PyPinT Logging: Work Loop: 94\n"
       ]
      },
      {
       "output_type": "stream",
       "stream": "stderr",
       "text": [
        "[2014-05-23 14:22] DEBUG: PyPinT Logging: Next Iteration\n"
       ]
      },
      {
       "output_type": "stream",
       "stream": "stderr",
       "text": [
        "[2014-05-23 14:22] DEBUG: PyPinT Logging: Starting New Solver Main Loop\n"
       ]
      },
      {
       "output_type": "stream",
       "stream": "stdout",
       "text": [
        "[INFO    ] !>        4\n"
       ]
      },
      {
       "output_type": "stream",
       "stream": "stdout",
       "text": [
        "[INFO    ] >>         \\\n"
       ]
      },
      {
       "output_type": "stream",
       "stream": "stdout",
       "text": [
        "[INFO    ] >>          |-   1     0.060     0.070     0.010\n"
       ]
      },
      {
       "output_type": "stream",
       "stream": "stdout",
       "text": [
        "[INFO    ]  >          |     \\\n"
       ]
      },
      {
       "output_type": "stream",
       "stream": "stdout",
       "text": [
        "[INFO    ]  >          |      |-  1      na       0.060     1.643       na           na    \n"
       ]
      },
      {
       "output_type": "stream",
       "stream": "stdout",
       "text": [
        "[INFO    ]  >          |      |-  2     0.060     0.062     1.673     2.84e-02       na    \n"
       ]
      },
      {
       "output_type": "stream",
       "stream": "stdout",
       "text": [
        "[INFO    ]  >          |      |-  3     0.062     0.065     1.718     7.34e-02       na    \n"
       ]
      },
      {
       "output_type": "stream",
       "stream": "stdout",
       "text": [
        "[INFO    ]  >          |      |-  4     0.065     0.068     1.756     1.12e-01       na    \n"
       ]
      },
      {
       "output_type": "stream",
       "stream": "stdout",
       "text": [
        "[INFO    ]  >          |      |-  5     0.068     0.070     1.774     1.29e-01       na    \n"
       ]
      },
      {
       "output_type": "stream",
       "stream": "stdout",
       "text": [
        "[INFO    ] >>          |      \\_\n"
       ]
      },
      {
       "output_type": "stream",
       "stream": "stdout",
       "text": [
        "[INFO    ] !>          \\_    3.27e-03       na         2.84e-02     0.387\n"
       ]
      },
      {
       "output_type": "stream",
       "stream": "stderr",
       "text": [
        "[2014-05-23 14:22] DEBUG: PyPinT Logging: Work Loop: 95\n"
       ]
      },
      {
       "output_type": "stream",
       "stream": "stderr",
       "text": [
        "[2014-05-23 14:22] DEBUG: PyPinT Logging: Next Iteration\n"
       ]
      },
      {
       "output_type": "stream",
       "stream": "stderr",
       "text": [
        "[2014-05-23 14:22] DEBUG: PyPinT Logging: Starting New Solver Main Loop\n"
       ]
      },
      {
       "output_type": "stream",
       "stream": "stdout",
       "text": [
        "[INFO    ] !>        5\n"
       ]
      },
      {
       "output_type": "stream",
       "stream": "stdout",
       "text": [
        "[INFO    ] >>         \\\n"
       ]
      },
      {
       "output_type": "stream",
       "stream": "stdout",
       "text": [
        "[INFO    ] >>          |-   1     0.060     0.070     0.010\n"
       ]
      },
      {
       "output_type": "stream",
       "stream": "stdout",
       "text": [
        "[INFO    ]  >          |     \\\n"
       ]
      },
      {
       "output_type": "stream",
       "stream": "stdout",
       "text": [
        "[INFO    ]  >          |      |-  1      na       0.060     1.643       na           na    \n"
       ]
      },
      {
       "output_type": "stream",
       "stream": "stdout",
       "text": [
        "[INFO    ]  >          |      |-  2     0.060     0.062     1.673     2.83e-02       na    \n"
       ]
      },
      {
       "output_type": "stream",
       "stream": "stdout",
       "text": [
        "[INFO    ]  >          |      |-  3     0.062     0.065     1.718     7.33e-02       na    \n"
       ]
      },
      {
       "output_type": "stream",
       "stream": "stdout",
       "text": [
        "[INFO    ]  >          |      |-  4     0.065     0.068     1.757     1.12e-01       na    \n"
       ]
      },
      {
       "output_type": "stream",
       "stream": "stdout",
       "text": [
        "[INFO    ]  >          |      |-  5     0.068     0.070     1.774     1.29e-01       na    \n"
       ]
      },
      {
       "output_type": "stream",
       "stream": "stdout",
       "text": [
        "[INFO    ] >>          |      \\_\n"
       ]
      },
      {
       "output_type": "stream",
       "stream": "stdout",
       "text": [
        "[INFO    ] !>          \\_    9.39e-04       na         2.83e-02     0.387\n"
       ]
      },
      {
       "output_type": "stream",
       "stream": "stderr",
       "text": [
        "[2014-05-23 14:22] DEBUG: PyPinT Logging: Work Loop: 96\n"
       ]
      },
      {
       "output_type": "stream",
       "stream": "stderr",
       "text": [
        "[2014-05-23 14:22] DEBUG: PyPinT Logging: Next Iteration\n"
       ]
      },
      {
       "output_type": "stream",
       "stream": "stderr",
       "text": [
        "[2014-05-23 14:22] DEBUG: PyPinT Logging: Starting New Solver Main Loop\n"
       ]
      },
      {
       "output_type": "stream",
       "stream": "stdout",
       "text": [
        "[INFO    ] !>        6\n"
       ]
      },
      {
       "output_type": "stream",
       "stream": "stdout",
       "text": [
        "[INFO    ] >>         \\\n"
       ]
      },
      {
       "output_type": "stream",
       "stream": "stdout",
       "text": [
        "[INFO    ] >>          |-   1     0.060     0.070     0.010\n"
       ]
      },
      {
       "output_type": "stream",
       "stream": "stdout",
       "text": [
        "[INFO    ]  >          |     \\\n"
       ]
      },
      {
       "output_type": "stream",
       "stream": "stdout",
       "text": [
        "[INFO    ]  >          |      |-  1      na       0.060     1.643       na           na    \n"
       ]
      },
      {
       "output_type": "stream",
       "stream": "stdout",
       "text": [
        "[INFO    ]  >          |      |-  2     0.060     0.062     1.673     2.83e-02       na    \n"
       ]
      },
      {
       "output_type": "stream",
       "stream": "stdout",
       "text": [
        "[INFO    ]  >          |      |-  3     0.062     0.065     1.718     7.33e-02       na    \n"
       ]
      },
      {
       "output_type": "stream",
       "stream": "stdout",
       "text": [
        "[INFO    ]  >          |      |-  4     0.065     0.068     1.757     1.12e-01       na    \n"
       ]
      },
      {
       "output_type": "stream",
       "stream": "stdout",
       "text": [
        "[INFO    ]  >          |      |-  5     0.068     0.070     1.774     1.29e-01       na    \n"
       ]
      },
      {
       "output_type": "stream",
       "stream": "stdout",
       "text": [
        "[INFO    ] >>          |      \\_\n"
       ]
      },
      {
       "output_type": "stream",
       "stream": "stdout",
       "text": [
        "[INFO    ] !>          \\_    3.99e-03       na         2.83e-02     0.386\n"
       ]
      },
      {
       "output_type": "stream",
       "stream": "stderr",
       "text": [
        "[2014-05-23 14:22] DEBUG: PyPinT Logging: Work Loop: 97\n"
       ]
      },
      {
       "output_type": "stream",
       "stream": "stderr",
       "text": [
        "[2014-05-23 14:22] DEBUG: PyPinT Logging: Next Iteration\n"
       ]
      },
      {
       "output_type": "stream",
       "stream": "stderr",
       "text": [
        "[2014-05-23 14:22] DEBUG: PyPinT Logging: Starting New Solver Main Loop\n"
       ]
      },
      {
       "output_type": "stream",
       "stream": "stdout",
       "text": [
        "[INFO    ] !>        7\n"
       ]
      },
      {
       "output_type": "stream",
       "stream": "stdout",
       "text": [
        "[INFO    ] >>         \\\n"
       ]
      },
      {
       "output_type": "stream",
       "stream": "stdout",
       "text": [
        "[INFO    ] >>          |-   1     0.060     0.070     0.010\n"
       ]
      },
      {
       "output_type": "stream",
       "stream": "stdout",
       "text": [
        "[INFO    ]  >          |     \\\n"
       ]
      },
      {
       "output_type": "stream",
       "stream": "stdout",
       "text": [
        "[INFO    ]  >          |      |-  1      na       0.060     1.643       na           na    \n"
       ]
      },
      {
       "output_type": "stream",
       "stream": "stdout",
       "text": [
        "[INFO    ]  >          |      |-  2     0.060     0.062     1.673     2.83e-02       na    \n"
       ]
      },
      {
       "output_type": "stream",
       "stream": "stdout",
       "text": [
        "[INFO    ]  >          |      |-  3     0.062     0.065     1.718     7.33e-02       na    \n"
       ]
      },
      {
       "output_type": "stream",
       "stream": "stdout",
       "text": [
        "[INFO    ]  >          |      |-  4     0.065     0.068     1.757     1.12e-01       na    \n"
       ]
      },
      {
       "output_type": "stream",
       "stream": "stdout",
       "text": [
        "[INFO    ]  >          |      |-  5     0.068     0.070     1.774     1.29e-01       na    \n"
       ]
      },
      {
       "output_type": "stream",
       "stream": "stdout",
       "text": [
        "[INFO    ] >>          |      \\_\n"
       ]
      },
      {
       "output_type": "stream",
       "stream": "stdout",
       "text": [
        "[INFO    ] !>          \\_    3.66e-03       na         2.83e-02     0.383\n"
       ]
      },
      {
       "output_type": "stream",
       "stream": "stderr",
       "text": [
        "[2014-05-23 14:22] DEBUG: PyPinT Logging: Work Loop: 98\n"
       ]
      },
      {
       "output_type": "stream",
       "stream": "stderr",
       "text": [
        "[2014-05-23 14:22] DEBUG: PyPinT Logging: Next Iteration\n"
       ]
      },
      {
       "output_type": "stream",
       "stream": "stderr",
       "text": [
        "[2014-05-23 14:22] DEBUG: PyPinT Logging: Starting New Solver Main Loop\n"
       ]
      },
      {
       "output_type": "stream",
       "stream": "stdout",
       "text": [
        "[INFO    ] !>        8\n"
       ]
      },
      {
       "output_type": "stream",
       "stream": "stdout",
       "text": [
        "[INFO    ] >>         \\\n"
       ]
      },
      {
       "output_type": "stream",
       "stream": "stdout",
       "text": [
        "[INFO    ] >>          |-   1     0.060     0.070     0.010\n"
       ]
      },
      {
       "output_type": "stream",
       "stream": "stdout",
       "text": [
        "[INFO    ]  >          |     \\\n"
       ]
      },
      {
       "output_type": "stream",
       "stream": "stdout",
       "text": [
        "[INFO    ]  >          |      |-  1      na       0.060     1.643       na           na    \n"
       ]
      },
      {
       "output_type": "stream",
       "stream": "stdout",
       "text": [
        "[INFO    ]  >          |      |-  2     0.060     0.062     1.673     2.83e-02       na    \n"
       ]
      },
      {
       "output_type": "stream",
       "stream": "stdout",
       "text": [
        "[INFO    ]  >          |      |-  3     0.062     0.065     1.718     7.33e-02       na    \n"
       ]
      },
      {
       "output_type": "stream",
       "stream": "stdout",
       "text": [
        "[INFO    ]  >          |      |-  4     0.065     0.068     1.757     1.12e-01       na    \n"
       ]
      },
      {
       "output_type": "stream",
       "stream": "stdout",
       "text": [
        "[INFO    ]  >          |      |-  5     0.068     0.070     1.774     1.29e-01       na    \n"
       ]
      },
      {
       "output_type": "stream",
       "stream": "stdout",
       "text": [
        "[INFO    ] >>          |      \\_\n"
       ]
      },
      {
       "output_type": "stream",
       "stream": "stdout",
       "text": [
        "[INFO    ] !>          \\_    2.34e-03       na         2.83e-02     0.395\n"
       ]
      },
      {
       "output_type": "stream",
       "stream": "stderr",
       "text": [
        "[2014-05-23 14:22] DEBUG: PyPinT Logging: Work Loop: 99\n"
       ]
      },
      {
       "output_type": "stream",
       "stream": "stderr",
       "text": [
        "[2014-05-23 14:22] DEBUG: PyPinT Logging: Next Iteration\n"
       ]
      },
      {
       "output_type": "stream",
       "stream": "stderr",
       "text": [
        "[2014-05-23 14:22] DEBUG: PyPinT Logging: Starting New Solver Main Loop\n"
       ]
      },
      {
       "output_type": "stream",
       "stream": "stdout",
       "text": [
        "[INFO    ] !>        9\n"
       ]
      },
      {
       "output_type": "stream",
       "stream": "stdout",
       "text": [
        "[INFO    ] >>         \\\n"
       ]
      },
      {
       "output_type": "stream",
       "stream": "stdout",
       "text": [
        "[INFO    ] >>          |-   1     0.060     0.070     0.010\n"
       ]
      },
      {
       "output_type": "stream",
       "stream": "stdout",
       "text": [
        "[INFO    ]  >          |     \\\n"
       ]
      },
      {
       "output_type": "stream",
       "stream": "stdout",
       "text": [
        "[INFO    ]  >          |      |-  1      na       0.060     1.643       na           na    \n"
       ]
      },
      {
       "output_type": "stream",
       "stream": "stdout",
       "text": [
        "[INFO    ]  >          |      |-  2     0.060     0.062     1.673     2.83e-02       na    \n"
       ]
      },
      {
       "output_type": "stream",
       "stream": "stdout",
       "text": [
        "[INFO    ]  >          |      |-  3     0.062     0.065     1.718     7.33e-02       na    \n"
       ]
      },
      {
       "output_type": "stream",
       "stream": "stdout",
       "text": [
        "[INFO    ]  >          |      |-  4     0.065     0.068     1.757     1.12e-01       na    \n"
       ]
      },
      {
       "output_type": "stream",
       "stream": "stdout",
       "text": [
        "[INFO    ]  >          |      |-  5     0.068     0.070     1.774     1.29e-01       na    \n"
       ]
      },
      {
       "output_type": "stream",
       "stream": "stdout",
       "text": [
        "[INFO    ] >>          |      \\_\n"
       ]
      },
      {
       "output_type": "stream",
       "stream": "stdout",
       "text": [
        "[INFO    ] !>          \\_    9.81e-04       na         2.83e-02     0.390\n"
       ]
      },
      {
       "output_type": "stream",
       "stream": "stderr",
       "text": [
        "[2014-05-23 14:22] DEBUG: PyPinT Logging: Work Loop: 100\n"
       ]
      },
      {
       "output_type": "stream",
       "stream": "stderr",
       "text": [
        "[2014-05-23 14:22] DEBUG: PyPinT Logging: Next Iteration\n"
       ]
      },
      {
       "output_type": "stream",
       "stream": "stderr",
       "text": [
        "[2014-05-23 14:22] DEBUG: PyPinT Logging: Starting New Solver Main Loop\n"
       ]
      },
      {
       "output_type": "stream",
       "stream": "stdout",
       "text": [
        "[INFO    ] !>       10\n"
       ]
      },
      {
       "output_type": "stream",
       "stream": "stdout",
       "text": [
        "[INFO    ] >>         \\\n"
       ]
      },
      {
       "output_type": "stream",
       "stream": "stdout",
       "text": [
        "[INFO    ] >>          |-   1     0.060     0.070     0.010\n"
       ]
      },
      {
       "output_type": "stream",
       "stream": "stdout",
       "text": [
        "[INFO    ]  >          |     \\\n"
       ]
      },
      {
       "output_type": "stream",
       "stream": "stdout",
       "text": [
        "[INFO    ]  >          |      |-  1      na       0.060     1.643       na           na    \n"
       ]
      },
      {
       "output_type": "stream",
       "stream": "stdout",
       "text": [
        "[INFO    ]  >          |      |-  2     0.060     0.062     1.673     2.83e-02       na    \n"
       ]
      },
      {
       "output_type": "stream",
       "stream": "stdout",
       "text": [
        "[INFO    ]  >          |      |-  3     0.062     0.065     1.718     7.33e-02       na    \n"
       ]
      },
      {
       "output_type": "stream",
       "stream": "stdout",
       "text": [
        "[INFO    ]  >          |      |-  4     0.065     0.068     1.757     1.12e-01       na    \n"
       ]
      },
      {
       "output_type": "stream",
       "stream": "stdout",
       "text": [
        "[INFO    ]  >          |      |-  5     0.068     0.070     1.774     1.29e-01       na    \n"
       ]
      },
      {
       "output_type": "stream",
       "stream": "stdout",
       "text": [
        "[INFO    ] >>          |      \\_\n"
       ]
      },
      {
       "output_type": "stream",
       "stream": "stdout",
       "text": [
        "[INFO    ] !>          \\_    6.90e-05       na         2.83e-02     0.393\n"
       ]
      },
      {
       "output_type": "stream",
       "stream": "stderr",
       "text": [
        "[2014-05-23 14:22] DEBUG: PyPinT Logging: Work Loop: 101\n"
       ]
      },
      {
       "output_type": "stream",
       "stream": "stderr",
       "text": [
        "[2014-05-23 14:22] DEBUG: PyPinT Logging: Next Iteration\n"
       ]
      },
      {
       "output_type": "stream",
       "stream": "stderr",
       "text": [
        "[2014-05-23 14:22] DEBUG: PyPinT Logging: Starting New Solver Main Loop\n"
       ]
      },
      {
       "output_type": "stream",
       "stream": "stdout",
       "text": [
        "[INFO    ] !>       11\n"
       ]
      },
      {
       "output_type": "stream",
       "stream": "stdout",
       "text": [
        "[INFO    ] >>         \\\n"
       ]
      },
      {
       "output_type": "stream",
       "stream": "stdout",
       "text": [
        "[INFO    ] >>          |-   1     0.060     0.070     0.010\n"
       ]
      },
      {
       "output_type": "stream",
       "stream": "stdout",
       "text": [
        "[INFO    ]  >          |     \\\n"
       ]
      },
      {
       "output_type": "stream",
       "stream": "stdout",
       "text": [
        "[INFO    ]  >          |      |-  1      na       0.060     1.643       na           na    \n"
       ]
      },
      {
       "output_type": "stream",
       "stream": "stdout",
       "text": [
        "[INFO    ]  >          |      |-  2     0.060     0.062     1.673     2.83e-02       na    \n"
       ]
      },
      {
       "output_type": "stream",
       "stream": "stdout",
       "text": [
        "[INFO    ]  >          |      |-  3     0.062     0.065     1.718     7.33e-02       na    \n"
       ]
      },
      {
       "output_type": "stream",
       "stream": "stdout",
       "text": [
        "[INFO    ]  >          |      |-  4     0.065     0.068     1.757     1.12e-01       na    \n"
       ]
      },
      {
       "output_type": "stream",
       "stream": "stdout",
       "text": [
        "[INFO    ]  >          |      |-  5     0.068     0.070     1.774     1.29e-01       na    \n"
       ]
      },
      {
       "output_type": "stream",
       "stream": "stdout",
       "text": [
        "[INFO    ] >>          |      \\_\n"
       ]
      },
      {
       "output_type": "stream",
       "stream": "stdout",
       "text": [
        "[INFO    ] !>          \\_    2.87e-04       na         2.83e-02     0.381\n"
       ]
      },
      {
       "output_type": "stream",
       "stream": "stderr",
       "text": [
        "[2014-05-23 14:22] DEBUG: PyPinT Logging: Work Loop: 102\n"
       ]
      },
      {
       "output_type": "stream",
       "stream": "stderr",
       "text": [
        "[2014-05-23 14:22] DEBUG: PyPinT Logging: Next Iteration\n"
       ]
      },
      {
       "output_type": "stream",
       "stream": "stderr",
       "text": [
        "[2014-05-23 14:22] DEBUG: PyPinT Logging: Starting New Solver Main Loop\n"
       ]
      },
      {
       "output_type": "stream",
       "stream": "stdout",
       "text": [
        "[INFO    ] !>       12\n"
       ]
      },
      {
       "output_type": "stream",
       "stream": "stdout",
       "text": [
        "[INFO    ] >>         \\\n"
       ]
      },
      {
       "output_type": "stream",
       "stream": "stdout",
       "text": [
        "[INFO    ] >>          |-   1     0.060     0.070     0.010\n"
       ]
      },
      {
       "output_type": "stream",
       "stream": "stdout",
       "text": [
        "[INFO    ]  >          |     \\\n"
       ]
      },
      {
       "output_type": "stream",
       "stream": "stdout",
       "text": [
        "[INFO    ]  >          |      |-  1      na       0.060     1.643       na           na    \n"
       ]
      },
      {
       "output_type": "stream",
       "stream": "stdout",
       "text": [
        "[INFO    ]  >          |      |-  2     0.060     0.062     1.673     2.83e-02       na    \n"
       ]
      },
      {
       "output_type": "stream",
       "stream": "stdout",
       "text": [
        "[INFO    ]  >          |      |-  3     0.062     0.065     1.718     7.33e-02       na    \n"
       ]
      },
      {
       "output_type": "stream",
       "stream": "stdout",
       "text": [
        "[INFO    ]  >          |      |-  4     0.065     0.068     1.757     1.12e-01       na    \n"
       ]
      },
      {
       "output_type": "stream",
       "stream": "stdout",
       "text": [
        "[INFO    ]  >          |      |-  5     0.068     0.070     1.774     1.29e-01       na    \n"
       ]
      },
      {
       "output_type": "stream",
       "stream": "stdout",
       "text": [
        "[INFO    ] >>          |      \\_\n"
       ]
      },
      {
       "output_type": "stream",
       "stream": "stdout",
       "text": [
        "[INFO    ] !>          \\_    2.79e-04       na         2.83e-02     0.378\n"
       ]
      },
      {
       "output_type": "stream",
       "stream": "stderr",
       "text": [
        "[2014-05-23 14:22] DEBUG: PyPinT Logging: Work Loop: 103\n"
       ]
      },
      {
       "output_type": "stream",
       "stream": "stderr",
       "text": [
        "[2014-05-23 14:22] DEBUG: PyPinT Logging: Next Iteration\n"
       ]
      },
      {
       "output_type": "stream",
       "stream": "stderr",
       "text": [
        "[2014-05-23 14:22] DEBUG: PyPinT Logging: Starting New Solver Main Loop\n"
       ]
      },
      {
       "output_type": "stream",
       "stream": "stdout",
       "text": [
        "[INFO    ] !>       13\n"
       ]
      },
      {
       "output_type": "stream",
       "stream": "stdout",
       "text": [
        "[INFO    ] >>         \\\n"
       ]
      },
      {
       "output_type": "stream",
       "stream": "stdout",
       "text": [
        "[INFO    ] >>          |-   1     0.060     0.070     0.010\n"
       ]
      },
      {
       "output_type": "stream",
       "stream": "stdout",
       "text": [
        "[INFO    ]  >          |     \\\n"
       ]
      },
      {
       "output_type": "stream",
       "stream": "stdout",
       "text": [
        "[INFO    ]  >          |      |-  1      na       0.060     1.643       na           na    \n"
       ]
      },
      {
       "output_type": "stream",
       "stream": "stdout",
       "text": [
        "[INFO    ]  >          |      |-  2     0.060     0.062     1.673     2.83e-02       na    \n"
       ]
      },
      {
       "output_type": "stream",
       "stream": "stdout",
       "text": [
        "[INFO    ]  >          |      |-  3     0.062     0.065     1.718     7.33e-02       na    \n"
       ]
      },
      {
       "output_type": "stream",
       "stream": "stdout",
       "text": [
        "[INFO    ]  >          |      |-  4     0.065     0.068     1.757     1.12e-01       na    \n"
       ]
      },
      {
       "output_type": "stream",
       "stream": "stdout",
       "text": [
        "[INFO    ]  >          |      |-  5     0.068     0.070     1.774     1.29e-01       na    \n"
       ]
      },
      {
       "output_type": "stream",
       "stream": "stdout",
       "text": [
        "[INFO    ] >>          |      \\_\n"
       ]
      },
      {
       "output_type": "stream",
       "stream": "stdout",
       "text": [
        "[INFO    ] !>          \\_    1.21e-04       na         2.83e-02     0.380\n"
       ]
      },
      {
       "output_type": "stream",
       "stream": "stderr",
       "text": [
        "[2014-05-23 14:22] DEBUG: PyPinT Logging: Work Loop: 104\n"
       ]
      },
      {
       "output_type": "stream",
       "stream": "stderr",
       "text": [
        "[2014-05-23 14:22] DEBUG: PyPinT Logging: Next Iteration\n"
       ]
      },
      {
       "output_type": "stream",
       "stream": "stderr",
       "text": [
        "[2014-05-23 14:22] DEBUG: PyPinT Logging: Starting New Solver Main Loop\n"
       ]
      },
      {
       "output_type": "stream",
       "stream": "stdout",
       "text": [
        "[INFO    ] !>       14\n"
       ]
      },
      {
       "output_type": "stream",
       "stream": "stdout",
       "text": [
        "[INFO    ] >>         \\\n"
       ]
      },
      {
       "output_type": "stream",
       "stream": "stdout",
       "text": [
        "[INFO    ] >>          |-   1     0.060     0.070     0.010\n"
       ]
      },
      {
       "output_type": "stream",
       "stream": "stdout",
       "text": [
        "[INFO    ]  >          |     \\\n"
       ]
      },
      {
       "output_type": "stream",
       "stream": "stdout",
       "text": [
        "[INFO    ]  >          |      |-  1      na       0.060     1.643       na           na    \n"
       ]
      },
      {
       "output_type": "stream",
       "stream": "stdout",
       "text": [
        "[INFO    ]  >          |      |-  2     0.060     0.062     1.673     2.83e-02       na    \n"
       ]
      },
      {
       "output_type": "stream",
       "stream": "stdout",
       "text": [
        "[INFO    ]  >          |      |-  3     0.062     0.065     1.718     7.33e-02       na    \n"
       ]
      },
      {
       "output_type": "stream",
       "stream": "stdout",
       "text": [
        "[INFO    ]  >          |      |-  4     0.065     0.068     1.757     1.12e-01       na    \n"
       ]
      },
      {
       "output_type": "stream",
       "stream": "stdout",
       "text": [
        "[INFO    ]  >          |      |-  5     0.068     0.070     1.774     1.29e-01       na    \n"
       ]
      },
      {
       "output_type": "stream",
       "stream": "stdout",
       "text": [
        "[INFO    ] >>          |      \\_\n"
       ]
      },
      {
       "output_type": "stream",
       "stream": "stdout",
       "text": [
        "[INFO    ] !>          \\_    5.67e-06       na         2.83e-02     0.381\n"
       ]
      },
      {
       "output_type": "stream",
       "stream": "stderr",
       "text": [
        "[2014-05-23 14:22] DEBUG: PyPinT Logging: Work Loop: 105\n"
       ]
      },
      {
       "output_type": "stream",
       "stream": "stderr",
       "text": [
        "[2014-05-23 14:22] DEBUG: PyPinT Logging: Next Iteration\n"
       ]
      },
      {
       "output_type": "stream",
       "stream": "stderr",
       "text": [
        "[2014-05-23 14:22] DEBUG: PyPinT Logging: Starting New Solver Main Loop\n"
       ]
      },
      {
       "output_type": "stream",
       "stream": "stdout",
       "text": [
        "[INFO    ] !>       15\n"
       ]
      },
      {
       "output_type": "stream",
       "stream": "stdout",
       "text": [
        "[INFO    ] >>         \\\n"
       ]
      },
      {
       "output_type": "stream",
       "stream": "stdout",
       "text": [
        "[INFO    ] >>          |-   1     0.060     0.070     0.010\n"
       ]
      },
      {
       "output_type": "stream",
       "stream": "stdout",
       "text": [
        "[INFO    ]  >          |     \\\n"
       ]
      },
      {
       "output_type": "stream",
       "stream": "stdout",
       "text": [
        "[INFO    ]  >          |      |-  1      na       0.060     1.643       na           na    \n"
       ]
      },
      {
       "output_type": "stream",
       "stream": "stdout",
       "text": [
        "[INFO    ]  >          |      |-  2     0.060     0.062     1.673     2.83e-02       na    \n"
       ]
      },
      {
       "output_type": "stream",
       "stream": "stdout",
       "text": [
        "[INFO    ]  >          |      |-  3     0.062     0.065     1.718     7.33e-02       na    \n"
       ]
      },
      {
       "output_type": "stream",
       "stream": "stdout",
       "text": [
        "[INFO    ]  >          |      |-  4     0.065     0.068     1.757     1.12e-01       na    \n"
       ]
      },
      {
       "output_type": "stream",
       "stream": "stdout",
       "text": [
        "[INFO    ]  >          |      |-  5     0.068     0.070     1.774     1.29e-01       na    \n"
       ]
      },
      {
       "output_type": "stream",
       "stream": "stdout",
       "text": [
        "[INFO    ] >>          |      \\_\n"
       ]
      },
      {
       "output_type": "stream",
       "stream": "stderr",
       "text": [
        "[2014-05-23 14:22] DEBUG: PyPinT Logging: Maximum of iterations exceeded: 15 >= 15\n"
       ]
      },
      {
       "output_type": "stream",
       "stream": "stdout",
       "text": [
        "[INFO    ] !>          \\_    5.99e-05       na         2.83e-02     0.377\n"
       ]
      },
      {
       "output_type": "stream",
       "stream": "stdout",
       "text": [
        "[INFO    ] !>   Converged after 15 iteration(s):\n"
       ]
      },
      {
       "output_type": "stream",
       "stream": "stdout",
       "text": [
        "[INFO    ] !>     Threshold condition(s) met:    iterations\n"
       ]
      },
      {
       "output_type": "stream",
       "stream": "stdout",
       "text": [
        "[INFO    ] !>     Final Residual:                1.293e-01\n"
       ]
      },
      {
       "output_type": "stream",
       "stream": "stdout",
       "text": [
        "[INFO    ] !>     Solution Reduction:            5.986e-05\n"
       ]
      },
      {
       "output_type": "stream",
       "stream": "stderr",
       "text": [
        "[2014-05-23 14:22] DEBUG: PyPinT Logging: Work Loop: 106\n"
       ]
      },
      {
       "output_type": "stream",
       "stream": "stderr",
       "text": [
        "[2014-05-23 14:22] DEBUG: PyPinT Logging: Nodes: [0.07, 0.07172673164646012, 0.07500000000000001, 0.07827326835353988, 0.08]\n"
       ]
      },
      {
       "output_type": "stream",
       "stream": "stderr",
       "text": [
        "[2014-05-23 14:22] DEBUG: PyPinT Logging: Nodes: [0.07, 0.07172673164646012, 0.07500000000000001, 0.07827326835353988, 0.08]\n"
       ]
      },
      {
       "output_type": "stream",
       "stream": "stderr",
       "text": [
        "[2014-05-23 14:22] DEBUG: PyPinT Logging: New Interval Initialized\n"
       ]
      },
      {
       "output_type": "stream",
       "stream": "stdout",
       "text": [
        "[INFO    ] !> ................................................................................\n"
       ]
      },
      {
       "output_type": "stream",
       "stream": "stdout",
       "text": [
        "[INFO    ] !>   Interval: [0.070, 0.080]\n"
       ]
      },
      {
       "output_type": "stream",
       "stream": "stdout",
       "text": [
        "[INFO    ] !>    iter\n"
       ]
      },
      {
       "output_type": "stream",
       "stream": "stdout",
       "text": [
        "[INFO    ] >>         \\\n"
       ]
      },
      {
       "output_type": "stream",
       "stream": "stdout",
       "text": [
        "[INFO    ] >>          |- time    start     end        delta\n"
       ]
      },
      {
       "output_type": "stream",
       "stream": "stdout",
       "text": [
        "[INFO    ]  >          |     \\\n"
       ]
      },
      {
       "output_type": "stream",
       "stream": "stdout",
       "text": [
        "[INFO    ]  >          |      |- step    t_0      t_1       phi(t_1)    resid       err\n"
       ]
      },
      {
       "output_type": "stream",
       "stream": "stdout",
       "text": [
        "[INFO    ] >>          |      \\_\n"
       ]
      },
      {
       "output_type": "stream",
       "stream": "stdout",
       "text": [
        "[INFO    ] !>          \\_   sol r.red    err r.red      resid       time\n"
       ]
      },
      {
       "output_type": "stream",
       "stream": "stderr",
       "text": [
        "[2014-05-23 14:22] DEBUG: PyPinT Logging: Starting New Solver Main Loop\n"
       ]
      },
      {
       "output_type": "stream",
       "stream": "stdout",
       "text": [
        "[INFO    ] !>        1\n"
       ]
      },
      {
       "output_type": "stream",
       "stream": "stdout",
       "text": [
        "[INFO    ] >>         \\\n"
       ]
      },
      {
       "output_type": "stream",
       "stream": "stdout",
       "text": [
        "[INFO    ] >>          |-   1     0.070     0.080     0.010\n"
       ]
      },
      {
       "output_type": "stream",
       "stream": "stdout",
       "text": [
        "[INFO    ]  >          |     \\\n"
       ]
      },
      {
       "output_type": "stream",
       "stream": "stdout",
       "text": [
        "[INFO    ]  >          |      |-  1      na       0.070     1.777       na           na    \n"
       ]
      },
      {
       "output_type": "stream",
       "stream": "stdout",
       "text": [
        "[INFO    ]  >          |      |-  2     0.070     0.072     1.793     1.51e-02       na    \n"
       ]
      },
      {
       "output_type": "stream",
       "stream": "stdout",
       "text": [
        "[INFO    ]  >          |      |-  3     0.072     0.075     1.822     4.35e-02       na    \n"
       ]
      },
      {
       "output_type": "stream",
       "stream": "stdout",
       "text": [
        "[INFO    ]  >          |      |-  4     0.075     0.078     1.847     6.87e-02       na    \n"
       ]
      },
      {
       "output_type": "stream",
       "stream": "stdout",
       "text": [
        "[INFO    ]  >          |      |-  5     0.078     0.080     1.859     8.07e-02       na    \n"
       ]
      },
      {
       "output_type": "stream",
       "stream": "stdout",
       "text": [
        "[INFO    ] >>          |      \\_\n"
       ]
      },
      {
       "output_type": "stream",
       "stream": "stderr",
       "text": [
        "[2014-05-23 14:22] DEBUG: PyPinT Logging: Skipping computation of reduction: No previous iteration available.\n"
       ]
      },
      {
       "output_type": "stream",
       "stream": "stdout",
       "text": [
        "[INFO    ] !>          \\_      na           na           na         0.606\n"
       ]
      },
      {
       "output_type": "stream",
       "stream": "stderr",
       "text": [
        "[2014-05-23 14:22] DEBUG: PyPinT Logging: Work Loop: 107\n"
       ]
      },
      {
       "output_type": "stream",
       "stream": "stderr",
       "text": [
        "[2014-05-23 14:22] DEBUG: PyPinT Logging: Next Iteration\n"
       ]
      },
      {
       "output_type": "stream",
       "stream": "stderr",
       "text": [
        "[2014-05-23 14:22] DEBUG: PyPinT Logging: Starting New Solver Main Loop\n"
       ]
      },
      {
       "output_type": "stream",
       "stream": "stdout",
       "text": [
        "[INFO    ] !>        2\n"
       ]
      },
      {
       "output_type": "stream",
       "stream": "stdout",
       "text": [
        "[INFO    ] >>         \\\n"
       ]
      },
      {
       "output_type": "stream",
       "stream": "stdout",
       "text": [
        "[INFO    ] >>          |-   1     0.070     0.080     0.010\n"
       ]
      },
      {
       "output_type": "stream",
       "stream": "stdout",
       "text": [
        "[INFO    ]  >          |     \\\n"
       ]
      },
      {
       "output_type": "stream",
       "stream": "stdout",
       "text": [
        "[INFO    ]  >          |      |-  1      na       0.070     1.777       na           na    \n"
       ]
      },
      {
       "output_type": "stream",
       "stream": "stdout",
       "text": [
        "[INFO    ]  >          |      |-  2     0.070     0.072     1.793     1.51e-02       na    \n"
       ]
      },
      {
       "output_type": "stream",
       "stream": "stdout",
       "text": [
        "[INFO    ]  >          |      |-  3     0.072     0.075     1.820     4.21e-02       na    \n"
       ]
      },
      {
       "output_type": "stream",
       "stream": "stdout",
       "text": [
        "[INFO    ]  >          |      |-  4     0.075     0.078     1.845     6.67e-02       na    \n"
       ]
      },
      {
       "output_type": "stream",
       "stream": "stdout",
       "text": [
        "[INFO    ]  >          |      |-  5     0.078     0.080     1.857     7.87e-02       na    \n"
       ]
      },
      {
       "output_type": "stream",
       "stream": "stdout",
       "text": [
        "[INFO    ] >>          |      \\_\n"
       ]
      },
      {
       "output_type": "stream",
       "stream": "stdout",
       "text": [
        "[INFO    ] !>          \\_    1.16e-01       na         1.51e-02     0.490\n"
       ]
      },
      {
       "output_type": "stream",
       "stream": "stderr",
       "text": [
        "[2014-05-23 14:22] DEBUG: PyPinT Logging: Work Loop: 108\n"
       ]
      },
      {
       "output_type": "stream",
       "stream": "stderr",
       "text": [
        "[2014-05-23 14:22] DEBUG: PyPinT Logging: Next Iteration\n"
       ]
      },
      {
       "output_type": "stream",
       "stream": "stderr",
       "text": [
        "[2014-05-23 14:22] DEBUG: PyPinT Logging: Starting New Solver Main Loop\n"
       ]
      },
      {
       "output_type": "stream",
       "stream": "stdout",
       "text": [
        "[INFO    ] !>        3\n"
       ]
      },
      {
       "output_type": "stream",
       "stream": "stdout",
       "text": [
        "[INFO    ] >>         \\\n"
       ]
      },
      {
       "output_type": "stream",
       "stream": "stdout",
       "text": [
        "[INFO    ] >>          |-   1     0.070     0.080     0.010\n"
       ]
      },
      {
       "output_type": "stream",
       "stream": "stdout",
       "text": [
        "[INFO    ]  >          |     \\\n"
       ]
      },
      {
       "output_type": "stream",
       "stream": "stdout",
       "text": [
        "[INFO    ]  >          |      |-  1      na       0.070     1.777       na           na    \n"
       ]
      },
      {
       "output_type": "stream",
       "stream": "stdout",
       "text": [
        "[INFO    ]  >          |      |-  2     0.070     0.072     1.793     1.53e-02       na    \n"
       ]
      },
      {
       "output_type": "stream",
       "stream": "stdout",
       "text": [
        "[INFO    ]  >          |      |-  3     0.072     0.075     1.820     4.24e-02       na    \n"
       ]
      },
      {
       "output_type": "stream",
       "stream": "stdout",
       "text": [
        "[INFO    ]  >          |      |-  4     0.075     0.078     1.845     6.71e-02       na    \n"
       ]
      },
      {
       "output_type": "stream",
       "stream": "stdout",
       "text": [
        "[INFO    ]  >          |      |-  5     0.078     0.080     1.857     7.90e-02       na    \n"
       ]
      },
      {
       "output_type": "stream",
       "stream": "stdout",
       "text": [
        "[INFO    ] >>          |      \\_\n"
       ]
      },
      {
       "output_type": "stream",
       "stream": "stdout",
       "text": [
        "[INFO    ] !>          \\_    9.64e-03       na         1.53e-02     0.435\n"
       ]
      },
      {
       "output_type": "stream",
       "stream": "stderr",
       "text": [
        "[2014-05-23 14:22] DEBUG: PyPinT Logging: Work Loop: 109\n"
       ]
      },
      {
       "output_type": "stream",
       "stream": "stderr",
       "text": [
        "[2014-05-23 14:22] DEBUG: PyPinT Logging: Next Iteration\n"
       ]
      },
      {
       "output_type": "stream",
       "stream": "stderr",
       "text": [
        "[2014-05-23 14:22] DEBUG: PyPinT Logging: Starting New Solver Main Loop\n"
       ]
      },
      {
       "output_type": "stream",
       "stream": "stdout",
       "text": [
        "[INFO    ] !>        4\n"
       ]
      },
      {
       "output_type": "stream",
       "stream": "stdout",
       "text": [
        "[INFO    ] >>         \\\n"
       ]
      },
      {
       "output_type": "stream",
       "stream": "stdout",
       "text": [
        "[INFO    ] >>          |-   1     0.070     0.080     0.010\n"
       ]
      },
      {
       "output_type": "stream",
       "stream": "stdout",
       "text": [
        "[INFO    ]  >          |     \\\n"
       ]
      },
      {
       "output_type": "stream",
       "stream": "stdout",
       "text": [
        "[INFO    ]  >          |      |-  1      na       0.070     1.777       na           na    \n"
       ]
      },
      {
       "output_type": "stream",
       "stream": "stdout",
       "text": [
        "[INFO    ]  >          |      |-  2     0.070     0.072     1.793     1.54e-02       na    \n"
       ]
      },
      {
       "output_type": "stream",
       "stream": "stdout",
       "text": [
        "[INFO    ]  >          |      |-  3     0.072     0.075     1.820     4.24e-02       na    \n"
       ]
      },
      {
       "output_type": "stream",
       "stream": "stdout",
       "text": [
        "[INFO    ]  >          |      |-  4     0.075     0.078     1.845     6.71e-02       na    \n"
       ]
      },
      {
       "output_type": "stream",
       "stream": "stdout",
       "text": [
        "[INFO    ]  >          |      |-  5     0.078     0.080     1.857     7.90e-02       na    \n"
       ]
      },
      {
       "output_type": "stream",
       "stream": "stdout",
       "text": [
        "[INFO    ] >>          |      \\_\n"
       ]
      },
      {
       "output_type": "stream",
       "stream": "stdout",
       "text": [
        "[INFO    ] !>          \\_    1.70e-03       na         1.54e-02     0.380\n"
       ]
      },
      {
       "output_type": "stream",
       "stream": "stderr",
       "text": [
        "[2014-05-23 14:22] DEBUG: PyPinT Logging: Work Loop: 110\n"
       ]
      },
      {
       "output_type": "stream",
       "stream": "stderr",
       "text": [
        "[2014-05-23 14:22] DEBUG: PyPinT Logging: Next Iteration\n"
       ]
      },
      {
       "output_type": "stream",
       "stream": "stderr",
       "text": [
        "[2014-05-23 14:22] DEBUG: PyPinT Logging: Starting New Solver Main Loop\n"
       ]
      },
      {
       "output_type": "stream",
       "stream": "stdout",
       "text": [
        "[INFO    ] !>        5\n"
       ]
      },
      {
       "output_type": "stream",
       "stream": "stdout",
       "text": [
        "[INFO    ] >>         \\\n"
       ]
      },
      {
       "output_type": "stream",
       "stream": "stdout",
       "text": [
        "[INFO    ] >>          |-   1     0.070     0.080     0.010\n"
       ]
      },
      {
       "output_type": "stream",
       "stream": "stdout",
       "text": [
        "[INFO    ]  >          |     \\\n"
       ]
      },
      {
       "output_type": "stream",
       "stream": "stdout",
       "text": [
        "[INFO    ]  >          |      |-  1      na       0.070     1.777       na           na    \n"
       ]
      },
      {
       "output_type": "stream",
       "stream": "stdout",
       "text": [
        "[INFO    ]  >          |      |-  2     0.070     0.072     1.793     1.54e-02       na    \n"
       ]
      },
      {
       "output_type": "stream",
       "stream": "stdout",
       "text": [
        "[INFO    ]  >          |      |-  3     0.072     0.075     1.820     4.24e-02       na    \n"
       ]
      },
      {
       "output_type": "stream",
       "stream": "stdout",
       "text": [
        "[INFO    ]  >          |      |-  4     0.075     0.078     1.845     6.70e-02       na    \n"
       ]
      },
      {
       "output_type": "stream",
       "stream": "stdout",
       "text": [
        "[INFO    ]  >          |      |-  5     0.078     0.080     1.857     7.90e-02       na    \n"
       ]
      },
      {
       "output_type": "stream",
       "stream": "stdout",
       "text": [
        "[INFO    ] >>          |      \\_\n"
       ]
      },
      {
       "output_type": "stream",
       "stream": "stdout",
       "text": [
        "[INFO    ] !>          \\_    8.53e-05       na         1.54e-02     0.389\n"
       ]
      },
      {
       "output_type": "stream",
       "stream": "stderr",
       "text": [
        "[2014-05-23 14:22] DEBUG: PyPinT Logging: Work Loop: 111\n"
       ]
      },
      {
       "output_type": "stream",
       "stream": "stderr",
       "text": [
        "[2014-05-23 14:22] DEBUG: PyPinT Logging: Next Iteration\n"
       ]
      },
      {
       "output_type": "stream",
       "stream": "stderr",
       "text": [
        "[2014-05-23 14:22] DEBUG: PyPinT Logging: Starting New Solver Main Loop\n"
       ]
      },
      {
       "output_type": "stream",
       "stream": "stdout",
       "text": [
        "[INFO    ] !>        6\n"
       ]
      },
      {
       "output_type": "stream",
       "stream": "stdout",
       "text": [
        "[INFO    ] >>         \\\n"
       ]
      },
      {
       "output_type": "stream",
       "stream": "stdout",
       "text": [
        "[INFO    ] >>          |-   1     0.070     0.080     0.010\n"
       ]
      },
      {
       "output_type": "stream",
       "stream": "stdout",
       "text": [
        "[INFO    ]  >          |     \\\n"
       ]
      },
      {
       "output_type": "stream",
       "stream": "stdout",
       "text": [
        "[INFO    ]  >          |      |-  1      na       0.070     1.777       na           na    \n"
       ]
      },
      {
       "output_type": "stream",
       "stream": "stdout",
       "text": [
        "[INFO    ]  >          |      |-  2     0.070     0.072     1.793     1.53e-02       na    \n"
       ]
      },
      {
       "output_type": "stream",
       "stream": "stdout",
       "text": [
        "[INFO    ]  >          |      |-  3     0.072     0.075     1.820     4.23e-02       na    \n"
       ]
      },
      {
       "output_type": "stream",
       "stream": "stdout",
       "text": [
        "[INFO    ]  >          |      |-  4     0.075     0.078     1.845     6.71e-02       na    \n"
       ]
      },
      {
       "output_type": "stream",
       "stream": "stdout",
       "text": [
        "[INFO    ]  >          |      |-  5     0.078     0.080     1.857     7.90e-02       na    \n"
       ]
      },
      {
       "output_type": "stream",
       "stream": "stdout",
       "text": [
        "[INFO    ] >>          |      \\_\n"
       ]
      },
      {
       "output_type": "stream",
       "stream": "stdout",
       "text": [
        "[INFO    ] !>          \\_    1.29e-04       na         1.53e-02     0.325\n"
       ]
      },
      {
       "output_type": "stream",
       "stream": "stderr",
       "text": [
        "[2014-05-23 14:22] DEBUG: PyPinT Logging: Work Loop: 112\n"
       ]
      },
      {
       "output_type": "stream",
       "stream": "stderr",
       "text": [
        "[2014-05-23 14:22] DEBUG: PyPinT Logging: Next Iteration\n"
       ]
      },
      {
       "output_type": "stream",
       "stream": "stderr",
       "text": [
        "[2014-05-23 14:22] DEBUG: PyPinT Logging: Starting New Solver Main Loop\n"
       ]
      },
      {
       "output_type": "stream",
       "stream": "stdout",
       "text": [
        "[INFO    ] !>        7\n"
       ]
      },
      {
       "output_type": "stream",
       "stream": "stdout",
       "text": [
        "[INFO    ] >>         \\\n"
       ]
      },
      {
       "output_type": "stream",
       "stream": "stdout",
       "text": [
        "[INFO    ] >>          |-   1     0.070     0.080     0.010\n"
       ]
      },
      {
       "output_type": "stream",
       "stream": "stdout",
       "text": [
        "[INFO    ]  >          |     \\\n"
       ]
      },
      {
       "output_type": "stream",
       "stream": "stdout",
       "text": [
        "[INFO    ]  >          |      |-  1      na       0.070     1.777       na           na    \n"
       ]
      },
      {
       "output_type": "stream",
       "stream": "stdout",
       "text": [
        "[INFO    ]  >          |      |-  2     0.070     0.072     1.793     1.53e-02       na    \n"
       ]
      },
      {
       "output_type": "stream",
       "stream": "stdout",
       "text": [
        "[INFO    ]  >          |      |-  3     0.072     0.075     1.820     4.23e-02       na    \n"
       ]
      },
      {
       "output_type": "stream",
       "stream": "stdout",
       "text": [
        "[INFO    ]  >          |      |-  4     0.075     0.078     1.845     6.71e-02       na    \n"
       ]
      },
      {
       "output_type": "stream",
       "stream": "stdout",
       "text": [
        "[INFO    ]  >          |      |-  5     0.078     0.080     1.857     7.90e-02       na    \n"
       ]
      },
      {
       "output_type": "stream",
       "stream": "stdout",
       "text": [
        "[INFO    ] >>          |      \\_\n"
       ]
      },
      {
       "output_type": "stream",
       "stream": "stdout",
       "text": [
        "[INFO    ] !>          \\_    4.86e-04       na         1.53e-02     0.403\n"
       ]
      },
      {
       "output_type": "stream",
       "stream": "stderr",
       "text": [
        "[2014-05-23 14:22] DEBUG: PyPinT Logging: Work Loop: 113\n"
       ]
      },
      {
       "output_type": "stream",
       "stream": "stderr",
       "text": [
        "[2014-05-23 14:22] DEBUG: PyPinT Logging: Next Iteration\n"
       ]
      },
      {
       "output_type": "stream",
       "stream": "stderr",
       "text": [
        "[2014-05-23 14:22] DEBUG: PyPinT Logging: Starting New Solver Main Loop\n"
       ]
      },
      {
       "output_type": "stream",
       "stream": "stdout",
       "text": [
        "[INFO    ] !>        8\n"
       ]
      },
      {
       "output_type": "stream",
       "stream": "stdout",
       "text": [
        "[INFO    ] >>         \\\n"
       ]
      },
      {
       "output_type": "stream",
       "stream": "stdout",
       "text": [
        "[INFO    ] >>          |-   1     0.070     0.080     0.010\n"
       ]
      },
      {
       "output_type": "stream",
       "stream": "stdout",
       "text": [
        "[INFO    ]  >          |     \\\n"
       ]
      },
      {
       "output_type": "stream",
       "stream": "stdout",
       "text": [
        "[INFO    ]  >          |      |-  1      na       0.070     1.777       na           na    \n"
       ]
      },
      {
       "output_type": "stream",
       "stream": "stdout",
       "text": [
        "[INFO    ]  >          |      |-  2     0.070     0.072     1.793     1.53e-02       na    \n"
       ]
      },
      {
       "output_type": "stream",
       "stream": "stdout",
       "text": [
        "[INFO    ]  >          |      |-  3     0.072     0.075     1.820     4.23e-02       na    \n"
       ]
      },
      {
       "output_type": "stream",
       "stream": "stdout",
       "text": [
        "[INFO    ]  >          |      |-  4     0.075     0.078     1.845     6.71e-02       na    \n"
       ]
      },
      {
       "output_type": "stream",
       "stream": "stdout",
       "text": [
        "[INFO    ]  >          |      |-  5     0.078     0.080     1.857     7.90e-02       na    \n"
       ]
      },
      {
       "output_type": "stream",
       "stream": "stdout",
       "text": [
        "[INFO    ] >>          |      \\_\n"
       ]
      },
      {
       "output_type": "stream",
       "stream": "stdout",
       "text": [
        "[INFO    ] !>          \\_    2.91e-04       na         1.53e-02     0.380\n"
       ]
      },
      {
       "output_type": "stream",
       "stream": "stderr",
       "text": [
        "[2014-05-23 14:22] DEBUG: PyPinT Logging: Work Loop: 114\n"
       ]
      },
      {
       "output_type": "stream",
       "stream": "stderr",
       "text": [
        "[2014-05-23 14:22] DEBUG: PyPinT Logging: Next Iteration\n"
       ]
      },
      {
       "output_type": "stream",
       "stream": "stderr",
       "text": [
        "[2014-05-23 14:22] DEBUG: PyPinT Logging: Starting New Solver Main Loop\n"
       ]
      },
      {
       "output_type": "stream",
       "stream": "stdout",
       "text": [
        "[INFO    ] !>        9\n"
       ]
      },
      {
       "output_type": "stream",
       "stream": "stdout",
       "text": [
        "[INFO    ] >>         \\\n"
       ]
      },
      {
       "output_type": "stream",
       "stream": "stdout",
       "text": [
        "[INFO    ] >>          |-   1     0.070     0.080     0.010\n"
       ]
      },
      {
       "output_type": "stream",
       "stream": "stdout",
       "text": [
        "[INFO    ]  >          |     \\\n"
       ]
      },
      {
       "output_type": "stream",
       "stream": "stdout",
       "text": [
        "[INFO    ]  >          |      |-  1      na       0.070     1.777       na           na    \n"
       ]
      },
      {
       "output_type": "stream",
       "stream": "stdout",
       "text": [
        "[INFO    ]  >          |      |-  2     0.070     0.072     1.793     1.53e-02       na    \n"
       ]
      },
      {
       "output_type": "stream",
       "stream": "stdout",
       "text": [
        "[INFO    ]  >          |      |-  3     0.072     0.075     1.820     4.23e-02       na    \n"
       ]
      },
      {
       "output_type": "stream",
       "stream": "stdout",
       "text": [
        "[INFO    ]  >          |      |-  4     0.075     0.078     1.845     6.71e-02       na    \n"
       ]
      },
      {
       "output_type": "stream",
       "stream": "stdout",
       "text": [
        "[INFO    ]  >          |      |-  5     0.078     0.080     1.857     7.90e-02       na    \n"
       ]
      },
      {
       "output_type": "stream",
       "stream": "stdout",
       "text": [
        "[INFO    ] >>          |      \\_\n"
       ]
      },
      {
       "output_type": "stream",
       "stream": "stdout",
       "text": [
        "[INFO    ] !>          \\_    2.97e-04       na         1.53e-02     0.381\n"
       ]
      },
      {
       "output_type": "stream",
       "stream": "stderr",
       "text": [
        "[2014-05-23 14:22] DEBUG: PyPinT Logging: Work Loop: 115\n"
       ]
      },
      {
       "output_type": "stream",
       "stream": "stderr",
       "text": [
        "[2014-05-23 14:22] DEBUG: PyPinT Logging: Next Iteration\n"
       ]
      },
      {
       "output_type": "stream",
       "stream": "stderr",
       "text": [
        "[2014-05-23 14:22] DEBUG: PyPinT Logging: Starting New Solver Main Loop\n"
       ]
      },
      {
       "output_type": "stream",
       "stream": "stdout",
       "text": [
        "[INFO    ] !>       10\n"
       ]
      },
      {
       "output_type": "stream",
       "stream": "stdout",
       "text": [
        "[INFO    ] >>         \\\n"
       ]
      },
      {
       "output_type": "stream",
       "stream": "stdout",
       "text": [
        "[INFO    ] >>          |-   1     0.070     0.080     0.010\n"
       ]
      },
      {
       "output_type": "stream",
       "stream": "stdout",
       "text": [
        "[INFO    ]  >          |     \\\n"
       ]
      },
      {
       "output_type": "stream",
       "stream": "stdout",
       "text": [
        "[INFO    ]  >          |      |-  1      na       0.070     1.777       na           na    \n"
       ]
      },
      {
       "output_type": "stream",
       "stream": "stdout",
       "text": [
        "[INFO    ]  >          |      |-  2     0.070     0.072     1.793     1.53e-02       na    \n"
       ]
      },
      {
       "output_type": "stream",
       "stream": "stdout",
       "text": [
        "[INFO    ]  >          |      |-  3     0.072     0.075     1.820     4.23e-02       na    \n"
       ]
      },
      {
       "output_type": "stream",
       "stream": "stdout",
       "text": [
        "[INFO    ]  >          |      |-  4     0.075     0.078     1.845     6.71e-02       na    \n"
       ]
      },
      {
       "output_type": "stream",
       "stream": "stdout",
       "text": [
        "[INFO    ]  >          |      |-  5     0.078     0.080     1.857     7.90e-02       na    \n"
       ]
      },
      {
       "output_type": "stream",
       "stream": "stdout",
       "text": [
        "[INFO    ] >>          |      \\_\n"
       ]
      },
      {
       "output_type": "stream",
       "stream": "stdout",
       "text": [
        "[INFO    ] !>          \\_    2.20e-04       na         1.53e-02     0.384\n"
       ]
      },
      {
       "output_type": "stream",
       "stream": "stderr",
       "text": [
        "[2014-05-23 14:22] DEBUG: PyPinT Logging: Work Loop: 116\n"
       ]
      },
      {
       "output_type": "stream",
       "stream": "stderr",
       "text": [
        "[2014-05-23 14:22] DEBUG: PyPinT Logging: Next Iteration\n"
       ]
      },
      {
       "output_type": "stream",
       "stream": "stderr",
       "text": [
        "[2014-05-23 14:22] DEBUG: PyPinT Logging: Starting New Solver Main Loop\n"
       ]
      },
      {
       "output_type": "stream",
       "stream": "stdout",
       "text": [
        "[INFO    ] !>       11\n"
       ]
      },
      {
       "output_type": "stream",
       "stream": "stdout",
       "text": [
        "[INFO    ] >>         \\\n"
       ]
      },
      {
       "output_type": "stream",
       "stream": "stdout",
       "text": [
        "[INFO    ] >>          |-   1     0.070     0.080     0.010\n"
       ]
      },
      {
       "output_type": "stream",
       "stream": "stdout",
       "text": [
        "[INFO    ]  >          |     \\\n"
       ]
      },
      {
       "output_type": "stream",
       "stream": "stdout",
       "text": [
        "[INFO    ]  >          |      |-  1      na       0.070     1.777       na           na    \n"
       ]
      },
      {
       "output_type": "stream",
       "stream": "stdout",
       "text": [
        "[INFO    ]  >          |      |-  2     0.070     0.072     1.793     1.53e-02       na    \n"
       ]
      },
      {
       "output_type": "stream",
       "stream": "stdout",
       "text": [
        "[INFO    ]  >          |      |-  3     0.072     0.075     1.820     4.24e-02       na    \n"
       ]
      },
      {
       "output_type": "stream",
       "stream": "stdout",
       "text": [
        "[INFO    ]  >          |      |-  4     0.075     0.078     1.845     6.71e-02       na    \n"
       ]
      },
      {
       "output_type": "stream",
       "stream": "stdout",
       "text": [
        "[INFO    ]  >          |      |-  5     0.078     0.080     1.857     7.90e-02       na    \n"
       ]
      },
      {
       "output_type": "stream",
       "stream": "stdout",
       "text": [
        "[INFO    ] >>          |      \\_\n"
       ]
      },
      {
       "output_type": "stream",
       "stream": "stdout",
       "text": [
        "[INFO    ] !>          \\_    1.60e-04       na         1.53e-02     0.385\n"
       ]
      },
      {
       "output_type": "stream",
       "stream": "stderr",
       "text": [
        "[2014-05-23 14:22] DEBUG: PyPinT Logging: Work Loop: 117\n"
       ]
      },
      {
       "output_type": "stream",
       "stream": "stderr",
       "text": [
        "[2014-05-23 14:22] DEBUG: PyPinT Logging: Next Iteration\n"
       ]
      },
      {
       "output_type": "stream",
       "stream": "stderr",
       "text": [
        "[2014-05-23 14:22] DEBUG: PyPinT Logging: Starting New Solver Main Loop\n"
       ]
      },
      {
       "output_type": "stream",
       "stream": "stdout",
       "text": [
        "[INFO    ] !>       12\n"
       ]
      },
      {
       "output_type": "stream",
       "stream": "stdout",
       "text": [
        "[INFO    ] >>         \\\n"
       ]
      },
      {
       "output_type": "stream",
       "stream": "stdout",
       "text": [
        "[INFO    ] >>          |-   1     0.070     0.080     0.010\n"
       ]
      },
      {
       "output_type": "stream",
       "stream": "stdout",
       "text": [
        "[INFO    ]  >          |     \\\n"
       ]
      },
      {
       "output_type": "stream",
       "stream": "stdout",
       "text": [
        "[INFO    ]  >          |      |-  1      na       0.070     1.777       na           na    \n"
       ]
      },
      {
       "output_type": "stream",
       "stream": "stdout",
       "text": [
        "[INFO    ]  >          |      |-  2     0.070     0.072     1.793     1.53e-02       na    \n"
       ]
      },
      {
       "output_type": "stream",
       "stream": "stdout",
       "text": [
        "[INFO    ]  >          |      |-  3     0.072     0.075     1.820     4.24e-02       na    \n"
       ]
      },
      {
       "output_type": "stream",
       "stream": "stdout",
       "text": [
        "[INFO    ]  >          |      |-  4     0.075     0.078     1.845     6.71e-02       na    \n"
       ]
      },
      {
       "output_type": "stream",
       "stream": "stdout",
       "text": [
        "[INFO    ]  >          |      |-  5     0.078     0.080     1.857     7.90e-02       na    \n"
       ]
      },
      {
       "output_type": "stream",
       "stream": "stdout",
       "text": [
        "[INFO    ] >>          |      \\_\n"
       ]
      },
      {
       "output_type": "stream",
       "stream": "stdout",
       "text": [
        "[INFO    ] !>          \\_    7.23e-05       na         1.53e-02     0.430\n"
       ]
      },
      {
       "output_type": "stream",
       "stream": "stderr",
       "text": [
        "[2014-05-23 14:22] DEBUG: PyPinT Logging: Work Loop: 118\n"
       ]
      },
      {
       "output_type": "stream",
       "stream": "stderr",
       "text": [
        "[2014-05-23 14:22] DEBUG: PyPinT Logging: Next Iteration\n"
       ]
      },
      {
       "output_type": "stream",
       "stream": "stderr",
       "text": [
        "[2014-05-23 14:22] DEBUG: PyPinT Logging: Starting New Solver Main Loop\n"
       ]
      },
      {
       "output_type": "stream",
       "stream": "stdout",
       "text": [
        "[INFO    ] !>       13\n"
       ]
      },
      {
       "output_type": "stream",
       "stream": "stdout",
       "text": [
        "[INFO    ] >>         \\\n"
       ]
      },
      {
       "output_type": "stream",
       "stream": "stdout",
       "text": [
        "[INFO    ] >>          |-   1     0.070     0.080     0.010\n"
       ]
      },
      {
       "output_type": "stream",
       "stream": "stdout",
       "text": [
        "[INFO    ]  >          |     \\\n"
       ]
      },
      {
       "output_type": "stream",
       "stream": "stdout",
       "text": [
        "[INFO    ]  >          |      |-  1      na       0.070     1.777       na           na    \n"
       ]
      },
      {
       "output_type": "stream",
       "stream": "stdout",
       "text": [
        "[INFO    ]  >          |      |-  2     0.070     0.072     1.793     1.53e-02       na    \n"
       ]
      },
      {
       "output_type": "stream",
       "stream": "stdout",
       "text": [
        "[INFO    ]  >          |      |-  3     0.072     0.075     1.820     4.24e-02       na    \n"
       ]
      },
      {
       "output_type": "stream",
       "stream": "stdout",
       "text": [
        "[INFO    ]  >          |      |-  4     0.075     0.078     1.845     6.71e-02       na    \n"
       ]
      },
      {
       "output_type": "stream",
       "stream": "stdout",
       "text": [
        "[INFO    ]  >          |      |-  5     0.078     0.080     1.857     7.90e-02       na    \n"
       ]
      },
      {
       "output_type": "stream",
       "stream": "stdout",
       "text": [
        "[INFO    ] >>          |      \\_\n"
       ]
      },
      {
       "output_type": "stream",
       "stream": "stdout",
       "text": [
        "[INFO    ] !>          \\_    2.75e-05       na         1.53e-02     0.384\n"
       ]
      },
      {
       "output_type": "stream",
       "stream": "stderr",
       "text": [
        "[2014-05-23 14:22] DEBUG: PyPinT Logging: Work Loop: 119\n"
       ]
      },
      {
       "output_type": "stream",
       "stream": "stderr",
       "text": [
        "[2014-05-23 14:22] DEBUG: PyPinT Logging: Next Iteration\n"
       ]
      },
      {
       "output_type": "stream",
       "stream": "stderr",
       "text": [
        "[2014-05-23 14:22] DEBUG: PyPinT Logging: Starting New Solver Main Loop\n"
       ]
      },
      {
       "output_type": "stream",
       "stream": "stdout",
       "text": [
        "[INFO    ] !>       14\n"
       ]
      },
      {
       "output_type": "stream",
       "stream": "stdout",
       "text": [
        "[INFO    ] >>         \\\n"
       ]
      },
      {
       "output_type": "stream",
       "stream": "stdout",
       "text": [
        "[INFO    ] >>          |-   1     0.070     0.080     0.010\n"
       ]
      },
      {
       "output_type": "stream",
       "stream": "stdout",
       "text": [
        "[INFO    ]  >          |     \\\n"
       ]
      },
      {
       "output_type": "stream",
       "stream": "stdout",
       "text": [
        "[INFO    ]  >          |      |-  1      na       0.070     1.777       na           na    \n"
       ]
      },
      {
       "output_type": "stream",
       "stream": "stdout",
       "text": [
        "[INFO    ]  >          |      |-  2     0.070     0.072     1.793     1.53e-02       na    \n"
       ]
      },
      {
       "output_type": "stream",
       "stream": "stdout",
       "text": [
        "[INFO    ]  >          |      |-  3     0.072     0.075     1.820     4.24e-02       na    \n"
       ]
      },
      {
       "output_type": "stream",
       "stream": "stdout",
       "text": [
        "[INFO    ]  >          |      |-  4     0.075     0.078     1.845     6.71e-02       na    \n"
       ]
      },
      {
       "output_type": "stream",
       "stream": "stdout",
       "text": [
        "[INFO    ]  >          |      |-  5     0.078     0.080     1.857     7.90e-02       na    \n"
       ]
      },
      {
       "output_type": "stream",
       "stream": "stdout",
       "text": [
        "[INFO    ] >>          |      \\_\n"
       ]
      },
      {
       "output_type": "stream",
       "stream": "stdout",
       "text": [
        "[INFO    ] !>          \\_    1.24e-05       na         1.53e-02     0.387\n"
       ]
      },
      {
       "output_type": "stream",
       "stream": "stderr",
       "text": [
        "[2014-05-23 14:22] DEBUG: PyPinT Logging: Work Loop: 120\n"
       ]
      },
      {
       "output_type": "stream",
       "stream": "stderr",
       "text": [
        "[2014-05-23 14:22] DEBUG: PyPinT Logging: Next Iteration\n"
       ]
      },
      {
       "output_type": "stream",
       "stream": "stderr",
       "text": [
        "[2014-05-23 14:22] DEBUG: PyPinT Logging: Starting New Solver Main Loop\n"
       ]
      },
      {
       "output_type": "stream",
       "stream": "stdout",
       "text": [
        "[INFO    ] !>       15\n"
       ]
      },
      {
       "output_type": "stream",
       "stream": "stdout",
       "text": [
        "[INFO    ] >>         \\\n"
       ]
      },
      {
       "output_type": "stream",
       "stream": "stdout",
       "text": [
        "[INFO    ] >>          |-   1     0.070     0.080     0.010\n"
       ]
      },
      {
       "output_type": "stream",
       "stream": "stdout",
       "text": [
        "[INFO    ]  >          |     \\\n"
       ]
      },
      {
       "output_type": "stream",
       "stream": "stdout",
       "text": [
        "[INFO    ]  >          |      |-  1      na       0.070     1.777       na           na    \n"
       ]
      },
      {
       "output_type": "stream",
       "stream": "stdout",
       "text": [
        "[INFO    ]  >          |      |-  2     0.070     0.072     1.793     1.53e-02       na    \n"
       ]
      },
      {
       "output_type": "stream",
       "stream": "stdout",
       "text": [
        "[INFO    ]  >          |      |-  3     0.072     0.075     1.820     4.24e-02       na    \n"
       ]
      },
      {
       "output_type": "stream",
       "stream": "stdout",
       "text": [
        "[INFO    ]  >          |      |-  4     0.075     0.078     1.845     6.71e-02       na    \n"
       ]
      },
      {
       "output_type": "stream",
       "stream": "stdout",
       "text": [
        "[INFO    ]  >          |      |-  5     0.078     0.080     1.857     7.90e-02       na    \n"
       ]
      },
      {
       "output_type": "stream",
       "stream": "stdout",
       "text": [
        "[INFO    ] >>          |      \\_\n"
       ]
      },
      {
       "output_type": "stream",
       "stream": "stderr",
       "text": [
        "[2014-05-23 14:22] DEBUG: PyPinT Logging: Maximum of iterations exceeded: 15 >= 15\n"
       ]
      },
      {
       "output_type": "stream",
       "stream": "stdout",
       "text": [
        "[INFO    ] !>          \\_    3.21e-06       na         1.53e-02     0.388\n"
       ]
      },
      {
       "output_type": "stream",
       "stream": "stdout",
       "text": [
        "[INFO    ] !>   Converged after 15 iteration(s):\n"
       ]
      },
      {
       "output_type": "stream",
       "stream": "stdout",
       "text": [
        "[INFO    ] !>     Threshold condition(s) met:    iterations\n"
       ]
      },
      {
       "output_type": "stream",
       "stream": "stdout",
       "text": [
        "[INFO    ] !>     Final Residual:                7.898e-02\n"
       ]
      },
      {
       "output_type": "stream",
       "stream": "stdout",
       "text": [
        "[INFO    ] !>     Solution Reduction:            3.212e-06\n"
       ]
      },
      {
       "output_type": "stream",
       "stream": "stderr",
       "text": [
        "[2014-05-23 14:22] DEBUG: PyPinT Logging: Work Loop: 121\n"
       ]
      },
      {
       "output_type": "stream",
       "stream": "stderr",
       "text": [
        "[2014-05-23 14:22] DEBUG: PyPinT Logging: Nodes: [0.08, 0.08172673164646012, 0.08499999999999999, 0.08827326835353988, 0.09]\n"
       ]
      },
      {
       "output_type": "stream",
       "stream": "stderr",
       "text": [
        "[2014-05-23 14:22] DEBUG: PyPinT Logging: Nodes: [0.08, 0.08172673164646012, 0.08499999999999999, 0.08827326835353988, 0.09]\n"
       ]
      },
      {
       "output_type": "stream",
       "stream": "stderr",
       "text": [
        "[2014-05-23 14:22] DEBUG: PyPinT Logging: New Interval Initialized\n"
       ]
      },
      {
       "output_type": "stream",
       "stream": "stdout",
       "text": [
        "[INFO    ] !> ................................................................................\n"
       ]
      },
      {
       "output_type": "stream",
       "stream": "stdout",
       "text": [
        "[INFO    ] !>   Interval: [0.080, 0.090]\n"
       ]
      },
      {
       "output_type": "stream",
       "stream": "stdout",
       "text": [
        "[INFO    ] !>    iter\n"
       ]
      },
      {
       "output_type": "stream",
       "stream": "stdout",
       "text": [
        "[INFO    ] >>         \\\n"
       ]
      },
      {
       "output_type": "stream",
       "stream": "stdout",
       "text": [
        "[INFO    ] >>          |- time    start     end        delta\n"
       ]
      },
      {
       "output_type": "stream",
       "stream": "stdout",
       "text": [
        "[INFO    ]  >          |     \\\n"
       ]
      },
      {
       "output_type": "stream",
       "stream": "stdout",
       "text": [
        "[INFO    ]  >          |      |- step    t_0      t_1       phi(t_1)    resid       err\n"
       ]
      },
      {
       "output_type": "stream",
       "stream": "stdout",
       "text": [
        "[INFO    ] >>          |      \\_\n"
       ]
      },
      {
       "output_type": "stream",
       "stream": "stdout",
       "text": [
        "[INFO    ] !>          \\_   sol r.red    err r.red      resid       time\n"
       ]
      },
      {
       "output_type": "stream",
       "stream": "stderr",
       "text": [
        "[2014-05-23 14:22] DEBUG: PyPinT Logging: Starting New Solver Main Loop\n"
       ]
      },
      {
       "output_type": "stream",
       "stream": "stdout",
       "text": [
        "[INFO    ] !>        1\n"
       ]
      },
      {
       "output_type": "stream",
       "stream": "stdout",
       "text": [
        "[INFO    ] >>         \\\n"
       ]
      },
      {
       "output_type": "stream",
       "stream": "stdout",
       "text": [
        "[INFO    ] >>          |-   1     0.080     0.090     0.010\n"
       ]
      },
      {
       "output_type": "stream",
       "stream": "stdout",
       "text": [
        "[INFO    ]  >          |     \\\n"
       ]
      },
      {
       "output_type": "stream",
       "stream": "stdout",
       "text": [
        "[INFO    ]  >          |      |-  1      na       0.080     1.859       na           na    \n"
       ]
      },
      {
       "output_type": "stream",
       "stream": "stdout",
       "text": [
        "[INFO    ]  >          |      |-  2     0.080     0.082     1.870     1.06e-02       na    \n"
       ]
      },
      {
       "output_type": "stream",
       "stream": "stdout",
       "text": [
        "[INFO    ]  >          |      |-  3     0.082     0.085     1.891     3.10e-02       na    \n"
       ]
      },
      {
       "output_type": "stream",
       "stream": "stdout",
       "text": [
        "[INFO    ]  >          |      |-  4     0.085     0.088     1.910     5.04e-02       na    \n"
       ]
      },
      {
       "output_type": "stream",
       "stream": "stdout",
       "text": [
        "[INFO    ]  >          |      |-  5     0.088     0.090     1.920     6.01e-02       na    \n"
       ]
      },
      {
       "output_type": "stream",
       "stream": "stdout",
       "text": [
        "[INFO    ] >>          |      \\_\n"
       ]
      },
      {
       "output_type": "stream",
       "stream": "stderr",
       "text": [
        "[2014-05-23 14:22] DEBUG: PyPinT Logging: Skipping computation of reduction: No previous iteration available.\n"
       ]
      },
      {
       "output_type": "stream",
       "stream": "stdout",
       "text": [
        "[INFO    ] !>          \\_      na           na           na         0.627\n"
       ]
      },
      {
       "output_type": "stream",
       "stream": "stderr",
       "text": [
        "[2014-05-23 14:22] DEBUG: PyPinT Logging: Work Loop: 122\n"
       ]
      },
      {
       "output_type": "stream",
       "stream": "stderr",
       "text": [
        "[2014-05-23 14:22] DEBUG: PyPinT Logging: Next Iteration\n"
       ]
      },
      {
       "output_type": "stream",
       "stream": "stderr",
       "text": [
        "[2014-05-23 14:22] DEBUG: PyPinT Logging: Starting New Solver Main Loop\n"
       ]
      },
      {
       "output_type": "stream",
       "stream": "stdout",
       "text": [
        "[INFO    ] !>        2\n"
       ]
      },
      {
       "output_type": "stream",
       "stream": "stdout",
       "text": [
        "[INFO    ] >>         \\\n"
       ]
      },
      {
       "output_type": "stream",
       "stream": "stdout",
       "text": [
        "[INFO    ] >>          |-   1     0.080     0.090     0.010\n"
       ]
      },
      {
       "output_type": "stream",
       "stream": "stdout",
       "text": [
        "[INFO    ]  >          |     \\\n"
       ]
      },
      {
       "output_type": "stream",
       "stream": "stdout",
       "text": [
        "[INFO    ]  >          |      |-  1      na       0.080     1.859       na           na    \n"
       ]
      },
      {
       "output_type": "stream",
       "stream": "stdout",
       "text": [
        "[INFO    ]  >          |      |-  2     0.080     0.082     1.870     1.05e-02       na    \n"
       ]
      },
      {
       "output_type": "stream",
       "stream": "stdout",
       "text": [
        "[INFO    ]  >          |      |-  3     0.082     0.085     1.890     3.11e-02       na    \n"
       ]
      },
      {
       "output_type": "stream",
       "stream": "stdout",
       "text": [
        "[INFO    ]  >          |      |-  4     0.085     0.088     1.909     5.18e-02       na    \n"
       ]
      },
      {
       "output_type": "stream",
       "stream": "stdout",
       "text": [
        "[INFO    ]  >          |      |-  5     0.088     0.090     1.919     6.30e-02       na    \n"
       ]
      },
      {
       "output_type": "stream",
       "stream": "stdout",
       "text": [
        "[INFO    ] >>          |      \\_\n"
       ]
      },
      {
       "output_type": "stream",
       "stream": "stdout",
       "text": [
        "[INFO    ] !>          \\_    5.39e-02       na         1.05e-02     0.440\n"
       ]
      },
      {
       "output_type": "stream",
       "stream": "stderr",
       "text": [
        "[2014-05-23 14:22] DEBUG: PyPinT Logging: Work Loop: 123\n"
       ]
      },
      {
       "output_type": "stream",
       "stream": "stderr",
       "text": [
        "[2014-05-23 14:22] DEBUG: PyPinT Logging: Next Iteration\n"
       ]
      },
      {
       "output_type": "stream",
       "stream": "stderr",
       "text": [
        "[2014-05-23 14:22] DEBUG: PyPinT Logging: Starting New Solver Main Loop\n"
       ]
      },
      {
       "output_type": "stream",
       "stream": "stdout",
       "text": [
        "[INFO    ] !>        3\n"
       ]
      },
      {
       "output_type": "stream",
       "stream": "stdout",
       "text": [
        "[INFO    ] >>         \\\n"
       ]
      },
      {
       "output_type": "stream",
       "stream": "stdout",
       "text": [
        "[INFO    ] >>          |-   1     0.080     0.090     0.010\n"
       ]
      },
      {
       "output_type": "stream",
       "stream": "stdout",
       "text": [
        "[INFO    ]  >          |     \\\n"
       ]
      },
      {
       "output_type": "stream",
       "stream": "stdout",
       "text": [
        "[INFO    ]  >          |      |-  1      na       0.080     1.859       na           na    \n"
       ]
      },
      {
       "output_type": "stream",
       "stream": "stdout",
       "text": [
        "[INFO    ]  >          |      |-  2     0.080     0.082     1.870     1.06e-02       na    \n"
       ]
      },
      {
       "output_type": "stream",
       "stream": "stdout",
       "text": [
        "[INFO    ]  >          |      |-  3     0.082     0.085     1.890     3.18e-02       na    \n"
       ]
      },
      {
       "output_type": "stream",
       "stream": "stdout",
       "text": [
        "[INFO    ]  >          |      |-  4     0.085     0.088     1.909     5.29e-02       na    \n"
       ]
      },
      {
       "output_type": "stream",
       "stream": "stdout",
       "text": [
        "[INFO    ]  >          |      |-  5     0.088     0.090     1.919     6.42e-02       na    \n"
       ]
      },
      {
       "output_type": "stream",
       "stream": "stdout",
       "text": [
        "[INFO    ] >>          |      \\_\n"
       ]
      },
      {
       "output_type": "stream",
       "stream": "stdout",
       "text": [
        "[INFO    ] !>          \\_    9.48e-03       na         1.06e-02     0.444\n"
       ]
      },
      {
       "output_type": "stream",
       "stream": "stderr",
       "text": [
        "[2014-05-23 14:22] DEBUG: PyPinT Logging: Work Loop: 124\n"
       ]
      },
      {
       "output_type": "stream",
       "stream": "stderr",
       "text": [
        "[2014-05-23 14:22] DEBUG: PyPinT Logging: Next Iteration\n"
       ]
      },
      {
       "output_type": "stream",
       "stream": "stderr",
       "text": [
        "[2014-05-23 14:22] DEBUG: PyPinT Logging: Starting New Solver Main Loop\n"
       ]
      },
      {
       "output_type": "stream",
       "stream": "stdout",
       "text": [
        "[INFO    ] !>        4\n"
       ]
      },
      {
       "output_type": "stream",
       "stream": "stdout",
       "text": [
        "[INFO    ] >>         \\\n"
       ]
      },
      {
       "output_type": "stream",
       "stream": "stdout",
       "text": [
        "[INFO    ] >>          |-   1     0.080     0.090     0.010\n"
       ]
      },
      {
       "output_type": "stream",
       "stream": "stdout",
       "text": [
        "[INFO    ]  >          |     \\\n"
       ]
      },
      {
       "output_type": "stream",
       "stream": "stdout",
       "text": [
        "[INFO    ]  >          |      |-  1      na       0.080     1.859       na           na    \n"
       ]
      },
      {
       "output_type": "stream",
       "stream": "stdout",
       "text": [
        "[INFO    ]  >          |      |-  2     0.080     0.082     1.870     1.07e-02       na    \n"
       ]
      },
      {
       "output_type": "stream",
       "stream": "stdout",
       "text": [
        "[INFO    ]  >          |      |-  3     0.082     0.085     1.890     3.20e-02       na    \n"
       ]
      },
      {
       "output_type": "stream",
       "stream": "stdout",
       "text": [
        "[INFO    ]  >          |      |-  4     0.085     0.088     1.909     5.32e-02       na    \n"
       ]
      },
      {
       "output_type": "stream",
       "stream": "stdout",
       "text": [
        "[INFO    ]  >          |      |-  5     0.088     0.090     1.919     6.45e-02       na    \n"
       ]
      },
      {
       "output_type": "stream",
       "stream": "stdout",
       "text": [
        "[INFO    ] >>          |      \\_\n"
       ]
      },
      {
       "output_type": "stream",
       "stream": "stdout",
       "text": [
        "[INFO    ] !>          \\_    5.49e-04       na         1.07e-02     0.386\n"
       ]
      },
      {
       "output_type": "stream",
       "stream": "stderr",
       "text": [
        "[2014-05-23 14:22] DEBUG: PyPinT Logging: Work Loop: 125\n"
       ]
      },
      {
       "output_type": "stream",
       "stream": "stderr",
       "text": [
        "[2014-05-23 14:22] DEBUG: PyPinT Logging: Next Iteration\n"
       ]
      },
      {
       "output_type": "stream",
       "stream": "stderr",
       "text": [
        "[2014-05-23 14:22] DEBUG: PyPinT Logging: Starting New Solver Main Loop\n"
       ]
      },
      {
       "output_type": "stream",
       "stream": "stdout",
       "text": [
        "[INFO    ] !>        5\n"
       ]
      },
      {
       "output_type": "stream",
       "stream": "stdout",
       "text": [
        "[INFO    ] >>         \\\n"
       ]
      },
      {
       "output_type": "stream",
       "stream": "stdout",
       "text": [
        "[INFO    ] >>          |-   1     0.080     0.090     0.010\n"
       ]
      },
      {
       "output_type": "stream",
       "stream": "stdout",
       "text": [
        "[INFO    ]  >          |     \\\n"
       ]
      },
      {
       "output_type": "stream",
       "stream": "stdout",
       "text": [
        "[INFO    ]  >          |      |-  1      na       0.080     1.859       na           na    \n"
       ]
      },
      {
       "output_type": "stream",
       "stream": "stdout",
       "text": [
        "[INFO    ]  >          |      |-  2     0.080     0.082     1.870     1.08e-02       na    \n"
       ]
      },
      {
       "output_type": "stream",
       "stream": "stdout",
       "text": [
        "[INFO    ]  >          |      |-  3     0.082     0.085     1.890     3.20e-02       na    \n"
       ]
      },
      {
       "output_type": "stream",
       "stream": "stdout",
       "text": [
        "[INFO    ]  >          |      |-  4     0.085     0.088     1.909     5.32e-02       na    \n"
       ]
      },
      {
       "output_type": "stream",
       "stream": "stdout",
       "text": [
        "[INFO    ]  >          |      |-  5     0.088     0.090     1.919     6.46e-02       na    \n"
       ]
      },
      {
       "output_type": "stream",
       "stream": "stdout",
       "text": [
        "[INFO    ] >>          |      \\_\n"
       ]
      },
      {
       "output_type": "stream",
       "stream": "stdout",
       "text": [
        "[INFO    ] !>          \\_    7.21e-04       na         1.08e-02     0.385\n"
       ]
      },
      {
       "output_type": "stream",
       "stream": "stderr",
       "text": [
        "[2014-05-23 14:22] DEBUG: PyPinT Logging: Work Loop: 126\n"
       ]
      },
      {
       "output_type": "stream",
       "stream": "stderr",
       "text": [
        "[2014-05-23 14:22] DEBUG: PyPinT Logging: Next Iteration\n"
       ]
      },
      {
       "output_type": "stream",
       "stream": "stderr",
       "text": [
        "[2014-05-23 14:22] DEBUG: PyPinT Logging: Starting New Solver Main Loop\n"
       ]
      },
      {
       "output_type": "stream",
       "stream": "stdout",
       "text": [
        "[INFO    ] !>        6\n"
       ]
      },
      {
       "output_type": "stream",
       "stream": "stdout",
       "text": [
        "[INFO    ] >>         \\\n"
       ]
      },
      {
       "output_type": "stream",
       "stream": "stdout",
       "text": [
        "[INFO    ] >>          |-   1     0.080     0.090     0.010\n"
       ]
      },
      {
       "output_type": "stream",
       "stream": "stdout",
       "text": [
        "[INFO    ]  >          |     \\\n"
       ]
      },
      {
       "output_type": "stream",
       "stream": "stdout",
       "text": [
        "[INFO    ]  >          |      |-  1      na       0.080     1.859       na           na    \n"
       ]
      },
      {
       "output_type": "stream",
       "stream": "stdout",
       "text": [
        "[INFO    ]  >          |      |-  2     0.080     0.082     1.870     1.08e-02       na    \n"
       ]
      },
      {
       "output_type": "stream",
       "stream": "stdout",
       "text": [
        "[INFO    ]  >          |      |-  3     0.082     0.085     1.890     3.21e-02       na    \n"
       ]
      },
      {
       "output_type": "stream",
       "stream": "stdout",
       "text": [
        "[INFO    ]  >          |      |-  4     0.085     0.088     1.909     5.33e-02       na    \n"
       ]
      },
      {
       "output_type": "stream",
       "stream": "stdout",
       "text": [
        "[INFO    ]  >          |      |-  5     0.088     0.090     1.919     6.46e-02       na    \n"
       ]
      },
      {
       "output_type": "stream",
       "stream": "stdout",
       "text": [
        "[INFO    ] >>          |      \\_\n"
       ]
      },
      {
       "output_type": "stream",
       "stream": "stdout",
       "text": [
        "[INFO    ] !>          \\_    8.83e-04       na         1.08e-02     0.327\n"
       ]
      },
      {
       "output_type": "stream",
       "stream": "stderr",
       "text": [
        "[2014-05-23 14:22] DEBUG: PyPinT Logging: Work Loop: 127\n"
       ]
      },
      {
       "output_type": "stream",
       "stream": "stderr",
       "text": [
        "[2014-05-23 14:22] DEBUG: PyPinT Logging: Next Iteration\n"
       ]
      },
      {
       "output_type": "stream",
       "stream": "stderr",
       "text": [
        "[2014-05-23 14:22] DEBUG: PyPinT Logging: Starting New Solver Main Loop\n"
       ]
      },
      {
       "output_type": "stream",
       "stream": "stdout",
       "text": [
        "[INFO    ] !>        7\n"
       ]
      },
      {
       "output_type": "stream",
       "stream": "stdout",
       "text": [
        "[INFO    ] >>         \\\n"
       ]
      },
      {
       "output_type": "stream",
       "stream": "stdout",
       "text": [
        "[INFO    ] >>          |-   1     0.080     0.090     0.010\n"
       ]
      },
      {
       "output_type": "stream",
       "stream": "stdout",
       "text": [
        "[INFO    ]  >          |     \\\n"
       ]
      },
      {
       "output_type": "stream",
       "stream": "stdout",
       "text": [
        "[INFO    ]  >          |      |-  1      na       0.080     1.859       na           na    \n"
       ]
      },
      {
       "output_type": "stream",
       "stream": "stdout",
       "text": [
        "[INFO    ]  >          |      |-  2     0.080     0.082     1.870     1.08e-02       na    \n"
       ]
      },
      {
       "output_type": "stream",
       "stream": "stdout",
       "text": [
        "[INFO    ]  >          |      |-  3     0.082     0.085     1.890     3.21e-02       na    \n"
       ]
      },
      {
       "output_type": "stream",
       "stream": "stdout",
       "text": [
        "[INFO    ]  >          |      |-  4     0.085     0.088     1.909     5.33e-02       na    \n"
       ]
      },
      {
       "output_type": "stream",
       "stream": "stdout",
       "text": [
        "[INFO    ]  >          |      |-  5     0.088     0.090     1.919     6.46e-02       na    \n"
       ]
      },
      {
       "output_type": "stream",
       "stream": "stdout",
       "text": [
        "[INFO    ] >>          |      \\_\n"
       ]
      },
      {
       "output_type": "stream",
       "stream": "stdout",
       "text": [
        "[INFO    ] !>          \\_    1.30e-04       na         1.08e-02     0.385\n"
       ]
      },
      {
       "output_type": "stream",
       "stream": "stderr",
       "text": [
        "[2014-05-23 14:22] DEBUG: PyPinT Logging: Work Loop: 128\n"
       ]
      },
      {
       "output_type": "stream",
       "stream": "stderr",
       "text": [
        "[2014-05-23 14:22] DEBUG: PyPinT Logging: Next Iteration\n"
       ]
      },
      {
       "output_type": "stream",
       "stream": "stderr",
       "text": [
        "[2014-05-23 14:22] DEBUG: PyPinT Logging: Starting New Solver Main Loop\n"
       ]
      },
      {
       "output_type": "stream",
       "stream": "stdout",
       "text": [
        "[INFO    ] !>        8\n"
       ]
      },
      {
       "output_type": "stream",
       "stream": "stdout",
       "text": [
        "[INFO    ] >>         \\\n"
       ]
      },
      {
       "output_type": "stream",
       "stream": "stdout",
       "text": [
        "[INFO    ] >>          |-   1     0.080     0.090     0.010\n"
       ]
      },
      {
       "output_type": "stream",
       "stream": "stdout",
       "text": [
        "[INFO    ]  >          |     \\\n"
       ]
      },
      {
       "output_type": "stream",
       "stream": "stdout",
       "text": [
        "[INFO    ]  >          |      |-  1      na       0.080     1.859       na           na    \n"
       ]
      },
      {
       "output_type": "stream",
       "stream": "stdout",
       "text": [
        "[INFO    ]  >          |      |-  2     0.080     0.082     1.870     1.08e-02       na    \n"
       ]
      },
      {
       "output_type": "stream",
       "stream": "stdout",
       "text": [
        "[INFO    ]  >          |      |-  3     0.082     0.085     1.890     3.21e-02       na    \n"
       ]
      },
      {
       "output_type": "stream",
       "stream": "stdout",
       "text": [
        "[INFO    ]  >          |      |-  4     0.085     0.088     1.909     5.33e-02       na    \n"
       ]
      },
      {
       "output_type": "stream",
       "stream": "stdout",
       "text": [
        "[INFO    ]  >          |      |-  5     0.088     0.090     1.919     6.46e-02       na    \n"
       ]
      },
      {
       "output_type": "stream",
       "stream": "stdout",
       "text": [
        "[INFO    ] >>          |      \\_\n"
       ]
      },
      {
       "output_type": "stream",
       "stream": "stdout",
       "text": [
        "[INFO    ] !>          \\_    3.15e-04       na         1.08e-02     0.381\n"
       ]
      },
      {
       "output_type": "stream",
       "stream": "stderr",
       "text": [
        "[2014-05-23 14:22] DEBUG: PyPinT Logging: Work Loop: 129\n"
       ]
      },
      {
       "output_type": "stream",
       "stream": "stderr",
       "text": [
        "[2014-05-23 14:22] DEBUG: PyPinT Logging: Next Iteration\n"
       ]
      },
      {
       "output_type": "stream",
       "stream": "stderr",
       "text": [
        "[2014-05-23 14:22] DEBUG: PyPinT Logging: Starting New Solver Main Loop\n"
       ]
      },
      {
       "output_type": "stream",
       "stream": "stdout",
       "text": [
        "[INFO    ] !>        9\n"
       ]
      },
      {
       "output_type": "stream",
       "stream": "stdout",
       "text": [
        "[INFO    ] >>         \\\n"
       ]
      },
      {
       "output_type": "stream",
       "stream": "stdout",
       "text": [
        "[INFO    ] >>          |-   1     0.080     0.090     0.010\n"
       ]
      },
      {
       "output_type": "stream",
       "stream": "stdout",
       "text": [
        "[INFO    ]  >          |     \\\n"
       ]
      },
      {
       "output_type": "stream",
       "stream": "stdout",
       "text": [
        "[INFO    ]  >          |      |-  1      na       0.080     1.859       na           na    \n"
       ]
      },
      {
       "output_type": "stream",
       "stream": "stdout",
       "text": [
        "[INFO    ]  >          |      |-  2     0.080     0.082     1.870     1.08e-02       na    \n"
       ]
      },
      {
       "output_type": "stream",
       "stream": "stdout",
       "text": [
        "[INFO    ]  >          |      |-  3     0.082     0.085     1.890     3.21e-02       na    \n"
       ]
      },
      {
       "output_type": "stream",
       "stream": "stdout",
       "text": [
        "[INFO    ]  >          |      |-  4     0.085     0.088     1.909     5.33e-02       na    \n"
       ]
      },
      {
       "output_type": "stream",
       "stream": "stdout",
       "text": [
        "[INFO    ]  >          |      |-  5     0.088     0.090     1.919     6.46e-02       na    \n"
       ]
      },
      {
       "output_type": "stream",
       "stream": "stdout",
       "text": [
        "[INFO    ] >>          |      \\_\n"
       ]
      },
      {
       "output_type": "stream",
       "stream": "stdout",
       "text": [
        "[INFO    ] !>          \\_    1.34e-04       na         1.08e-02     0.384\n"
       ]
      },
      {
       "output_type": "stream",
       "stream": "stderr",
       "text": [
        "[2014-05-23 14:22] DEBUG: PyPinT Logging: Work Loop: 130\n"
       ]
      },
      {
       "output_type": "stream",
       "stream": "stderr",
       "text": [
        "[2014-05-23 14:22] DEBUG: PyPinT Logging: Next Iteration\n"
       ]
      },
      {
       "output_type": "stream",
       "stream": "stderr",
       "text": [
        "[2014-05-23 14:22] DEBUG: PyPinT Logging: Starting New Solver Main Loop\n"
       ]
      },
      {
       "output_type": "stream",
       "stream": "stdout",
       "text": [
        "[INFO    ] !>       10\n"
       ]
      },
      {
       "output_type": "stream",
       "stream": "stdout",
       "text": [
        "[INFO    ] >>         \\\n"
       ]
      },
      {
       "output_type": "stream",
       "stream": "stdout",
       "text": [
        "[INFO    ] >>          |-   1     0.080     0.090     0.010\n"
       ]
      },
      {
       "output_type": "stream",
       "stream": "stdout",
       "text": [
        "[INFO    ]  >          |     \\\n"
       ]
      },
      {
       "output_type": "stream",
       "stream": "stdout",
       "text": [
        "[INFO    ]  >          |      |-  1      na       0.080     1.859       na           na    \n"
       ]
      },
      {
       "output_type": "stream",
       "stream": "stdout",
       "text": [
        "[INFO    ]  >          |      |-  2     0.080     0.082     1.870     1.08e-02       na    \n"
       ]
      },
      {
       "output_type": "stream",
       "stream": "stdout",
       "text": [
        "[INFO    ]  >          |      |-  3     0.082     0.085     1.890     3.21e-02       na    \n"
       ]
      },
      {
       "output_type": "stream",
       "stream": "stdout",
       "text": [
        "[INFO    ]  >          |      |-  4     0.085     0.088     1.909     5.33e-02       na    \n"
       ]
      },
      {
       "output_type": "stream",
       "stream": "stdout",
       "text": [
        "[INFO    ]  >          |      |-  5     0.088     0.090     1.919     6.46e-02       na    \n"
       ]
      },
      {
       "output_type": "stream",
       "stream": "stdout",
       "text": [
        "[INFO    ] >>          |      \\_\n"
       ]
      },
      {
       "output_type": "stream",
       "stream": "stdout",
       "text": [
        "[INFO    ] !>          \\_    7.61e-05       na         1.08e-02     0.387\n"
       ]
      },
      {
       "output_type": "stream",
       "stream": "stderr",
       "text": [
        "[2014-05-23 14:22] DEBUG: PyPinT Logging: Work Loop: 131\n"
       ]
      },
      {
       "output_type": "stream",
       "stream": "stderr",
       "text": [
        "[2014-05-23 14:22] DEBUG: PyPinT Logging: Next Iteration\n"
       ]
      },
      {
       "output_type": "stream",
       "stream": "stderr",
       "text": [
        "[2014-05-23 14:22] DEBUG: PyPinT Logging: Starting New Solver Main Loop\n"
       ]
      },
      {
       "output_type": "stream",
       "stream": "stdout",
       "text": [
        "[INFO    ] !>       11\n"
       ]
      },
      {
       "output_type": "stream",
       "stream": "stdout",
       "text": [
        "[INFO    ] >>         \\\n"
       ]
      },
      {
       "output_type": "stream",
       "stream": "stdout",
       "text": [
        "[INFO    ] >>          |-   1     0.080     0.090     0.010\n"
       ]
      },
      {
       "output_type": "stream",
       "stream": "stdout",
       "text": [
        "[INFO    ]  >          |     \\\n"
       ]
      },
      {
       "output_type": "stream",
       "stream": "stdout",
       "text": [
        "[INFO    ]  >          |      |-  1      na       0.080     1.859       na           na    \n"
       ]
      },
      {
       "output_type": "stream",
       "stream": "stdout",
       "text": [
        "[INFO    ]  >          |      |-  2     0.080     0.082     1.870     1.08e-02       na    \n"
       ]
      },
      {
       "output_type": "stream",
       "stream": "stdout",
       "text": [
        "[INFO    ]  >          |      |-  3     0.082     0.085     1.890     3.21e-02       na    \n"
       ]
      },
      {
       "output_type": "stream",
       "stream": "stdout",
       "text": [
        "[INFO    ]  >          |      |-  4     0.085     0.088     1.909     5.33e-02       na    \n"
       ]
      },
      {
       "output_type": "stream",
       "stream": "stdout",
       "text": [
        "[INFO    ]  >          |      |-  5     0.088     0.090     1.919     6.46e-02       na    \n"
       ]
      },
      {
       "output_type": "stream",
       "stream": "stdout",
       "text": [
        "[INFO    ] >>          |      \\_\n"
       ]
      },
      {
       "output_type": "stream",
       "stream": "stdout",
       "text": [
        "[INFO    ] !>          \\_    1.88e-04       na         1.08e-02     0.388\n"
       ]
      },
      {
       "output_type": "stream",
       "stream": "stderr",
       "text": [
        "[2014-05-23 14:22] DEBUG: PyPinT Logging: Work Loop: 132\n"
       ]
      },
      {
       "output_type": "stream",
       "stream": "stderr",
       "text": [
        "[2014-05-23 14:22] DEBUG: PyPinT Logging: Next Iteration\n"
       ]
      },
      {
       "output_type": "stream",
       "stream": "stderr",
       "text": [
        "[2014-05-23 14:22] DEBUG: PyPinT Logging: Starting New Solver Main Loop\n"
       ]
      },
      {
       "output_type": "stream",
       "stream": "stdout",
       "text": [
        "[INFO    ] !>       12\n"
       ]
      },
      {
       "output_type": "stream",
       "stream": "stdout",
       "text": [
        "[INFO    ] >>         \\\n"
       ]
      },
      {
       "output_type": "stream",
       "stream": "stdout",
       "text": [
        "[INFO    ] >>          |-   1     0.080     0.090     0.010\n"
       ]
      },
      {
       "output_type": "stream",
       "stream": "stdout",
       "text": [
        "[INFO    ]  >          |     \\\n"
       ]
      },
      {
       "output_type": "stream",
       "stream": "stdout",
       "text": [
        "[INFO    ]  >          |      |-  1      na       0.080     1.859       na           na    \n"
       ]
      },
      {
       "output_type": "stream",
       "stream": "stdout",
       "text": [
        "[INFO    ]  >          |      |-  2     0.080     0.082     1.870     1.08e-02       na    \n"
       ]
      },
      {
       "output_type": "stream",
       "stream": "stdout",
       "text": [
        "[INFO    ]  >          |      |-  3     0.082     0.085     1.890     3.21e-02       na    \n"
       ]
      },
      {
       "output_type": "stream",
       "stream": "stdout",
       "text": [
        "[INFO    ]  >          |      |-  4     0.085     0.088     1.909     5.33e-02       na    \n"
       ]
      },
      {
       "output_type": "stream",
       "stream": "stdout",
       "text": [
        "[INFO    ]  >          |      |-  5     0.088     0.090     1.919     6.46e-02       na    \n"
       ]
      },
      {
       "output_type": "stream",
       "stream": "stdout",
       "text": [
        "[INFO    ] >>          |      \\_\n"
       ]
      },
      {
       "output_type": "stream",
       "stream": "stdout",
       "text": [
        "[INFO    ] !>          \\_    6.81e-05       na         1.08e-02     0.384\n"
       ]
      },
      {
       "output_type": "stream",
       "stream": "stderr",
       "text": [
        "[2014-05-23 14:22] DEBUG: PyPinT Logging: Work Loop: 133\n"
       ]
      },
      {
       "output_type": "stream",
       "stream": "stderr",
       "text": [
        "[2014-05-23 14:22] DEBUG: PyPinT Logging: Next Iteration\n"
       ]
      },
      {
       "output_type": "stream",
       "stream": "stderr",
       "text": [
        "[2014-05-23 14:22] DEBUG: PyPinT Logging: Starting New Solver Main Loop\n"
       ]
      },
      {
       "output_type": "stream",
       "stream": "stdout",
       "text": [
        "[INFO    ] !>       13\n"
       ]
      },
      {
       "output_type": "stream",
       "stream": "stdout",
       "text": [
        "[INFO    ] >>         \\\n"
       ]
      },
      {
       "output_type": "stream",
       "stream": "stdout",
       "text": [
        "[INFO    ] >>          |-   1     0.080     0.090     0.010\n"
       ]
      },
      {
       "output_type": "stream",
       "stream": "stdout",
       "text": [
        "[INFO    ]  >          |     \\\n"
       ]
      },
      {
       "output_type": "stream",
       "stream": "stdout",
       "text": [
        "[INFO    ]  >          |      |-  1      na       0.080     1.859       na           na    \n"
       ]
      },
      {
       "output_type": "stream",
       "stream": "stdout",
       "text": [
        "[INFO    ]  >          |      |-  2     0.080     0.082     1.870     1.08e-02       na    \n"
       ]
      },
      {
       "output_type": "stream",
       "stream": "stdout",
       "text": [
        "[INFO    ]  >          |      |-  3     0.082     0.085     1.890     3.21e-02       na    \n"
       ]
      },
      {
       "output_type": "stream",
       "stream": "stdout",
       "text": [
        "[INFO    ]  >          |      |-  4     0.085     0.088     1.909     5.33e-02       na    \n"
       ]
      },
      {
       "output_type": "stream",
       "stream": "stdout",
       "text": [
        "[INFO    ]  >          |      |-  5     0.088     0.090     1.919     6.46e-02       na    \n"
       ]
      },
      {
       "output_type": "stream",
       "stream": "stdout",
       "text": [
        "[INFO    ] >>          |      \\_\n"
       ]
      },
      {
       "output_type": "stream",
       "stream": "stdout",
       "text": [
        "[INFO    ] !>          \\_    5.01e-05       na         1.08e-02     0.385\n"
       ]
      },
      {
       "output_type": "stream",
       "stream": "stderr",
       "text": [
        "[2014-05-23 14:22] DEBUG: PyPinT Logging: Work Loop: 134\n"
       ]
      },
      {
       "output_type": "stream",
       "stream": "stderr",
       "text": [
        "[2014-05-23 14:22] DEBUG: PyPinT Logging: Next Iteration\n"
       ]
      },
      {
       "output_type": "stream",
       "stream": "stderr",
       "text": [
        "[2014-05-23 14:22] DEBUG: PyPinT Logging: Starting New Solver Main Loop\n"
       ]
      },
      {
       "output_type": "stream",
       "stream": "stdout",
       "text": [
        "[INFO    ] !>       14\n"
       ]
      },
      {
       "output_type": "stream",
       "stream": "stdout",
       "text": [
        "[INFO    ] >>         \\\n"
       ]
      },
      {
       "output_type": "stream",
       "stream": "stdout",
       "text": [
        "[INFO    ] >>          |-   1     0.080     0.090     0.010\n"
       ]
      },
      {
       "output_type": "stream",
       "stream": "stdout",
       "text": [
        "[INFO    ]  >          |     \\\n"
       ]
      },
      {
       "output_type": "stream",
       "stream": "stdout",
       "text": [
        "[INFO    ]  >          |      |-  1      na       0.080     1.859       na           na    \n"
       ]
      },
      {
       "output_type": "stream",
       "stream": "stdout",
       "text": [
        "[INFO    ]  >          |      |-  2     0.080     0.082     1.870     1.08e-02       na    \n"
       ]
      },
      {
       "output_type": "stream",
       "stream": "stdout",
       "text": [
        "[INFO    ]  >          |      |-  3     0.082     0.085     1.890     3.21e-02       na    \n"
       ]
      },
      {
       "output_type": "stream",
       "stream": "stdout",
       "text": [
        "[INFO    ]  >          |      |-  4     0.085     0.088     1.909     5.33e-02       na    \n"
       ]
      },
      {
       "output_type": "stream",
       "stream": "stdout",
       "text": [
        "[INFO    ]  >          |      |-  5     0.088     0.090     1.919     6.46e-02       na    \n"
       ]
      },
      {
       "output_type": "stream",
       "stream": "stdout",
       "text": [
        "[INFO    ] >>          |      \\_\n"
       ]
      },
      {
       "output_type": "stream",
       "stream": "stdout",
       "text": [
        "[INFO    ] !>          \\_    8.72e-06       na         1.08e-02     0.384\n"
       ]
      },
      {
       "output_type": "stream",
       "stream": "stderr",
       "text": [
        "[2014-05-23 14:22] DEBUG: PyPinT Logging: Work Loop: 135\n"
       ]
      },
      {
       "output_type": "stream",
       "stream": "stderr",
       "text": [
        "[2014-05-23 14:22] DEBUG: PyPinT Logging: Next Iteration\n"
       ]
      },
      {
       "output_type": "stream",
       "stream": "stderr",
       "text": [
        "[2014-05-23 14:22] DEBUG: PyPinT Logging: Starting New Solver Main Loop\n"
       ]
      },
      {
       "output_type": "stream",
       "stream": "stdout",
       "text": [
        "[INFO    ] !>       15\n"
       ]
      },
      {
       "output_type": "stream",
       "stream": "stdout",
       "text": [
        "[INFO    ] >>         \\\n"
       ]
      },
      {
       "output_type": "stream",
       "stream": "stdout",
       "text": [
        "[INFO    ] >>          |-   1     0.080     0.090     0.010\n"
       ]
      },
      {
       "output_type": "stream",
       "stream": "stdout",
       "text": [
        "[INFO    ]  >          |     \\\n"
       ]
      },
      {
       "output_type": "stream",
       "stream": "stdout",
       "text": [
        "[INFO    ]  >          |      |-  1      na       0.080     1.859       na           na    \n"
       ]
      },
      {
       "output_type": "stream",
       "stream": "stdout",
       "text": [
        "[INFO    ]  >          |      |-  2     0.080     0.082     1.870     1.08e-02       na    \n"
       ]
      },
      {
       "output_type": "stream",
       "stream": "stdout",
       "text": [
        "[INFO    ]  >          |      |-  3     0.082     0.085     1.890     3.21e-02       na    \n"
       ]
      },
      {
       "output_type": "stream",
       "stream": "stdout",
       "text": [
        "[INFO    ]  >          |      |-  4     0.085     0.088     1.909     5.33e-02       na    \n"
       ]
      },
      {
       "output_type": "stream",
       "stream": "stdout",
       "text": [
        "[INFO    ]  >          |      |-  5     0.088     0.090     1.919     6.46e-02       na    \n"
       ]
      },
      {
       "output_type": "stream",
       "stream": "stdout",
       "text": [
        "[INFO    ] >>          |      \\_\n"
       ]
      },
      {
       "output_type": "stream",
       "stream": "stderr",
       "text": [
        "[2014-05-23 14:22] DEBUG: PyPinT Logging: Maximum of iterations exceeded: 15 >= 15\n"
       ]
      },
      {
       "output_type": "stream",
       "stream": "stdout",
       "text": [
        "[INFO    ] !>          \\_    1.92e-05       na         1.08e-02     0.385\n"
       ]
      },
      {
       "output_type": "stream",
       "stream": "stdout",
       "text": [
        "[INFO    ] !>   Converged after 15 iteration(s):\n"
       ]
      },
      {
       "output_type": "stream",
       "stream": "stdout",
       "text": [
        "[INFO    ] !>     Threshold condition(s) met:    iterations\n"
       ]
      },
      {
       "output_type": "stream",
       "stream": "stdout",
       "text": [
        "[INFO    ] !>     Final Residual:                6.464e-02\n"
       ]
      },
      {
       "output_type": "stream",
       "stream": "stdout",
       "text": [
        "[INFO    ] !>     Solution Reduction:            1.917e-05\n"
       ]
      },
      {
       "output_type": "stream",
       "stream": "stderr",
       "text": [
        "[2014-05-23 14:22] DEBUG: PyPinT Logging: Work Loop: 136\n"
       ]
      },
      {
       "output_type": "stream",
       "stream": "stderr",
       "text": [
        "[2014-05-23 14:22] DEBUG: PyPinT Logging: Nodes: [0.09, 0.09172673164646011, 0.095, 0.09827326835353987, 0.09999999999999999]\n"
       ]
      },
      {
       "output_type": "stream",
       "stream": "stderr",
       "text": [
        "[2014-05-23 14:22] DEBUG: PyPinT Logging: Nodes: [0.09, 0.09172673164646011, 0.095, 0.09827326835353987, 0.09999999999999999]\n"
       ]
      },
      {
       "output_type": "stream",
       "stream": "stderr",
       "text": [
        "[2014-05-23 14:22] DEBUG: PyPinT Logging: New Interval Initialized\n"
       ]
      },
      {
       "output_type": "stream",
       "stream": "stdout",
       "text": [
        "[INFO    ] !> ................................................................................\n"
       ]
      },
      {
       "output_type": "stream",
       "stream": "stdout",
       "text": [
        "[INFO    ] !>   Interval: [0.090, 0.100]\n"
       ]
      },
      {
       "output_type": "stream",
       "stream": "stdout",
       "text": [
        "[INFO    ] !>    iter\n"
       ]
      },
      {
       "output_type": "stream",
       "stream": "stdout",
       "text": [
        "[INFO    ] >>         \\\n"
       ]
      },
      {
       "output_type": "stream",
       "stream": "stdout",
       "text": [
        "[INFO    ] >>          |- time    start     end        delta\n"
       ]
      },
      {
       "output_type": "stream",
       "stream": "stdout",
       "text": [
        "[INFO    ]  >          |     \\\n"
       ]
      },
      {
       "output_type": "stream",
       "stream": "stdout",
       "text": [
        "[INFO    ]  >          |      |- step    t_0      t_1       phi(t_1)    resid       err\n"
       ]
      },
      {
       "output_type": "stream",
       "stream": "stdout",
       "text": [
        "[INFO    ] >>          |      \\_\n"
       ]
      },
      {
       "output_type": "stream",
       "stream": "stdout",
       "text": [
        "[INFO    ] !>          \\_   sol r.red    err r.red      resid       time\n"
       ]
      },
      {
       "output_type": "stream",
       "stream": "stderr",
       "text": [
        "[2014-05-23 14:22] DEBUG: PyPinT Logging: Starting New Solver Main Loop\n"
       ]
      },
      {
       "output_type": "stream",
       "stream": "stdout",
       "text": [
        "[INFO    ] !>        1\n"
       ]
      },
      {
       "output_type": "stream",
       "stream": "stdout",
       "text": [
        "[INFO    ] >>         \\\n"
       ]
      },
      {
       "output_type": "stream",
       "stream": "stdout",
       "text": [
        "[INFO    ] >>          |-   1     0.090     0.100     0.010\n"
       ]
      },
      {
       "output_type": "stream",
       "stream": "stdout",
       "text": [
        "[INFO    ]  >          |     \\\n"
       ]
      },
      {
       "output_type": "stream",
       "stream": "stdout",
       "text": [
        "[INFO    ]  >          |      |-  1      na       0.090     1.920       na           na    \n"
       ]
      },
      {
       "output_type": "stream",
       "stream": "stdout",
       "text": [
        "[INFO    ]  >          |      |-  2     0.090     0.092     1.929     1.05e-02       na    \n"
       ]
      },
      {
       "output_type": "stream",
       "stream": "stdout",
       "text": [
        "[INFO    ]  >          |      |-  3     0.092     0.095     1.947     3.11e-02       na    \n"
       ]
      },
      {
       "output_type": "stream",
       "stream": "stdout",
       "text": [
        "[INFO    ]  >          |      |-  4     0.095     0.098     1.964     5.33e-02       na    \n"
       ]
      },
      {
       "output_type": "stream",
       "stream": "stdout",
       "text": [
        "[INFO    ]  >          |      |-  5     0.098     0.100     1.972     6.76e-02       na    \n"
       ]
      },
      {
       "output_type": "stream",
       "stream": "stdout",
       "text": [
        "[INFO    ] >>          |      \\_\n"
       ]
      },
      {
       "output_type": "stream",
       "stream": "stderr",
       "text": [
        "[2014-05-23 14:22] DEBUG: PyPinT Logging: Skipping computation of reduction: No previous iteration available.\n"
       ]
      },
      {
       "output_type": "stream",
       "stream": "stdout",
       "text": [
        "[INFO    ] !>          \\_      na           na           na         0.608\n"
       ]
      },
      {
       "output_type": "stream",
       "stream": "stderr",
       "text": [
        "[2014-05-23 14:22] DEBUG: PyPinT Logging: Work Loop: 137\n"
       ]
      },
      {
       "output_type": "stream",
       "stream": "stderr",
       "text": [
        "[2014-05-23 14:22] DEBUG: PyPinT Logging: Next Iteration\n"
       ]
      },
      {
       "output_type": "stream",
       "stream": "stderr",
       "text": [
        "[2014-05-23 14:22] DEBUG: PyPinT Logging: Starting New Solver Main Loop\n"
       ]
      },
      {
       "output_type": "stream",
       "stream": "stdout",
       "text": [
        "[INFO    ] !>        2\n"
       ]
      },
      {
       "output_type": "stream",
       "stream": "stdout",
       "text": [
        "[INFO    ] >>         \\\n"
       ]
      },
      {
       "output_type": "stream",
       "stream": "stdout",
       "text": [
        "[INFO    ] >>          |-   1     0.090     0.100     0.010\n"
       ]
      },
      {
       "output_type": "stream",
       "stream": "stdout",
       "text": [
        "[INFO    ]  >          |     \\\n"
       ]
      },
      {
       "output_type": "stream",
       "stream": "stdout",
       "text": [
        "[INFO    ]  >          |      |-  1      na       0.090     1.920       na           na    \n"
       ]
      },
      {
       "output_type": "stream",
       "stream": "stdout",
       "text": [
        "[INFO    ]  >          |      |-  2     0.090     0.092     1.929     1.24e-02       na    \n"
       ]
      },
      {
       "output_type": "stream",
       "stream": "stdout",
       "text": [
        "[INFO    ]  >          |      |-  3     0.092     0.095     1.946     3.77e-02       na    \n"
       ]
      },
      {
       "output_type": "stream",
       "stream": "stdout",
       "text": [
        "[INFO    ]  >          |      |-  4     0.095     0.098     1.963     6.54e-02       na    \n"
       ]
      },
      {
       "output_type": "stream",
       "stream": "stdout",
       "text": [
        "[INFO    ]  >          |      |-  5     0.098     0.100     1.972     8.17e-02       na    \n"
       ]
      },
      {
       "output_type": "stream",
       "stream": "stdout",
       "text": [
        "[INFO    ] >>          |      \\_\n"
       ]
      },
      {
       "output_type": "stream",
       "stream": "stdout",
       "text": [
        "[INFO    ] !>          \\_    3.76e-02       na         1.24e-02     0.501\n"
       ]
      },
      {
       "output_type": "stream",
       "stream": "stderr",
       "text": [
        "[2014-05-23 14:22] DEBUG: PyPinT Logging: Work Loop: 138\n"
       ]
      },
      {
       "output_type": "stream",
       "stream": "stderr",
       "text": [
        "[2014-05-23 14:22] DEBUG: PyPinT Logging: Next Iteration\n"
       ]
      },
      {
       "output_type": "stream",
       "stream": "stderr",
       "text": [
        "[2014-05-23 14:22] DEBUG: PyPinT Logging: Starting New Solver Main Loop\n"
       ]
      },
      {
       "output_type": "stream",
       "stream": "stdout",
       "text": [
        "[INFO    ] !>        3\n"
       ]
      },
      {
       "output_type": "stream",
       "stream": "stdout",
       "text": [
        "[INFO    ] >>         \\\n"
       ]
      },
      {
       "output_type": "stream",
       "stream": "stdout",
       "text": [
        "[INFO    ] >>          |-   1     0.090     0.100     0.010\n"
       ]
      },
      {
       "output_type": "stream",
       "stream": "stdout",
       "text": [
        "[INFO    ]  >          |     \\\n"
       ]
      },
      {
       "output_type": "stream",
       "stream": "stdout",
       "text": [
        "[INFO    ]  >          |      |-  1      na       0.090     1.920       na           na    \n"
       ]
      },
      {
       "output_type": "stream",
       "stream": "stdout",
       "text": [
        "[INFO    ]  >          |      |-  2     0.090     0.092     1.929     1.29e-02       na    \n"
       ]
      },
      {
       "output_type": "stream",
       "stream": "stdout",
       "text": [
        "[INFO    ]  >          |      |-  3     0.092     0.095     1.946     3.98e-02       na    \n"
       ]
      },
      {
       "output_type": "stream",
       "stream": "stdout",
       "text": [
        "[INFO    ]  >          |      |-  4     0.095     0.098     1.963     6.90e-02       na    \n"
       ]
      },
      {
       "output_type": "stream",
       "stream": "stdout",
       "text": [
        "[INFO    ]  >          |      |-  5     0.098     0.100     1.972     8.56e-02       na    \n"
       ]
      },
      {
       "output_type": "stream",
       "stream": "stdout",
       "text": [
        "[INFO    ] >>          |      \\_\n"
       ]
      },
      {
       "output_type": "stream",
       "stream": "stdout",
       "text": [
        "[INFO    ] !>          \\_    3.92e-03       na         1.29e-02     0.443\n"
       ]
      },
      {
       "output_type": "stream",
       "stream": "stderr",
       "text": [
        "[2014-05-23 14:22] DEBUG: PyPinT Logging: Work Loop: 139\n"
       ]
      },
      {
       "output_type": "stream",
       "stream": "stderr",
       "text": [
        "[2014-05-23 14:22] DEBUG: PyPinT Logging: Next Iteration\n"
       ]
      },
      {
       "output_type": "stream",
       "stream": "stderr",
       "text": [
        "[2014-05-23 14:22] DEBUG: PyPinT Logging: Starting New Solver Main Loop\n"
       ]
      },
      {
       "output_type": "stream",
       "stream": "stdout",
       "text": [
        "[INFO    ] !>        4\n"
       ]
      },
      {
       "output_type": "stream",
       "stream": "stdout",
       "text": [
        "[INFO    ] >>         \\\n"
       ]
      },
      {
       "output_type": "stream",
       "stream": "stdout",
       "text": [
        "[INFO    ] >>          |-   1     0.090     0.100     0.010\n"
       ]
      },
      {
       "output_type": "stream",
       "stream": "stdout",
       "text": [
        "[INFO    ]  >          |     \\\n"
       ]
      },
      {
       "output_type": "stream",
       "stream": "stdout",
       "text": [
        "[INFO    ]  >          |      |-  1      na       0.090     1.920       na           na    \n"
       ]
      },
      {
       "output_type": "stream",
       "stream": "stdout",
       "text": [
        "[INFO    ]  >          |      |-  2     0.090     0.092     1.929     1.30e-02       na    \n"
       ]
      },
      {
       "output_type": "stream",
       "stream": "stdout",
       "text": [
        "[INFO    ]  >          |      |-  3     0.092     0.095     1.946     4.05e-02       na    \n"
       ]
      },
      {
       "output_type": "stream",
       "stream": "stdout",
       "text": [
        "[INFO    ]  >          |      |-  4     0.095     0.098     1.963     7.02e-02       na    \n"
       ]
      },
      {
       "output_type": "stream",
       "stream": "stdout",
       "text": [
        "[INFO    ]  >          |      |-  5     0.098     0.100     1.972     8.69e-02       na    \n"
       ]
      },
      {
       "output_type": "stream",
       "stream": "stdout",
       "text": [
        "[INFO    ] >>          |      \\_\n"
       ]
      },
      {
       "output_type": "stream",
       "stream": "stdout",
       "text": [
        "[INFO    ] !>          \\_    1.69e-03       na         1.30e-02     0.380\n"
       ]
      },
      {
       "output_type": "stream",
       "stream": "stderr",
       "text": [
        "[2014-05-23 14:22] DEBUG: PyPinT Logging: Work Loop: 140\n"
       ]
      },
      {
       "output_type": "stream",
       "stream": "stderr",
       "text": [
        "[2014-05-23 14:22] DEBUG: PyPinT Logging: Next Iteration\n"
       ]
      },
      {
       "output_type": "stream",
       "stream": "stderr",
       "text": [
        "[2014-05-23 14:22] DEBUG: PyPinT Logging: Starting New Solver Main Loop\n"
       ]
      },
      {
       "output_type": "stream",
       "stream": "stdout",
       "text": [
        "[INFO    ] !>        5\n"
       ]
      },
      {
       "output_type": "stream",
       "stream": "stdout",
       "text": [
        "[INFO    ] >>         \\\n"
       ]
      },
      {
       "output_type": "stream",
       "stream": "stdout",
       "text": [
        "[INFO    ] >>          |-   1     0.090     0.100     0.010\n"
       ]
      },
      {
       "output_type": "stream",
       "stream": "stdout",
       "text": [
        "[INFO    ]  >          |     \\\n"
       ]
      },
      {
       "output_type": "stream",
       "stream": "stdout",
       "text": [
        "[INFO    ]  >          |      |-  1      na       0.090     1.920       na           na    \n"
       ]
      },
      {
       "output_type": "stream",
       "stream": "stdout",
       "text": [
        "[INFO    ]  >          |      |-  2     0.090     0.092     1.929     1.30e-02       na    \n"
       ]
      },
      {
       "output_type": "stream",
       "stream": "stdout",
       "text": [
        "[INFO    ]  >          |      |-  3     0.092     0.095     1.946     4.08e-02       na    \n"
       ]
      },
      {
       "output_type": "stream",
       "stream": "stdout",
       "text": [
        "[INFO    ]  >          |      |-  4     0.095     0.098     1.963     7.07e-02       na    \n"
       ]
      },
      {
       "output_type": "stream",
       "stream": "stdout",
       "text": [
        "[INFO    ]  >          |      |-  5     0.098     0.100     1.972     8.73e-02       na    \n"
       ]
      },
      {
       "output_type": "stream",
       "stream": "stdout",
       "text": [
        "[INFO    ] >>          |      \\_\n"
       ]
      },
      {
       "output_type": "stream",
       "stream": "stdout",
       "text": [
        "[INFO    ] !>          \\_    1.30e-04       na         1.30e-02     0.382\n"
       ]
      },
      {
       "output_type": "stream",
       "stream": "stderr",
       "text": [
        "[2014-05-23 14:22] DEBUG: PyPinT Logging: Work Loop: 141\n"
       ]
      },
      {
       "output_type": "stream",
       "stream": "stderr",
       "text": [
        "[2014-05-23 14:22] DEBUG: PyPinT Logging: Next Iteration\n"
       ]
      },
      {
       "output_type": "stream",
       "stream": "stderr",
       "text": [
        "[2014-05-23 14:22] DEBUG: PyPinT Logging: Starting New Solver Main Loop\n"
       ]
      },
      {
       "output_type": "stream",
       "stream": "stdout",
       "text": [
        "[INFO    ] !>        6\n"
       ]
      },
      {
       "output_type": "stream",
       "stream": "stdout",
       "text": [
        "[INFO    ] >>         \\\n"
       ]
      },
      {
       "output_type": "stream",
       "stream": "stdout",
       "text": [
        "[INFO    ] >>          |-   1     0.090     0.100     0.010\n"
       ]
      },
      {
       "output_type": "stream",
       "stream": "stdout",
       "text": [
        "[INFO    ]  >          |     \\\n"
       ]
      },
      {
       "output_type": "stream",
       "stream": "stdout",
       "text": [
        "[INFO    ]  >          |      |-  1      na       0.090     1.920       na           na    \n"
       ]
      },
      {
       "output_type": "stream",
       "stream": "stdout",
       "text": [
        "[INFO    ]  >          |      |-  2     0.090     0.092     1.929     1.30e-02       na    \n"
       ]
      },
      {
       "output_type": "stream",
       "stream": "stdout",
       "text": [
        "[INFO    ]  >          |      |-  3     0.092     0.095     1.946     4.09e-02       na    \n"
       ]
      },
      {
       "output_type": "stream",
       "stream": "stdout",
       "text": [
        "[INFO    ]  >          |      |-  4     0.095     0.098     1.963     7.09e-02       na    \n"
       ]
      },
      {
       "output_type": "stream",
       "stream": "stdout",
       "text": [
        "[INFO    ]  >          |      |-  5     0.098     0.100     1.972     8.74e-02       na    \n"
       ]
      },
      {
       "output_type": "stream",
       "stream": "stdout",
       "text": [
        "[INFO    ] >>          |      \\_\n"
       ]
      },
      {
       "output_type": "stream",
       "stream": "stdout",
       "text": [
        "[INFO    ] !>          \\_    5.08e-04       na         1.30e-02     0.324\n"
       ]
      },
      {
       "output_type": "stream",
       "stream": "stderr",
       "text": [
        "[2014-05-23 14:22] DEBUG: PyPinT Logging: Work Loop: 142\n"
       ]
      },
      {
       "output_type": "stream",
       "stream": "stderr",
       "text": [
        "[2014-05-23 14:22] DEBUG: PyPinT Logging: Next Iteration\n"
       ]
      },
      {
       "output_type": "stream",
       "stream": "stderr",
       "text": [
        "[2014-05-23 14:22] DEBUG: PyPinT Logging: Starting New Solver Main Loop\n"
       ]
      },
      {
       "output_type": "stream",
       "stream": "stdout",
       "text": [
        "[INFO    ] !>        7\n"
       ]
      },
      {
       "output_type": "stream",
       "stream": "stdout",
       "text": [
        "[INFO    ] >>         \\\n"
       ]
      },
      {
       "output_type": "stream",
       "stream": "stdout",
       "text": [
        "[INFO    ] >>          |-   1     0.090     0.100     0.010\n"
       ]
      },
      {
       "output_type": "stream",
       "stream": "stdout",
       "text": [
        "[INFO    ]  >          |     \\\n"
       ]
      },
      {
       "output_type": "stream",
       "stream": "stdout",
       "text": [
        "[INFO    ]  >          |      |-  1      na       0.090     1.920       na           na    \n"
       ]
      },
      {
       "output_type": "stream",
       "stream": "stdout",
       "text": [
        "[INFO    ]  >          |      |-  2     0.090     0.092     1.929     1.31e-02       na    \n"
       ]
      },
      {
       "output_type": "stream",
       "stream": "stdout",
       "text": [
        "[INFO    ]  >          |      |-  3     0.092     0.095     1.946     4.10e-02       na    \n"
       ]
      },
      {
       "output_type": "stream",
       "stream": "stdout",
       "text": [
        "[INFO    ]  >          |      |-  4     0.095     0.098     1.963     7.10e-02       na    \n"
       ]
      },
      {
       "output_type": "stream",
       "stream": "stdout",
       "text": [
        "[INFO    ]  >          |      |-  5     0.098     0.100     1.972     8.74e-02       na    \n"
       ]
      },
      {
       "output_type": "stream",
       "stream": "stdout",
       "text": [
        "[INFO    ] >>          |      \\_\n"
       ]
      },
      {
       "output_type": "stream",
       "stream": "stdout",
       "text": [
        "[INFO    ] !>          \\_    2.67e-04       na         1.31e-02     0.324\n"
       ]
      },
      {
       "output_type": "stream",
       "stream": "stderr",
       "text": [
        "[2014-05-23 14:22] DEBUG: PyPinT Logging: Work Loop: 143\n"
       ]
      },
      {
       "output_type": "stream",
       "stream": "stderr",
       "text": [
        "[2014-05-23 14:22] DEBUG: PyPinT Logging: Next Iteration\n"
       ]
      },
      {
       "output_type": "stream",
       "stream": "stderr",
       "text": [
        "[2014-05-23 14:22] DEBUG: PyPinT Logging: Starting New Solver Main Loop\n"
       ]
      },
      {
       "output_type": "stream",
       "stream": "stdout",
       "text": [
        "[INFO    ] !>        8\n"
       ]
      },
      {
       "output_type": "stream",
       "stream": "stdout",
       "text": [
        "[INFO    ] >>         \\\n"
       ]
      },
      {
       "output_type": "stream",
       "stream": "stdout",
       "text": [
        "[INFO    ] >>          |-   1     0.090     0.100     0.010\n"
       ]
      },
      {
       "output_type": "stream",
       "stream": "stdout",
       "text": [
        "[INFO    ]  >          |     \\\n"
       ]
      },
      {
       "output_type": "stream",
       "stream": "stdout",
       "text": [
        "[INFO    ]  >          |      |-  1      na       0.090     1.920       na           na    \n"
       ]
      },
      {
       "output_type": "stream",
       "stream": "stdout",
       "text": [
        "[INFO    ]  >          |      |-  2     0.090     0.092     1.929     1.31e-02       na    \n"
       ]
      },
      {
       "output_type": "stream",
       "stream": "stdout",
       "text": [
        "[INFO    ]  >          |      |-  3     0.092     0.095     1.946     4.11e-02       na    \n"
       ]
      },
      {
       "output_type": "stream",
       "stream": "stdout",
       "text": [
        "[INFO    ]  >          |      |-  4     0.095     0.098     1.963     7.10e-02       na    \n"
       ]
      },
      {
       "output_type": "stream",
       "stream": "stdout",
       "text": [
        "[INFO    ]  >          |      |-  5     0.098     0.100     1.972     8.74e-02       na    \n"
       ]
      },
      {
       "output_type": "stream",
       "stream": "stdout",
       "text": [
        "[INFO    ] >>          |      \\_\n"
       ]
      },
      {
       "output_type": "stream",
       "stream": "stdout",
       "text": [
        "[INFO    ] !>          \\_    2.97e-04       na         1.31e-02     0.380\n"
       ]
      },
      {
       "output_type": "stream",
       "stream": "stderr",
       "text": [
        "[2014-05-23 14:22] DEBUG: PyPinT Logging: Work Loop: 144\n"
       ]
      },
      {
       "output_type": "stream",
       "stream": "stderr",
       "text": [
        "[2014-05-23 14:22] DEBUG: PyPinT Logging: Next Iteration\n"
       ]
      },
      {
       "output_type": "stream",
       "stream": "stderr",
       "text": [
        "[2014-05-23 14:22] DEBUG: PyPinT Logging: Starting New Solver Main Loop\n"
       ]
      },
      {
       "output_type": "stream",
       "stream": "stdout",
       "text": [
        "[INFO    ] !>        9\n"
       ]
      },
      {
       "output_type": "stream",
       "stream": "stdout",
       "text": [
        "[INFO    ] >>         \\\n"
       ]
      },
      {
       "output_type": "stream",
       "stream": "stdout",
       "text": [
        "[INFO    ] >>          |-   1     0.090     0.100     0.010\n"
       ]
      },
      {
       "output_type": "stream",
       "stream": "stdout",
       "text": [
        "[INFO    ]  >          |     \\\n"
       ]
      },
      {
       "output_type": "stream",
       "stream": "stdout",
       "text": [
        "[INFO    ]  >          |      |-  1      na       0.090     1.920       na           na    \n"
       ]
      },
      {
       "output_type": "stream",
       "stream": "stdout",
       "text": [
        "[INFO    ]  >          |      |-  2     0.090     0.092     1.929     1.31e-02       na    \n"
       ]
      },
      {
       "output_type": "stream",
       "stream": "stdout",
       "text": [
        "[INFO    ]  >          |      |-  3     0.092     0.095     1.946     4.11e-02       na    \n"
       ]
      },
      {
       "output_type": "stream",
       "stream": "stdout",
       "text": [
        "[INFO    ]  >          |      |-  4     0.095     0.098     1.963     7.10e-02       na    \n"
       ]
      },
      {
       "output_type": "stream",
       "stream": "stdout",
       "text": [
        "[INFO    ]  >          |      |-  5     0.098     0.100     1.972     8.74e-02       na    \n"
       ]
      },
      {
       "output_type": "stream",
       "stream": "stdout",
       "text": [
        "[INFO    ] >>          |      \\_\n"
       ]
      },
      {
       "output_type": "stream",
       "stream": "stdout",
       "text": [
        "[INFO    ] !>          \\_    1.19e-04       na         1.31e-02     0.383\n"
       ]
      },
      {
       "output_type": "stream",
       "stream": "stderr",
       "text": [
        "[2014-05-23 14:22] DEBUG: PyPinT Logging: Work Loop: 145\n"
       ]
      },
      {
       "output_type": "stream",
       "stream": "stderr",
       "text": [
        "[2014-05-23 14:22] DEBUG: PyPinT Logging: Next Iteration\n"
       ]
      },
      {
       "output_type": "stream",
       "stream": "stderr",
       "text": [
        "[2014-05-23 14:22] DEBUG: PyPinT Logging: Starting New Solver Main Loop\n"
       ]
      },
      {
       "output_type": "stream",
       "stream": "stdout",
       "text": [
        "[INFO    ] !>       10\n"
       ]
      },
      {
       "output_type": "stream",
       "stream": "stdout",
       "text": [
        "[INFO    ] >>         \\\n"
       ]
      },
      {
       "output_type": "stream",
       "stream": "stdout",
       "text": [
        "[INFO    ] >>          |-   1     0.090     0.100     0.010\n"
       ]
      },
      {
       "output_type": "stream",
       "stream": "stdout",
       "text": [
        "[INFO    ]  >          |     \\\n"
       ]
      },
      {
       "output_type": "stream",
       "stream": "stdout",
       "text": [
        "[INFO    ]  >          |      |-  1      na       0.090     1.920       na           na    \n"
       ]
      },
      {
       "output_type": "stream",
       "stream": "stdout",
       "text": [
        "[INFO    ]  >          |      |-  2     0.090     0.092     1.929     1.31e-02       na    \n"
       ]
      },
      {
       "output_type": "stream",
       "stream": "stdout",
       "text": [
        "[INFO    ]  >          |      |-  3     0.092     0.095     1.946     4.11e-02       na    \n"
       ]
      },
      {
       "output_type": "stream",
       "stream": "stdout",
       "text": [
        "[INFO    ]  >          |      |-  4     0.095     0.098     1.963     7.10e-02       na    \n"
       ]
      },
      {
       "output_type": "stream",
       "stream": "stdout",
       "text": [
        "[INFO    ]  >          |      |-  5     0.098     0.100     1.972     8.74e-02       na    \n"
       ]
      },
      {
       "output_type": "stream",
       "stream": "stdout",
       "text": [
        "[INFO    ] >>          |      \\_\n"
       ]
      },
      {
       "output_type": "stream",
       "stream": "stdout",
       "text": [
        "[INFO    ] !>          \\_    1.89e-04       na         1.31e-02     0.381\n"
       ]
      },
      {
       "output_type": "stream",
       "stream": "stderr",
       "text": [
        "[2014-05-23 14:22] DEBUG: PyPinT Logging: Work Loop: 146\n"
       ]
      },
      {
       "output_type": "stream",
       "stream": "stderr",
       "text": [
        "[2014-05-23 14:22] DEBUG: PyPinT Logging: Next Iteration\n"
       ]
      },
      {
       "output_type": "stream",
       "stream": "stderr",
       "text": [
        "[2014-05-23 14:22] DEBUG: PyPinT Logging: Starting New Solver Main Loop\n"
       ]
      },
      {
       "output_type": "stream",
       "stream": "stdout",
       "text": [
        "[INFO    ] !>       11\n"
       ]
      },
      {
       "output_type": "stream",
       "stream": "stdout",
       "text": [
        "[INFO    ] >>         \\\n"
       ]
      },
      {
       "output_type": "stream",
       "stream": "stdout",
       "text": [
        "[INFO    ] >>          |-   1     0.090     0.100     0.010\n"
       ]
      },
      {
       "output_type": "stream",
       "stream": "stdout",
       "text": [
        "[INFO    ]  >          |     \\\n"
       ]
      },
      {
       "output_type": "stream",
       "stream": "stdout",
       "text": [
        "[INFO    ]  >          |      |-  1      na       0.090     1.920       na           na    \n"
       ]
      },
      {
       "output_type": "stream",
       "stream": "stdout",
       "text": [
        "[INFO    ]  >          |      |-  2     0.090     0.092     1.929     1.31e-02       na    \n"
       ]
      },
      {
       "output_type": "stream",
       "stream": "stdout",
       "text": [
        "[INFO    ]  >          |      |-  3     0.092     0.095     1.946     4.11e-02       na    \n"
       ]
      },
      {
       "output_type": "stream",
       "stream": "stdout",
       "text": [
        "[INFO    ]  >          |      |-  4     0.095     0.098     1.963     7.09e-02       na    \n"
       ]
      },
      {
       "output_type": "stream",
       "stream": "stdout",
       "text": [
        "[INFO    ]  >          |      |-  5     0.098     0.100     1.972     8.74e-02       na    \n"
       ]
      },
      {
       "output_type": "stream",
       "stream": "stdout",
       "text": [
        "[INFO    ] >>          |      \\_\n"
       ]
      },
      {
       "output_type": "stream",
       "stream": "stdout",
       "text": [
        "[INFO    ] !>          \\_    7.17e-05       na         1.31e-02     0.381\n"
       ]
      },
      {
       "output_type": "stream",
       "stream": "stderr",
       "text": [
        "[2014-05-23 14:22] DEBUG: PyPinT Logging: Work Loop: 147\n"
       ]
      },
      {
       "output_type": "stream",
       "stream": "stderr",
       "text": [
        "[2014-05-23 14:22] DEBUG: PyPinT Logging: Next Iteration\n"
       ]
      },
      {
       "output_type": "stream",
       "stream": "stderr",
       "text": [
        "[2014-05-23 14:22] DEBUG: PyPinT Logging: Starting New Solver Main Loop\n"
       ]
      },
      {
       "output_type": "stream",
       "stream": "stdout",
       "text": [
        "[INFO    ] !>       12\n"
       ]
      },
      {
       "output_type": "stream",
       "stream": "stdout",
       "text": [
        "[INFO    ] >>         \\\n"
       ]
      },
      {
       "output_type": "stream",
       "stream": "stdout",
       "text": [
        "[INFO    ] >>          |-   1     0.090     0.100     0.010\n"
       ]
      },
      {
       "output_type": "stream",
       "stream": "stdout",
       "text": [
        "[INFO    ]  >          |     \\\n"
       ]
      },
      {
       "output_type": "stream",
       "stream": "stdout",
       "text": [
        "[INFO    ]  >          |      |-  1      na       0.090     1.920       na           na    \n"
       ]
      },
      {
       "output_type": "stream",
       "stream": "stdout",
       "text": [
        "[INFO    ]  >          |      |-  2     0.090     0.092     1.929     1.31e-02       na    \n"
       ]
      },
      {
       "output_type": "stream",
       "stream": "stdout",
       "text": [
        "[INFO    ]  >          |      |-  3     0.092     0.095     1.946     4.11e-02       na    \n"
       ]
      },
      {
       "output_type": "stream",
       "stream": "stdout",
       "text": [
        "[INFO    ]  >          |      |-  4     0.095     0.098     1.963     7.09e-02       na    \n"
       ]
      },
      {
       "output_type": "stream",
       "stream": "stdout",
       "text": [
        "[INFO    ]  >          |      |-  5     0.098     0.100     1.972     8.74e-02       na    \n"
       ]
      },
      {
       "output_type": "stream",
       "stream": "stdout",
       "text": [
        "[INFO    ] >>          |      \\_\n"
       ]
      },
      {
       "output_type": "stream",
       "stream": "stdout",
       "text": [
        "[INFO    ] !>          \\_    9.82e-05       na         1.31e-02     0.377\n"
       ]
      },
      {
       "output_type": "stream",
       "stream": "stderr",
       "text": [
        "[2014-05-23 14:22] DEBUG: PyPinT Logging: Work Loop: 148\n"
       ]
      },
      {
       "output_type": "stream",
       "stream": "stderr",
       "text": [
        "[2014-05-23 14:22] DEBUG: PyPinT Logging: Next Iteration\n"
       ]
      },
      {
       "output_type": "stream",
       "stream": "stderr",
       "text": [
        "[2014-05-23 14:22] DEBUG: PyPinT Logging: Starting New Solver Main Loop\n"
       ]
      },
      {
       "output_type": "stream",
       "stream": "stdout",
       "text": [
        "[INFO    ] !>       13\n"
       ]
      },
      {
       "output_type": "stream",
       "stream": "stdout",
       "text": [
        "[INFO    ] >>         \\\n"
       ]
      },
      {
       "output_type": "stream",
       "stream": "stdout",
       "text": [
        "[INFO    ] >>          |-   1     0.090     0.100     0.010\n"
       ]
      },
      {
       "output_type": "stream",
       "stream": "stdout",
       "text": [
        "[INFO    ]  >          |     \\\n"
       ]
      },
      {
       "output_type": "stream",
       "stream": "stdout",
       "text": [
        "[INFO    ]  >          |      |-  1      na       0.090     1.920       na           na    \n"
       ]
      },
      {
       "output_type": "stream",
       "stream": "stdout",
       "text": [
        "[INFO    ]  >          |      |-  2     0.090     0.092     1.929     1.31e-02       na    \n"
       ]
      },
      {
       "output_type": "stream",
       "stream": "stdout",
       "text": [
        "[INFO    ]  >          |      |-  3     0.092     0.095     1.946     4.11e-02       na    \n"
       ]
      },
      {
       "output_type": "stream",
       "stream": "stdout",
       "text": [
        "[INFO    ]  >          |      |-  4     0.095     0.098     1.963     7.09e-02       na    \n"
       ]
      },
      {
       "output_type": "stream",
       "stream": "stdout",
       "text": [
        "[INFO    ]  >          |      |-  5     0.098     0.100     1.972     8.73e-02       na    \n"
       ]
      },
      {
       "output_type": "stream",
       "stream": "stdout",
       "text": [
        "[INFO    ] >>          |      \\_\n"
       ]
      },
      {
       "output_type": "stream",
       "stream": "stdout",
       "text": [
        "[INFO    ] !>          \\_    6.24e-05       na         1.31e-02     0.381\n"
       ]
      },
      {
       "output_type": "stream",
       "stream": "stderr",
       "text": [
        "[2014-05-23 14:22] DEBUG: PyPinT Logging: Work Loop: 149\n"
       ]
      },
      {
       "output_type": "stream",
       "stream": "stderr",
       "text": [
        "[2014-05-23 14:22] DEBUG: PyPinT Logging: Next Iteration\n"
       ]
      },
      {
       "output_type": "stream",
       "stream": "stderr",
       "text": [
        "[2014-05-23 14:22] DEBUG: PyPinT Logging: Starting New Solver Main Loop\n"
       ]
      },
      {
       "output_type": "stream",
       "stream": "stdout",
       "text": [
        "[INFO    ] !>       14\n"
       ]
      },
      {
       "output_type": "stream",
       "stream": "stdout",
       "text": [
        "[INFO    ] >>         \\\n"
       ]
      },
      {
       "output_type": "stream",
       "stream": "stdout",
       "text": [
        "[INFO    ] >>          |-   1     0.090     0.100     0.010\n"
       ]
      },
      {
       "output_type": "stream",
       "stream": "stdout",
       "text": [
        "[INFO    ]  >          |     \\\n"
       ]
      },
      {
       "output_type": "stream",
       "stream": "stdout",
       "text": [
        "[INFO    ]  >          |      |-  1      na       0.090     1.920       na           na    \n"
       ]
      },
      {
       "output_type": "stream",
       "stream": "stdout",
       "text": [
        "[INFO    ]  >          |      |-  2     0.090     0.092     1.929     1.31e-02       na    \n"
       ]
      },
      {
       "output_type": "stream",
       "stream": "stdout",
       "text": [
        "[INFO    ]  >          |      |-  3     0.092     0.095     1.946     4.11e-02       na    \n"
       ]
      },
      {
       "output_type": "stream",
       "stream": "stdout",
       "text": [
        "[INFO    ]  >          |      |-  4     0.095     0.098     1.963     7.09e-02       na    \n"
       ]
      },
      {
       "output_type": "stream",
       "stream": "stdout",
       "text": [
        "[INFO    ]  >          |      |-  5     0.098     0.100     1.972     8.74e-02       na    \n"
       ]
      },
      {
       "output_type": "stream",
       "stream": "stdout",
       "text": [
        "[INFO    ] >>          |      \\_\n"
       ]
      },
      {
       "output_type": "stream",
       "stream": "stdout",
       "text": [
        "[INFO    ] !>          \\_    3.84e-05       na         1.31e-02     0.382\n"
       ]
      },
      {
       "output_type": "stream",
       "stream": "stderr",
       "text": [
        "[2014-05-23 14:22] DEBUG: PyPinT Logging: Work Loop: 150\n"
       ]
      },
      {
       "output_type": "stream",
       "stream": "stderr",
       "text": [
        "[2014-05-23 14:22] DEBUG: PyPinT Logging: Next Iteration\n"
       ]
      },
      {
       "output_type": "stream",
       "stream": "stderr",
       "text": [
        "[2014-05-23 14:22] DEBUG: PyPinT Logging: Starting New Solver Main Loop\n"
       ]
      },
      {
       "output_type": "stream",
       "stream": "stdout",
       "text": [
        "[INFO    ] !>       15\n"
       ]
      },
      {
       "output_type": "stream",
       "stream": "stdout",
       "text": [
        "[INFO    ] >>         \\\n"
       ]
      },
      {
       "output_type": "stream",
       "stream": "stdout",
       "text": [
        "[INFO    ] >>          |-   1     0.090     0.100     0.010\n"
       ]
      },
      {
       "output_type": "stream",
       "stream": "stdout",
       "text": [
        "[INFO    ]  >          |     \\\n"
       ]
      },
      {
       "output_type": "stream",
       "stream": "stdout",
       "text": [
        "[INFO    ]  >          |      |-  1      na       0.090     1.920       na           na    \n"
       ]
      },
      {
       "output_type": "stream",
       "stream": "stdout",
       "text": [
        "[INFO    ]  >          |      |-  2     0.090     0.092     1.929     1.31e-02       na    \n"
       ]
      },
      {
       "output_type": "stream",
       "stream": "stdout",
       "text": [
        "[INFO    ]  >          |      |-  3     0.092     0.095     1.946     4.11e-02       na    \n"
       ]
      },
      {
       "output_type": "stream",
       "stream": "stdout",
       "text": [
        "[INFO    ]  >          |      |-  4     0.095     0.098     1.963     7.09e-02       na    \n"
       ]
      },
      {
       "output_type": "stream",
       "stream": "stdout",
       "text": [
        "[INFO    ]  >          |      |-  5     0.098     0.100     1.972     8.73e-02       na    \n"
       ]
      },
      {
       "output_type": "stream",
       "stream": "stdout",
       "text": [
        "[INFO    ] >>          |      \\_\n"
       ]
      },
      {
       "output_type": "stream",
       "stream": "stderr",
       "text": [
        "[2014-05-23 14:22] DEBUG: PyPinT Logging: Maximum of iterations exceeded: 15 >= 15\n"
       ]
      },
      {
       "output_type": "stream",
       "stream": "stdout",
       "text": [
        "[INFO    ] !>          \\_    3.77e-05       na         1.31e-02     0.382\n"
       ]
      },
      {
       "output_type": "stream",
       "stream": "stdout",
       "text": [
        "[INFO    ] !>   Converged after 15 iteration(s):\n"
       ]
      },
      {
       "output_type": "stream",
       "stream": "stdout",
       "text": [
        "[INFO    ] !>     Threshold condition(s) met:    iterations\n"
       ]
      },
      {
       "output_type": "stream",
       "stream": "stdout",
       "text": [
        "[INFO    ] !>     Final Residual:                8.735e-02\n"
       ]
      },
      {
       "output_type": "stream",
       "stream": "stdout",
       "text": [
        "[INFO    ] !>     Solution Reduction:            3.773e-05\n"
       ]
      },
      {
       "output_type": "stream",
       "stream": "stderr",
       "text": [
        "[2014-05-23 14:22] DEBUG: PyPinT Logging: Work Loop: 151\n"
       ]
      },
      {
       "output_type": "stream",
       "stream": "stderr",
       "text": [
        "[2014-05-23 14:22] DEBUG: PyPinT Logging: Nodes: [0.09999999999999999, 0.10172673164646011, 0.10499999999999998, 0.10827326835353987, 0.10999999999999999]\n"
       ]
      },
      {
       "output_type": "stream",
       "stream": "stderr",
       "text": [
        "[2014-05-23 14:22] DEBUG: PyPinT Logging: Nodes: [0.09999999999999999, 0.10172673164646011, 0.10499999999999998, 0.10827326835353987, 0.10999999999999999]\n"
       ]
      },
      {
       "output_type": "stream",
       "stream": "stderr",
       "text": [
        "[2014-05-23 14:22] DEBUG: PyPinT Logging: New Interval Initialized\n"
       ]
      },
      {
       "output_type": "stream",
       "stream": "stdout",
       "text": [
        "[INFO    ] !> ................................................................................\n"
       ]
      },
      {
       "output_type": "stream",
       "stream": "stdout",
       "text": [
        "[INFO    ] !>   Interval: [0.100, 0.110]\n"
       ]
      },
      {
       "output_type": "stream",
       "stream": "stdout",
       "text": [
        "[INFO    ] !>    iter\n"
       ]
      },
      {
       "output_type": "stream",
       "stream": "stdout",
       "text": [
        "[INFO    ] >>         \\\n"
       ]
      },
      {
       "output_type": "stream",
       "stream": "stdout",
       "text": [
        "[INFO    ] >>          |- time    start     end        delta\n"
       ]
      },
      {
       "output_type": "stream",
       "stream": "stdout",
       "text": [
        "[INFO    ]  >          |     \\\n"
       ]
      },
      {
       "output_type": "stream",
       "stream": "stdout",
       "text": [
        "[INFO    ]  >          |      |- step    t_0      t_1       phi(t_1)    resid       err\n"
       ]
      },
      {
       "output_type": "stream",
       "stream": "stdout",
       "text": [
        "[INFO    ] >>          |      \\_\n"
       ]
      },
      {
       "output_type": "stream",
       "stream": "stdout",
       "text": [
        "[INFO    ] !>          \\_   sol r.red    err r.red      resid       time\n"
       ]
      },
      {
       "output_type": "stream",
       "stream": "stderr",
       "text": [
        "[2014-05-23 14:22] DEBUG: PyPinT Logging: Starting New Solver Main Loop\n"
       ]
      },
      {
       "output_type": "stream",
       "stream": "stdout",
       "text": [
        "[INFO    ] !>        1\n"
       ]
      },
      {
       "output_type": "stream",
       "stream": "stdout",
       "text": [
        "[INFO    ] >>         \\\n"
       ]
      },
      {
       "output_type": "stream",
       "stream": "stdout",
       "text": [
        "[INFO    ] >>          |-   1     0.100     0.110     0.010\n"
       ]
      },
      {
       "output_type": "stream",
       "stream": "stdout",
       "text": [
        "[INFO    ]  >          |     \\\n"
       ]
      },
      {
       "output_type": "stream",
       "stream": "stdout",
       "text": [
        "[INFO    ]  >          |      |-  1      na       0.100     1.972       na           na    \n"
       ]
      },
      {
       "output_type": "stream",
       "stream": "stdout",
       "text": [
        "[INFO    ]  >          |      |-  2     0.100     0.102     1.981     1.38e-02       na    \n"
       ]
      },
      {
       "output_type": "stream",
       "stream": "stdout",
       "text": [
        "[INFO    ]  >          |      |-  3     0.102     0.105     1.997     3.93e-02       na    \n"
       ]
      },
      {
       "output_type": "stream",
       "stream": "stdout",
       "text": [
        "[INFO    ]  >          |      |-  4     0.105     0.108     2.012     6.51e-02       na    \n"
       ]
      },
      {
       "output_type": "stream",
       "stream": "stdout",
       "text": [
        "[INFO    ]  >          |      |-  5     0.108     0.110     2.020     8.01e-02       na    \n"
       ]
      },
      {
       "output_type": "stream",
       "stream": "stdout",
       "text": [
        "[INFO    ] >>          |      \\_\n"
       ]
      },
      {
       "output_type": "stream",
       "stream": "stderr",
       "text": [
        "[2014-05-23 14:22] DEBUG: PyPinT Logging: Skipping computation of reduction: No previous iteration available.\n"
       ]
      },
      {
       "output_type": "stream",
       "stream": "stdout",
       "text": [
        "[INFO    ] !>          \\_      na           na           na         0.606\n"
       ]
      },
      {
       "output_type": "stream",
       "stream": "stderr",
       "text": [
        "[2014-05-23 14:22] DEBUG: PyPinT Logging: Work Loop: 152\n"
       ]
      },
      {
       "output_type": "stream",
       "stream": "stderr",
       "text": [
        "[2014-05-23 14:22] DEBUG: PyPinT Logging: Next Iteration\n"
       ]
      },
      {
       "output_type": "stream",
       "stream": "stderr",
       "text": [
        "[2014-05-23 14:22] DEBUG: PyPinT Logging: Starting New Solver Main Loop\n"
       ]
      },
      {
       "output_type": "stream",
       "stream": "stdout",
       "text": [
        "[INFO    ] !>        2\n"
       ]
      },
      {
       "output_type": "stream",
       "stream": "stdout",
       "text": [
        "[INFO    ] >>         \\\n"
       ]
      },
      {
       "output_type": "stream",
       "stream": "stdout",
       "text": [
        "[INFO    ] >>          |-   1     0.100     0.110     0.010\n"
       ]
      },
      {
       "output_type": "stream",
       "stream": "stdout",
       "text": [
        "[INFO    ]  >          |     \\\n"
       ]
      },
      {
       "output_type": "stream",
       "stream": "stdout",
       "text": [
        "[INFO    ]  >          |      |-  1      na       0.100     1.972       na           na    \n"
       ]
      },
      {
       "output_type": "stream",
       "stream": "stdout",
       "text": [
        "[INFO    ]  >          |      |-  2     0.100     0.102     1.981     1.61e-02       na    \n"
       ]
      },
      {
       "output_type": "stream",
       "stream": "stdout",
       "text": [
        "[INFO    ]  >          |      |-  3     0.102     0.105     1.996     4.70e-02       na    \n"
       ]
      },
      {
       "output_type": "stream",
       "stream": "stdout",
       "text": [
        "[INFO    ]  >          |      |-  4     0.105     0.108     2.011     7.74e-02       na    \n"
       ]
      },
      {
       "output_type": "stream",
       "stream": "stdout",
       "text": [
        "[INFO    ]  >          |      |-  5     0.108     0.110     2.019     9.35e-02       na    \n"
       ]
      },
      {
       "output_type": "stream",
       "stream": "stdout",
       "text": [
        "[INFO    ] >>          |      \\_\n"
       ]
      },
      {
       "output_type": "stream",
       "stream": "stdout",
       "text": [
        "[INFO    ] !>          \\_    4.45e-02       na         1.61e-02     0.492\n"
       ]
      },
      {
       "output_type": "stream",
       "stream": "stderr",
       "text": [
        "[2014-05-23 14:22] DEBUG: PyPinT Logging: Work Loop: 153\n"
       ]
      },
      {
       "output_type": "stream",
       "stream": "stderr",
       "text": [
        "[2014-05-23 14:22] DEBUG: PyPinT Logging: Next Iteration\n"
       ]
      },
      {
       "output_type": "stream",
       "stream": "stderr",
       "text": [
        "[2014-05-23 14:22] DEBUG: PyPinT Logging: Starting New Solver Main Loop\n"
       ]
      },
      {
       "output_type": "stream",
       "stream": "stdout",
       "text": [
        "[INFO    ] !>        3\n"
       ]
      },
      {
       "output_type": "stream",
       "stream": "stdout",
       "text": [
        "[INFO    ] >>         \\\n"
       ]
      },
      {
       "output_type": "stream",
       "stream": "stdout",
       "text": [
        "[INFO    ] >>          |-   1     0.100     0.110     0.010\n"
       ]
      },
      {
       "output_type": "stream",
       "stream": "stdout",
       "text": [
        "[INFO    ]  >          |     \\\n"
       ]
      },
      {
       "output_type": "stream",
       "stream": "stdout",
       "text": [
        "[INFO    ]  >          |      |-  1      na       0.100     1.972       na           na    \n"
       ]
      },
      {
       "output_type": "stream",
       "stream": "stdout",
       "text": [
        "[INFO    ]  >          |      |-  2     0.100     0.102     1.981     1.68e-02       na    \n"
       ]
      },
      {
       "output_type": "stream",
       "stream": "stdout",
       "text": [
        "[INFO    ]  >          |      |-  3     0.102     0.105     1.996     4.94e-02       na    \n"
       ]
      },
      {
       "output_type": "stream",
       "stream": "stdout",
       "text": [
        "[INFO    ]  >          |      |-  4     0.105     0.108     2.011     8.07e-02       na    \n"
       ]
      },
      {
       "output_type": "stream",
       "stream": "stdout",
       "text": [
        "[INFO    ]  >          |      |-  5     0.108     0.110     2.019     9.65e-02       na    \n"
       ]
      },
      {
       "output_type": "stream",
       "stream": "stdout",
       "text": [
        "[INFO    ] >>          |      \\_\n"
       ]
      },
      {
       "output_type": "stream",
       "stream": "stdout",
       "text": [
        "[INFO    ] !>          \\_    2.90e-04       na         1.68e-02     0.441\n"
       ]
      },
      {
       "output_type": "stream",
       "stream": "stderr",
       "text": [
        "[2014-05-23 14:22] DEBUG: PyPinT Logging: Work Loop: 154\n"
       ]
      },
      {
       "output_type": "stream",
       "stream": "stderr",
       "text": [
        "[2014-05-23 14:22] DEBUG: PyPinT Logging: Next Iteration\n"
       ]
      },
      {
       "output_type": "stream",
       "stream": "stderr",
       "text": [
        "[2014-05-23 14:22] DEBUG: PyPinT Logging: Starting New Solver Main Loop\n"
       ]
      },
      {
       "output_type": "stream",
       "stream": "stdout",
       "text": [
        "[INFO    ] !>        4\n"
       ]
      },
      {
       "output_type": "stream",
       "stream": "stdout",
       "text": [
        "[INFO    ] >>         \\\n"
       ]
      },
      {
       "output_type": "stream",
       "stream": "stdout",
       "text": [
        "[INFO    ] >>          |-   1     0.100     0.110     0.010\n"
       ]
      },
      {
       "output_type": "stream",
       "stream": "stdout",
       "text": [
        "[INFO    ]  >          |     \\\n"
       ]
      },
      {
       "output_type": "stream",
       "stream": "stdout",
       "text": [
        "[INFO    ]  >          |      |-  1      na       0.100     1.972       na           na    \n"
       ]
      },
      {
       "output_type": "stream",
       "stream": "stdout",
       "text": [
        "[INFO    ]  >          |      |-  2     0.100     0.102     1.981     1.70e-02       na    \n"
       ]
      },
      {
       "output_type": "stream",
       "stream": "stdout",
       "text": [
        "[INFO    ]  >          |      |-  3     0.102     0.105     1.996     5.02e-02       na    \n"
       ]
      },
      {
       "output_type": "stream",
       "stream": "stdout",
       "text": [
        "[INFO    ]  >          |      |-  4     0.105     0.108     2.011     8.17e-02       na    \n"
       ]
      },
      {
       "output_type": "stream",
       "stream": "stdout",
       "text": [
        "[INFO    ]  >          |      |-  5     0.108     0.110     2.019     9.71e-02       na    \n"
       ]
      },
      {
       "output_type": "stream",
       "stream": "stdout",
       "text": [
        "[INFO    ] >>          |      \\_\n"
       ]
      },
      {
       "output_type": "stream",
       "stream": "stdout",
       "text": [
        "[INFO    ] !>          \\_    2.30e-03       na         1.70e-02     0.383\n"
       ]
      },
      {
       "output_type": "stream",
       "stream": "stderr",
       "text": [
        "[2014-05-23 14:22] DEBUG: PyPinT Logging: Work Loop: 155\n"
       ]
      },
      {
       "output_type": "stream",
       "stream": "stderr",
       "text": [
        "[2014-05-23 14:22] DEBUG: PyPinT Logging: Next Iteration\n"
       ]
      },
      {
       "output_type": "stream",
       "stream": "stderr",
       "text": [
        "[2014-05-23 14:22] DEBUG: PyPinT Logging: Starting New Solver Main Loop\n"
       ]
      },
      {
       "output_type": "stream",
       "stream": "stdout",
       "text": [
        "[INFO    ] !>        5\n"
       ]
      },
      {
       "output_type": "stream",
       "stream": "stdout",
       "text": [
        "[INFO    ] >>         \\\n"
       ]
      },
      {
       "output_type": "stream",
       "stream": "stdout",
       "text": [
        "[INFO    ] >>          |-   1     0.100     0.110     0.010\n"
       ]
      },
      {
       "output_type": "stream",
       "stream": "stdout",
       "text": [
        "[INFO    ]  >          |     \\\n"
       ]
      },
      {
       "output_type": "stream",
       "stream": "stdout",
       "text": [
        "[INFO    ]  >          |      |-  1      na       0.100     1.972       na           na    \n"
       ]
      },
      {
       "output_type": "stream",
       "stream": "stdout",
       "text": [
        "[INFO    ]  >          |      |-  2     0.100     0.102     1.981     1.71e-02       na    \n"
       ]
      },
      {
       "output_type": "stream",
       "stream": "stdout",
       "text": [
        "[INFO    ]  >          |      |-  3     0.102     0.105     1.996     5.06e-02       na    \n"
       ]
      },
      {
       "output_type": "stream",
       "stream": "stdout",
       "text": [
        "[INFO    ]  >          |      |-  4     0.105     0.108     2.011     8.19e-02       na    \n"
       ]
      },
      {
       "output_type": "stream",
       "stream": "stdout",
       "text": [
        "[INFO    ]  >          |      |-  5     0.108     0.110     2.019     9.72e-02       na    \n"
       ]
      },
      {
       "output_type": "stream",
       "stream": "stdout",
       "text": [
        "[INFO    ] >>          |      \\_\n"
       ]
      },
      {
       "output_type": "stream",
       "stream": "stdout",
       "text": [
        "[INFO    ] !>          \\_    2.16e-04       na         1.71e-02     0.324\n"
       ]
      },
      {
       "output_type": "stream",
       "stream": "stderr",
       "text": [
        "[2014-05-23 14:22] DEBUG: PyPinT Logging: Work Loop: 156\n"
       ]
      },
      {
       "output_type": "stream",
       "stream": "stderr",
       "text": [
        "[2014-05-23 14:22] DEBUG: PyPinT Logging: Next Iteration\n"
       ]
      },
      {
       "output_type": "stream",
       "stream": "stderr",
       "text": [
        "[2014-05-23 14:22] DEBUG: PyPinT Logging: Starting New Solver Main Loop\n"
       ]
      },
      {
       "output_type": "stream",
       "stream": "stdout",
       "text": [
        "[INFO    ] !>        6\n"
       ]
      },
      {
       "output_type": "stream",
       "stream": "stdout",
       "text": [
        "[INFO    ] >>         \\\n"
       ]
      },
      {
       "output_type": "stream",
       "stream": "stdout",
       "text": [
        "[INFO    ] >>          |-   1     0.100     0.110     0.010\n"
       ]
      },
      {
       "output_type": "stream",
       "stream": "stdout",
       "text": [
        "[INFO    ]  >          |     \\\n"
       ]
      },
      {
       "output_type": "stream",
       "stream": "stdout",
       "text": [
        "[INFO    ]  >          |      |-  1      na       0.100     1.972       na           na    \n"
       ]
      },
      {
       "output_type": "stream",
       "stream": "stdout",
       "text": [
        "[INFO    ]  >          |      |-  2     0.100     0.102     1.981     1.72e-02       na    \n"
       ]
      },
      {
       "output_type": "stream",
       "stream": "stdout",
       "text": [
        "[INFO    ]  >          |      |-  3     0.102     0.105     1.996     5.07e-02       na    \n"
       ]
      },
      {
       "output_type": "stream",
       "stream": "stdout",
       "text": [
        "[INFO    ]  >          |      |-  4     0.105     0.108     2.011     8.19e-02       na    \n"
       ]
      },
      {
       "output_type": "stream",
       "stream": "stdout",
       "text": [
        "[INFO    ]  >          |      |-  5     0.108     0.110     2.019     9.72e-02       na    \n"
       ]
      },
      {
       "output_type": "stream",
       "stream": "stdout",
       "text": [
        "[INFO    ] >>          |      \\_\n"
       ]
      },
      {
       "output_type": "stream",
       "stream": "stdout",
       "text": [
        "[INFO    ] !>          \\_    5.08e-04       na         1.72e-02     0.326\n"
       ]
      },
      {
       "output_type": "stream",
       "stream": "stderr",
       "text": [
        "[2014-05-23 14:22] DEBUG: PyPinT Logging: Work Loop: 157\n"
       ]
      },
      {
       "output_type": "stream",
       "stream": "stderr",
       "text": [
        "[2014-05-23 14:22] DEBUG: PyPinT Logging: Next Iteration\n"
       ]
      },
      {
       "output_type": "stream",
       "stream": "stderr",
       "text": [
        "[2014-05-23 14:22] DEBUG: PyPinT Logging: Starting New Solver Main Loop\n"
       ]
      },
      {
       "output_type": "stream",
       "stream": "stdout",
       "text": [
        "[INFO    ] !>        7\n"
       ]
      },
      {
       "output_type": "stream",
       "stream": "stdout",
       "text": [
        "[INFO    ] >>         \\\n"
       ]
      },
      {
       "output_type": "stream",
       "stream": "stdout",
       "text": [
        "[INFO    ] >>          |-   1     0.100     0.110     0.010\n"
       ]
      },
      {
       "output_type": "stream",
       "stream": "stdout",
       "text": [
        "[INFO    ]  >          |     \\\n"
       ]
      },
      {
       "output_type": "stream",
       "stream": "stdout",
       "text": [
        "[INFO    ]  >          |      |-  1      na       0.100     1.972       na           na    \n"
       ]
      },
      {
       "output_type": "stream",
       "stream": "stdout",
       "text": [
        "[INFO    ]  >          |      |-  2     0.100     0.102     1.981     1.72e-02       na    \n"
       ]
      },
      {
       "output_type": "stream",
       "stream": "stdout",
       "text": [
        "[INFO    ]  >          |      |-  3     0.102     0.105     1.996     5.08e-02       na    \n"
       ]
      },
      {
       "output_type": "stream",
       "stream": "stdout",
       "text": [
        "[INFO    ]  >          |      |-  4     0.105     0.108     2.011     8.19e-02       na    \n"
       ]
      },
      {
       "output_type": "stream",
       "stream": "stdout",
       "text": [
        "[INFO    ]  >          |      |-  5     0.108     0.110     2.019     9.72e-02       na    \n"
       ]
      },
      {
       "output_type": "stream",
       "stream": "stdout",
       "text": [
        "[INFO    ] >>          |      \\_\n"
       ]
      },
      {
       "output_type": "stream",
       "stream": "stdout",
       "text": [
        "[INFO    ] !>          \\_    6.47e-05       na         1.72e-02     0.323\n"
       ]
      },
      {
       "output_type": "stream",
       "stream": "stderr",
       "text": [
        "[2014-05-23 14:22] DEBUG: PyPinT Logging: Work Loop: 158\n"
       ]
      },
      {
       "output_type": "stream",
       "stream": "stderr",
       "text": [
        "[2014-05-23 14:22] DEBUG: PyPinT Logging: Next Iteration\n"
       ]
      },
      {
       "output_type": "stream",
       "stream": "stderr",
       "text": [
        "[2014-05-23 14:22] DEBUG: PyPinT Logging: Starting New Solver Main Loop\n"
       ]
      },
      {
       "output_type": "stream",
       "stream": "stdout",
       "text": [
        "[INFO    ] !>        8\n"
       ]
      },
      {
       "output_type": "stream",
       "stream": "stdout",
       "text": [
        "[INFO    ] >>         \\\n"
       ]
      },
      {
       "output_type": "stream",
       "stream": "stdout",
       "text": [
        "[INFO    ] >>          |-   1     0.100     0.110     0.010\n"
       ]
      },
      {
       "output_type": "stream",
       "stream": "stdout",
       "text": [
        "[INFO    ]  >          |     \\\n"
       ]
      },
      {
       "output_type": "stream",
       "stream": "stdout",
       "text": [
        "[INFO    ]  >          |      |-  1      na       0.100     1.972       na           na    \n"
       ]
      },
      {
       "output_type": "stream",
       "stream": "stdout",
       "text": [
        "[INFO    ]  >          |      |-  2     0.100     0.102     1.981     1.72e-02       na    \n"
       ]
      },
      {
       "output_type": "stream",
       "stream": "stdout",
       "text": [
        "[INFO    ]  >          |      |-  3     0.102     0.105     1.996     5.08e-02       na    \n"
       ]
      },
      {
       "output_type": "stream",
       "stream": "stdout",
       "text": [
        "[INFO    ]  >          |      |-  4     0.105     0.108     2.011     8.18e-02       na    \n"
       ]
      },
      {
       "output_type": "stream",
       "stream": "stdout",
       "text": [
        "[INFO    ]  >          |      |-  5     0.108     0.110     2.019     9.72e-02       na    \n"
       ]
      },
      {
       "output_type": "stream",
       "stream": "stdout",
       "text": [
        "[INFO    ] >>          |      \\_\n"
       ]
      },
      {
       "output_type": "stream",
       "stream": "stdout",
       "text": [
        "[INFO    ] !>          \\_    2.08e-04       na         1.72e-02     0.326\n"
       ]
      },
      {
       "output_type": "stream",
       "stream": "stderr",
       "text": [
        "[2014-05-23 14:22] DEBUG: PyPinT Logging: Work Loop: 159\n"
       ]
      },
      {
       "output_type": "stream",
       "stream": "stderr",
       "text": [
        "[2014-05-23 14:22] DEBUG: PyPinT Logging: Next Iteration\n"
       ]
      },
      {
       "output_type": "stream",
       "stream": "stderr",
       "text": [
        "[2014-05-23 14:22] DEBUG: PyPinT Logging: Starting New Solver Main Loop\n"
       ]
      },
      {
       "output_type": "stream",
       "stream": "stdout",
       "text": [
        "[INFO    ] !>        9\n"
       ]
      },
      {
       "output_type": "stream",
       "stream": "stdout",
       "text": [
        "[INFO    ] >>         \\\n"
       ]
      },
      {
       "output_type": "stream",
       "stream": "stdout",
       "text": [
        "[INFO    ] >>          |-   1     0.100     0.110     0.010\n"
       ]
      },
      {
       "output_type": "stream",
       "stream": "stdout",
       "text": [
        "[INFO    ]  >          |     \\\n"
       ]
      },
      {
       "output_type": "stream",
       "stream": "stdout",
       "text": [
        "[INFO    ]  >          |      |-  1      na       0.100     1.972       na           na    \n"
       ]
      },
      {
       "output_type": "stream",
       "stream": "stdout",
       "text": [
        "[INFO    ]  >          |      |-  2     0.100     0.102     1.981     1.72e-02       na    \n"
       ]
      },
      {
       "output_type": "stream",
       "stream": "stdout",
       "text": [
        "[INFO    ]  >          |      |-  3     0.102     0.105     1.996     5.08e-02       na    \n"
       ]
      },
      {
       "output_type": "stream",
       "stream": "stdout",
       "text": [
        "[INFO    ]  >          |      |-  4     0.105     0.108     2.011     8.18e-02       na    \n"
       ]
      },
      {
       "output_type": "stream",
       "stream": "stdout",
       "text": [
        "[INFO    ]  >          |      |-  5     0.108     0.110     2.019     9.71e-02       na    \n"
       ]
      },
      {
       "output_type": "stream",
       "stream": "stdout",
       "text": [
        "[INFO    ] >>          |      \\_\n"
       ]
      },
      {
       "output_type": "stream",
       "stream": "stdout",
       "text": [
        "[INFO    ] !>          \\_    1.38e-04       na         1.72e-02     0.383\n"
       ]
      },
      {
       "output_type": "stream",
       "stream": "stderr",
       "text": [
        "[2014-05-23 14:22] DEBUG: PyPinT Logging: Work Loop: 160\n"
       ]
      },
      {
       "output_type": "stream",
       "stream": "stderr",
       "text": [
        "[2014-05-23 14:22] DEBUG: PyPinT Logging: Next Iteration\n"
       ]
      },
      {
       "output_type": "stream",
       "stream": "stderr",
       "text": [
        "[2014-05-23 14:22] DEBUG: PyPinT Logging: Starting New Solver Main Loop\n"
       ]
      },
      {
       "output_type": "stream",
       "stream": "stdout",
       "text": [
        "[INFO    ] !>       10\n"
       ]
      },
      {
       "output_type": "stream",
       "stream": "stdout",
       "text": [
        "[INFO    ] >>         \\\n"
       ]
      },
      {
       "output_type": "stream",
       "stream": "stdout",
       "text": [
        "[INFO    ] >>          |-   1     0.100     0.110     0.010\n"
       ]
      },
      {
       "output_type": "stream",
       "stream": "stdout",
       "text": [
        "[INFO    ]  >          |     \\\n"
       ]
      },
      {
       "output_type": "stream",
       "stream": "stdout",
       "text": [
        "[INFO    ]  >          |      |-  1      na       0.100     1.972       na           na    \n"
       ]
      },
      {
       "output_type": "stream",
       "stream": "stdout",
       "text": [
        "[INFO    ]  >          |      |-  2     0.100     0.102     1.981     1.72e-02       na    \n"
       ]
      },
      {
       "output_type": "stream",
       "stream": "stdout",
       "text": [
        "[INFO    ]  >          |      |-  3     0.102     0.105     1.996     5.07e-02       na    \n"
       ]
      },
      {
       "output_type": "stream",
       "stream": "stdout",
       "text": [
        "[INFO    ]  >          |      |-  4     0.105     0.108     2.011     8.18e-02       na    \n"
       ]
      },
      {
       "output_type": "stream",
       "stream": "stdout",
       "text": [
        "[INFO    ]  >          |      |-  5     0.108     0.110     2.019     9.72e-02       na    \n"
       ]
      },
      {
       "output_type": "stream",
       "stream": "stdout",
       "text": [
        "[INFO    ] >>          |      \\_\n"
       ]
      },
      {
       "output_type": "stream",
       "stream": "stdout",
       "text": [
        "[INFO    ] !>          \\_    8.71e-05       na         1.72e-02     0.382\n"
       ]
      },
      {
       "output_type": "stream",
       "stream": "stderr",
       "text": [
        "[2014-05-23 14:22] DEBUG: PyPinT Logging: Work Loop: 161\n"
       ]
      },
      {
       "output_type": "stream",
       "stream": "stderr",
       "text": [
        "[2014-05-23 14:22] DEBUG: PyPinT Logging: Next Iteration\n"
       ]
      },
      {
       "output_type": "stream",
       "stream": "stderr",
       "text": [
        "[2014-05-23 14:22] DEBUG: PyPinT Logging: Starting New Solver Main Loop\n"
       ]
      },
      {
       "output_type": "stream",
       "stream": "stdout",
       "text": [
        "[INFO    ] !>       11\n"
       ]
      },
      {
       "output_type": "stream",
       "stream": "stdout",
       "text": [
        "[INFO    ] >>         \\\n"
       ]
      },
      {
       "output_type": "stream",
       "stream": "stdout",
       "text": [
        "[INFO    ] >>          |-   1     0.100     0.110     0.010\n"
       ]
      },
      {
       "output_type": "stream",
       "stream": "stdout",
       "text": [
        "[INFO    ]  >          |     \\\n"
       ]
      },
      {
       "output_type": "stream",
       "stream": "stdout",
       "text": [
        "[INFO    ]  >          |      |-  1      na       0.100     1.972       na           na    \n"
       ]
      },
      {
       "output_type": "stream",
       "stream": "stdout",
       "text": [
        "[INFO    ]  >          |      |-  2     0.100     0.102     1.981     1.73e-02       na    \n"
       ]
      },
      {
       "output_type": "stream",
       "stream": "stdout",
       "text": [
        "[INFO    ]  >          |      |-  3     0.102     0.105     1.996     5.07e-02       na    \n"
       ]
      },
      {
       "output_type": "stream",
       "stream": "stdout",
       "text": [
        "[INFO    ]  >          |      |-  4     0.105     0.108     2.011     8.18e-02       na    \n"
       ]
      },
      {
       "output_type": "stream",
       "stream": "stdout",
       "text": [
        "[INFO    ]  >          |      |-  5     0.108     0.110     2.019     9.71e-02       na    \n"
       ]
      },
      {
       "output_type": "stream",
       "stream": "stdout",
       "text": [
        "[INFO    ] >>          |      \\_\n"
       ]
      },
      {
       "output_type": "stream",
       "stream": "stdout",
       "text": [
        "[INFO    ] !>          \\_    9.73e-05       na         1.73e-02     0.384\n"
       ]
      },
      {
       "output_type": "stream",
       "stream": "stderr",
       "text": [
        "[2014-05-23 14:22] DEBUG: PyPinT Logging: Work Loop: 162\n"
       ]
      },
      {
       "output_type": "stream",
       "stream": "stderr",
       "text": [
        "[2014-05-23 14:22] DEBUG: PyPinT Logging: Next Iteration\n"
       ]
      },
      {
       "output_type": "stream",
       "stream": "stderr",
       "text": [
        "[2014-05-23 14:22] DEBUG: PyPinT Logging: Starting New Solver Main Loop\n"
       ]
      },
      {
       "output_type": "stream",
       "stream": "stdout",
       "text": [
        "[INFO    ] !>       12\n"
       ]
      },
      {
       "output_type": "stream",
       "stream": "stdout",
       "text": [
        "[INFO    ] >>         \\\n"
       ]
      },
      {
       "output_type": "stream",
       "stream": "stdout",
       "text": [
        "[INFO    ] >>          |-   1     0.100     0.110     0.010\n"
       ]
      },
      {
       "output_type": "stream",
       "stream": "stdout",
       "text": [
        "[INFO    ]  >          |     \\\n"
       ]
      },
      {
       "output_type": "stream",
       "stream": "stdout",
       "text": [
        "[INFO    ]  >          |      |-  1      na       0.100     1.972       na           na    \n"
       ]
      },
      {
       "output_type": "stream",
       "stream": "stdout",
       "text": [
        "[INFO    ]  >          |      |-  2     0.100     0.102     1.981     1.72e-02       na    \n"
       ]
      },
      {
       "output_type": "stream",
       "stream": "stdout",
       "text": [
        "[INFO    ]  >          |      |-  3     0.102     0.105     1.996     5.07e-02       na    \n"
       ]
      },
      {
       "output_type": "stream",
       "stream": "stdout",
       "text": [
        "[INFO    ]  >          |      |-  4     0.105     0.108     2.011     8.18e-02       na    \n"
       ]
      },
      {
       "output_type": "stream",
       "stream": "stdout",
       "text": [
        "[INFO    ]  >          |      |-  5     0.108     0.110     2.019     9.72e-02       na    \n"
       ]
      },
      {
       "output_type": "stream",
       "stream": "stdout",
       "text": [
        "[INFO    ] >>          |      \\_\n"
       ]
      },
      {
       "output_type": "stream",
       "stream": "stdout",
       "text": [
        "[INFO    ] !>          \\_    5.73e-05       na         1.72e-02     0.378\n"
       ]
      },
      {
       "output_type": "stream",
       "stream": "stderr",
       "text": [
        "[2014-05-23 14:22] DEBUG: PyPinT Logging: Work Loop: 163\n"
       ]
      },
      {
       "output_type": "stream",
       "stream": "stderr",
       "text": [
        "[2014-05-23 14:22] DEBUG: PyPinT Logging: Next Iteration\n"
       ]
      },
      {
       "output_type": "stream",
       "stream": "stderr",
       "text": [
        "[2014-05-23 14:22] DEBUG: PyPinT Logging: Starting New Solver Main Loop\n"
       ]
      },
      {
       "output_type": "stream",
       "stream": "stdout",
       "text": [
        "[INFO    ] !>       13\n"
       ]
      },
      {
       "output_type": "stream",
       "stream": "stdout",
       "text": [
        "[INFO    ] >>         \\\n"
       ]
      },
      {
       "output_type": "stream",
       "stream": "stdout",
       "text": [
        "[INFO    ] >>          |-   1     0.100     0.110     0.010\n"
       ]
      },
      {
       "output_type": "stream",
       "stream": "stdout",
       "text": [
        "[INFO    ]  >          |     \\\n"
       ]
      },
      {
       "output_type": "stream",
       "stream": "stdout",
       "text": [
        "[INFO    ]  >          |      |-  1      na       0.100     1.972       na           na    \n"
       ]
      },
      {
       "output_type": "stream",
       "stream": "stdout",
       "text": [
        "[INFO    ]  >          |      |-  2     0.100     0.102     1.981     1.73e-02       na    \n"
       ]
      },
      {
       "output_type": "stream",
       "stream": "stdout",
       "text": [
        "[INFO    ]  >          |      |-  3     0.102     0.105     1.996     5.07e-02       na    \n"
       ]
      },
      {
       "output_type": "stream",
       "stream": "stdout",
       "text": [
        "[INFO    ]  >          |      |-  4     0.105     0.108     2.011     8.18e-02       na    \n"
       ]
      },
      {
       "output_type": "stream",
       "stream": "stdout",
       "text": [
        "[INFO    ]  >          |      |-  5     0.108     0.110     2.019     9.71e-02       na    \n"
       ]
      },
      {
       "output_type": "stream",
       "stream": "stdout",
       "text": [
        "[INFO    ] >>          |      \\_\n"
       ]
      },
      {
       "output_type": "stream",
       "stream": "stdout",
       "text": [
        "[INFO    ] !>          \\_    4.87e-05       na         1.73e-02     0.382\n"
       ]
      },
      {
       "output_type": "stream",
       "stream": "stderr",
       "text": [
        "[2014-05-23 14:22] DEBUG: PyPinT Logging: Work Loop: 164\n"
       ]
      },
      {
       "output_type": "stream",
       "stream": "stderr",
       "text": [
        "[2014-05-23 14:22] DEBUG: PyPinT Logging: Next Iteration\n"
       ]
      },
      {
       "output_type": "stream",
       "stream": "stderr",
       "text": [
        "[2014-05-23 14:22] DEBUG: PyPinT Logging: Starting New Solver Main Loop\n"
       ]
      },
      {
       "output_type": "stream",
       "stream": "stdout",
       "text": [
        "[INFO    ] !>       14\n"
       ]
      },
      {
       "output_type": "stream",
       "stream": "stdout",
       "text": [
        "[INFO    ] >>         \\\n"
       ]
      },
      {
       "output_type": "stream",
       "stream": "stdout",
       "text": [
        "[INFO    ] >>          |-   1     0.100     0.110     0.010\n"
       ]
      },
      {
       "output_type": "stream",
       "stream": "stdout",
       "text": [
        "[INFO    ]  >          |     \\\n"
       ]
      },
      {
       "output_type": "stream",
       "stream": "stdout",
       "text": [
        "[INFO    ]  >          |      |-  1      na       0.100     1.972       na           na    \n"
       ]
      },
      {
       "output_type": "stream",
       "stream": "stdout",
       "text": [
        "[INFO    ]  >          |      |-  2     0.100     0.102     1.981     1.72e-02       na    \n"
       ]
      },
      {
       "output_type": "stream",
       "stream": "stdout",
       "text": [
        "[INFO    ]  >          |      |-  3     0.102     0.105     1.996     5.07e-02       na    \n"
       ]
      },
      {
       "output_type": "stream",
       "stream": "stdout",
       "text": [
        "[INFO    ]  >          |      |-  4     0.105     0.108     2.011     8.18e-02       na    \n"
       ]
      },
      {
       "output_type": "stream",
       "stream": "stdout",
       "text": [
        "[INFO    ]  >          |      |-  5     0.108     0.110     2.019     9.72e-02       na    \n"
       ]
      },
      {
       "output_type": "stream",
       "stream": "stdout",
       "text": [
        "[INFO    ] >>          |      \\_\n"
       ]
      },
      {
       "output_type": "stream",
       "stream": "stdout",
       "text": [
        "[INFO    ] !>          \\_    3.51e-05       na         1.72e-02     0.382\n"
       ]
      },
      {
       "output_type": "stream",
       "stream": "stderr",
       "text": [
        "[2014-05-23 14:22] DEBUG: PyPinT Logging: Work Loop: 165\n"
       ]
      },
      {
       "output_type": "stream",
       "stream": "stderr",
       "text": [
        "[2014-05-23 14:22] DEBUG: PyPinT Logging: Next Iteration\n"
       ]
      },
      {
       "output_type": "stream",
       "stream": "stderr",
       "text": [
        "[2014-05-23 14:22] DEBUG: PyPinT Logging: Starting New Solver Main Loop\n"
       ]
      },
      {
       "output_type": "stream",
       "stream": "stdout",
       "text": [
        "[INFO    ] !>       15\n"
       ]
      },
      {
       "output_type": "stream",
       "stream": "stdout",
       "text": [
        "[INFO    ] >>         \\\n"
       ]
      },
      {
       "output_type": "stream",
       "stream": "stdout",
       "text": [
        "[INFO    ] >>          |-   1     0.100     0.110     0.010\n"
       ]
      },
      {
       "output_type": "stream",
       "stream": "stdout",
       "text": [
        "[INFO    ]  >          |     \\\n"
       ]
      },
      {
       "output_type": "stream",
       "stream": "stdout",
       "text": [
        "[INFO    ]  >          |      |-  1      na       0.100     1.972       na           na    \n"
       ]
      },
      {
       "output_type": "stream",
       "stream": "stdout",
       "text": [
        "[INFO    ]  >          |      |-  2     0.100     0.102     1.981     1.73e-02       na    \n"
       ]
      },
      {
       "output_type": "stream",
       "stream": "stdout",
       "text": [
        "[INFO    ]  >          |      |-  3     0.102     0.105     1.996     5.07e-02       na    \n"
       ]
      },
      {
       "output_type": "stream",
       "stream": "stdout",
       "text": [
        "[INFO    ]  >          |      |-  4     0.105     0.108     2.011     8.18e-02       na    \n"
       ]
      },
      {
       "output_type": "stream",
       "stream": "stdout",
       "text": [
        "[INFO    ]  >          |      |-  5     0.108     0.110     2.019     9.71e-02       na    \n"
       ]
      },
      {
       "output_type": "stream",
       "stream": "stdout",
       "text": [
        "[INFO    ] >>          |      \\_\n"
       ]
      },
      {
       "output_type": "stream",
       "stream": "stderr",
       "text": [
        "[2014-05-23 14:22] DEBUG: PyPinT Logging: Maximum of iterations exceeded: 15 >= 15\n"
       ]
      },
      {
       "output_type": "stream",
       "stream": "stdout",
       "text": [
        "[INFO    ] !>          \\_    1.51e-05       na         1.73e-02     0.382\n"
       ]
      },
      {
       "output_type": "stream",
       "stream": "stdout",
       "text": [
        "[INFO    ] !>   Converged after 15 iteration(s):\n"
       ]
      },
      {
       "output_type": "stream",
       "stream": "stdout",
       "text": [
        "[INFO    ] !>     Threshold condition(s) met:    iterations\n"
       ]
      },
      {
       "output_type": "stream",
       "stream": "stdout",
       "text": [
        "[INFO    ] !>     Final Residual:                9.714e-02\n"
       ]
      },
      {
       "output_type": "stream",
       "stream": "stdout",
       "text": [
        "[INFO    ] !>     Solution Reduction:            1.510e-05\n"
       ]
      },
      {
       "output_type": "stream",
       "stream": "stderr",
       "text": [
        "[2014-05-23 14:22] DEBUG: PyPinT Logging: Work Loop: 166\n"
       ]
      },
      {
       "output_type": "stream",
       "stream": "stderr",
       "text": [
        "[2014-05-23 14:22] DEBUG: PyPinT Logging: Nodes: [0.10999999999999999, 0.1117267316464601, 0.11499999999999999, 0.11827326835353986, 0.11999999999999998]\n"
       ]
      },
      {
       "output_type": "stream",
       "stream": "stderr",
       "text": [
        "[2014-05-23 14:22] DEBUG: PyPinT Logging: Nodes: [0.10999999999999999, 0.1117267316464601, 0.11499999999999999, 0.11827326835353986, 0.11999999999999998]\n"
       ]
      },
      {
       "output_type": "stream",
       "stream": "stderr",
       "text": [
        "[2014-05-23 14:22] DEBUG: PyPinT Logging: New Interval Initialized\n"
       ]
      },
      {
       "output_type": "stream",
       "stream": "stdout",
       "text": [
        "[INFO    ] !> ................................................................................\n"
       ]
      },
      {
       "output_type": "stream",
       "stream": "stdout",
       "text": [
        "[INFO    ] !>   Interval: [0.110, 0.120]\n"
       ]
      },
      {
       "output_type": "stream",
       "stream": "stdout",
       "text": [
        "[INFO    ] !>    iter\n"
       ]
      },
      {
       "output_type": "stream",
       "stream": "stdout",
       "text": [
        "[INFO    ] >>         \\\n"
       ]
      },
      {
       "output_type": "stream",
       "stream": "stdout",
       "text": [
        "[INFO    ] >>          |- time    start     end        delta\n"
       ]
      },
      {
       "output_type": "stream",
       "stream": "stdout",
       "text": [
        "[INFO    ]  >          |     \\\n"
       ]
      },
      {
       "output_type": "stream",
       "stream": "stdout",
       "text": [
        "[INFO    ]  >          |      |- step    t_0      t_1       phi(t_1)    resid       err\n"
       ]
      },
      {
       "output_type": "stream",
       "stream": "stdout",
       "text": [
        "[INFO    ] >>          |      \\_\n"
       ]
      },
      {
       "output_type": "stream",
       "stream": "stdout",
       "text": [
        "[INFO    ] !>          \\_   sol r.red    err r.red      resid       time\n"
       ]
      },
      {
       "output_type": "stream",
       "stream": "stderr",
       "text": [
        "[2014-05-23 14:22] DEBUG: PyPinT Logging: Starting New Solver Main Loop\n"
       ]
      },
      {
       "output_type": "stream",
       "stream": "stdout",
       "text": [
        "[INFO    ] !>        1\n"
       ]
      },
      {
       "output_type": "stream",
       "stream": "stdout",
       "text": [
        "[INFO    ] >>         \\\n"
       ]
      },
      {
       "output_type": "stream",
       "stream": "stdout",
       "text": [
        "[INFO    ] >>          |-   1     0.110     0.120     0.010\n"
       ]
      },
      {
       "output_type": "stream",
       "stream": "stdout",
       "text": [
        "[INFO    ]  >          |     \\\n"
       ]
      },
      {
       "output_type": "stream",
       "stream": "stdout",
       "text": [
        "[INFO    ]  >          |      |-  1      na       0.110     2.020       na           na    \n"
       ]
      },
      {
       "output_type": "stream",
       "stream": "stdout",
       "text": [
        "[INFO    ]  >          |      |-  2     0.110     0.112     2.027     1.34e-02       na    \n"
       ]
      },
      {
       "output_type": "stream",
       "stream": "stdout",
       "text": [
        "[INFO    ]  >          |      |-  3     0.112     0.115     2.041     3.71e-02       na    \n"
       ]
      },
      {
       "output_type": "stream",
       "stream": "stdout",
       "text": [
        "[INFO    ]  >          |      |-  4     0.115     0.118     2.055     5.81e-02       na    \n"
       ]
      },
      {
       "output_type": "stream",
       "stream": "stdout",
       "text": [
        "[INFO    ]  >          |      |-  5     0.118     0.120     2.061     6.86e-02       na    \n"
       ]
      },
      {
       "output_type": "stream",
       "stream": "stdout",
       "text": [
        "[INFO    ] >>          |      \\_\n"
       ]
      },
      {
       "output_type": "stream",
       "stream": "stderr",
       "text": [
        "[2014-05-23 14:22] DEBUG: PyPinT Logging: Skipping computation of reduction: No previous iteration available.\n"
       ]
      },
      {
       "output_type": "stream",
       "stream": "stdout",
       "text": [
        "[INFO    ] !>          \\_      na           na           na         0.607\n"
       ]
      },
      {
       "output_type": "stream",
       "stream": "stderr",
       "text": [
        "[2014-05-23 14:22] DEBUG: PyPinT Logging: Work Loop: 167\n"
       ]
      },
      {
       "output_type": "stream",
       "stream": "stderr",
       "text": [
        "[2014-05-23 14:22] DEBUG: PyPinT Logging: Next Iteration\n"
       ]
      },
      {
       "output_type": "stream",
       "stream": "stderr",
       "text": [
        "[2014-05-23 14:22] DEBUG: PyPinT Logging: Starting New Solver Main Loop\n"
       ]
      },
      {
       "output_type": "stream",
       "stream": "stdout",
       "text": [
        "[INFO    ] !>        2\n"
       ]
      },
      {
       "output_type": "stream",
       "stream": "stdout",
       "text": [
        "[INFO    ] >>         \\\n"
       ]
      },
      {
       "output_type": "stream",
       "stream": "stdout",
       "text": [
        "[INFO    ] >>          |-   1     0.110     0.120     0.010\n"
       ]
      },
      {
       "output_type": "stream",
       "stream": "stdout",
       "text": [
        "[INFO    ]  >          |     \\\n"
       ]
      },
      {
       "output_type": "stream",
       "stream": "stdout",
       "text": [
        "[INFO    ]  >          |      |-  1      na       0.110     2.020       na           na    \n"
       ]
      },
      {
       "output_type": "stream",
       "stream": "stdout",
       "text": [
        "[INFO    ]  >          |      |-  2     0.110     0.112     2.027     1.53e-02       na    \n"
       ]
      },
      {
       "output_type": "stream",
       "stream": "stdout",
       "text": [
        "[INFO    ]  >          |      |-  3     0.112     0.115     2.041     4.18e-02       na    \n"
       ]
      },
      {
       "output_type": "stream",
       "stream": "stdout",
       "text": [
        "[INFO    ]  >          |      |-  4     0.115     0.118     2.054     6.46e-02       na    \n"
       ]
      },
      {
       "output_type": "stream",
       "stream": "stdout",
       "text": [
        "[INFO    ]  >          |      |-  5     0.118     0.120     2.060     7.51e-02       na    \n"
       ]
      },
      {
       "output_type": "stream",
       "stream": "stdout",
       "text": [
        "[INFO    ] >>          |      \\_\n"
       ]
      },
      {
       "output_type": "stream",
       "stream": "stdout",
       "text": [
        "[INFO    ] !>          \\_    5.05e-02       na         1.53e-02     0.437\n"
       ]
      },
      {
       "output_type": "stream",
       "stream": "stderr",
       "text": [
        "[2014-05-23 14:22] DEBUG: PyPinT Logging: Work Loop: 168\n"
       ]
      },
      {
       "output_type": "stream",
       "stream": "stderr",
       "text": [
        "[2014-05-23 14:22] DEBUG: PyPinT Logging: Next Iteration\n"
       ]
      },
      {
       "output_type": "stream",
       "stream": "stderr",
       "text": [
        "[2014-05-23 14:22] DEBUG: PyPinT Logging: Starting New Solver Main Loop\n"
       ]
      },
      {
       "output_type": "stream",
       "stream": "stdout",
       "text": [
        "[INFO    ] !>        3\n"
       ]
      },
      {
       "output_type": "stream",
       "stream": "stdout",
       "text": [
        "[INFO    ] >>         \\\n"
       ]
      },
      {
       "output_type": "stream",
       "stream": "stdout",
       "text": [
        "[INFO    ] >>          |-   1     0.110     0.120     0.010\n"
       ]
      },
      {
       "output_type": "stream",
       "stream": "stdout",
       "text": [
        "[INFO    ]  >          |     \\\n"
       ]
      },
      {
       "output_type": "stream",
       "stream": "stdout",
       "text": [
        "[INFO    ]  >          |      |-  1      na       0.110     2.020       na           na    \n"
       ]
      },
      {
       "output_type": "stream",
       "stream": "stdout",
       "text": [
        "[INFO    ]  >          |      |-  2     0.110     0.112     2.027     1.59e-02       na    \n"
       ]
      },
      {
       "output_type": "stream",
       "stream": "stdout",
       "text": [
        "[INFO    ]  >          |      |-  3     0.112     0.115     2.041     4.32e-02       na    \n"
       ]
      },
      {
       "output_type": "stream",
       "stream": "stdout",
       "text": [
        "[INFO    ]  >          |      |-  4     0.115     0.118     2.054     6.60e-02       na    \n"
       ]
      },
      {
       "output_type": "stream",
       "stream": "stdout",
       "text": [
        "[INFO    ]  >          |      |-  5     0.118     0.120     2.060     7.61e-02       na    \n"
       ]
      },
      {
       "output_type": "stream",
       "stream": "stdout",
       "text": [
        "[INFO    ] >>          |      \\_\n"
       ]
      },
      {
       "output_type": "stream",
       "stream": "stdout",
       "text": [
        "[INFO    ] !>          \\_    7.77e-04       na         1.59e-02     0.439\n"
       ]
      },
      {
       "output_type": "stream",
       "stream": "stderr",
       "text": [
        "[2014-05-23 14:22] DEBUG: PyPinT Logging: Work Loop: 169\n"
       ]
      },
      {
       "output_type": "stream",
       "stream": "stderr",
       "text": [
        "[2014-05-23 14:22] DEBUG: PyPinT Logging: Next Iteration\n"
       ]
      },
      {
       "output_type": "stream",
       "stream": "stderr",
       "text": [
        "[2014-05-23 14:22] DEBUG: PyPinT Logging: Starting New Solver Main Loop\n"
       ]
      },
      {
       "output_type": "stream",
       "stream": "stdout",
       "text": [
        "[INFO    ] !>        4\n"
       ]
      },
      {
       "output_type": "stream",
       "stream": "stdout",
       "text": [
        "[INFO    ] >>         \\\n"
       ]
      },
      {
       "output_type": "stream",
       "stream": "stdout",
       "text": [
        "[INFO    ] >>          |-   1     0.110     0.120     0.010\n"
       ]
      },
      {
       "output_type": "stream",
       "stream": "stdout",
       "text": [
        "[INFO    ]  >          |     \\\n"
       ]
      },
      {
       "output_type": "stream",
       "stream": "stdout",
       "text": [
        "[INFO    ]  >          |      |-  1      na       0.110     2.020       na           na    \n"
       ]
      },
      {
       "output_type": "stream",
       "stream": "stdout",
       "text": [
        "[INFO    ]  >          |      |-  2     0.110     0.112     2.027     1.61e-02       na    \n"
       ]
      },
      {
       "output_type": "stream",
       "stream": "stdout",
       "text": [
        "[INFO    ]  >          |      |-  3     0.112     0.115     2.041     4.36e-02       na    \n"
       ]
      },
      {
       "output_type": "stream",
       "stream": "stdout",
       "text": [
        "[INFO    ]  >          |      |-  4     0.115     0.118     2.054     6.62e-02       na    \n"
       ]
      },
      {
       "output_type": "stream",
       "stream": "stdout",
       "text": [
        "[INFO    ]  >          |      |-  5     0.118     0.120     2.060     7.62e-02       na    \n"
       ]
      },
      {
       "output_type": "stream",
       "stream": "stdout",
       "text": [
        "[INFO    ] >>          |      \\_\n"
       ]
      },
      {
       "output_type": "stream",
       "stream": "stdout",
       "text": [
        "[INFO    ] !>          \\_    2.39e-03       na         1.61e-02     0.381\n"
       ]
      },
      {
       "output_type": "stream",
       "stream": "stderr",
       "text": [
        "[2014-05-23 14:22] DEBUG: PyPinT Logging: Work Loop: 170\n"
       ]
      },
      {
       "output_type": "stream",
       "stream": "stderr",
       "text": [
        "[2014-05-23 14:22] DEBUG: PyPinT Logging: Next Iteration\n"
       ]
      },
      {
       "output_type": "stream",
       "stream": "stderr",
       "text": [
        "[2014-05-23 14:22] DEBUG: PyPinT Logging: Starting New Solver Main Loop\n"
       ]
      },
      {
       "output_type": "stream",
       "stream": "stdout",
       "text": [
        "[INFO    ] !>        5\n"
       ]
      },
      {
       "output_type": "stream",
       "stream": "stdout",
       "text": [
        "[INFO    ] >>         \\\n"
       ]
      },
      {
       "output_type": "stream",
       "stream": "stdout",
       "text": [
        "[INFO    ] >>          |-   1     0.110     0.120     0.010\n"
       ]
      },
      {
       "output_type": "stream",
       "stream": "stdout",
       "text": [
        "[INFO    ]  >          |     \\\n"
       ]
      },
      {
       "output_type": "stream",
       "stream": "stdout",
       "text": [
        "[INFO    ]  >          |      |-  1      na       0.110     2.020       na           na    \n"
       ]
      },
      {
       "output_type": "stream",
       "stream": "stdout",
       "text": [
        "[INFO    ]  >          |      |-  2     0.110     0.112     2.027     1.62e-02       na    \n"
       ]
      },
      {
       "output_type": "stream",
       "stream": "stdout",
       "text": [
        "[INFO    ]  >          |      |-  3     0.112     0.115     2.041     4.37e-02       na    \n"
       ]
      },
      {
       "output_type": "stream",
       "stream": "stdout",
       "text": [
        "[INFO    ]  >          |      |-  4     0.115     0.118     2.054     6.61e-02       na    \n"
       ]
      },
      {
       "output_type": "stream",
       "stream": "stdout",
       "text": [
        "[INFO    ]  >          |      |-  5     0.118     0.120     2.060     7.61e-02       na    \n"
       ]
      },
      {
       "output_type": "stream",
       "stream": "stdout",
       "text": [
        "[INFO    ] >>          |      \\_\n"
       ]
      },
      {
       "output_type": "stream",
       "stream": "stdout",
       "text": [
        "[INFO    ] !>          \\_    1.18e-04       na         1.62e-02     0.270\n"
       ]
      },
      {
       "output_type": "stream",
       "stream": "stderr",
       "text": [
        "[2014-05-23 14:22] DEBUG: PyPinT Logging: Work Loop: 171\n"
       ]
      },
      {
       "output_type": "stream",
       "stream": "stderr",
       "text": [
        "[2014-05-23 14:22] DEBUG: PyPinT Logging: Next Iteration\n"
       ]
      },
      {
       "output_type": "stream",
       "stream": "stderr",
       "text": [
        "[2014-05-23 14:22] DEBUG: PyPinT Logging: Starting New Solver Main Loop\n"
       ]
      },
      {
       "output_type": "stream",
       "stream": "stdout",
       "text": [
        "[INFO    ] !>        6\n"
       ]
      },
      {
       "output_type": "stream",
       "stream": "stdout",
       "text": [
        "[INFO    ] >>         \\\n"
       ]
      },
      {
       "output_type": "stream",
       "stream": "stdout",
       "text": [
        "[INFO    ] >>          |-   1     0.110     0.120     0.010\n"
       ]
      },
      {
       "output_type": "stream",
       "stream": "stdout",
       "text": [
        "[INFO    ]  >          |     \\\n"
       ]
      },
      {
       "output_type": "stream",
       "stream": "stdout",
       "text": [
        "[INFO    ]  >          |      |-  1      na       0.110     2.020       na           na    \n"
       ]
      },
      {
       "output_type": "stream",
       "stream": "stdout",
       "text": [
        "[INFO    ]  >          |      |-  2     0.110     0.112     2.027     1.62e-02       na    \n"
       ]
      },
      {
       "output_type": "stream",
       "stream": "stdout",
       "text": [
        "[INFO    ]  >          |      |-  3     0.112     0.115     2.041     4.37e-02       na    \n"
       ]
      },
      {
       "output_type": "stream",
       "stream": "stdout",
       "text": [
        "[INFO    ]  >          |      |-  4     0.115     0.118     2.054     6.61e-02       na    \n"
       ]
      },
      {
       "output_type": "stream",
       "stream": "stdout",
       "text": [
        "[INFO    ]  >          |      |-  5     0.118     0.120     2.060     7.61e-02       na    \n"
       ]
      },
      {
       "output_type": "stream",
       "stream": "stdout",
       "text": [
        "[INFO    ] >>          |      \\_\n"
       ]
      },
      {
       "output_type": "stream",
       "stream": "stdout",
       "text": [
        "[INFO    ] !>          \\_    5.67e-04       na         1.62e-02     0.268\n"
       ]
      },
      {
       "output_type": "stream",
       "stream": "stderr",
       "text": [
        "[2014-05-23 14:22] DEBUG: PyPinT Logging: Work Loop: 172\n"
       ]
      },
      {
       "output_type": "stream",
       "stream": "stderr",
       "text": [
        "[2014-05-23 14:22] DEBUG: PyPinT Logging: Next Iteration\n"
       ]
      },
      {
       "output_type": "stream",
       "stream": "stderr",
       "text": [
        "[2014-05-23 14:22] DEBUG: PyPinT Logging: Starting New Solver Main Loop\n"
       ]
      },
      {
       "output_type": "stream",
       "stream": "stdout",
       "text": [
        "[INFO    ] !>        7\n"
       ]
      },
      {
       "output_type": "stream",
       "stream": "stdout",
       "text": [
        "[INFO    ] >>         \\\n"
       ]
      },
      {
       "output_type": "stream",
       "stream": "stdout",
       "text": [
        "[INFO    ] >>          |-   1     0.110     0.120     0.010\n"
       ]
      },
      {
       "output_type": "stream",
       "stream": "stdout",
       "text": [
        "[INFO    ]  >          |     \\\n"
       ]
      },
      {
       "output_type": "stream",
       "stream": "stdout",
       "text": [
        "[INFO    ]  >          |      |-  1      na       0.110     2.020       na           na    \n"
       ]
      },
      {
       "output_type": "stream",
       "stream": "stdout",
       "text": [
        "[INFO    ]  >          |      |-  2     0.110     0.112     2.027     1.62e-02       na    \n"
       ]
      },
      {
       "output_type": "stream",
       "stream": "stdout",
       "text": [
        "[INFO    ]  >          |      |-  3     0.112     0.115     2.041     4.37e-02       na    \n"
       ]
      },
      {
       "output_type": "stream",
       "stream": "stdout",
       "text": [
        "[INFO    ]  >          |      |-  4     0.115     0.118     2.054     6.60e-02       na    \n"
       ]
      },
      {
       "output_type": "stream",
       "stream": "stdout",
       "text": [
        "[INFO    ]  >          |      |-  5     0.118     0.120     2.060     7.61e-02       na    \n"
       ]
      },
      {
       "output_type": "stream",
       "stream": "stdout",
       "text": [
        "[INFO    ] >>          |      \\_\n"
       ]
      },
      {
       "output_type": "stream",
       "stream": "stdout",
       "text": [
        "[INFO    ] !>          \\_    3.45e-04       na         1.62e-02     0.323\n"
       ]
      },
      {
       "output_type": "stream",
       "stream": "stderr",
       "text": [
        "[2014-05-23 14:22] DEBUG: PyPinT Logging: Work Loop: 173\n"
       ]
      },
      {
       "output_type": "stream",
       "stream": "stderr",
       "text": [
        "[2014-05-23 14:22] DEBUG: PyPinT Logging: Next Iteration\n"
       ]
      },
      {
       "output_type": "stream",
       "stream": "stderr",
       "text": [
        "[2014-05-23 14:22] DEBUG: PyPinT Logging: Starting New Solver Main Loop\n"
       ]
      },
      {
       "output_type": "stream",
       "stream": "stdout",
       "text": [
        "[INFO    ] !>        8\n"
       ]
      },
      {
       "output_type": "stream",
       "stream": "stdout",
       "text": [
        "[INFO    ] >>         \\\n"
       ]
      },
      {
       "output_type": "stream",
       "stream": "stdout",
       "text": [
        "[INFO    ] >>          |-   1     0.110     0.120     0.010\n"
       ]
      },
      {
       "output_type": "stream",
       "stream": "stdout",
       "text": [
        "[INFO    ]  >          |     \\\n"
       ]
      },
      {
       "output_type": "stream",
       "stream": "stdout",
       "text": [
        "[INFO    ]  >          |      |-  1      na       0.110     2.020       na           na    \n"
       ]
      },
      {
       "output_type": "stream",
       "stream": "stdout",
       "text": [
        "[INFO    ]  >          |      |-  2     0.110     0.112     2.027     1.62e-02       na    \n"
       ]
      },
      {
       "output_type": "stream",
       "stream": "stdout",
       "text": [
        "[INFO    ]  >          |      |-  3     0.112     0.115     2.041     4.37e-02       na    \n"
       ]
      },
      {
       "output_type": "stream",
       "stream": "stdout",
       "text": [
        "[INFO    ]  >          |      |-  4     0.115     0.118     2.054     6.60e-02       na    \n"
       ]
      },
      {
       "output_type": "stream",
       "stream": "stdout",
       "text": [
        "[INFO    ]  >          |      |-  5     0.118     0.120     2.060     7.61e-02       na    \n"
       ]
      },
      {
       "output_type": "stream",
       "stream": "stdout",
       "text": [
        "[INFO    ] >>          |      \\_\n"
       ]
      },
      {
       "output_type": "stream",
       "stream": "stdout",
       "text": [
        "[INFO    ] !>          \\_    4.29e-04       na         1.62e-02     0.325\n"
       ]
      },
      {
       "output_type": "stream",
       "stream": "stderr",
       "text": [
        "[2014-05-23 14:22] DEBUG: PyPinT Logging: Work Loop: 174\n"
       ]
      },
      {
       "output_type": "stream",
       "stream": "stderr",
       "text": [
        "[2014-05-23 14:22] DEBUG: PyPinT Logging: Next Iteration\n"
       ]
      },
      {
       "output_type": "stream",
       "stream": "stderr",
       "text": [
        "[2014-05-23 14:22] DEBUG: PyPinT Logging: Starting New Solver Main Loop\n"
       ]
      },
      {
       "output_type": "stream",
       "stream": "stdout",
       "text": [
        "[INFO    ] !>        9\n"
       ]
      },
      {
       "output_type": "stream",
       "stream": "stdout",
       "text": [
        "[INFO    ] >>         \\\n"
       ]
      },
      {
       "output_type": "stream",
       "stream": "stdout",
       "text": [
        "[INFO    ] >>          |-   1     0.110     0.120     0.010\n"
       ]
      },
      {
       "output_type": "stream",
       "stream": "stdout",
       "text": [
        "[INFO    ]  >          |     \\\n"
       ]
      },
      {
       "output_type": "stream",
       "stream": "stdout",
       "text": [
        "[INFO    ]  >          |      |-  1      na       0.110     2.020       na           na    \n"
       ]
      },
      {
       "output_type": "stream",
       "stream": "stdout",
       "text": [
        "[INFO    ]  >          |      |-  2     0.110     0.112     2.027     1.62e-02       na    \n"
       ]
      },
      {
       "output_type": "stream",
       "stream": "stdout",
       "text": [
        "[INFO    ]  >          |      |-  3     0.112     0.115     2.041     4.36e-02       na    \n"
       ]
      },
      {
       "output_type": "stream",
       "stream": "stdout",
       "text": [
        "[INFO    ]  >          |      |-  4     0.115     0.118     2.054     6.60e-02       na    \n"
       ]
      },
      {
       "output_type": "stream",
       "stream": "stdout",
       "text": [
        "[INFO    ]  >          |      |-  5     0.118     0.120     2.060     7.61e-02       na    \n"
       ]
      },
      {
       "output_type": "stream",
       "stream": "stdout",
       "text": [
        "[INFO    ] >>          |      \\_\n"
       ]
      },
      {
       "output_type": "stream",
       "stream": "stdout",
       "text": [
        "[INFO    ] !>          \\_    4.24e-04       na         1.62e-02     0.327\n"
       ]
      },
      {
       "output_type": "stream",
       "stream": "stderr",
       "text": [
        "[2014-05-23 14:22] DEBUG: PyPinT Logging: Work Loop: 175\n"
       ]
      },
      {
       "output_type": "stream",
       "stream": "stderr",
       "text": [
        "[2014-05-23 14:22] DEBUG: PyPinT Logging: Next Iteration\n"
       ]
      },
      {
       "output_type": "stream",
       "stream": "stderr",
       "text": [
        "[2014-05-23 14:22] DEBUG: PyPinT Logging: Starting New Solver Main Loop\n"
       ]
      },
      {
       "output_type": "stream",
       "stream": "stdout",
       "text": [
        "[INFO    ] !>       10\n"
       ]
      },
      {
       "output_type": "stream",
       "stream": "stdout",
       "text": [
        "[INFO    ] >>         \\\n"
       ]
      },
      {
       "output_type": "stream",
       "stream": "stdout",
       "text": [
        "[INFO    ] >>          |-   1     0.110     0.120     0.010\n"
       ]
      },
      {
       "output_type": "stream",
       "stream": "stdout",
       "text": [
        "[INFO    ]  >          |     \\\n"
       ]
      },
      {
       "output_type": "stream",
       "stream": "stdout",
       "text": [
        "[INFO    ]  >          |      |-  1      na       0.110     2.020       na           na    \n"
       ]
      },
      {
       "output_type": "stream",
       "stream": "stdout",
       "text": [
        "[INFO    ]  >          |      |-  2     0.110     0.112     2.027     1.62e-02       na    \n"
       ]
      },
      {
       "output_type": "stream",
       "stream": "stdout",
       "text": [
        "[INFO    ]  >          |      |-  3     0.112     0.115     2.041     4.36e-02       na    \n"
       ]
      },
      {
       "output_type": "stream",
       "stream": "stdout",
       "text": [
        "[INFO    ]  >          |      |-  4     0.115     0.118     2.054     6.60e-02       na    \n"
       ]
      },
      {
       "output_type": "stream",
       "stream": "stdout",
       "text": [
        "[INFO    ]  >          |      |-  5     0.118     0.120     2.060     7.61e-02       na    \n"
       ]
      },
      {
       "output_type": "stream",
       "stream": "stdout",
       "text": [
        "[INFO    ] >>          |      \\_\n"
       ]
      },
      {
       "output_type": "stream",
       "stream": "stdout",
       "text": [
        "[INFO    ] !>          \\_    3.97e-04       na         1.62e-02     0.384\n"
       ]
      },
      {
       "output_type": "stream",
       "stream": "stderr",
       "text": [
        "[2014-05-23 14:22] DEBUG: PyPinT Logging: Work Loop: 176\n"
       ]
      },
      {
       "output_type": "stream",
       "stream": "stderr",
       "text": [
        "[2014-05-23 14:22] DEBUG: PyPinT Logging: Next Iteration\n"
       ]
      },
      {
       "output_type": "stream",
       "stream": "stderr",
       "text": [
        "[2014-05-23 14:22] DEBUG: PyPinT Logging: Starting New Solver Main Loop\n"
       ]
      },
      {
       "output_type": "stream",
       "stream": "stdout",
       "text": [
        "[INFO    ] !>       11\n"
       ]
      },
      {
       "output_type": "stream",
       "stream": "stdout",
       "text": [
        "[INFO    ] >>         \\\n"
       ]
      },
      {
       "output_type": "stream",
       "stream": "stdout",
       "text": [
        "[INFO    ] >>          |-   1     0.110     0.120     0.010\n"
       ]
      },
      {
       "output_type": "stream",
       "stream": "stdout",
       "text": [
        "[INFO    ]  >          |     \\\n"
       ]
      },
      {
       "output_type": "stream",
       "stream": "stdout",
       "text": [
        "[INFO    ]  >          |      |-  1      na       0.110     2.020       na           na    \n"
       ]
      },
      {
       "output_type": "stream",
       "stream": "stdout",
       "text": [
        "[INFO    ]  >          |      |-  2     0.110     0.112     2.027     1.62e-02       na    \n"
       ]
      },
      {
       "output_type": "stream",
       "stream": "stdout",
       "text": [
        "[INFO    ]  >          |      |-  3     0.112     0.115     2.041     4.36e-02       na    \n"
       ]
      },
      {
       "output_type": "stream",
       "stream": "stdout",
       "text": [
        "[INFO    ]  >          |      |-  4     0.115     0.118     2.054     6.60e-02       na    \n"
       ]
      },
      {
       "output_type": "stream",
       "stream": "stdout",
       "text": [
        "[INFO    ]  >          |      |-  5     0.118     0.120     2.060     7.61e-02       na    \n"
       ]
      },
      {
       "output_type": "stream",
       "stream": "stdout",
       "text": [
        "[INFO    ] >>          |      \\_\n"
       ]
      },
      {
       "output_type": "stream",
       "stream": "stdout",
       "text": [
        "[INFO    ] !>          \\_    3.90e-04       na         1.62e-02     0.385\n"
       ]
      },
      {
       "output_type": "stream",
       "stream": "stderr",
       "text": [
        "[2014-05-23 14:22] DEBUG: PyPinT Logging: Work Loop: 177\n"
       ]
      },
      {
       "output_type": "stream",
       "stream": "stderr",
       "text": [
        "[2014-05-23 14:22] DEBUG: PyPinT Logging: Next Iteration\n"
       ]
      },
      {
       "output_type": "stream",
       "stream": "stderr",
       "text": [
        "[2014-05-23 14:22] DEBUG: PyPinT Logging: Starting New Solver Main Loop\n"
       ]
      },
      {
       "output_type": "stream",
       "stream": "stdout",
       "text": [
        "[INFO    ] !>       12\n"
       ]
      },
      {
       "output_type": "stream",
       "stream": "stdout",
       "text": [
        "[INFO    ] >>         \\\n"
       ]
      },
      {
       "output_type": "stream",
       "stream": "stdout",
       "text": [
        "[INFO    ] >>          |-   1     0.110     0.120     0.010\n"
       ]
      },
      {
       "output_type": "stream",
       "stream": "stdout",
       "text": [
        "[INFO    ]  >          |     \\\n"
       ]
      },
      {
       "output_type": "stream",
       "stream": "stdout",
       "text": [
        "[INFO    ]  >          |      |-  1      na       0.110     2.020       na           na    \n"
       ]
      },
      {
       "output_type": "stream",
       "stream": "stdout",
       "text": [
        "[INFO    ]  >          |      |-  2     0.110     0.112     2.027     1.62e-02       na    \n"
       ]
      },
      {
       "output_type": "stream",
       "stream": "stdout",
       "text": [
        "[INFO    ]  >          |      |-  3     0.112     0.115     2.041     4.36e-02       na    \n"
       ]
      },
      {
       "output_type": "stream",
       "stream": "stdout",
       "text": [
        "[INFO    ]  >          |      |-  4     0.115     0.118     2.054     6.60e-02       na    \n"
       ]
      },
      {
       "output_type": "stream",
       "stream": "stdout",
       "text": [
        "[INFO    ]  >          |      |-  5     0.118     0.120     2.060     7.61e-02       na    \n"
       ]
      },
      {
       "output_type": "stream",
       "stream": "stdout",
       "text": [
        "[INFO    ] >>          |      \\_\n"
       ]
      },
      {
       "output_type": "stream",
       "stream": "stdout",
       "text": [
        "[INFO    ] !>          \\_    3.58e-04       na         1.62e-02     0.380\n"
       ]
      },
      {
       "output_type": "stream",
       "stream": "stderr",
       "text": [
        "[2014-05-23 14:22] DEBUG: PyPinT Logging: Work Loop: 178\n"
       ]
      },
      {
       "output_type": "stream",
       "stream": "stderr",
       "text": [
        "[2014-05-23 14:22] DEBUG: PyPinT Logging: Next Iteration\n"
       ]
      },
      {
       "output_type": "stream",
       "stream": "stderr",
       "text": [
        "[2014-05-23 14:22] DEBUG: PyPinT Logging: Starting New Solver Main Loop\n"
       ]
      },
      {
       "output_type": "stream",
       "stream": "stdout",
       "text": [
        "[INFO    ] !>       13\n"
       ]
      },
      {
       "output_type": "stream",
       "stream": "stdout",
       "text": [
        "[INFO    ] >>         \\\n"
       ]
      },
      {
       "output_type": "stream",
       "stream": "stdout",
       "text": [
        "[INFO    ] >>          |-   1     0.110     0.120     0.010\n"
       ]
      },
      {
       "output_type": "stream",
       "stream": "stdout",
       "text": [
        "[INFO    ]  >          |     \\\n"
       ]
      },
      {
       "output_type": "stream",
       "stream": "stdout",
       "text": [
        "[INFO    ]  >          |      |-  1      na       0.110     2.020       na           na    \n"
       ]
      },
      {
       "output_type": "stream",
       "stream": "stdout",
       "text": [
        "[INFO    ]  >          |      |-  2     0.110     0.112     2.027     1.62e-02       na    \n"
       ]
      },
      {
       "output_type": "stream",
       "stream": "stdout",
       "text": [
        "[INFO    ]  >          |      |-  3     0.112     0.115     2.041     4.36e-02       na    \n"
       ]
      },
      {
       "output_type": "stream",
       "stream": "stdout",
       "text": [
        "[INFO    ]  >          |      |-  4     0.115     0.118     2.054     6.60e-02       na    \n"
       ]
      },
      {
       "output_type": "stream",
       "stream": "stdout",
       "text": [
        "[INFO    ]  >          |      |-  5     0.118     0.120     2.060     7.61e-02       na    \n"
       ]
      },
      {
       "output_type": "stream",
       "stream": "stdout",
       "text": [
        "[INFO    ] >>          |      \\_\n"
       ]
      },
      {
       "output_type": "stream",
       "stream": "stdout",
       "text": [
        "[INFO    ] !>          \\_    3.21e-04       na         1.62e-02     0.382\n"
       ]
      },
      {
       "output_type": "stream",
       "stream": "stderr",
       "text": [
        "[2014-05-23 14:22] DEBUG: PyPinT Logging: Work Loop: 179\n"
       ]
      },
      {
       "output_type": "stream",
       "stream": "stderr",
       "text": [
        "[2014-05-23 14:22] DEBUG: PyPinT Logging: Next Iteration\n"
       ]
      },
      {
       "output_type": "stream",
       "stream": "stderr",
       "text": [
        "[2014-05-23 14:22] DEBUG: PyPinT Logging: Starting New Solver Main Loop\n"
       ]
      },
      {
       "output_type": "stream",
       "stream": "stdout",
       "text": [
        "[INFO    ] !>       14\n"
       ]
      },
      {
       "output_type": "stream",
       "stream": "stdout",
       "text": [
        "[INFO    ] >>         \\\n"
       ]
      },
      {
       "output_type": "stream",
       "stream": "stdout",
       "text": [
        "[INFO    ] >>          |-   1     0.110     0.120     0.010\n"
       ]
      },
      {
       "output_type": "stream",
       "stream": "stdout",
       "text": [
        "[INFO    ]  >          |     \\\n"
       ]
      },
      {
       "output_type": "stream",
       "stream": "stdout",
       "text": [
        "[INFO    ]  >          |      |-  1      na       0.110     2.020       na           na    \n"
       ]
      },
      {
       "output_type": "stream",
       "stream": "stdout",
       "text": [
        "[INFO    ]  >          |      |-  2     0.110     0.112     2.027     1.62e-02       na    \n"
       ]
      },
      {
       "output_type": "stream",
       "stream": "stdout",
       "text": [
        "[INFO    ]  >          |      |-  3     0.112     0.115     2.041     4.36e-02       na    \n"
       ]
      },
      {
       "output_type": "stream",
       "stream": "stdout",
       "text": [
        "[INFO    ]  >          |      |-  4     0.115     0.118     2.054     6.60e-02       na    \n"
       ]
      },
      {
       "output_type": "stream",
       "stream": "stdout",
       "text": [
        "[INFO    ]  >          |      |-  5     0.118     0.120     2.060     7.61e-02       na    \n"
       ]
      },
      {
       "output_type": "stream",
       "stream": "stdout",
       "text": [
        "[INFO    ] >>          |      \\_\n"
       ]
      },
      {
       "output_type": "stream",
       "stream": "stdout",
       "text": [
        "[INFO    ] !>          \\_    2.72e-04       na         1.62e-02     0.387\n"
       ]
      },
      {
       "output_type": "stream",
       "stream": "stderr",
       "text": [
        "[2014-05-23 14:22] DEBUG: PyPinT Logging: Work Loop: 180\n"
       ]
      },
      {
       "output_type": "stream",
       "stream": "stderr",
       "text": [
        "[2014-05-23 14:22] DEBUG: PyPinT Logging: Next Iteration\n"
       ]
      },
      {
       "output_type": "stream",
       "stream": "stderr",
       "text": [
        "[2014-05-23 14:22] DEBUG: PyPinT Logging: Starting New Solver Main Loop\n"
       ]
      },
      {
       "output_type": "stream",
       "stream": "stdout",
       "text": [
        "[INFO    ] !>       15\n"
       ]
      },
      {
       "output_type": "stream",
       "stream": "stdout",
       "text": [
        "[INFO    ] >>         \\\n"
       ]
      },
      {
       "output_type": "stream",
       "stream": "stdout",
       "text": [
        "[INFO    ] >>          |-   1     0.110     0.120     0.010\n"
       ]
      },
      {
       "output_type": "stream",
       "stream": "stdout",
       "text": [
        "[INFO    ]  >          |     \\\n"
       ]
      },
      {
       "output_type": "stream",
       "stream": "stdout",
       "text": [
        "[INFO    ]  >          |      |-  1      na       0.110     2.020       na           na    \n"
       ]
      },
      {
       "output_type": "stream",
       "stream": "stdout",
       "text": [
        "[INFO    ]  >          |      |-  2     0.110     0.112     2.027     1.62e-02       na    \n"
       ]
      },
      {
       "output_type": "stream",
       "stream": "stdout",
       "text": [
        "[INFO    ]  >          |      |-  3     0.112     0.115     2.041     4.36e-02       na    \n"
       ]
      },
      {
       "output_type": "stream",
       "stream": "stdout",
       "text": [
        "[INFO    ]  >          |      |-  4     0.115     0.118     2.054     6.60e-02       na    \n"
       ]
      },
      {
       "output_type": "stream",
       "stream": "stdout",
       "text": [
        "[INFO    ]  >          |      |-  5     0.118     0.120     2.060     7.60e-02       na    \n"
       ]
      },
      {
       "output_type": "stream",
       "stream": "stdout",
       "text": [
        "[INFO    ] >>          |      \\_\n"
       ]
      },
      {
       "output_type": "stream",
       "stream": "stderr",
       "text": [
        "[2014-05-23 14:22] DEBUG: PyPinT Logging: Maximum of iterations exceeded: 15 >= 15\n"
       ]
      },
      {
       "output_type": "stream",
       "stream": "stdout",
       "text": [
        "[INFO    ] !>          \\_    2.00e-04       na         1.62e-02     0.383\n"
       ]
      },
      {
       "output_type": "stream",
       "stream": "stdout",
       "text": [
        "[INFO    ] !>   Converged after 15 iteration(s):\n"
       ]
      },
      {
       "output_type": "stream",
       "stream": "stdout",
       "text": [
        "[INFO    ] !>     Threshold condition(s) met:    iterations\n"
       ]
      },
      {
       "output_type": "stream",
       "stream": "stdout",
       "text": [
        "[INFO    ] !>     Final Residual:                7.604e-02\n"
       ]
      },
      {
       "output_type": "stream",
       "stream": "stdout",
       "text": [
        "[INFO    ] !>     Solution Reduction:            1.999e-04\n"
       ]
      },
      {
       "output_type": "stream",
       "stream": "stderr",
       "text": [
        "[2014-05-23 14:22] DEBUG: PyPinT Logging: Work Loop: 181\n"
       ]
      },
      {
       "output_type": "stream",
       "stream": "stderr",
       "text": [
        "[2014-05-23 14:22] DEBUG: PyPinT Logging: Nodes: [0.11999999999999998, 0.1217267316464601, 0.12499999999999997, 0.12827326835353986, 0.12999999999999998]\n"
       ]
      },
      {
       "output_type": "stream",
       "stream": "stderr",
       "text": [
        "[2014-05-23 14:22] DEBUG: PyPinT Logging: Nodes: [0.11999999999999998, 0.1217267316464601, 0.12499999999999997, 0.12827326835353986, 0.12999999999999998]\n"
       ]
      },
      {
       "output_type": "stream",
       "stream": "stderr",
       "text": [
        "[2014-05-23 14:22] DEBUG: PyPinT Logging: New Interval Initialized\n"
       ]
      },
      {
       "output_type": "stream",
       "stream": "stdout",
       "text": [
        "[INFO    ] !> ................................................................................\n"
       ]
      },
      {
       "output_type": "stream",
       "stream": "stdout",
       "text": [
        "[INFO    ] !>   Interval: [0.120, 0.130]\n"
       ]
      },
      {
       "output_type": "stream",
       "stream": "stdout",
       "text": [
        "[INFO    ] !>    iter\n"
       ]
      },
      {
       "output_type": "stream",
       "stream": "stdout",
       "text": [
        "[INFO    ] >>         \\\n"
       ]
      },
      {
       "output_type": "stream",
       "stream": "stdout",
       "text": [
        "[INFO    ] >>          |- time    start     end        delta\n"
       ]
      },
      {
       "output_type": "stream",
       "stream": "stdout",
       "text": [
        "[INFO    ]  >          |     \\\n"
       ]
      },
      {
       "output_type": "stream",
       "stream": "stdout",
       "text": [
        "[INFO    ]  >          |      |- step    t_0      t_1       phi(t_1)    resid       err\n"
       ]
      },
      {
       "output_type": "stream",
       "stream": "stdout",
       "text": [
        "[INFO    ] >>          |      \\_\n"
       ]
      },
      {
       "output_type": "stream",
       "stream": "stdout",
       "text": [
        "[INFO    ] !>          \\_   sol r.red    err r.red      resid       time\n"
       ]
      },
      {
       "output_type": "stream",
       "stream": "stderr",
       "text": [
        "[2014-05-23 14:22] DEBUG: PyPinT Logging: Starting New Solver Main Loop\n"
       ]
      },
      {
       "output_type": "stream",
       "stream": "stdout",
       "text": [
        "[INFO    ] !>        1\n"
       ]
      },
      {
       "output_type": "stream",
       "stream": "stdout",
       "text": [
        "[INFO    ] >>         \\\n"
       ]
      },
      {
       "output_type": "stream",
       "stream": "stdout",
       "text": [
        "[INFO    ] >>          |-   1     0.120     0.130     0.010\n"
       ]
      },
      {
       "output_type": "stream",
       "stream": "stdout",
       "text": [
        "[INFO    ]  >          |     \\\n"
       ]
      },
      {
       "output_type": "stream",
       "stream": "stdout",
       "text": [
        "[INFO    ]  >          |      |-  1      na       0.120     2.061       na           na    \n"
       ]
      },
      {
       "output_type": "stream",
       "stream": "stdout",
       "text": [
        "[INFO    ]  >          |      |-  2     0.120     0.122     2.068     8.86e-03       na    \n"
       ]
      },
      {
       "output_type": "stream",
       "stream": "stdout",
       "text": [
        "[INFO    ]  >          |      |-  3     0.122     0.125     2.080     2.40e-02       na    \n"
       ]
      },
      {
       "output_type": "stream",
       "stream": "stdout",
       "text": [
        "[INFO    ]  >          |      |-  4     0.125     0.128     2.091     3.89e-02       na    \n"
       ]
      },
      {
       "output_type": "stream",
       "stream": "stdout",
       "text": [
        "[INFO    ]  >          |      |-  5     0.128     0.130     2.097     4.75e-02       na    \n"
       ]
      },
      {
       "output_type": "stream",
       "stream": "stdout",
       "text": [
        "[INFO    ] >>          |      \\_\n"
       ]
      },
      {
       "output_type": "stream",
       "stream": "stderr",
       "text": [
        "[2014-05-23 14:22] DEBUG: PyPinT Logging: Skipping computation of reduction: No previous iteration available.\n"
       ]
      },
      {
       "output_type": "stream",
       "stream": "stdout",
       "text": [
        "[INFO    ] !>          \\_      na           na           na         0.549\n"
       ]
      },
      {
       "output_type": "stream",
       "stream": "stderr",
       "text": [
        "[2014-05-23 14:22] DEBUG: PyPinT Logging: Work Loop: 182\n"
       ]
      },
      {
       "output_type": "stream",
       "stream": "stderr",
       "text": [
        "[2014-05-23 14:22] DEBUG: PyPinT Logging: Next Iteration\n"
       ]
      },
      {
       "output_type": "stream",
       "stream": "stderr",
       "text": [
        "[2014-05-23 14:22] DEBUG: PyPinT Logging: Starting New Solver Main Loop\n"
       ]
      },
      {
       "output_type": "stream",
       "stream": "stdout",
       "text": [
        "[INFO    ] !>        2\n"
       ]
      },
      {
       "output_type": "stream",
       "stream": "stdout",
       "text": [
        "[INFO    ] >>         \\\n"
       ]
      },
      {
       "output_type": "stream",
       "stream": "stdout",
       "text": [
        "[INFO    ] >>          |-   1     0.120     0.130     0.010\n"
       ]
      },
      {
       "output_type": "stream",
       "stream": "stdout",
       "text": [
        "[INFO    ]  >          |     \\\n"
       ]
      },
      {
       "output_type": "stream",
       "stream": "stdout",
       "text": [
        "[INFO    ]  >          |      |-  1      na       0.120     2.061       na           na    \n"
       ]
      },
      {
       "output_type": "stream",
       "stream": "stdout",
       "text": [
        "[INFO    ]  >          |      |-  2     0.120     0.122     2.068     9.57e-03       na    \n"
       ]
      },
      {
       "output_type": "stream",
       "stream": "stdout",
       "text": [
        "[INFO    ]  >          |      |-  3     0.122     0.125     2.079     2.54e-02       na    \n"
       ]
      },
      {
       "output_type": "stream",
       "stream": "stdout",
       "text": [
        "[INFO    ]  >          |      |-  4     0.125     0.128     2.090     4.21e-02       na    \n"
       ]
      },
      {
       "output_type": "stream",
       "stream": "stdout",
       "text": [
        "[INFO    ]  >          |      |-  5     0.128     0.130     2.096     5.10e-02       na    \n"
       ]
      },
      {
       "output_type": "stream",
       "stream": "stdout",
       "text": [
        "[INFO    ] >>          |      \\_\n"
       ]
      },
      {
       "output_type": "stream",
       "stream": "stdout",
       "text": [
        "[INFO    ] !>          \\_    4.32e-02       na         9.57e-03     0.435\n"
       ]
      },
      {
       "output_type": "stream",
       "stream": "stderr",
       "text": [
        "[2014-05-23 14:22] DEBUG: PyPinT Logging: Work Loop: 183\n"
       ]
      },
      {
       "output_type": "stream",
       "stream": "stderr",
       "text": [
        "[2014-05-23 14:22] DEBUG: PyPinT Logging: Next Iteration\n"
       ]
      },
      {
       "output_type": "stream",
       "stream": "stderr",
       "text": [
        "[2014-05-23 14:22] DEBUG: PyPinT Logging: Starting New Solver Main Loop\n"
       ]
      },
      {
       "output_type": "stream",
       "stream": "stdout",
       "text": [
        "[INFO    ] !>        3\n"
       ]
      },
      {
       "output_type": "stream",
       "stream": "stdout",
       "text": [
        "[INFO    ] >>         \\\n"
       ]
      },
      {
       "output_type": "stream",
       "stream": "stdout",
       "text": [
        "[INFO    ] >>          |-   1     0.120     0.130     0.010\n"
       ]
      },
      {
       "output_type": "stream",
       "stream": "stdout",
       "text": [
        "[INFO    ]  >          |     \\\n"
       ]
      },
      {
       "output_type": "stream",
       "stream": "stdout",
       "text": [
        "[INFO    ]  >          |      |-  1      na       0.120     2.061       na           na    \n"
       ]
      },
      {
       "output_type": "stream",
       "stream": "stdout",
       "text": [
        "[INFO    ]  >          |      |-  2     0.120     0.122     2.068     9.84e-03       na    \n"
       ]
      },
      {
       "output_type": "stream",
       "stream": "stdout",
       "text": [
        "[INFO    ]  >          |      |-  3     0.122     0.125     2.079     2.60e-02       na    \n"
       ]
      },
      {
       "output_type": "stream",
       "stream": "stdout",
       "text": [
        "[INFO    ]  >          |      |-  4     0.125     0.128     2.090     4.30e-02       na    \n"
       ]
      },
      {
       "output_type": "stream",
       "stream": "stdout",
       "text": [
        "[INFO    ]  >          |      |-  5     0.128     0.130     2.096     5.18e-02       na    \n"
       ]
      },
      {
       "output_type": "stream",
       "stream": "stdout",
       "text": [
        "[INFO    ] >>          |      \\_\n"
       ]
      },
      {
       "output_type": "stream",
       "stream": "stdout",
       "text": [
        "[INFO    ] !>          \\_    5.76e-04       na         9.84e-03     0.380\n"
       ]
      },
      {
       "output_type": "stream",
       "stream": "stderr",
       "text": [
        "[2014-05-23 14:22] DEBUG: PyPinT Logging: Work Loop: 184\n"
       ]
      },
      {
       "output_type": "stream",
       "stream": "stderr",
       "text": [
        "[2014-05-23 14:22] DEBUG: PyPinT Logging: Next Iteration\n"
       ]
      },
      {
       "output_type": "stream",
       "stream": "stderr",
       "text": [
        "[2014-05-23 14:22] DEBUG: PyPinT Logging: Starting New Solver Main Loop\n"
       ]
      },
      {
       "output_type": "stream",
       "stream": "stdout",
       "text": [
        "[INFO    ] !>        4\n"
       ]
      },
      {
       "output_type": "stream",
       "stream": "stdout",
       "text": [
        "[INFO    ] >>         \\\n"
       ]
      },
      {
       "output_type": "stream",
       "stream": "stdout",
       "text": [
        "[INFO    ] >>          |-   1     0.120     0.130     0.010\n"
       ]
      },
      {
       "output_type": "stream",
       "stream": "stdout",
       "text": [
        "[INFO    ]  >          |     \\\n"
       ]
      },
      {
       "output_type": "stream",
       "stream": "stdout",
       "text": [
        "[INFO    ]  >          |      |-  1      na       0.120     2.061       na           na    \n"
       ]
      },
      {
       "output_type": "stream",
       "stream": "stdout",
       "text": [
        "[INFO    ]  >          |      |-  2     0.120     0.122     2.068     9.91e-03       na    \n"
       ]
      },
      {
       "output_type": "stream",
       "stream": "stdout",
       "text": [
        "[INFO    ]  >          |      |-  3     0.122     0.125     2.079     2.62e-02       na    \n"
       ]
      },
      {
       "output_type": "stream",
       "stream": "stdout",
       "text": [
        "[INFO    ]  >          |      |-  4     0.125     0.128     2.090     4.32e-02       na    \n"
       ]
      },
      {
       "output_type": "stream",
       "stream": "stdout",
       "text": [
        "[INFO    ]  >          |      |-  5     0.128     0.130     2.096     5.20e-02       na    \n"
       ]
      },
      {
       "output_type": "stream",
       "stream": "stdout",
       "text": [
        "[INFO    ] >>          |      \\_\n"
       ]
      },
      {
       "output_type": "stream",
       "stream": "stdout",
       "text": [
        "[INFO    ] !>          \\_    2.12e-03       na         9.91e-03     0.326\n"
       ]
      },
      {
       "output_type": "stream",
       "stream": "stderr",
       "text": [
        "[2014-05-23 14:22] DEBUG: PyPinT Logging: Work Loop: 185\n"
       ]
      },
      {
       "output_type": "stream",
       "stream": "stderr",
       "text": [
        "[2014-05-23 14:22] DEBUG: PyPinT Logging: Next Iteration\n"
       ]
      },
      {
       "output_type": "stream",
       "stream": "stderr",
       "text": [
        "[2014-05-23 14:22] DEBUG: PyPinT Logging: Starting New Solver Main Loop\n"
       ]
      },
      {
       "output_type": "stream",
       "stream": "stdout",
       "text": [
        "[INFO    ] !>        5\n"
       ]
      },
      {
       "output_type": "stream",
       "stream": "stdout",
       "text": [
        "[INFO    ] >>         \\\n"
       ]
      },
      {
       "output_type": "stream",
       "stream": "stdout",
       "text": [
        "[INFO    ] >>          |-   1     0.120     0.130     0.010\n"
       ]
      },
      {
       "output_type": "stream",
       "stream": "stdout",
       "text": [
        "[INFO    ]  >          |     \\\n"
       ]
      },
      {
       "output_type": "stream",
       "stream": "stdout",
       "text": [
        "[INFO    ]  >          |      |-  1      na       0.120     2.061       na           na    \n"
       ]
      },
      {
       "output_type": "stream",
       "stream": "stdout",
       "text": [
        "[INFO    ]  >          |      |-  2     0.120     0.122     2.068     9.92e-03       na    \n"
       ]
      },
      {
       "output_type": "stream",
       "stream": "stdout",
       "text": [
        "[INFO    ]  >          |      |-  3     0.122     0.125     2.079     2.63e-02       na    \n"
       ]
      },
      {
       "output_type": "stream",
       "stream": "stdout",
       "text": [
        "[INFO    ]  >          |      |-  4     0.125     0.128     2.090     4.33e-02       na    \n"
       ]
      },
      {
       "output_type": "stream",
       "stream": "stdout",
       "text": [
        "[INFO    ]  >          |      |-  5     0.128     0.130     2.096     5.20e-02       na    \n"
       ]
      },
      {
       "output_type": "stream",
       "stream": "stdout",
       "text": [
        "[INFO    ] >>          |      \\_\n"
       ]
      },
      {
       "output_type": "stream",
       "stream": "stdout",
       "text": [
        "[INFO    ] !>          \\_    7.63e-04       na         9.92e-03     0.326\n"
       ]
      },
      {
       "output_type": "stream",
       "stream": "stderr",
       "text": [
        "[2014-05-23 14:22] DEBUG: PyPinT Logging: Work Loop: 186\n"
       ]
      },
      {
       "output_type": "stream",
       "stream": "stderr",
       "text": [
        "[2014-05-23 14:22] DEBUG: PyPinT Logging: Next Iteration\n"
       ]
      },
      {
       "output_type": "stream",
       "stream": "stderr",
       "text": [
        "[2014-05-23 14:22] DEBUG: PyPinT Logging: Starting New Solver Main Loop\n"
       ]
      },
      {
       "output_type": "stream",
       "stream": "stdout",
       "text": [
        "[INFO    ] !>        6\n"
       ]
      },
      {
       "output_type": "stream",
       "stream": "stdout",
       "text": [
        "[INFO    ] >>         \\\n"
       ]
      },
      {
       "output_type": "stream",
       "stream": "stdout",
       "text": [
        "[INFO    ] >>          |-   1     0.120     0.130     0.010\n"
       ]
      },
      {
       "output_type": "stream",
       "stream": "stdout",
       "text": [
        "[INFO    ]  >          |     \\\n"
       ]
      },
      {
       "output_type": "stream",
       "stream": "stdout",
       "text": [
        "[INFO    ]  >          |      |-  1      na       0.120     2.061       na           na    \n"
       ]
      },
      {
       "output_type": "stream",
       "stream": "stdout",
       "text": [
        "[INFO    ]  >          |      |-  2     0.120     0.122     2.068     9.92e-03       na    \n"
       ]
      },
      {
       "output_type": "stream",
       "stream": "stdout",
       "text": [
        "[INFO    ]  >          |      |-  3     0.122     0.125     2.079     2.63e-02       na    \n"
       ]
      },
      {
       "output_type": "stream",
       "stream": "stdout",
       "text": [
        "[INFO    ]  >          |      |-  4     0.125     0.128     2.090     4.33e-02       na    \n"
       ]
      },
      {
       "output_type": "stream",
       "stream": "stdout",
       "text": [
        "[INFO    ]  >          |      |-  5     0.128     0.130     2.096     5.20e-02       na    \n"
       ]
      },
      {
       "output_type": "stream",
       "stream": "stdout",
       "text": [
        "[INFO    ] >>          |      \\_\n"
       ]
      },
      {
       "output_type": "stream",
       "stream": "stdout",
       "text": [
        "[INFO    ] !>          \\_    1.01e-03       na         9.92e-03     0.326\n"
       ]
      },
      {
       "output_type": "stream",
       "stream": "stderr",
       "text": [
        "[2014-05-23 14:22] DEBUG: PyPinT Logging: Work Loop: 187\n"
       ]
      },
      {
       "output_type": "stream",
       "stream": "stderr",
       "text": [
        "[2014-05-23 14:22] DEBUG: PyPinT Logging: Next Iteration\n"
       ]
      },
      {
       "output_type": "stream",
       "stream": "stderr",
       "text": [
        "[2014-05-23 14:22] DEBUG: PyPinT Logging: Starting New Solver Main Loop\n"
       ]
      },
      {
       "output_type": "stream",
       "stream": "stdout",
       "text": [
        "[INFO    ] !>        7\n"
       ]
      },
      {
       "output_type": "stream",
       "stream": "stdout",
       "text": [
        "[INFO    ] >>         \\\n"
       ]
      },
      {
       "output_type": "stream",
       "stream": "stdout",
       "text": [
        "[INFO    ] >>          |-   1     0.120     0.130     0.010\n"
       ]
      },
      {
       "output_type": "stream",
       "stream": "stdout",
       "text": [
        "[INFO    ]  >          |     \\\n"
       ]
      },
      {
       "output_type": "stream",
       "stream": "stdout",
       "text": [
        "[INFO    ]  >          |      |-  1      na       0.120     2.061       na           na    \n"
       ]
      },
      {
       "output_type": "stream",
       "stream": "stdout",
       "text": [
        "[INFO    ]  >          |      |-  2     0.120     0.122     2.068     9.93e-03       na    \n"
       ]
      },
      {
       "output_type": "stream",
       "stream": "stdout",
       "text": [
        "[INFO    ]  >          |      |-  3     0.122     0.125     2.079     2.63e-02       na    \n"
       ]
      },
      {
       "output_type": "stream",
       "stream": "stdout",
       "text": [
        "[INFO    ]  >          |      |-  4     0.125     0.128     2.090     4.33e-02       na    \n"
       ]
      },
      {
       "output_type": "stream",
       "stream": "stdout",
       "text": [
        "[INFO    ]  >          |      |-  5     0.128     0.130     2.096     5.20e-02       na    \n"
       ]
      },
      {
       "output_type": "stream",
       "stream": "stdout",
       "text": [
        "[INFO    ] >>          |      \\_\n"
       ]
      },
      {
       "output_type": "stream",
       "stream": "stdout",
       "text": [
        "[INFO    ] !>          \\_    1.04e-03       na         9.93e-03     0.325\n"
       ]
      },
      {
       "output_type": "stream",
       "stream": "stderr",
       "text": [
        "[2014-05-23 14:22] DEBUG: PyPinT Logging: Work Loop: 188\n"
       ]
      },
      {
       "output_type": "stream",
       "stream": "stderr",
       "text": [
        "[2014-05-23 14:22] DEBUG: PyPinT Logging: Next Iteration\n"
       ]
      },
      {
       "output_type": "stream",
       "stream": "stderr",
       "text": [
        "[2014-05-23 14:22] DEBUG: PyPinT Logging: Starting New Solver Main Loop\n"
       ]
      },
      {
       "output_type": "stream",
       "stream": "stdout",
       "text": [
        "[INFO    ] !>        8\n"
       ]
      },
      {
       "output_type": "stream",
       "stream": "stdout",
       "text": [
        "[INFO    ] >>         \\\n"
       ]
      },
      {
       "output_type": "stream",
       "stream": "stdout",
       "text": [
        "[INFO    ] >>          |-   1     0.120     0.130     0.010\n"
       ]
      },
      {
       "output_type": "stream",
       "stream": "stdout",
       "text": [
        "[INFO    ]  >          |     \\\n"
       ]
      },
      {
       "output_type": "stream",
       "stream": "stdout",
       "text": [
        "[INFO    ]  >          |      |-  1      na       0.120     2.061       na           na    \n"
       ]
      },
      {
       "output_type": "stream",
       "stream": "stdout",
       "text": [
        "[INFO    ]  >          |      |-  2     0.120     0.122     2.068     9.92e-03       na    \n"
       ]
      },
      {
       "output_type": "stream",
       "stream": "stdout",
       "text": [
        "[INFO    ]  >          |      |-  3     0.122     0.125     2.079     2.63e-02       na    \n"
       ]
      },
      {
       "output_type": "stream",
       "stream": "stdout",
       "text": [
        "[INFO    ]  >          |      |-  4     0.125     0.128     2.090     4.33e-02       na    \n"
       ]
      },
      {
       "output_type": "stream",
       "stream": "stdout",
       "text": [
        "[INFO    ]  >          |      |-  5     0.128     0.130     2.096     5.20e-02       na    \n"
       ]
      },
      {
       "output_type": "stream",
       "stream": "stdout",
       "text": [
        "[INFO    ] >>          |      \\_\n"
       ]
      },
      {
       "output_type": "stream",
       "stream": "stdout",
       "text": [
        "[INFO    ] !>          \\_    1.31e-03       na         9.92e-03     0.383\n"
       ]
      },
      {
       "output_type": "stream",
       "stream": "stderr",
       "text": [
        "[2014-05-23 14:22] DEBUG: PyPinT Logging: Work Loop: 189\n"
       ]
      },
      {
       "output_type": "stream",
       "stream": "stderr",
       "text": [
        "[2014-05-23 14:22] DEBUG: PyPinT Logging: Next Iteration\n"
       ]
      },
      {
       "output_type": "stream",
       "stream": "stderr",
       "text": [
        "[2014-05-23 14:22] DEBUG: PyPinT Logging: Starting New Solver Main Loop\n"
       ]
      },
      {
       "output_type": "stream",
       "stream": "stdout",
       "text": [
        "[INFO    ] !>        9\n"
       ]
      },
      {
       "output_type": "stream",
       "stream": "stdout",
       "text": [
        "[INFO    ] >>         \\\n"
       ]
      },
      {
       "output_type": "stream",
       "stream": "stdout",
       "text": [
        "[INFO    ] >>          |-   1     0.120     0.130     0.010\n"
       ]
      },
      {
       "output_type": "stream",
       "stream": "stdout",
       "text": [
        "[INFO    ]  >          |     \\\n"
       ]
      },
      {
       "output_type": "stream",
       "stream": "stdout",
       "text": [
        "[INFO    ]  >          |      |-  1      na       0.120     2.061       na           na    \n"
       ]
      },
      {
       "output_type": "stream",
       "stream": "stdout",
       "text": [
        "[INFO    ]  >          |      |-  2     0.120     0.122     2.068     9.93e-03       na    \n"
       ]
      },
      {
       "output_type": "stream",
       "stream": "stdout",
       "text": [
        "[INFO    ]  >          |      |-  3     0.122     0.125     2.079     2.63e-02       na    \n"
       ]
      },
      {
       "output_type": "stream",
       "stream": "stdout",
       "text": [
        "[INFO    ]  >          |      |-  4     0.125     0.128     2.090     4.32e-02       na    \n"
       ]
      },
      {
       "output_type": "stream",
       "stream": "stdout",
       "text": [
        "[INFO    ]  >          |      |-  5     0.128     0.130     2.096     5.20e-02       na    \n"
       ]
      },
      {
       "output_type": "stream",
       "stream": "stdout",
       "text": [
        "[INFO    ] >>          |      \\_\n"
       ]
      },
      {
       "output_type": "stream",
       "stream": "stdout",
       "text": [
        "[INFO    ] !>          \\_    1.56e-03       na         9.93e-03     0.384\n"
       ]
      },
      {
       "output_type": "stream",
       "stream": "stderr",
       "text": [
        "[2014-05-23 14:22] DEBUG: PyPinT Logging: Work Loop: 190\n"
       ]
      },
      {
       "output_type": "stream",
       "stream": "stderr",
       "text": [
        "[2014-05-23 14:22] DEBUG: PyPinT Logging: Next Iteration\n"
       ]
      },
      {
       "output_type": "stream",
       "stream": "stderr",
       "text": [
        "[2014-05-23 14:22] DEBUG: PyPinT Logging: Starting New Solver Main Loop\n"
       ]
      },
      {
       "output_type": "stream",
       "stream": "stdout",
       "text": [
        "[INFO    ] !>       10\n"
       ]
      },
      {
       "output_type": "stream",
       "stream": "stdout",
       "text": [
        "[INFO    ] >>         \\\n"
       ]
      },
      {
       "output_type": "stream",
       "stream": "stdout",
       "text": [
        "[INFO    ] >>          |-   1     0.120     0.130     0.010\n"
       ]
      },
      {
       "output_type": "stream",
       "stream": "stdout",
       "text": [
        "[INFO    ]  >          |     \\\n"
       ]
      },
      {
       "output_type": "stream",
       "stream": "stdout",
       "text": [
        "[INFO    ]  >          |      |-  1      na       0.120     2.061       na           na    \n"
       ]
      },
      {
       "output_type": "stream",
       "stream": "stdout",
       "text": [
        "[INFO    ]  >          |      |-  2     0.120     0.122     2.068     9.92e-03       na    \n"
       ]
      },
      {
       "output_type": "stream",
       "stream": "stdout",
       "text": [
        "[INFO    ]  >          |      |-  3     0.122     0.125     2.079     2.62e-02       na    \n"
       ]
      },
      {
       "output_type": "stream",
       "stream": "stdout",
       "text": [
        "[INFO    ]  >          |      |-  4     0.125     0.128     2.090     4.34e-02       na    \n"
       ]
      },
      {
       "output_type": "stream",
       "stream": "stdout",
       "text": [
        "[INFO    ]  >          |      |-  5     0.128     0.130     2.096     5.19e-02       na    \n"
       ]
      },
      {
       "output_type": "stream",
       "stream": "stdout",
       "text": [
        "[INFO    ] >>          |      \\_\n"
       ]
      },
      {
       "output_type": "stream",
       "stream": "stdout",
       "text": [
        "[INFO    ] !>          \\_    1.91e-03       na         9.92e-03     0.383\n"
       ]
      },
      {
       "output_type": "stream",
       "stream": "stderr",
       "text": [
        "[2014-05-23 14:22] DEBUG: PyPinT Logging: Work Loop: 191\n"
       ]
      },
      {
       "output_type": "stream",
       "stream": "stderr",
       "text": [
        "[2014-05-23 14:22] DEBUG: PyPinT Logging: Next Iteration\n"
       ]
      },
      {
       "output_type": "stream",
       "stream": "stderr",
       "text": [
        "[2014-05-23 14:22] DEBUG: PyPinT Logging: Starting New Solver Main Loop\n"
       ]
      },
      {
       "output_type": "stream",
       "stream": "stdout",
       "text": [
        "[INFO    ] !>       11\n"
       ]
      },
      {
       "output_type": "stream",
       "stream": "stdout",
       "text": [
        "[INFO    ] >>         \\\n"
       ]
      },
      {
       "output_type": "stream",
       "stream": "stdout",
       "text": [
        "[INFO    ] >>          |-   1     0.120     0.130     0.010\n"
       ]
      },
      {
       "output_type": "stream",
       "stream": "stdout",
       "text": [
        "[INFO    ]  >          |     \\\n"
       ]
      },
      {
       "output_type": "stream",
       "stream": "stdout",
       "text": [
        "[INFO    ]  >          |      |-  1      na       0.120     2.061       na           na    \n"
       ]
      },
      {
       "output_type": "stream",
       "stream": "stdout",
       "text": [
        "[INFO    ]  >          |      |-  2     0.120     0.122     2.068     9.93e-03       na    \n"
       ]
      },
      {
       "output_type": "stream",
       "stream": "stdout",
       "text": [
        "[INFO    ]  >          |      |-  3     0.122     0.125     2.079     2.64e-02       na    \n"
       ]
      },
      {
       "output_type": "stream",
       "stream": "stdout",
       "text": [
        "[INFO    ]  >          |      |-  4     0.125     0.128     2.090     4.31e-02       na    \n"
       ]
      },
      {
       "output_type": "stream",
       "stream": "stdout",
       "text": [
        "[INFO    ]  >          |      |-  5     0.128     0.130     2.096     5.20e-02       na    \n"
       ]
      },
      {
       "output_type": "stream",
       "stream": "stdout",
       "text": [
        "[INFO    ] >>          |      \\_\n"
       ]
      },
      {
       "output_type": "stream",
       "stream": "stdout",
       "text": [
        "[INFO    ] !>          \\_    2.32e-03       na         9.93e-03     0.383\n"
       ]
      },
      {
       "output_type": "stream",
       "stream": "stderr",
       "text": [
        "[2014-05-23 14:22] DEBUG: PyPinT Logging: Work Loop: 192\n"
       ]
      },
      {
       "output_type": "stream",
       "stream": "stderr",
       "text": [
        "[2014-05-23 14:22] DEBUG: PyPinT Logging: Next Iteration\n"
       ]
      },
      {
       "output_type": "stream",
       "stream": "stderr",
       "text": [
        "[2014-05-23 14:22] DEBUG: PyPinT Logging: Starting New Solver Main Loop\n"
       ]
      },
      {
       "output_type": "stream",
       "stream": "stdout",
       "text": [
        "[INFO    ] !>       12\n"
       ]
      },
      {
       "output_type": "stream",
       "stream": "stdout",
       "text": [
        "[INFO    ] >>         \\\n"
       ]
      },
      {
       "output_type": "stream",
       "stream": "stdout",
       "text": [
        "[INFO    ] >>          |-   1     0.120     0.130     0.010\n"
       ]
      },
      {
       "output_type": "stream",
       "stream": "stdout",
       "text": [
        "[INFO    ]  >          |     \\\n"
       ]
      },
      {
       "output_type": "stream",
       "stream": "stdout",
       "text": [
        "[INFO    ]  >          |      |-  1      na       0.120     2.061       na           na    \n"
       ]
      },
      {
       "output_type": "stream",
       "stream": "stdout",
       "text": [
        "[INFO    ]  >          |      |-  2     0.120     0.122     2.068     9.91e-03       na    \n"
       ]
      },
      {
       "output_type": "stream",
       "stream": "stdout",
       "text": [
        "[INFO    ]  >          |      |-  3     0.122     0.125     2.079     2.61e-02       na    \n"
       ]
      },
      {
       "output_type": "stream",
       "stream": "stdout",
       "text": [
        "[INFO    ]  >          |      |-  4     0.125     0.128     2.090     4.36e-02       na    \n"
       ]
      },
      {
       "output_type": "stream",
       "stream": "stdout",
       "text": [
        "[INFO    ]  >          |      |-  5     0.128     0.130     2.096     5.19e-02       na    \n"
       ]
      },
      {
       "output_type": "stream",
       "stream": "stdout",
       "text": [
        "[INFO    ] >>          |      \\_\n"
       ]
      },
      {
       "output_type": "stream",
       "stream": "stdout",
       "text": [
        "[INFO    ] !>          \\_    2.74e-03       na         9.91e-03     0.382\n"
       ]
      },
      {
       "output_type": "stream",
       "stream": "stderr",
       "text": [
        "[2014-05-23 14:22] DEBUG: PyPinT Logging: Work Loop: 193\n"
       ]
      },
      {
       "output_type": "stream",
       "stream": "stderr",
       "text": [
        "[2014-05-23 14:22] DEBUG: PyPinT Logging: Next Iteration\n"
       ]
      },
      {
       "output_type": "stream",
       "stream": "stderr",
       "text": [
        "[2014-05-23 14:22] DEBUG: PyPinT Logging: Starting New Solver Main Loop\n"
       ]
      },
      {
       "output_type": "stream",
       "stream": "stdout",
       "text": [
        "[INFO    ] !>       13\n"
       ]
      },
      {
       "output_type": "stream",
       "stream": "stdout",
       "text": [
        "[INFO    ] >>         \\\n"
       ]
      },
      {
       "output_type": "stream",
       "stream": "stdout",
       "text": [
        "[INFO    ] >>          |-   1     0.120     0.130     0.010\n"
       ]
      },
      {
       "output_type": "stream",
       "stream": "stdout",
       "text": [
        "[INFO    ]  >          |     \\\n"
       ]
      },
      {
       "output_type": "stream",
       "stream": "stdout",
       "text": [
        "[INFO    ]  >          |      |-  1      na       0.120     2.061       na           na    \n"
       ]
      },
      {
       "output_type": "stream",
       "stream": "stdout",
       "text": [
        "[INFO    ]  >          |      |-  2     0.120     0.122     2.068     9.93e-03       na    \n"
       ]
      },
      {
       "output_type": "stream",
       "stream": "stdout",
       "text": [
        "[INFO    ]  >          |      |-  3     0.122     0.125     2.079     2.66e-02       na    \n"
       ]
      },
      {
       "output_type": "stream",
       "stream": "stdout",
       "text": [
        "[INFO    ]  >          |      |-  4     0.125     0.128     2.090     4.28e-02       na    \n"
       ]
      },
      {
       "output_type": "stream",
       "stream": "stdout",
       "text": [
        "[INFO    ]  >          |      |-  5     0.128     0.130     2.096     5.20e-02       na    \n"
       ]
      },
      {
       "output_type": "stream",
       "stream": "stdout",
       "text": [
        "[INFO    ] >>          |      \\_\n"
       ]
      },
      {
       "output_type": "stream",
       "stream": "stdout",
       "text": [
        "[INFO    ] !>          \\_    3.19e-03       na         9.93e-03     0.384\n"
       ]
      },
      {
       "output_type": "stream",
       "stream": "stderr",
       "text": [
        "[2014-05-23 14:22] DEBUG: PyPinT Logging: Work Loop: 194\n"
       ]
      },
      {
       "output_type": "stream",
       "stream": "stderr",
       "text": [
        "[2014-05-23 14:22] DEBUG: PyPinT Logging: Next Iteration\n"
       ]
      },
      {
       "output_type": "stream",
       "stream": "stderr",
       "text": [
        "[2014-05-23 14:22] DEBUG: PyPinT Logging: Starting New Solver Main Loop\n"
       ]
      },
      {
       "output_type": "stream",
       "stream": "stdout",
       "text": [
        "[INFO    ] !>       14\n"
       ]
      },
      {
       "output_type": "stream",
       "stream": "stdout",
       "text": [
        "[INFO    ] >>         \\\n"
       ]
      },
      {
       "output_type": "stream",
       "stream": "stdout",
       "text": [
        "[INFO    ] >>          |-   1     0.120     0.130     0.010\n"
       ]
      },
      {
       "output_type": "stream",
       "stream": "stdout",
       "text": [
        "[INFO    ]  >          |     \\\n"
       ]
      },
      {
       "output_type": "stream",
       "stream": "stdout",
       "text": [
        "[INFO    ]  >          |      |-  1      na       0.120     2.061       na           na    \n"
       ]
      },
      {
       "output_type": "stream",
       "stream": "stdout",
       "text": [
        "[INFO    ]  >          |      |-  2     0.120     0.122     2.068     9.92e-03       na    \n"
       ]
      },
      {
       "output_type": "stream",
       "stream": "stdout",
       "text": [
        "[INFO    ]  >          |      |-  3     0.122     0.125     2.079     2.58e-02       na    \n"
       ]
      },
      {
       "output_type": "stream",
       "stream": "stdout",
       "text": [
        "[INFO    ]  >          |      |-  4     0.125     0.128     2.090     4.41e-02       na    \n"
       ]
      },
      {
       "output_type": "stream",
       "stream": "stdout",
       "text": [
        "[INFO    ]  >          |      |-  5     0.128     0.130     2.096     5.19e-02       na    \n"
       ]
      },
      {
       "output_type": "stream",
       "stream": "stdout",
       "text": [
        "[INFO    ] >>          |      \\_\n"
       ]
      },
      {
       "output_type": "stream",
       "stream": "stdout",
       "text": [
        "[INFO    ] !>          \\_    3.60e-03       na         9.92e-03     0.380\n"
       ]
      },
      {
       "output_type": "stream",
       "stream": "stderr",
       "text": [
        "[2014-05-23 14:22] DEBUG: PyPinT Logging: Work Loop: 195\n"
       ]
      },
      {
       "output_type": "stream",
       "stream": "stderr",
       "text": [
        "[2014-05-23 14:22] DEBUG: PyPinT Logging: Next Iteration\n"
       ]
      },
      {
       "output_type": "stream",
       "stream": "stderr",
       "text": [
        "[2014-05-23 14:22] DEBUG: PyPinT Logging: Starting New Solver Main Loop\n"
       ]
      },
      {
       "output_type": "stream",
       "stream": "stdout",
       "text": [
        "[INFO    ] !>       15\n"
       ]
      },
      {
       "output_type": "stream",
       "stream": "stdout",
       "text": [
        "[INFO    ] >>         \\\n"
       ]
      },
      {
       "output_type": "stream",
       "stream": "stdout",
       "text": [
        "[INFO    ] >>          |-   1     0.120     0.130     0.010\n"
       ]
      },
      {
       "output_type": "stream",
       "stream": "stdout",
       "text": [
        "[INFO    ]  >          |     \\\n"
       ]
      },
      {
       "output_type": "stream",
       "stream": "stdout",
       "text": [
        "[INFO    ]  >          |      |-  1      na       0.120     2.061       na           na    \n"
       ]
      },
      {
       "output_type": "stream",
       "stream": "stdout",
       "text": [
        "[INFO    ]  >          |      |-  2     0.120     0.122     2.068     9.91e-03       na    \n"
       ]
      },
      {
       "output_type": "stream",
       "stream": "stdout",
       "text": [
        "[INFO    ]  >          |      |-  3     0.122     0.125     2.079     2.71e-02       na    \n"
       ]
      },
      {
       "output_type": "stream",
       "stream": "stdout",
       "text": [
        "[INFO    ]  >          |      |-  4     0.125     0.128     2.090     4.20e-02       na    \n"
       ]
      },
      {
       "output_type": "stream",
       "stream": "stdout",
       "text": [
        "[INFO    ]  >          |      |-  5     0.128     0.130     2.096     5.21e-02       na    \n"
       ]
      },
      {
       "output_type": "stream",
       "stream": "stdout",
       "text": [
        "[INFO    ] >>          |      \\_\n"
       ]
      },
      {
       "output_type": "stream",
       "stream": "stderr",
       "text": [
        "[2014-05-23 14:22] DEBUG: PyPinT Logging: Maximum of iterations exceeded: 15 >= 15\n"
       ]
      },
      {
       "output_type": "stream",
       "stream": "stdout",
       "text": [
        "[INFO    ] !>          \\_    3.98e-03       na         9.91e-03     0.437\n"
       ]
      },
      {
       "output_type": "stream",
       "stream": "stdout",
       "text": [
        "[INFO    ] !>   Converged after 15 iteration(s):\n"
       ]
      },
      {
       "output_type": "stream",
       "stream": "stdout",
       "text": [
        "[INFO    ] !>     Threshold condition(s) met:    iterations\n"
       ]
      },
      {
       "output_type": "stream",
       "stream": "stdout",
       "text": [
        "[INFO    ] !>     Final Residual:                5.207e-02\n"
       ]
      },
      {
       "output_type": "stream",
       "stream": "stdout",
       "text": [
        "[INFO    ] !>     Solution Reduction:            3.982e-03\n"
       ]
      },
      {
       "output_type": "stream",
       "stream": "stderr",
       "text": [
        "[2014-05-23 14:22] DEBUG: PyPinT Logging: Work Loop: 196\n"
       ]
      },
      {
       "output_type": "stream",
       "stream": "stderr",
       "text": [
        "[2014-05-23 14:22] DEBUG: PyPinT Logging: Nodes: [0.12999999999999998, 0.1317267316464601, 0.13499999999999998, 0.13827326835353987, 0.13999999999999999]\n"
       ]
      },
      {
       "output_type": "stream",
       "stream": "stderr",
       "text": [
        "[2014-05-23 14:22] DEBUG: PyPinT Logging: Nodes: [0.12999999999999998, 0.1317267316464601, 0.13499999999999998, 0.13827326835353987, 0.13999999999999999]\n"
       ]
      },
      {
       "output_type": "stream",
       "stream": "stderr",
       "text": [
        "[2014-05-23 14:22] DEBUG: PyPinT Logging: New Interval Initialized\n"
       ]
      },
      {
       "output_type": "stream",
       "stream": "stdout",
       "text": [
        "[INFO    ] !> ................................................................................\n"
       ]
      },
      {
       "output_type": "stream",
       "stream": "stdout",
       "text": [
        "[INFO    ] !>   Interval: [0.130, 0.140]\n"
       ]
      },
      {
       "output_type": "stream",
       "stream": "stdout",
       "text": [
        "[INFO    ] !>    iter\n"
       ]
      },
      {
       "output_type": "stream",
       "stream": "stdout",
       "text": [
        "[INFO    ] >>         \\\n"
       ]
      },
      {
       "output_type": "stream",
       "stream": "stdout",
       "text": [
        "[INFO    ] >>          |- time    start     end        delta\n"
       ]
      },
      {
       "output_type": "stream",
       "stream": "stdout",
       "text": [
        "[INFO    ]  >          |     \\\n"
       ]
      },
      {
       "output_type": "stream",
       "stream": "stdout",
       "text": [
        "[INFO    ]  >          |      |- step    t_0      t_1       phi(t_1)    resid       err\n"
       ]
      },
      {
       "output_type": "stream",
       "stream": "stdout",
       "text": [
        "[INFO    ] >>          |      \\_\n"
       ]
      },
      {
       "output_type": "stream",
       "stream": "stdout",
       "text": [
        "[INFO    ] !>          \\_   sol r.red    err r.red      resid       time\n"
       ]
      },
      {
       "output_type": "stream",
       "stream": "stderr",
       "text": [
        "[2014-05-23 14:22] DEBUG: PyPinT Logging: Starting New Solver Main Loop\n"
       ]
      },
      {
       "output_type": "stream",
       "stream": "stdout",
       "text": [
        "[INFO    ] !>        1\n"
       ]
      },
      {
       "output_type": "stream",
       "stream": "stdout",
       "text": [
        "[INFO    ] >>         \\\n"
       ]
      },
      {
       "output_type": "stream",
       "stream": "stdout",
       "text": [
        "[INFO    ] >>          |-   1     0.130     0.140     0.010\n"
       ]
      },
      {
       "output_type": "stream",
       "stream": "stdout",
       "text": [
        "[INFO    ]  >          |     \\\n"
       ]
      },
      {
       "output_type": "stream",
       "stream": "stdout",
       "text": [
        "[INFO    ]  >          |      |-  1      na       0.130     2.097       na           na    \n"
       ]
      },
      {
       "output_type": "stream",
       "stream": "stdout",
       "text": [
        "[INFO    ]  >          |      |-  2     0.130     0.132     2.102     7.80e-03       na    \n"
       ]
      },
      {
       "output_type": "stream",
       "stream": "stdout",
       "text": [
        "[INFO    ]  >          |      |-  3     0.132     0.135     2.112     2.22e-02       na    \n"
       ]
      },
      {
       "output_type": "stream",
       "stream": "stdout",
       "text": [
        "[INFO    ]  >          |      |-  4     0.135     0.138     2.122     3.60e-02       na    \n"
       ]
      },
      {
       "output_type": "stream",
       "stream": "stdout",
       "text": [
        "[INFO    ]  >          |      |-  5     0.138     0.140     2.127     4.33e-02       na    \n"
       ]
      },
      {
       "output_type": "stream",
       "stream": "stdout",
       "text": [
        "[INFO    ] >>          |      \\_\n"
       ]
      },
      {
       "output_type": "stream",
       "stream": "stderr",
       "text": [
        "[2014-05-23 14:22] DEBUG: PyPinT Logging: Skipping computation of reduction: No previous iteration available.\n"
       ]
      },
      {
       "output_type": "stream",
       "stream": "stdout",
       "text": [
        "[INFO    ] !>          \\_      na           na           na         0.542\n"
       ]
      },
      {
       "output_type": "stream",
       "stream": "stderr",
       "text": [
        "[2014-05-23 14:22] DEBUG: PyPinT Logging: Work Loop: 197\n"
       ]
      },
      {
       "output_type": "stream",
       "stream": "stderr",
       "text": [
        "[2014-05-23 14:22] DEBUG: PyPinT Logging: Next Iteration\n"
       ]
      },
      {
       "output_type": "stream",
       "stream": "stderr",
       "text": [
        "[2014-05-23 14:22] DEBUG: PyPinT Logging: Starting New Solver Main Loop\n"
       ]
      },
      {
       "output_type": "stream",
       "stream": "stdout",
       "text": [
        "[INFO    ] !>        2\n"
       ]
      },
      {
       "output_type": "stream",
       "stream": "stdout",
       "text": [
        "[INFO    ] >>         \\\n"
       ]
      },
      {
       "output_type": "stream",
       "stream": "stdout",
       "text": [
        "[INFO    ] >>          |-   1     0.130     0.140     0.010\n"
       ]
      },
      {
       "output_type": "stream",
       "stream": "stdout",
       "text": [
        "[INFO    ]  >          |     \\\n"
       ]
      },
      {
       "output_type": "stream",
       "stream": "stdout",
       "text": [
        "[INFO    ]  >          |      |-  1      na       0.130     2.097       na           na    \n"
       ]
      },
      {
       "output_type": "stream",
       "stream": "stdout",
       "text": [
        "[INFO    ]  >          |      |-  2     0.130     0.132     2.102     8.46e-03       na    \n"
       ]
      },
      {
       "output_type": "stream",
       "stream": "stdout",
       "text": [
        "[INFO    ]  >          |      |-  3     0.132     0.135     2.112     2.40e-02       na    \n"
       ]
      },
      {
       "output_type": "stream",
       "stream": "stdout",
       "text": [
        "[INFO    ]  >          |      |-  4     0.135     0.138     2.122     3.85e-02       na    \n"
       ]
      },
      {
       "output_type": "stream",
       "stream": "stdout",
       "text": [
        "[INFO    ]  >          |      |-  5     0.138     0.140     2.127     4.58e-02       na    \n"
       ]
      },
      {
       "output_type": "stream",
       "stream": "stdout",
       "text": [
        "[INFO    ] >>          |      \\_\n"
       ]
      },
      {
       "output_type": "stream",
       "stream": "stdout",
       "text": [
        "[INFO    ] !>          \\_    3.08e-02       na         8.46e-03     0.436\n"
       ]
      },
      {
       "output_type": "stream",
       "stream": "stderr",
       "text": [
        "[2014-05-23 14:22] DEBUG: PyPinT Logging: Work Loop: 198\n"
       ]
      },
      {
       "output_type": "stream",
       "stream": "stderr",
       "text": [
        "[2014-05-23 14:22] DEBUG: PyPinT Logging: Next Iteration\n"
       ]
      },
      {
       "output_type": "stream",
       "stream": "stderr",
       "text": [
        "[2014-05-23 14:22] DEBUG: PyPinT Logging: Starting New Solver Main Loop\n"
       ]
      },
      {
       "output_type": "stream",
       "stream": "stdout",
       "text": [
        "[INFO    ] !>        3\n"
       ]
      },
      {
       "output_type": "stream",
       "stream": "stdout",
       "text": [
        "[INFO    ] >>         \\\n"
       ]
      },
      {
       "output_type": "stream",
       "stream": "stdout",
       "text": [
        "[INFO    ] >>          |-   1     0.130     0.140     0.010\n"
       ]
      },
      {
       "output_type": "stream",
       "stream": "stdout",
       "text": [
        "[INFO    ]  >          |     \\\n"
       ]
      },
      {
       "output_type": "stream",
       "stream": "stdout",
       "text": [
        "[INFO    ]  >          |      |-  1      na       0.130     2.097       na           na    \n"
       ]
      },
      {
       "output_type": "stream",
       "stream": "stdout",
       "text": [
        "[INFO    ]  >          |      |-  2     0.130     0.132     2.102     8.70e-03       na    \n"
       ]
      },
      {
       "output_type": "stream",
       "stream": "stdout",
       "text": [
        "[INFO    ]  >          |      |-  3     0.132     0.135     2.112     2.46e-02       na    \n"
       ]
      },
      {
       "output_type": "stream",
       "stream": "stdout",
       "text": [
        "[INFO    ]  >          |      |-  4     0.135     0.138     2.122     3.92e-02       na    \n"
       ]
      },
      {
       "output_type": "stream",
       "stream": "stdout",
       "text": [
        "[INFO    ]  >          |      |-  5     0.138     0.140     2.127     4.63e-02       na    \n"
       ]
      },
      {
       "output_type": "stream",
       "stream": "stdout",
       "text": [
        "[INFO    ] >>          |      \\_\n"
       ]
      },
      {
       "output_type": "stream",
       "stream": "stdout",
       "text": [
        "[INFO    ] !>          \\_    1.32e-03       na         8.70e-03     0.379\n"
       ]
      },
      {
       "output_type": "stream",
       "stream": "stderr",
       "text": [
        "[2014-05-23 14:22] DEBUG: PyPinT Logging: Work Loop: 199\n"
       ]
      },
      {
       "output_type": "stream",
       "stream": "stderr",
       "text": [
        "[2014-05-23 14:22] DEBUG: PyPinT Logging: Next Iteration\n"
       ]
      },
      {
       "output_type": "stream",
       "stream": "stderr",
       "text": [
        "[2014-05-23 14:22] DEBUG: PyPinT Logging: Starting New Solver Main Loop\n"
       ]
      },
      {
       "output_type": "stream",
       "stream": "stdout",
       "text": [
        "[INFO    ] !>        4\n"
       ]
      },
      {
       "output_type": "stream",
       "stream": "stdout",
       "text": [
        "[INFO    ] >>         \\\n"
       ]
      },
      {
       "output_type": "stream",
       "stream": "stdout",
       "text": [
        "[INFO    ] >>          |-   1     0.130     0.140     0.010\n"
       ]
      },
      {
       "output_type": "stream",
       "stream": "stdout",
       "text": [
        "[INFO    ]  >          |     \\\n"
       ]
      },
      {
       "output_type": "stream",
       "stream": "stdout",
       "text": [
        "[INFO    ]  >          |      |-  1      na       0.130     2.097       na           na    \n"
       ]
      },
      {
       "output_type": "stream",
       "stream": "stdout",
       "text": [
        "[INFO    ]  >          |      |-  2     0.130     0.132     2.102     8.79e-03       na    \n"
       ]
      },
      {
       "output_type": "stream",
       "stream": "stdout",
       "text": [
        "[INFO    ]  >          |      |-  3     0.132     0.135     2.112     2.47e-02       na    \n"
       ]
      },
      {
       "output_type": "stream",
       "stream": "stdout",
       "text": [
        "[INFO    ]  >          |      |-  4     0.135     0.138     2.122     3.93e-02       na    \n"
       ]
      },
      {
       "output_type": "stream",
       "stream": "stdout",
       "text": [
        "[INFO    ]  >          |      |-  5     0.138     0.140     2.127     4.64e-02       na    \n"
       ]
      },
      {
       "output_type": "stream",
       "stream": "stdout",
       "text": [
        "[INFO    ] >>          |      \\_\n"
       ]
      },
      {
       "output_type": "stream",
       "stream": "stdout",
       "text": [
        "[INFO    ] !>          \\_    1.61e-03       na         8.79e-03     0.269\n"
       ]
      },
      {
       "output_type": "stream",
       "stream": "stderr",
       "text": [
        "[2014-05-23 14:22] DEBUG: PyPinT Logging: Work Loop: 200\n"
       ]
      },
      {
       "output_type": "stream",
       "stream": "stderr",
       "text": [
        "[2014-05-23 14:22] DEBUG: PyPinT Logging: Next Iteration\n"
       ]
      },
      {
       "output_type": "stream",
       "stream": "stderr",
       "text": [
        "[2014-05-23 14:22] DEBUG: PyPinT Logging: Starting New Solver Main Loop\n"
       ]
      },
      {
       "output_type": "stream",
       "stream": "stdout",
       "text": [
        "[INFO    ] !>        5\n"
       ]
      },
      {
       "output_type": "stream",
       "stream": "stdout",
       "text": [
        "[INFO    ] >>         \\\n"
       ]
      },
      {
       "output_type": "stream",
       "stream": "stdout",
       "text": [
        "[INFO    ] >>          |-   1     0.130     0.140     0.010\n"
       ]
      },
      {
       "output_type": "stream",
       "stream": "stdout",
       "text": [
        "[INFO    ]  >          |     \\\n"
       ]
      },
      {
       "output_type": "stream",
       "stream": "stdout",
       "text": [
        "[INFO    ]  >          |      |-  1      na       0.130     2.097       na           na    \n"
       ]
      },
      {
       "output_type": "stream",
       "stream": "stdout",
       "text": [
        "[INFO    ]  >          |      |-  2     0.130     0.132     2.102     8.82e-03       na    \n"
       ]
      },
      {
       "output_type": "stream",
       "stream": "stdout",
       "text": [
        "[INFO    ]  >          |      |-  3     0.132     0.135     2.112     2.48e-02       na    \n"
       ]
      },
      {
       "output_type": "stream",
       "stream": "stdout",
       "text": [
        "[INFO    ]  >          |      |-  4     0.135     0.138     2.122     3.93e-02       na    \n"
       ]
      },
      {
       "output_type": "stream",
       "stream": "stdout",
       "text": [
        "[INFO    ]  >          |      |-  5     0.138     0.140     2.127     4.64e-02       na    \n"
       ]
      },
      {
       "output_type": "stream",
       "stream": "stdout",
       "text": [
        "[INFO    ] >>          |      \\_\n"
       ]
      },
      {
       "output_type": "stream",
       "stream": "stdout",
       "text": [
        "[INFO    ] !>          \\_    1.06e-03       na         8.82e-03     0.325\n"
       ]
      },
      {
       "output_type": "stream",
       "stream": "stderr",
       "text": [
        "[2014-05-23 14:22] DEBUG: PyPinT Logging: Work Loop: 201\n"
       ]
      },
      {
       "output_type": "stream",
       "stream": "stderr",
       "text": [
        "[2014-05-23 14:22] DEBUG: PyPinT Logging: Next Iteration\n"
       ]
      },
      {
       "output_type": "stream",
       "stream": "stderr",
       "text": [
        "[2014-05-23 14:22] DEBUG: PyPinT Logging: Starting New Solver Main Loop\n"
       ]
      },
      {
       "output_type": "stream",
       "stream": "stdout",
       "text": [
        "[INFO    ] !>        6\n"
       ]
      },
      {
       "output_type": "stream",
       "stream": "stdout",
       "text": [
        "[INFO    ] >>         \\\n"
       ]
      },
      {
       "output_type": "stream",
       "stream": "stdout",
       "text": [
        "[INFO    ] >>          |-   1     0.130     0.140     0.010\n"
       ]
      },
      {
       "output_type": "stream",
       "stream": "stdout",
       "text": [
        "[INFO    ]  >          |     \\\n"
       ]
      },
      {
       "output_type": "stream",
       "stream": "stdout",
       "text": [
        "[INFO    ]  >          |      |-  1      na       0.130     2.097       na           na    \n"
       ]
      },
      {
       "output_type": "stream",
       "stream": "stdout",
       "text": [
        "[INFO    ]  >          |      |-  2     0.130     0.132     2.102     8.83e-03       na    \n"
       ]
      },
      {
       "output_type": "stream",
       "stream": "stdout",
       "text": [
        "[INFO    ]  >          |      |-  3     0.132     0.135     2.112     2.48e-02       na    \n"
       ]
      },
      {
       "output_type": "stream",
       "stream": "stdout",
       "text": [
        "[INFO    ]  >          |      |-  4     0.135     0.138     2.122     3.93e-02       na    \n"
       ]
      },
      {
       "output_type": "stream",
       "stream": "stdout",
       "text": [
        "[INFO    ]  >          |      |-  5     0.138     0.140     2.127     4.63e-02       na    \n"
       ]
      },
      {
       "output_type": "stream",
       "stream": "stdout",
       "text": [
        "[INFO    ] >>          |      \\_\n"
       ]
      },
      {
       "output_type": "stream",
       "stream": "stdout",
       "text": [
        "[INFO    ] !>          \\_    1.38e-03       na         8.83e-03     0.381\n"
       ]
      },
      {
       "output_type": "stream",
       "stream": "stderr",
       "text": [
        "[2014-05-23 14:22] DEBUG: PyPinT Logging: Work Loop: 202\n"
       ]
      },
      {
       "output_type": "stream",
       "stream": "stderr",
       "text": [
        "[2014-05-23 14:22] DEBUG: PyPinT Logging: Next Iteration\n"
       ]
      },
      {
       "output_type": "stream",
       "stream": "stderr",
       "text": [
        "[2014-05-23 14:22] DEBUG: PyPinT Logging: Starting New Solver Main Loop\n"
       ]
      },
      {
       "output_type": "stream",
       "stream": "stdout",
       "text": [
        "[INFO    ] !>        7\n"
       ]
      },
      {
       "output_type": "stream",
       "stream": "stdout",
       "text": [
        "[INFO    ] >>         \\\n"
       ]
      },
      {
       "output_type": "stream",
       "stream": "stdout",
       "text": [
        "[INFO    ] >>          |-   1     0.130     0.140     0.010\n"
       ]
      },
      {
       "output_type": "stream",
       "stream": "stdout",
       "text": [
        "[INFO    ]  >          |     \\\n"
       ]
      },
      {
       "output_type": "stream",
       "stream": "stdout",
       "text": [
        "[INFO    ]  >          |      |-  1      na       0.130     2.097       na           na    \n"
       ]
      },
      {
       "output_type": "stream",
       "stream": "stdout",
       "text": [
        "[INFO    ]  >          |      |-  2     0.130     0.132     2.102     8.83e-03       na    \n"
       ]
      },
      {
       "output_type": "stream",
       "stream": "stdout",
       "text": [
        "[INFO    ]  >          |      |-  3     0.132     0.135     2.112     2.48e-02       na    \n"
       ]
      },
      {
       "output_type": "stream",
       "stream": "stdout",
       "text": [
        "[INFO    ]  >          |      |-  4     0.135     0.138     2.122     3.93e-02       na    \n"
       ]
      },
      {
       "output_type": "stream",
       "stream": "stdout",
       "text": [
        "[INFO    ]  >          |      |-  5     0.138     0.140     2.127     4.63e-02       na    \n"
       ]
      },
      {
       "output_type": "stream",
       "stream": "stdout",
       "text": [
        "[INFO    ] >>          |      \\_\n"
       ]
      },
      {
       "output_type": "stream",
       "stream": "stdout",
       "text": [
        "[INFO    ] !>          \\_    1.81e-03       na         8.83e-03     0.378\n"
       ]
      },
      {
       "output_type": "stream",
       "stream": "stderr",
       "text": [
        "[2014-05-23 14:22] DEBUG: PyPinT Logging: Work Loop: 203\n"
       ]
      },
      {
       "output_type": "stream",
       "stream": "stderr",
       "text": [
        "[2014-05-23 14:22] DEBUG: PyPinT Logging: Next Iteration\n"
       ]
      },
      {
       "output_type": "stream",
       "stream": "stderr",
       "text": [
        "[2014-05-23 14:22] DEBUG: PyPinT Logging: Starting New Solver Main Loop\n"
       ]
      },
      {
       "output_type": "stream",
       "stream": "stdout",
       "text": [
        "[INFO    ] !>        8\n"
       ]
      },
      {
       "output_type": "stream",
       "stream": "stdout",
       "text": [
        "[INFO    ] >>         \\\n"
       ]
      },
      {
       "output_type": "stream",
       "stream": "stdout",
       "text": [
        "[INFO    ] >>          |-   1     0.130     0.140     0.010\n"
       ]
      },
      {
       "output_type": "stream",
       "stream": "stdout",
       "text": [
        "[INFO    ]  >          |     \\\n"
       ]
      },
      {
       "output_type": "stream",
       "stream": "stdout",
       "text": [
        "[INFO    ]  >          |      |-  1      na       0.130     2.097       na           na    \n"
       ]
      },
      {
       "output_type": "stream",
       "stream": "stdout",
       "text": [
        "[INFO    ]  >          |      |-  2     0.130     0.132     2.102     8.83e-03       na    \n"
       ]
      },
      {
       "output_type": "stream",
       "stream": "stdout",
       "text": [
        "[INFO    ]  >          |      |-  3     0.132     0.135     2.112     2.47e-02       na    \n"
       ]
      },
      {
       "output_type": "stream",
       "stream": "stdout",
       "text": [
        "[INFO    ]  >          |      |-  4     0.135     0.138     2.122     3.94e-02       na    \n"
       ]
      },
      {
       "output_type": "stream",
       "stream": "stdout",
       "text": [
        "[INFO    ]  >          |      |-  5     0.138     0.140     2.127     4.63e-02       na    \n"
       ]
      },
      {
       "output_type": "stream",
       "stream": "stdout",
       "text": [
        "[INFO    ] >>          |      \\_\n"
       ]
      },
      {
       "output_type": "stream",
       "stream": "stdout",
       "text": [
        "[INFO    ] !>          \\_    2.57e-03       na         8.83e-03     0.381\n"
       ]
      },
      {
       "output_type": "stream",
       "stream": "stderr",
       "text": [
        "[2014-05-23 14:22] DEBUG: PyPinT Logging: Work Loop: 204\n"
       ]
      },
      {
       "output_type": "stream",
       "stream": "stderr",
       "text": [
        "[2014-05-23 14:22] DEBUG: PyPinT Logging: Next Iteration\n"
       ]
      },
      {
       "output_type": "stream",
       "stream": "stderr",
       "text": [
        "[2014-05-23 14:22] DEBUG: PyPinT Logging: Starting New Solver Main Loop\n"
       ]
      },
      {
       "output_type": "stream",
       "stream": "stdout",
       "text": [
        "[INFO    ] !>        9\n"
       ]
      },
      {
       "output_type": "stream",
       "stream": "stdout",
       "text": [
        "[INFO    ] >>         \\\n"
       ]
      },
      {
       "output_type": "stream",
       "stream": "stdout",
       "text": [
        "[INFO    ] >>          |-   1     0.130     0.140     0.010\n"
       ]
      },
      {
       "output_type": "stream",
       "stream": "stdout",
       "text": [
        "[INFO    ]  >          |     \\\n"
       ]
      },
      {
       "output_type": "stream",
       "stream": "stdout",
       "text": [
        "[INFO    ]  >          |      |-  1      na       0.130     2.097       na           na    \n"
       ]
      },
      {
       "output_type": "stream",
       "stream": "stdout",
       "text": [
        "[INFO    ]  >          |      |-  2     0.130     0.132     2.102     8.83e-03       na    \n"
       ]
      },
      {
       "output_type": "stream",
       "stream": "stdout",
       "text": [
        "[INFO    ]  >          |      |-  3     0.132     0.135     2.112     2.48e-02       na    \n"
       ]
      },
      {
       "output_type": "stream",
       "stream": "stdout",
       "text": [
        "[INFO    ]  >          |      |-  4     0.135     0.138     2.122     3.92e-02       na    \n"
       ]
      },
      {
       "output_type": "stream",
       "stream": "stdout",
       "text": [
        "[INFO    ]  >          |      |-  5     0.138     0.140     2.127     4.63e-02       na    \n"
       ]
      },
      {
       "output_type": "stream",
       "stream": "stdout",
       "text": [
        "[INFO    ] >>          |      \\_\n"
       ]
      },
      {
       "output_type": "stream",
       "stream": "stdout",
       "text": [
        "[INFO    ] !>          \\_    3.66e-03       na         8.83e-03     0.380\n"
       ]
      },
      {
       "output_type": "stream",
       "stream": "stderr",
       "text": [
        "[2014-05-23 14:22] DEBUG: PyPinT Logging: Work Loop: 205\n"
       ]
      },
      {
       "output_type": "stream",
       "stream": "stderr",
       "text": [
        "[2014-05-23 14:22] DEBUG: PyPinT Logging: Next Iteration\n"
       ]
      },
      {
       "output_type": "stream",
       "stream": "stderr",
       "text": [
        "[2014-05-23 14:22] DEBUG: PyPinT Logging: Starting New Solver Main Loop\n"
       ]
      },
      {
       "output_type": "stream",
       "stream": "stdout",
       "text": [
        "[INFO    ] !>       10\n"
       ]
      },
      {
       "output_type": "stream",
       "stream": "stdout",
       "text": [
        "[INFO    ] >>         \\\n"
       ]
      },
      {
       "output_type": "stream",
       "stream": "stdout",
       "text": [
        "[INFO    ] >>          |-   1     0.130     0.140     0.010\n"
       ]
      },
      {
       "output_type": "stream",
       "stream": "stdout",
       "text": [
        "[INFO    ]  >          |     \\\n"
       ]
      },
      {
       "output_type": "stream",
       "stream": "stdout",
       "text": [
        "[INFO    ]  >          |      |-  1      na       0.130     2.097       na           na    \n"
       ]
      },
      {
       "output_type": "stream",
       "stream": "stdout",
       "text": [
        "[INFO    ]  >          |      |-  2     0.130     0.132     2.102     8.84e-03       na    \n"
       ]
      },
      {
       "output_type": "stream",
       "stream": "stdout",
       "text": [
        "[INFO    ]  >          |      |-  3     0.132     0.135     2.112     2.46e-02       na    \n"
       ]
      },
      {
       "output_type": "stream",
       "stream": "stdout",
       "text": [
        "[INFO    ]  >          |      |-  4     0.135     0.138     2.122     3.95e-02       na    \n"
       ]
      },
      {
       "output_type": "stream",
       "stream": "stdout",
       "text": [
        "[INFO    ]  >          |      |-  5     0.138     0.140     2.127     4.63e-02       na    \n"
       ]
      },
      {
       "output_type": "stream",
       "stream": "stdout",
       "text": [
        "[INFO    ] >>          |      \\_\n"
       ]
      },
      {
       "output_type": "stream",
       "stream": "stdout",
       "text": [
        "[INFO    ] !>          \\_    5.21e-03       na         8.84e-03     0.381\n"
       ]
      },
      {
       "output_type": "stream",
       "stream": "stderr",
       "text": [
        "[2014-05-23 14:22] DEBUG: PyPinT Logging: Work Loop: 206\n"
       ]
      },
      {
       "output_type": "stream",
       "stream": "stderr",
       "text": [
        "[2014-05-23 14:22] DEBUG: PyPinT Logging: Next Iteration\n"
       ]
      },
      {
       "output_type": "stream",
       "stream": "stderr",
       "text": [
        "[2014-05-23 14:22] DEBUG: PyPinT Logging: Starting New Solver Main Loop\n"
       ]
      },
      {
       "output_type": "stream",
       "stream": "stdout",
       "text": [
        "[INFO    ] !>       11\n"
       ]
      },
      {
       "output_type": "stream",
       "stream": "stdout",
       "text": [
        "[INFO    ] >>         \\\n"
       ]
      },
      {
       "output_type": "stream",
       "stream": "stdout",
       "text": [
        "[INFO    ] >>          |-   1     0.130     0.140     0.010\n"
       ]
      },
      {
       "output_type": "stream",
       "stream": "stdout",
       "text": [
        "[INFO    ]  >          |     \\\n"
       ]
      },
      {
       "output_type": "stream",
       "stream": "stdout",
       "text": [
        "[INFO    ]  >          |      |-  1      na       0.130     2.097       na           na    \n"
       ]
      },
      {
       "output_type": "stream",
       "stream": "stdout",
       "text": [
        "[INFO    ]  >          |      |-  2     0.130     0.132     2.102     8.80e-03       na    \n"
       ]
      },
      {
       "output_type": "stream",
       "stream": "stdout",
       "text": [
        "[INFO    ]  >          |      |-  3     0.132     0.135     2.112     2.50e-02       na    \n"
       ]
      },
      {
       "output_type": "stream",
       "stream": "stdout",
       "text": [
        "[INFO    ]  >          |      |-  4     0.135     0.138     2.122     3.89e-02       na    \n"
       ]
      },
      {
       "output_type": "stream",
       "stream": "stdout",
       "text": [
        "[INFO    ]  >          |      |-  5     0.138     0.140     2.127     4.64e-02       na    \n"
       ]
      },
      {
       "output_type": "stream",
       "stream": "stdout",
       "text": [
        "[INFO    ] >>          |      \\_\n"
       ]
      },
      {
       "output_type": "stream",
       "stream": "stdout",
       "text": [
        "[INFO    ] !>          \\_    7.38e-03       na         8.80e-03     0.381\n"
       ]
      },
      {
       "output_type": "stream",
       "stream": "stderr",
       "text": [
        "[2014-05-23 14:22] DEBUG: PyPinT Logging: Work Loop: 207\n"
       ]
      },
      {
       "output_type": "stream",
       "stream": "stderr",
       "text": [
        "[2014-05-23 14:22] DEBUG: PyPinT Logging: Next Iteration\n"
       ]
      },
      {
       "output_type": "stream",
       "stream": "stderr",
       "text": [
        "[2014-05-23 14:22] DEBUG: PyPinT Logging: Starting New Solver Main Loop\n"
       ]
      },
      {
       "output_type": "stream",
       "stream": "stdout",
       "text": [
        "[INFO    ] !>       12\n"
       ]
      },
      {
       "output_type": "stream",
       "stream": "stdout",
       "text": [
        "[INFO    ] >>         \\\n"
       ]
      },
      {
       "output_type": "stream",
       "stream": "stdout",
       "text": [
        "[INFO    ] >>          |-   1     0.130     0.140     0.010\n"
       ]
      },
      {
       "output_type": "stream",
       "stream": "stdout",
       "text": [
        "[INFO    ]  >          |     \\\n"
       ]
      },
      {
       "output_type": "stream",
       "stream": "stdout",
       "text": [
        "[INFO    ]  >          |      |-  1      na       0.130     2.097       na           na    \n"
       ]
      },
      {
       "output_type": "stream",
       "stream": "stdout",
       "text": [
        "[INFO    ]  >          |      |-  2     0.130     0.132     2.102     8.90e-03       na    \n"
       ]
      },
      {
       "output_type": "stream",
       "stream": "stdout",
       "text": [
        "[INFO    ]  >          |      |-  3     0.132     0.135     2.112     2.43e-02       na    \n"
       ]
      },
      {
       "output_type": "stream",
       "stream": "stdout",
       "text": [
        "[INFO    ]  >          |      |-  4     0.135     0.138     2.122     4.01e-02       na    \n"
       ]
      },
      {
       "output_type": "stream",
       "stream": "stdout",
       "text": [
        "[INFO    ]  >          |      |-  5     0.138     0.140     2.126     4.62e-02       na    \n"
       ]
      },
      {
       "output_type": "stream",
       "stream": "stdout",
       "text": [
        "[INFO    ] >>          |      \\_\n"
       ]
      },
      {
       "output_type": "stream",
       "stream": "stdout",
       "text": [
        "[INFO    ] !>          \\_    1.03e-02       na         8.90e-03     0.444\n"
       ]
      },
      {
       "output_type": "stream",
       "stream": "stderr",
       "text": [
        "[2014-05-23 14:22] DEBUG: PyPinT Logging: Work Loop: 208\n"
       ]
      },
      {
       "output_type": "stream",
       "stream": "stderr",
       "text": [
        "[2014-05-23 14:22] DEBUG: PyPinT Logging: Next Iteration\n"
       ]
      },
      {
       "output_type": "stream",
       "stream": "stderr",
       "text": [
        "[2014-05-23 14:22] DEBUG: PyPinT Logging: Starting New Solver Main Loop\n"
       ]
      },
      {
       "output_type": "stream",
       "stream": "stdout",
       "text": [
        "[INFO    ] !>       13\n"
       ]
      },
      {
       "output_type": "stream",
       "stream": "stdout",
       "text": [
        "[INFO    ] >>         \\\n"
       ]
      },
      {
       "output_type": "stream",
       "stream": "stdout",
       "text": [
        "[INFO    ] >>          |-   1     0.130     0.140     0.010\n"
       ]
      },
      {
       "output_type": "stream",
       "stream": "stdout",
       "text": [
        "[INFO    ]  >          |     \\\n"
       ]
      },
      {
       "output_type": "stream",
       "stream": "stdout",
       "text": [
        "[INFO    ]  >          |      |-  1      na       0.130     2.097       na           na    \n"
       ]
      },
      {
       "output_type": "stream",
       "stream": "stdout",
       "text": [
        "[INFO    ]  >          |      |-  2     0.130     0.132     2.102     8.68e-03       na    \n"
       ]
      },
      {
       "output_type": "stream",
       "stream": "stdout",
       "text": [
        "[INFO    ]  >          |      |-  3     0.132     0.135     2.112     2.56e-02       na    \n"
       ]
      },
      {
       "output_type": "stream",
       "stream": "stdout",
       "text": [
        "[INFO    ]  >          |      |-  4     0.135     0.138     2.121     3.77e-02       na    \n"
       ]
      },
      {
       "output_type": "stream",
       "stream": "stdout",
       "text": [
        "[INFO    ]  >          |      |-  5     0.138     0.140     2.127     4.65e-02       na    \n"
       ]
      },
      {
       "output_type": "stream",
       "stream": "stdout",
       "text": [
        "[INFO    ] >>          |      \\_\n"
       ]
      },
      {
       "output_type": "stream",
       "stream": "stdout",
       "text": [
        "[INFO    ] !>          \\_    1.42e-02       na         8.68e-03     0.508\n"
       ]
      },
      {
       "output_type": "stream",
       "stream": "stderr",
       "text": [
        "[2014-05-23 14:22] DEBUG: PyPinT Logging: Work Loop: 209\n"
       ]
      },
      {
       "output_type": "stream",
       "stream": "stderr",
       "text": [
        "[2014-05-23 14:22] DEBUG: PyPinT Logging: Next Iteration\n"
       ]
      },
      {
       "output_type": "stream",
       "stream": "stderr",
       "text": [
        "[2014-05-23 14:22] DEBUG: PyPinT Logging: Starting New Solver Main Loop\n"
       ]
      },
      {
       "output_type": "stream",
       "stream": "stdout",
       "text": [
        "[INFO    ] !>       14\n"
       ]
      },
      {
       "output_type": "stream",
       "stream": "stdout",
       "text": [
        "[INFO    ] >>         \\\n"
       ]
      },
      {
       "output_type": "stream",
       "stream": "stdout",
       "text": [
        "[INFO    ] >>          |-   1     0.130     0.140     0.010\n"
       ]
      },
      {
       "output_type": "stream",
       "stream": "stdout",
       "text": [
        "[INFO    ]  >          |     \\\n"
       ]
      },
      {
       "output_type": "stream",
       "stream": "stdout",
       "text": [
        "[INFO    ]  >          |      |-  1      na       0.130     2.097       na           na    \n"
       ]
      },
      {
       "output_type": "stream",
       "stream": "stdout",
       "text": [
        "[INFO    ]  >          |      |-  2     0.130     0.132     2.102     9.13e-03       na    \n"
       ]
      },
      {
       "output_type": "stream",
       "stream": "stdout",
       "text": [
        "[INFO    ]  >          |      |-  3     0.132     0.135     2.112     2.32e-02       na    \n"
       ]
      },
      {
       "output_type": "stream",
       "stream": "stdout",
       "text": [
        "[INFO    ]  >          |      |-  4     0.135     0.138     2.122     4.22e-02       na    \n"
       ]
      },
      {
       "output_type": "stream",
       "stream": "stdout",
       "text": [
        "[INFO    ]  >          |      |-  5     0.138     0.140     2.126     4.58e-02       na    \n"
       ]
      },
      {
       "output_type": "stream",
       "stream": "stdout",
       "text": [
        "[INFO    ] >>          |      \\_\n"
       ]
      },
      {
       "output_type": "stream",
       "stream": "stdout",
       "text": [
        "[INFO    ] !>          \\_    1.92e-02       na         9.13e-03     0.552\n"
       ]
      },
      {
       "output_type": "stream",
       "stream": "stderr",
       "text": [
        "[2014-05-23 14:22] DEBUG: PyPinT Logging: Work Loop: 210\n"
       ]
      },
      {
       "output_type": "stream",
       "stream": "stderr",
       "text": [
        "[2014-05-23 14:22] DEBUG: PyPinT Logging: Next Iteration\n"
       ]
      },
      {
       "output_type": "stream",
       "stream": "stderr",
       "text": [
        "[2014-05-23 14:22] DEBUG: PyPinT Logging: Starting New Solver Main Loop\n"
       ]
      },
      {
       "output_type": "stream",
       "stream": "stdout",
       "text": [
        "[INFO    ] !>       15\n"
       ]
      },
      {
       "output_type": "stream",
       "stream": "stdout",
       "text": [
        "[INFO    ] >>         \\\n"
       ]
      },
      {
       "output_type": "stream",
       "stream": "stdout",
       "text": [
        "[INFO    ] >>          |-   1     0.130     0.140     0.010\n"
       ]
      },
      {
       "output_type": "stream",
       "stream": "stdout",
       "text": [
        "[INFO    ]  >          |     \\\n"
       ]
      },
      {
       "output_type": "stream",
       "stream": "stdout",
       "text": [
        "[INFO    ]  >          |      |-  1      na       0.130     2.097       na           na    \n"
       ]
      },
      {
       "output_type": "stream",
       "stream": "stdout",
       "text": [
        "[INFO    ]  >          |      |-  2     0.130     0.132     2.102     8.70e-03       na    \n"
       ]
      },
      {
       "output_type": "stream",
       "stream": "stdout",
       "text": [
        "[INFO    ]  >          |      |-  3     0.132     0.135     2.113     2.77e-02       na    \n"
       ]
      },
      {
       "output_type": "stream",
       "stream": "stdout",
       "text": [
        "[INFO    ]  >          |      |-  4     0.135     0.138     2.121     4.28e-02       na    \n"
       ]
      },
      {
       "output_type": "stream",
       "stream": "stdout",
       "text": [
        "[INFO    ]  >          |      |-  5     0.138     0.140     2.127     4.67e-02       na    \n"
       ]
      },
      {
       "output_type": "stream",
       "stream": "stdout",
       "text": [
        "[INFO    ] >>          |      \\_\n"
       ]
      },
      {
       "output_type": "stream",
       "stream": "stderr",
       "text": [
        "[2014-05-23 14:23] DEBUG: PyPinT Logging: Maximum of iterations exceeded: 15 >= 15\n"
       ]
      },
      {
       "output_type": "stream",
       "stream": "stdout",
       "text": [
        "[INFO    ] !>          \\_    2.47e-02       na         8.70e-03     0.613\n"
       ]
      },
      {
       "output_type": "stream",
       "stream": "stdout",
       "text": [
        "[INFO    ] !>   Converged after 15 iteration(s):\n"
       ]
      },
      {
       "output_type": "stream",
       "stream": "stdout",
       "text": [
        "[INFO    ] !>     Threshold condition(s) met:    iterations\n"
       ]
      },
      {
       "output_type": "stream",
       "stream": "stdout",
       "text": [
        "[INFO    ] !>     Final Residual:                4.674e-02\n"
       ]
      },
      {
       "output_type": "stream",
       "stream": "stdout",
       "text": [
        "[INFO    ] !>     Solution Reduction:            2.469e-02\n"
       ]
      },
      {
       "output_type": "stream",
       "stream": "stderr",
       "text": [
        "[2014-05-23 14:23] DEBUG: PyPinT Logging: Work Loop: 211\n"
       ]
      },
      {
       "output_type": "stream",
       "stream": "stderr",
       "text": [
        "[2014-05-23 14:23] DEBUG: PyPinT Logging: Nodes: [0.13999999999999999, 0.1417267316464601, 0.145, 0.14827326835353988, 0.15]\n"
       ]
      },
      {
       "output_type": "stream",
       "stream": "stderr",
       "text": [
        "[2014-05-23 14:23] DEBUG: PyPinT Logging: Nodes: [0.13999999999999999, 0.1417267316464601, 0.145, 0.14827326835353988, 0.15]\n"
       ]
      },
      {
       "output_type": "stream",
       "stream": "stderr",
       "text": [
        "[2014-05-23 14:23] DEBUG: PyPinT Logging: New Interval Initialized\n"
       ]
      },
      {
       "output_type": "stream",
       "stream": "stdout",
       "text": [
        "[INFO    ] !> ................................................................................\n"
       ]
      },
      {
       "output_type": "stream",
       "stream": "stdout",
       "text": [
        "[INFO    ] !>   Interval: [0.140, 0.150]\n"
       ]
      },
      {
       "output_type": "stream",
       "stream": "stdout",
       "text": [
        "[INFO    ] !>    iter\n"
       ]
      },
      {
       "output_type": "stream",
       "stream": "stdout",
       "text": [
        "[INFO    ] >>         \\\n"
       ]
      },
      {
       "output_type": "stream",
       "stream": "stdout",
       "text": [
        "[INFO    ] >>          |- time    start     end        delta\n"
       ]
      },
      {
       "output_type": "stream",
       "stream": "stdout",
       "text": [
        "[INFO    ]  >          |     \\\n"
       ]
      },
      {
       "output_type": "stream",
       "stream": "stdout",
       "text": [
        "[INFO    ]  >          |      |- step    t_0      t_1       phi(t_1)    resid       err\n"
       ]
      },
      {
       "output_type": "stream",
       "stream": "stdout",
       "text": [
        "[INFO    ] >>          |      \\_\n"
       ]
      },
      {
       "output_type": "stream",
       "stream": "stdout",
       "text": [
        "[INFO    ] !>          \\_   sol r.red    err r.red      resid       time\n"
       ]
      },
      {
       "output_type": "stream",
       "stream": "stderr",
       "text": [
        "[2014-05-23 14:23] DEBUG: PyPinT Logging: Starting New Solver Main Loop\n"
       ]
      },
      {
       "output_type": "stream",
       "stream": "stdout",
       "text": [
        "[INFO    ] !>        1\n"
       ]
      },
      {
       "output_type": "stream",
       "stream": "stdout",
       "text": [
        "[INFO    ] >>         \\\n"
       ]
      },
      {
       "output_type": "stream",
       "stream": "stdout",
       "text": [
        "[INFO    ] >>          |-   1     0.140     0.150     0.010\n"
       ]
      },
      {
       "output_type": "stream",
       "stream": "stdout",
       "text": [
        "[INFO    ]  >          |     \\\n"
       ]
      },
      {
       "output_type": "stream",
       "stream": "stdout",
       "text": [
        "[INFO    ]  >          |      |-  1      na       0.140     2.127       na           na    \n"
       ]
      },
      {
       "output_type": "stream",
       "stream": "stdout",
       "text": [
        "[INFO    ]  >          |      |-  2     0.140     0.142     2.132     6.37e-03       na    \n"
       ]
      },
      {
       "output_type": "stream",
       "stream": "stdout",
       "text": [
        "[INFO    ]  >          |      |-  3     0.142     0.145     2.141     1.79e-02       na    \n"
       ]
      },
      {
       "output_type": "stream",
       "stream": "stdout",
       "text": [
        "[INFO    ]  >          |      |-  4     0.145     0.148     2.150     2.85e-02       na    \n"
       ]
      },
      {
       "output_type": "stream",
       "stream": "stdout",
       "text": [
        "[INFO    ]  >          |      |-  5     0.148     0.150     2.155     3.39e-02       na    \n"
       ]
      },
      {
       "output_type": "stream",
       "stream": "stdout",
       "text": [
        "[INFO    ] >>          |      \\_\n"
       ]
      },
      {
       "output_type": "stream",
       "stream": "stderr",
       "text": [
        "[2014-05-23 14:23] DEBUG: PyPinT Logging: Skipping computation of reduction: No previous iteration available.\n"
       ]
      },
      {
       "output_type": "stream",
       "stream": "stdout",
       "text": [
        "[INFO    ] !>          \\_      na           na           na         0.557\n"
       ]
      },
      {
       "output_type": "stream",
       "stream": "stderr",
       "text": [
        "[2014-05-23 14:23] DEBUG: PyPinT Logging: Work Loop: 212\n"
       ]
      },
      {
       "output_type": "stream",
       "stream": "stderr",
       "text": [
        "[2014-05-23 14:23] DEBUG: PyPinT Logging: Next Iteration\n"
       ]
      },
      {
       "output_type": "stream",
       "stream": "stderr",
       "text": [
        "[2014-05-23 14:23] DEBUG: PyPinT Logging: Starting New Solver Main Loop\n"
       ]
      },
      {
       "output_type": "stream",
       "stream": "stdout",
       "text": [
        "[INFO    ] !>        2\n"
       ]
      },
      {
       "output_type": "stream",
       "stream": "stdout",
       "text": [
        "[INFO    ] >>         \\\n"
       ]
      },
      {
       "output_type": "stream",
       "stream": "stdout",
       "text": [
        "[INFO    ] >>          |-   1     0.140     0.150     0.010\n"
       ]
      },
      {
       "output_type": "stream",
       "stream": "stdout",
       "text": [
        "[INFO    ]  >          |     \\\n"
       ]
      },
      {
       "output_type": "stream",
       "stream": "stdout",
       "text": [
        "[INFO    ]  >          |      |-  1      na       0.140     2.127       na           na    \n"
       ]
      },
      {
       "output_type": "stream",
       "stream": "stdout",
       "text": [
        "[INFO    ]  >          |      |-  2     0.140     0.142     2.132     6.88e-03       na    \n"
       ]
      },
      {
       "output_type": "stream",
       "stream": "stdout",
       "text": [
        "[INFO    ]  >          |      |-  3     0.142     0.145     2.141     1.90e-02       na    \n"
       ]
      },
      {
       "output_type": "stream",
       "stream": "stdout",
       "text": [
        "[INFO    ]  >          |      |-  4     0.145     0.148     2.150     2.98e-02       na    \n"
       ]
      },
      {
       "output_type": "stream",
       "stream": "stdout",
       "text": [
        "[INFO    ]  >          |      |-  5     0.148     0.150     2.154     3.51e-02       na    \n"
       ]
      },
      {
       "output_type": "stream",
       "stream": "stdout",
       "text": [
        "[INFO    ] >>          |      \\_\n"
       ]
      },
      {
       "output_type": "stream",
       "stream": "stdout",
       "text": [
        "[INFO    ] !>          \\_    2.22e-02       na         6.88e-03     0.446\n"
       ]
      },
      {
       "output_type": "stream",
       "stream": "stderr",
       "text": [
        "[2014-05-23 14:23] DEBUG: PyPinT Logging: Work Loop: 213\n"
       ]
      },
      {
       "output_type": "stream",
       "stream": "stderr",
       "text": [
        "[2014-05-23 14:23] DEBUG: PyPinT Logging: Next Iteration\n"
       ]
      },
      {
       "output_type": "stream",
       "stream": "stderr",
       "text": [
        "[2014-05-23 14:23] DEBUG: PyPinT Logging: Starting New Solver Main Loop\n"
       ]
      },
      {
       "output_type": "stream",
       "stream": "stdout",
       "text": [
        "[INFO    ] !>        3\n"
       ]
      },
      {
       "output_type": "stream",
       "stream": "stdout",
       "text": [
        "[INFO    ] >>         \\\n"
       ]
      },
      {
       "output_type": "stream",
       "stream": "stdout",
       "text": [
        "[INFO    ] >>          |-   1     0.140     0.150     0.010\n"
       ]
      },
      {
       "output_type": "stream",
       "stream": "stdout",
       "text": [
        "[INFO    ]  >          |     \\\n"
       ]
      },
      {
       "output_type": "stream",
       "stream": "stdout",
       "text": [
        "[INFO    ]  >          |      |-  1      na       0.140     2.127       na           na    \n"
       ]
      },
      {
       "output_type": "stream",
       "stream": "stdout",
       "text": [
        "[INFO    ]  >          |      |-  2     0.140     0.142     2.132     7.08e-03       na    \n"
       ]
      },
      {
       "output_type": "stream",
       "stream": "stdout",
       "text": [
        "[INFO    ]  >          |      |-  3     0.142     0.145     2.141     1.94e-02       na    \n"
       ]
      },
      {
       "output_type": "stream",
       "stream": "stdout",
       "text": [
        "[INFO    ]  >          |      |-  4     0.145     0.148     2.150     3.02e-02       na    \n"
       ]
      },
      {
       "output_type": "stream",
       "stream": "stdout",
       "text": [
        "[INFO    ]  >          |      |-  5     0.148     0.150     2.154     3.54e-02       na    \n"
       ]
      },
      {
       "output_type": "stream",
       "stream": "stdout",
       "text": [
        "[INFO    ] >>          |      \\_\n"
       ]
      },
      {
       "output_type": "stream",
       "stream": "stdout",
       "text": [
        "[INFO    ] !>          \\_    1.44e-03       na         7.08e-03     0.386\n"
       ]
      },
      {
       "output_type": "stream",
       "stream": "stderr",
       "text": [
        "[2014-05-23 14:23] DEBUG: PyPinT Logging: Work Loop: 214\n"
       ]
      },
      {
       "output_type": "stream",
       "stream": "stderr",
       "text": [
        "[2014-05-23 14:23] DEBUG: PyPinT Logging: Next Iteration\n"
       ]
      },
      {
       "output_type": "stream",
       "stream": "stderr",
       "text": [
        "[2014-05-23 14:23] DEBUG: PyPinT Logging: Starting New Solver Main Loop\n"
       ]
      },
      {
       "output_type": "stream",
       "stream": "stdout",
       "text": [
        "[INFO    ] !>        4\n"
       ]
      },
      {
       "output_type": "stream",
       "stream": "stdout",
       "text": [
        "[INFO    ] >>         \\\n"
       ]
      },
      {
       "output_type": "stream",
       "stream": "stdout",
       "text": [
        "[INFO    ] >>          |-   1     0.140     0.150     0.010\n"
       ]
      },
      {
       "output_type": "stream",
       "stream": "stdout",
       "text": [
        "[INFO    ]  >          |     \\\n"
       ]
      },
      {
       "output_type": "stream",
       "stream": "stdout",
       "text": [
        "[INFO    ]  >          |      |-  1      na       0.140     2.127       na           na    \n"
       ]
      },
      {
       "output_type": "stream",
       "stream": "stdout",
       "text": [
        "[INFO    ]  >          |      |-  2     0.140     0.142     2.132     7.14e-03       na    \n"
       ]
      },
      {
       "output_type": "stream",
       "stream": "stdout",
       "text": [
        "[INFO    ]  >          |      |-  3     0.142     0.145     2.141     1.94e-02       na    \n"
       ]
      },
      {
       "output_type": "stream",
       "stream": "stdout",
       "text": [
        "[INFO    ]  >          |      |-  4     0.145     0.148     2.150     3.03e-02       na    \n"
       ]
      },
      {
       "output_type": "stream",
       "stream": "stdout",
       "text": [
        "[INFO    ]  >          |      |-  5     0.148     0.150     2.154     3.54e-02       na    \n"
       ]
      },
      {
       "output_type": "stream",
       "stream": "stdout",
       "text": [
        "[INFO    ] >>          |      \\_\n"
       ]
      },
      {
       "output_type": "stream",
       "stream": "stdout",
       "text": [
        "[INFO    ] !>          \\_    1.13e-03       na         7.14e-03     0.327\n"
       ]
      },
      {
       "output_type": "stream",
       "stream": "stderr",
       "text": [
        "[2014-05-23 14:23] DEBUG: PyPinT Logging: Work Loop: 215\n"
       ]
      },
      {
       "output_type": "stream",
       "stream": "stderr",
       "text": [
        "[2014-05-23 14:23] DEBUG: PyPinT Logging: Next Iteration\n"
       ]
      },
      {
       "output_type": "stream",
       "stream": "stderr",
       "text": [
        "[2014-05-23 14:23] DEBUG: PyPinT Logging: Starting New Solver Main Loop\n"
       ]
      },
      {
       "output_type": "stream",
       "stream": "stdout",
       "text": [
        "[INFO    ] !>        5\n"
       ]
      },
      {
       "output_type": "stream",
       "stream": "stdout",
       "text": [
        "[INFO    ] >>         \\\n"
       ]
      },
      {
       "output_type": "stream",
       "stream": "stdout",
       "text": [
        "[INFO    ] >>          |-   1     0.140     0.150     0.010\n"
       ]
      },
      {
       "output_type": "stream",
       "stream": "stdout",
       "text": [
        "[INFO    ]  >          |     \\\n"
       ]
      },
      {
       "output_type": "stream",
       "stream": "stdout",
       "text": [
        "[INFO    ]  >          |      |-  1      na       0.140     2.127       na           na    \n"
       ]
      },
      {
       "output_type": "stream",
       "stream": "stdout",
       "text": [
        "[INFO    ]  >          |      |-  2     0.140     0.142     2.132     7.16e-03       na    \n"
       ]
      },
      {
       "output_type": "stream",
       "stream": "stdout",
       "text": [
        "[INFO    ]  >          |      |-  3     0.142     0.145     2.141     1.94e-02       na    \n"
       ]
      },
      {
       "output_type": "stream",
       "stream": "stdout",
       "text": [
        "[INFO    ]  >          |      |-  4     0.145     0.148     2.150     3.02e-02       na    \n"
       ]
      },
      {
       "output_type": "stream",
       "stream": "stdout",
       "text": [
        "[INFO    ]  >          |      |-  5     0.148     0.150     2.154     3.54e-02       na    \n"
       ]
      },
      {
       "output_type": "stream",
       "stream": "stdout",
       "text": [
        "[INFO    ] >>          |      \\_\n"
       ]
      },
      {
       "output_type": "stream",
       "stream": "stdout",
       "text": [
        "[INFO    ] !>          \\_    1.03e-03       na         7.16e-03     0.325\n"
       ]
      },
      {
       "output_type": "stream",
       "stream": "stderr",
       "text": [
        "[2014-05-23 14:23] DEBUG: PyPinT Logging: Work Loop: 216\n"
       ]
      },
      {
       "output_type": "stream",
       "stream": "stderr",
       "text": [
        "[2014-05-23 14:23] DEBUG: PyPinT Logging: Next Iteration\n"
       ]
      },
      {
       "output_type": "stream",
       "stream": "stderr",
       "text": [
        "[2014-05-23 14:23] DEBUG: PyPinT Logging: Starting New Solver Main Loop\n"
       ]
      },
      {
       "output_type": "stream",
       "stream": "stdout",
       "text": [
        "[INFO    ] !>        6\n"
       ]
      },
      {
       "output_type": "stream",
       "stream": "stdout",
       "text": [
        "[INFO    ] >>         \\\n"
       ]
      },
      {
       "output_type": "stream",
       "stream": "stdout",
       "text": [
        "[INFO    ] >>          |-   1     0.140     0.150     0.010\n"
       ]
      },
      {
       "output_type": "stream",
       "stream": "stdout",
       "text": [
        "[INFO    ]  >          |     \\\n"
       ]
      },
      {
       "output_type": "stream",
       "stream": "stdout",
       "text": [
        "[INFO    ]  >          |      |-  1      na       0.140     2.127       na           na    \n"
       ]
      },
      {
       "output_type": "stream",
       "stream": "stdout",
       "text": [
        "[INFO    ]  >          |      |-  2     0.140     0.142     2.132     7.16e-03       na    \n"
       ]
      },
      {
       "output_type": "stream",
       "stream": "stdout",
       "text": [
        "[INFO    ]  >          |      |-  3     0.142     0.145     2.141     1.94e-02       na    \n"
       ]
      },
      {
       "output_type": "stream",
       "stream": "stdout",
       "text": [
        "[INFO    ]  >          |      |-  4     0.145     0.148     2.150     3.03e-02       na    \n"
       ]
      },
      {
       "output_type": "stream",
       "stream": "stdout",
       "text": [
        "[INFO    ]  >          |      |-  5     0.148     0.150     2.154     3.54e-02       na    \n"
       ]
      },
      {
       "output_type": "stream",
       "stream": "stdout",
       "text": [
        "[INFO    ] >>          |      \\_\n"
       ]
      },
      {
       "output_type": "stream",
       "stream": "stdout",
       "text": [
        "[INFO    ] !>          \\_    1.43e-03       na         7.16e-03     0.380\n"
       ]
      },
      {
       "output_type": "stream",
       "stream": "stderr",
       "text": [
        "[2014-05-23 14:23] DEBUG: PyPinT Logging: Work Loop: 217\n"
       ]
      },
      {
       "output_type": "stream",
       "stream": "stderr",
       "text": [
        "[2014-05-23 14:23] DEBUG: PyPinT Logging: Next Iteration\n"
       ]
      },
      {
       "output_type": "stream",
       "stream": "stderr",
       "text": [
        "[2014-05-23 14:23] DEBUG: PyPinT Logging: Starting New Solver Main Loop\n"
       ]
      },
      {
       "output_type": "stream",
       "stream": "stdout",
       "text": [
        "[INFO    ] !>        7\n"
       ]
      },
      {
       "output_type": "stream",
       "stream": "stdout",
       "text": [
        "[INFO    ] >>         \\\n"
       ]
      },
      {
       "output_type": "stream",
       "stream": "stdout",
       "text": [
        "[INFO    ] >>          |-   1     0.140     0.150     0.010\n"
       ]
      },
      {
       "output_type": "stream",
       "stream": "stdout",
       "text": [
        "[INFO    ]  >          |     \\\n"
       ]
      },
      {
       "output_type": "stream",
       "stream": "stdout",
       "text": [
        "[INFO    ]  >          |      |-  1      na       0.140     2.127       na           na    \n"
       ]
      },
      {
       "output_type": "stream",
       "stream": "stdout",
       "text": [
        "[INFO    ]  >          |      |-  2     0.140     0.142     2.132     7.16e-03       na    \n"
       ]
      },
      {
       "output_type": "stream",
       "stream": "stdout",
       "text": [
        "[INFO    ]  >          |      |-  3     0.142     0.145     2.141     1.94e-02       na    \n"
       ]
      },
      {
       "output_type": "stream",
       "stream": "stdout",
       "text": [
        "[INFO    ]  >          |      |-  4     0.145     0.148     2.150     3.02e-02       na    \n"
       ]
      },
      {
       "output_type": "stream",
       "stream": "stdout",
       "text": [
        "[INFO    ]  >          |      |-  5     0.148     0.150     2.154     3.53e-02       na    \n"
       ]
      },
      {
       "output_type": "stream",
       "stream": "stdout",
       "text": [
        "[INFO    ] >>          |      \\_\n"
       ]
      },
      {
       "output_type": "stream",
       "stream": "stdout",
       "text": [
        "[INFO    ] !>          \\_    2.21e-03       na         7.16e-03     0.380\n"
       ]
      },
      {
       "output_type": "stream",
       "stream": "stderr",
       "text": [
        "[2014-05-23 14:23] DEBUG: PyPinT Logging: Work Loop: 218\n"
       ]
      },
      {
       "output_type": "stream",
       "stream": "stderr",
       "text": [
        "[2014-05-23 14:23] DEBUG: PyPinT Logging: Next Iteration\n"
       ]
      },
      {
       "output_type": "stream",
       "stream": "stderr",
       "text": [
        "[2014-05-23 14:23] DEBUG: PyPinT Logging: Starting New Solver Main Loop\n"
       ]
      },
      {
       "output_type": "stream",
       "stream": "stdout",
       "text": [
        "[INFO    ] !>        8\n"
       ]
      },
      {
       "output_type": "stream",
       "stream": "stdout",
       "text": [
        "[INFO    ] >>         \\\n"
       ]
      },
      {
       "output_type": "stream",
       "stream": "stdout",
       "text": [
        "[INFO    ] >>          |-   1     0.140     0.150     0.010\n"
       ]
      },
      {
       "output_type": "stream",
       "stream": "stdout",
       "text": [
        "[INFO    ]  >          |     \\\n"
       ]
      },
      {
       "output_type": "stream",
       "stream": "stdout",
       "text": [
        "[INFO    ]  >          |      |-  1      na       0.140     2.127       na           na    \n"
       ]
      },
      {
       "output_type": "stream",
       "stream": "stdout",
       "text": [
        "[INFO    ]  >          |      |-  2     0.140     0.142     2.132     7.17e-03       na    \n"
       ]
      },
      {
       "output_type": "stream",
       "stream": "stdout",
       "text": [
        "[INFO    ]  >          |      |-  3     0.142     0.145     2.141     1.94e-02       na    \n"
       ]
      },
      {
       "output_type": "stream",
       "stream": "stdout",
       "text": [
        "[INFO    ]  >          |      |-  4     0.145     0.148     2.150     3.03e-02       na    \n"
       ]
      },
      {
       "output_type": "stream",
       "stream": "stdout",
       "text": [
        "[INFO    ]  >          |      |-  5     0.148     0.150     2.154     3.54e-02       na    \n"
       ]
      },
      {
       "output_type": "stream",
       "stream": "stdout",
       "text": [
        "[INFO    ] >>          |      \\_\n"
       ]
      },
      {
       "output_type": "stream",
       "stream": "stdout",
       "text": [
        "[INFO    ] !>          \\_    3.47e-03       na         7.17e-03     0.381\n"
       ]
      },
      {
       "output_type": "stream",
       "stream": "stderr",
       "text": [
        "[2014-05-23 14:23] DEBUG: PyPinT Logging: Work Loop: 219\n"
       ]
      },
      {
       "output_type": "stream",
       "stream": "stderr",
       "text": [
        "[2014-05-23 14:23] DEBUG: PyPinT Logging: Next Iteration\n"
       ]
      },
      {
       "output_type": "stream",
       "stream": "stderr",
       "text": [
        "[2014-05-23 14:23] DEBUG: PyPinT Logging: Starting New Solver Main Loop\n"
       ]
      },
      {
       "output_type": "stream",
       "stream": "stdout",
       "text": [
        "[INFO    ] !>        9\n"
       ]
      },
      {
       "output_type": "stream",
       "stream": "stdout",
       "text": [
        "[INFO    ] >>         \\\n"
       ]
      },
      {
       "output_type": "stream",
       "stream": "stdout",
       "text": [
        "[INFO    ] >>          |-   1     0.140     0.150     0.010\n"
       ]
      },
      {
       "output_type": "stream",
       "stream": "stdout",
       "text": [
        "[INFO    ]  >          |     \\\n"
       ]
      },
      {
       "output_type": "stream",
       "stream": "stdout",
       "text": [
        "[INFO    ]  >          |      |-  1      na       0.140     2.127       na           na    \n"
       ]
      },
      {
       "output_type": "stream",
       "stream": "stdout",
       "text": [
        "[INFO    ]  >          |      |-  2     0.140     0.142     2.132     7.16e-03       na    \n"
       ]
      },
      {
       "output_type": "stream",
       "stream": "stdout",
       "text": [
        "[INFO    ]  >          |      |-  3     0.142     0.145     2.141     1.95e-02       na    \n"
       ]
      },
      {
       "output_type": "stream",
       "stream": "stdout",
       "text": [
        "[INFO    ]  >          |      |-  4     0.145     0.148     2.150     3.01e-02       na    \n"
       ]
      },
      {
       "output_type": "stream",
       "stream": "stdout",
       "text": [
        "[INFO    ]  >          |      |-  5     0.148     0.150     2.154     3.53e-02       na    \n"
       ]
      },
      {
       "output_type": "stream",
       "stream": "stdout",
       "text": [
        "[INFO    ] >>          |      \\_\n"
       ]
      },
      {
       "output_type": "stream",
       "stream": "stdout",
       "text": [
        "[INFO    ] !>          \\_    5.53e-03       na         7.16e-03     0.383\n"
       ]
      },
      {
       "output_type": "stream",
       "stream": "stderr",
       "text": [
        "[2014-05-23 14:23] DEBUG: PyPinT Logging: Work Loop: 220\n"
       ]
      },
      {
       "output_type": "stream",
       "stream": "stderr",
       "text": [
        "[2014-05-23 14:23] DEBUG: PyPinT Logging: Next Iteration\n"
       ]
      },
      {
       "output_type": "stream",
       "stream": "stderr",
       "text": [
        "[2014-05-23 14:23] DEBUG: PyPinT Logging: Starting New Solver Main Loop\n"
       ]
      },
      {
       "output_type": "stream",
       "stream": "stdout",
       "text": [
        "[INFO    ] !>       10\n"
       ]
      },
      {
       "output_type": "stream",
       "stream": "stdout",
       "text": [
        "[INFO    ] >>         \\\n"
       ]
      },
      {
       "output_type": "stream",
       "stream": "stdout",
       "text": [
        "[INFO    ] >>          |-   1     0.140     0.150     0.010\n"
       ]
      },
      {
       "output_type": "stream",
       "stream": "stdout",
       "text": [
        "[INFO    ]  >          |     \\\n"
       ]
      },
      {
       "output_type": "stream",
       "stream": "stdout",
       "text": [
        "[INFO    ]  >          |      |-  1      na       0.140     2.127       na           na    \n"
       ]
      },
      {
       "output_type": "stream",
       "stream": "stdout",
       "text": [
        "[INFO    ]  >          |      |-  2     0.140     0.142     2.132     7.18e-03       na    \n"
       ]
      },
      {
       "output_type": "stream",
       "stream": "stdout",
       "text": [
        "[INFO    ]  >          |      |-  3     0.142     0.145     2.141     1.92e-02       na    \n"
       ]
      },
      {
       "output_type": "stream",
       "stream": "stdout",
       "text": [
        "[INFO    ]  >          |      |-  4     0.145     0.148     2.150     3.06e-02       na    \n"
       ]
      },
      {
       "output_type": "stream",
       "stream": "stdout",
       "text": [
        "[INFO    ]  >          |      |-  5     0.148     0.150     2.154     3.53e-02       na    \n"
       ]
      },
      {
       "output_type": "stream",
       "stream": "stdout",
       "text": [
        "[INFO    ] >>          |      \\_\n"
       ]
      },
      {
       "output_type": "stream",
       "stream": "stdout",
       "text": [
        "[INFO    ] !>          \\_    8.73e-03       na         7.18e-03     0.438\n"
       ]
      },
      {
       "output_type": "stream",
       "stream": "stderr",
       "text": [
        "[2014-05-23 14:23] DEBUG: PyPinT Logging: Work Loop: 221\n"
       ]
      },
      {
       "output_type": "stream",
       "stream": "stderr",
       "text": [
        "[2014-05-23 14:23] DEBUG: PyPinT Logging: Next Iteration\n"
       ]
      },
      {
       "output_type": "stream",
       "stream": "stderr",
       "text": [
        "[2014-05-23 14:23] DEBUG: PyPinT Logging: Starting New Solver Main Loop\n"
       ]
      },
      {
       "output_type": "stream",
       "stream": "stdout",
       "text": [
        "[INFO    ] !>       11\n"
       ]
      },
      {
       "output_type": "stream",
       "stream": "stdout",
       "text": [
        "[INFO    ] >>         \\\n"
       ]
      },
      {
       "output_type": "stream",
       "stream": "stdout",
       "text": [
        "[INFO    ] >>          |-   1     0.140     0.150     0.010\n"
       ]
      },
      {
       "output_type": "stream",
       "stream": "stdout",
       "text": [
        "[INFO    ]  >          |     \\\n"
       ]
      },
      {
       "output_type": "stream",
       "stream": "stdout",
       "text": [
        "[INFO    ]  >          |      |-  1      na       0.140     2.127       na           na    \n"
       ]
      },
      {
       "output_type": "stream",
       "stream": "stdout",
       "text": [
        "[INFO    ]  >          |      |-  2     0.140     0.142     2.132     7.11e-03       na    \n"
       ]
      },
      {
       "output_type": "stream",
       "stream": "stdout",
       "text": [
        "[INFO    ]  >          |      |-  3     0.142     0.145     2.141     1.98e-02       na    \n"
       ]
      },
      {
       "output_type": "stream",
       "stream": "stdout",
       "text": [
        "[INFO    ]  >          |      |-  4     0.145     0.148     2.150     2.94e-02       na    \n"
       ]
      },
      {
       "output_type": "stream",
       "stream": "stdout",
       "text": [
        "[INFO    ]  >          |      |-  5     0.148     0.150     2.154     3.54e-02       na    \n"
       ]
      },
      {
       "output_type": "stream",
       "stream": "stdout",
       "text": [
        "[INFO    ] >>          |      \\_\n"
       ]
      },
      {
       "output_type": "stream",
       "stream": "stdout",
       "text": [
        "[INFO    ] !>          \\_    1.36e-02       na         7.11e-03     0.436\n"
       ]
      },
      {
       "output_type": "stream",
       "stream": "stderr",
       "text": [
        "[2014-05-23 14:23] DEBUG: PyPinT Logging: Work Loop: 222\n"
       ]
      },
      {
       "output_type": "stream",
       "stream": "stderr",
       "text": [
        "[2014-05-23 14:23] DEBUG: PyPinT Logging: Next Iteration\n"
       ]
      },
      {
       "output_type": "stream",
       "stream": "stderr",
       "text": [
        "[2014-05-23 14:23] DEBUG: PyPinT Logging: Starting New Solver Main Loop\n"
       ]
      },
      {
       "output_type": "stream",
       "stream": "stdout",
       "text": [
        "[INFO    ] !>       12\n"
       ]
      },
      {
       "output_type": "stream",
       "stream": "stdout",
       "text": [
        "[INFO    ] >>         \\\n"
       ]
      },
      {
       "output_type": "stream",
       "stream": "stdout",
       "text": [
        "[INFO    ] >>          |-   1     0.140     0.150     0.010\n"
       ]
      },
      {
       "output_type": "stream",
       "stream": "stdout",
       "text": [
        "[INFO    ]  >          |     \\\n"
       ]
      },
      {
       "output_type": "stream",
       "stream": "stdout",
       "text": [
        "[INFO    ]  >          |      |-  1      na       0.140     2.127       na           na    \n"
       ]
      },
      {
       "output_type": "stream",
       "stream": "stdout",
       "text": [
        "[INFO    ]  >          |      |-  2     0.140     0.142     2.132     7.30e-03       na    \n"
       ]
      },
      {
       "output_type": "stream",
       "stream": "stdout",
       "text": [
        "[INFO    ]  >          |      |-  3     0.142     0.145     2.141     1.86e-02       na    \n"
       ]
      },
      {
       "output_type": "stream",
       "stream": "stdout",
       "text": [
        "[INFO    ]  >          |      |-  4     0.145     0.148     2.150     3.20e-02       na    \n"
       ]
      },
      {
       "output_type": "stream",
       "stream": "stdout",
       "text": [
        "[INFO    ]  >          |      |-  5     0.148     0.150     2.154     3.51e-02       na    \n"
       ]
      },
      {
       "output_type": "stream",
       "stream": "stdout",
       "text": [
        "[INFO    ] >>          |      \\_\n"
       ]
      },
      {
       "output_type": "stream",
       "stream": "stdout",
       "text": [
        "[INFO    ] !>          \\_    2.11e-02       na         7.30e-03     0.494\n"
       ]
      },
      {
       "output_type": "stream",
       "stream": "stderr",
       "text": [
        "[2014-05-23 14:23] DEBUG: PyPinT Logging: Work Loop: 223\n"
       ]
      },
      {
       "output_type": "stream",
       "stream": "stderr",
       "text": [
        "[2014-05-23 14:23] DEBUG: PyPinT Logging: Next Iteration\n"
       ]
      },
      {
       "output_type": "stream",
       "stream": "stderr",
       "text": [
        "[2014-05-23 14:23] DEBUG: PyPinT Logging: Starting New Solver Main Loop\n"
       ]
      },
      {
       "output_type": "stream",
       "stream": "stdout",
       "text": [
        "[INFO    ] !>       13\n"
       ]
      },
      {
       "output_type": "stream",
       "stream": "stdout",
       "text": [
        "[INFO    ] >>         \\\n"
       ]
      },
      {
       "output_type": "stream",
       "stream": "stdout",
       "text": [
        "[INFO    ] >>          |-   1     0.140     0.150     0.010\n"
       ]
      },
      {
       "output_type": "stream",
       "stream": "stdout",
       "text": [
        "[INFO    ]  >          |     \\\n"
       ]
      },
      {
       "output_type": "stream",
       "stream": "stdout",
       "text": [
        "[INFO    ]  >          |      |-  1      na       0.140     2.127       na           na    \n"
       ]
      },
      {
       "output_type": "stream",
       "stream": "stdout",
       "text": [
        "[INFO    ]  >          |      |-  2     0.140     0.142     2.132     6.85e-03       na    \n"
       ]
      },
      {
       "output_type": "stream",
       "stream": "stdout",
       "text": [
        "[INFO    ]  >          |      |-  3     0.142     0.145     2.141     2.13e-02       na    \n"
       ]
      },
      {
       "output_type": "stream",
       "stream": "stdout",
       "text": [
        "[INFO    ]  >          |      |-  4     0.145     0.148     2.149     3.42e-02       na    \n"
       ]
      },
      {
       "output_type": "stream",
       "stream": "stdout",
       "text": [
        "[INFO    ]  >          |      |-  5     0.148     0.150     2.154     3.58e-02       na    \n"
       ]
      },
      {
       "output_type": "stream",
       "stream": "stdout",
       "text": [
        "[INFO    ] >>          |      \\_\n"
       ]
      },
      {
       "output_type": "stream",
       "stream": "stdout",
       "text": [
        "[INFO    ] !>          \\_    3.15e-02       na         6.85e-03     0.551\n"
       ]
      },
      {
       "output_type": "stream",
       "stream": "stderr",
       "text": [
        "[2014-05-23 14:23] DEBUG: PyPinT Logging: Work Loop: 224\n"
       ]
      },
      {
       "output_type": "stream",
       "stream": "stderr",
       "text": [
        "[2014-05-23 14:23] DEBUG: PyPinT Logging: Next Iteration\n"
       ]
      },
      {
       "output_type": "stream",
       "stream": "stderr",
       "text": [
        "[2014-05-23 14:23] DEBUG: PyPinT Logging: Starting New Solver Main Loop\n"
       ]
      },
      {
       "output_type": "stream",
       "stream": "stdout",
       "text": [
        "[INFO    ] !>       14\n"
       ]
      },
      {
       "output_type": "stream",
       "stream": "stdout",
       "text": [
        "[INFO    ] >>         \\\n"
       ]
      },
      {
       "output_type": "stream",
       "stream": "stdout",
       "text": [
        "[INFO    ] >>          |-   1     0.140     0.150     0.010\n"
       ]
      },
      {
       "output_type": "stream",
       "stream": "stdout",
       "text": [
        "[INFO    ]  >          |     \\\n"
       ]
      },
      {
       "output_type": "stream",
       "stream": "stdout",
       "text": [
        "[INFO    ]  >          |      |-  1      na       0.140     2.127       na           na    \n"
       ]
      },
      {
       "output_type": "stream",
       "stream": "stdout",
       "text": [
        "[INFO    ]  >          |      |-  2     0.140     0.142     2.132     9.32e-03       na    \n"
       ]
      },
      {
       "output_type": "stream",
       "stream": "stdout",
       "text": [
        "[INFO    ]  >          |      |-  3     0.142     0.145     2.141     3.55e-02       na    \n"
       ]
      },
      {
       "output_type": "stream",
       "stream": "stdout",
       "text": [
        "[INFO    ]  >          |      |-  4     0.145     0.148     2.150     6.55e-02       na    \n"
       ]
      },
      {
       "output_type": "stream",
       "stream": "stdout",
       "text": [
        "[INFO    ]  >          |      |-  5     0.148     0.150     2.153     4.26e-02       na    \n"
       ]
      },
      {
       "output_type": "stream",
       "stream": "stdout",
       "text": [
        "[INFO    ] >>          |      \\_\n"
       ]
      },
      {
       "output_type": "stream",
       "stream": "stdout",
       "text": [
        "[INFO    ] !>          \\_    4.59e-02       na         9.32e-03     0.614\n"
       ]
      },
      {
       "output_type": "stream",
       "stream": "stderr",
       "text": [
        "[2014-05-23 14:23] DEBUG: PyPinT Logging: Work Loop: 225\n"
       ]
      },
      {
       "output_type": "stream",
       "stream": "stderr",
       "text": [
        "[2014-05-23 14:23] DEBUG: PyPinT Logging: Next Iteration\n"
       ]
      },
      {
       "output_type": "stream",
       "stream": "stderr",
       "text": [
        "[2014-05-23 14:23] DEBUG: PyPinT Logging: Starting New Solver Main Loop\n"
       ]
      },
      {
       "output_type": "stream",
       "stream": "stdout",
       "text": [
        "[INFO    ] !>       15\n"
       ]
      },
      {
       "output_type": "stream",
       "stream": "stdout",
       "text": [
        "[INFO    ] >>         \\\n"
       ]
      },
      {
       "output_type": "stream",
       "stream": "stdout",
       "text": [
        "[INFO    ] >>          |-   1     0.140     0.150     0.010\n"
       ]
      },
      {
       "output_type": "stream",
       "stream": "stdout",
       "text": [
        "[INFO    ]  >          |     \\\n"
       ]
      },
      {
       "output_type": "stream",
       "stream": "stdout",
       "text": [
        "[INFO    ]  >          |      |-  1      na       0.140     2.127       na           na    \n"
       ]
      },
      {
       "output_type": "stream",
       "stream": "stdout",
       "text": [
        "[INFO    ]  >          |      |-  2     0.140     0.142     2.132     1.81e-02       na    \n"
       ]
      },
      {
       "output_type": "stream",
       "stream": "stdout",
       "text": [
        "[INFO    ]  >          |      |-  3     0.142     0.145     2.142     6.67e-02       na    \n"
       ]
      },
      {
       "output_type": "stream",
       "stream": "stdout",
       "text": [
        "[INFO    ]  >          |      |-  4     0.145     0.148     2.148     1.16e-01       na    \n"
       ]
      },
      {
       "output_type": "stream",
       "stream": "stdout",
       "text": [
        "[INFO    ]  >          |      |-  5     0.148     0.150     2.155     9.05e-02       na    \n"
       ]
      },
      {
       "output_type": "stream",
       "stream": "stdout",
       "text": [
        "[INFO    ] >>          |      \\_\n"
       ]
      },
      {
       "output_type": "stream",
       "stream": "stderr",
       "text": [
        "[2014-05-23 14:23] DEBUG: PyPinT Logging: Maximum of iterations exceeded: 15 >= 15\n"
       ]
      },
      {
       "output_type": "stream",
       "stream": "stdout",
       "text": [
        "[INFO    ] !>          \\_    6.25e-02       na         1.81e-02     0.614\n"
       ]
      },
      {
       "output_type": "stream",
       "stream": "stdout",
       "text": [
        "[INFO    ] !>   Converged after 15 iteration(s):\n"
       ]
      },
      {
       "output_type": "stream",
       "stream": "stdout",
       "text": [
        "[INFO    ] !>     Threshold condition(s) met:    iterations\n"
       ]
      },
      {
       "output_type": "stream",
       "stream": "stdout",
       "text": [
        "[INFO    ] !>     Final Residual:                9.052e-02\n"
       ]
      },
      {
       "output_type": "stream",
       "stream": "stdout",
       "text": [
        "[INFO    ] !>     Solution Reduction:            6.246e-02\n"
       ]
      },
      {
       "output_type": "stream",
       "stream": "stderr",
       "text": [
        "[2014-05-23 14:23] DEBUG: PyPinT Logging: Work Loop: 226\n"
       ]
      },
      {
       "output_type": "stream",
       "stream": "stderr",
       "text": [
        "[2014-05-23 14:23] DEBUG: PyPinT Logging: Nodes: [0.15, 0.1517267316464601, 0.155, 0.1582732683535399, 0.16]\n"
       ]
      },
      {
       "output_type": "stream",
       "stream": "stderr",
       "text": [
        "[2014-05-23 14:23] DEBUG: PyPinT Logging: Nodes: [0.15, 0.1517267316464601, 0.155, 0.1582732683535399, 0.16]\n"
       ]
      },
      {
       "output_type": "stream",
       "stream": "stderr",
       "text": [
        "[2014-05-23 14:23] DEBUG: PyPinT Logging: New Interval Initialized\n"
       ]
      },
      {
       "output_type": "stream",
       "stream": "stdout",
       "text": [
        "[INFO    ] !> ................................................................................\n"
       ]
      },
      {
       "output_type": "stream",
       "stream": "stdout",
       "text": [
        "[INFO    ] !>   Interval: [0.150, 0.160]\n"
       ]
      },
      {
       "output_type": "stream",
       "stream": "stdout",
       "text": [
        "[INFO    ] !>    iter\n"
       ]
      },
      {
       "output_type": "stream",
       "stream": "stdout",
       "text": [
        "[INFO    ] >>         \\\n"
       ]
      },
      {
       "output_type": "stream",
       "stream": "stdout",
       "text": [
        "[INFO    ] >>          |- time    start     end        delta\n"
       ]
      },
      {
       "output_type": "stream",
       "stream": "stdout",
       "text": [
        "[INFO    ]  >          |     \\\n"
       ]
      },
      {
       "output_type": "stream",
       "stream": "stdout",
       "text": [
        "[INFO    ]  >          |      |- step    t_0      t_1       phi(t_1)    resid       err\n"
       ]
      },
      {
       "output_type": "stream",
       "stream": "stdout",
       "text": [
        "[INFO    ] >>          |      \\_\n"
       ]
      },
      {
       "output_type": "stream",
       "stream": "stdout",
       "text": [
        "[INFO    ] !>          \\_   sol r.red    err r.red      resid       time\n"
       ]
      },
      {
       "output_type": "stream",
       "stream": "stderr",
       "text": [
        "[2014-05-23 14:23] DEBUG: PyPinT Logging: Starting New Solver Main Loop\n"
       ]
      },
      {
       "output_type": "stream",
       "stream": "stdout",
       "text": [
        "[INFO    ] !>        1\n"
       ]
      },
      {
       "output_type": "stream",
       "stream": "stdout",
       "text": [
        "[INFO    ] >>         \\\n"
       ]
      },
      {
       "output_type": "stream",
       "stream": "stdout",
       "text": [
        "[INFO    ] >>          |-   1     0.150     0.160     0.010\n"
       ]
      },
      {
       "output_type": "stream",
       "stream": "stdout",
       "text": [
        "[INFO    ]  >          |     \\\n"
       ]
      },
      {
       "output_type": "stream",
       "stream": "stdout",
       "text": [
        "[INFO    ]  >          |      |-  1      na       0.150     2.155       na           na    \n"
       ]
      },
      {
       "output_type": "stream",
       "stream": "stdout",
       "text": [
        "[INFO    ]  >          |      |-  2     0.150     0.152     2.159     4.63e-03       na    \n"
       ]
      },
      {
       "output_type": "stream",
       "stream": "stdout",
       "text": [
        "[INFO    ]  >          |      |-  3     0.152     0.155     2.167     1.33e-02       na    \n"
       ]
      },
      {
       "output_type": "stream",
       "stream": "stdout",
       "text": [
        "[INFO    ]  >          |      |-  4     0.155     0.158     2.175     2.15e-02       na    \n"
       ]
      },
      {
       "output_type": "stream",
       "stream": "stdout",
       "text": [
        "[INFO    ]  >          |      |-  5     0.158     0.160     2.179     2.58e-02       na    \n"
       ]
      },
      {
       "output_type": "stream",
       "stream": "stdout",
       "text": [
        "[INFO    ] >>          |      \\_\n"
       ]
      },
      {
       "output_type": "stream",
       "stream": "stderr",
       "text": [
        "[2014-05-23 14:23] DEBUG: PyPinT Logging: Skipping computation of reduction: No previous iteration available.\n"
       ]
      },
      {
       "output_type": "stream",
       "stream": "stdout",
       "text": [
        "[INFO    ] !>          \\_      na           na           na         0.538\n"
       ]
      },
      {
       "output_type": "stream",
       "stream": "stderr",
       "text": [
        "[2014-05-23 14:23] DEBUG: PyPinT Logging: Work Loop: 227\n"
       ]
      },
      {
       "output_type": "stream",
       "stream": "stderr",
       "text": [
        "[2014-05-23 14:23] DEBUG: PyPinT Logging: Next Iteration\n"
       ]
      },
      {
       "output_type": "stream",
       "stream": "stderr",
       "text": [
        "[2014-05-23 14:23] DEBUG: PyPinT Logging: Starting New Solver Main Loop\n"
       ]
      },
      {
       "output_type": "stream",
       "stream": "stdout",
       "text": [
        "[INFO    ] !>        2\n"
       ]
      },
      {
       "output_type": "stream",
       "stream": "stdout",
       "text": [
        "[INFO    ] >>         \\\n"
       ]
      },
      {
       "output_type": "stream",
       "stream": "stdout",
       "text": [
        "[INFO    ] >>          |-   1     0.150     0.160     0.010\n"
       ]
      },
      {
       "output_type": "stream",
       "stream": "stdout",
       "text": [
        "[INFO    ]  >          |     \\\n"
       ]
      },
      {
       "output_type": "stream",
       "stream": "stdout",
       "text": [
        "[INFO    ]  >          |      |-  1      na       0.150     2.155       na           na    \n"
       ]
      },
      {
       "output_type": "stream",
       "stream": "stdout",
       "text": [
        "[INFO    ]  >          |      |-  2     0.150     0.152     2.159     4.92e-03       na    \n"
       ]
      },
      {
       "output_type": "stream",
       "stream": "stdout",
       "text": [
        "[INFO    ]  >          |      |-  3     0.152     0.155     2.167     1.42e-02       na    \n"
       ]
      },
      {
       "output_type": "stream",
       "stream": "stdout",
       "text": [
        "[INFO    ]  >          |      |-  4     0.155     0.158     2.175     2.31e-02       na    \n"
       ]
      },
      {
       "output_type": "stream",
       "stream": "stdout",
       "text": [
        "[INFO    ]  >          |      |-  5     0.158     0.160     2.179     2.78e-02       na    \n"
       ]
      },
      {
       "output_type": "stream",
       "stream": "stdout",
       "text": [
        "[INFO    ] >>          |      \\_\n"
       ]
      },
      {
       "output_type": "stream",
       "stream": "stdout",
       "text": [
        "[INFO    ] !>          \\_    1.82e-02       na         4.92e-03     0.434\n"
       ]
      },
      {
       "output_type": "stream",
       "stream": "stderr",
       "text": [
        "[2014-05-23 14:23] DEBUG: PyPinT Logging: Work Loop: 228\n"
       ]
      },
      {
       "output_type": "stream",
       "stream": "stderr",
       "text": [
        "[2014-05-23 14:23] DEBUG: PyPinT Logging: Next Iteration\n"
       ]
      },
      {
       "output_type": "stream",
       "stream": "stderr",
       "text": [
        "[2014-05-23 14:23] DEBUG: PyPinT Logging: Starting New Solver Main Loop\n"
       ]
      },
      {
       "output_type": "stream",
       "stream": "stdout",
       "text": [
        "[INFO    ] !>        3\n"
       ]
      },
      {
       "output_type": "stream",
       "stream": "stdout",
       "text": [
        "[INFO    ] >>         \\\n"
       ]
      },
      {
       "output_type": "stream",
       "stream": "stdout",
       "text": [
        "[INFO    ] >>          |-   1     0.150     0.160     0.010\n"
       ]
      },
      {
       "output_type": "stream",
       "stream": "stdout",
       "text": [
        "[INFO    ]  >          |     \\\n"
       ]
      },
      {
       "output_type": "stream",
       "stream": "stdout",
       "text": [
        "[INFO    ]  >          |      |-  1      na       0.150     2.155       na           na    \n"
       ]
      },
      {
       "output_type": "stream",
       "stream": "stdout",
       "text": [
        "[INFO    ]  >          |      |-  2     0.150     0.152     2.159     5.04e-03       na    \n"
       ]
      },
      {
       "output_type": "stream",
       "stream": "stdout",
       "text": [
        "[INFO    ]  >          |      |-  3     0.152     0.155     2.167     1.45e-02       na    \n"
       ]
      },
      {
       "output_type": "stream",
       "stream": "stdout",
       "text": [
        "[INFO    ]  >          |      |-  4     0.155     0.158     2.175     2.36e-02       na    \n"
       ]
      },
      {
       "output_type": "stream",
       "stream": "stdout",
       "text": [
        "[INFO    ]  >          |      |-  5     0.158     0.160     2.179     2.82e-02       na    \n"
       ]
      },
      {
       "output_type": "stream",
       "stream": "stdout",
       "text": [
        "[INFO    ] >>          |      \\_\n"
       ]
      },
      {
       "output_type": "stream",
       "stream": "stdout",
       "text": [
        "[INFO    ] !>          \\_    1.36e-03       na         5.04e-03     0.385\n"
       ]
      },
      {
       "output_type": "stream",
       "stream": "stderr",
       "text": [
        "[2014-05-23 14:23] DEBUG: PyPinT Logging: Work Loop: 229\n"
       ]
      },
      {
       "output_type": "stream",
       "stream": "stderr",
       "text": [
        "[2014-05-23 14:23] DEBUG: PyPinT Logging: Next Iteration\n"
       ]
      },
      {
       "output_type": "stream",
       "stream": "stderr",
       "text": [
        "[2014-05-23 14:23] DEBUG: PyPinT Logging: Starting New Solver Main Loop\n"
       ]
      },
      {
       "output_type": "stream",
       "stream": "stdout",
       "text": [
        "[INFO    ] !>        4\n"
       ]
      },
      {
       "output_type": "stream",
       "stream": "stdout",
       "text": [
        "[INFO    ] >>         \\\n"
       ]
      },
      {
       "output_type": "stream",
       "stream": "stdout",
       "text": [
        "[INFO    ] >>          |-   1     0.150     0.160     0.010\n"
       ]
      },
      {
       "output_type": "stream",
       "stream": "stdout",
       "text": [
        "[INFO    ]  >          |     \\\n"
       ]
      },
      {
       "output_type": "stream",
       "stream": "stdout",
       "text": [
        "[INFO    ]  >          |      |-  1      na       0.150     2.155       na           na    \n"
       ]
      },
      {
       "output_type": "stream",
       "stream": "stdout",
       "text": [
        "[INFO    ]  >          |      |-  2     0.150     0.152     2.159     5.08e-03       na    \n"
       ]
      },
      {
       "output_type": "stream",
       "stream": "stdout",
       "text": [
        "[INFO    ]  >          |      |-  3     0.152     0.155     2.167     1.45e-02       na    \n"
       ]
      },
      {
       "output_type": "stream",
       "stream": "stdout",
       "text": [
        "[INFO    ]  >          |      |-  4     0.155     0.158     2.175     2.37e-02       na    \n"
       ]
      },
      {
       "output_type": "stream",
       "stream": "stdout",
       "text": [
        "[INFO    ]  >          |      |-  5     0.158     0.160     2.179     2.83e-02       na    \n"
       ]
      },
      {
       "output_type": "stream",
       "stream": "stdout",
       "text": [
        "[INFO    ] >>          |      \\_\n"
       ]
      },
      {
       "output_type": "stream",
       "stream": "stdout",
       "text": [
        "[INFO    ] !>          \\_    6.97e-04       na         5.08e-03     0.328\n"
       ]
      },
      {
       "output_type": "stream",
       "stream": "stderr",
       "text": [
        "[2014-05-23 14:23] DEBUG: PyPinT Logging: Work Loop: 230\n"
       ]
      },
      {
       "output_type": "stream",
       "stream": "stderr",
       "text": [
        "[2014-05-23 14:23] DEBUG: PyPinT Logging: Next Iteration\n"
       ]
      },
      {
       "output_type": "stream",
       "stream": "stderr",
       "text": [
        "[2014-05-23 14:23] DEBUG: PyPinT Logging: Starting New Solver Main Loop\n"
       ]
      },
      {
       "output_type": "stream",
       "stream": "stdout",
       "text": [
        "[INFO    ] !>        5\n"
       ]
      },
      {
       "output_type": "stream",
       "stream": "stdout",
       "text": [
        "[INFO    ] >>         \\\n"
       ]
      },
      {
       "output_type": "stream",
       "stream": "stdout",
       "text": [
        "[INFO    ] >>          |-   1     0.150     0.160     0.010\n"
       ]
      },
      {
       "output_type": "stream",
       "stream": "stdout",
       "text": [
        "[INFO    ]  >          |     \\\n"
       ]
      },
      {
       "output_type": "stream",
       "stream": "stdout",
       "text": [
        "[INFO    ]  >          |      |-  1      na       0.150     2.155       na           na    \n"
       ]
      },
      {
       "output_type": "stream",
       "stream": "stdout",
       "text": [
        "[INFO    ]  >          |      |-  2     0.150     0.152     2.159     5.09e-03       na    \n"
       ]
      },
      {
       "output_type": "stream",
       "stream": "stdout",
       "text": [
        "[INFO    ]  >          |      |-  3     0.152     0.155     2.167     1.46e-02       na    \n"
       ]
      },
      {
       "output_type": "stream",
       "stream": "stdout",
       "text": [
        "[INFO    ]  >          |      |-  4     0.155     0.158     2.175     2.37e-02       na    \n"
       ]
      },
      {
       "output_type": "stream",
       "stream": "stdout",
       "text": [
        "[INFO    ]  >          |      |-  5     0.158     0.160     2.179     2.83e-02       na    \n"
       ]
      },
      {
       "output_type": "stream",
       "stream": "stdout",
       "text": [
        "[INFO    ] >>          |      \\_\n"
       ]
      },
      {
       "output_type": "stream",
       "stream": "stdout",
       "text": [
        "[INFO    ] !>          \\_    7.72e-04       na         5.09e-03     0.324\n"
       ]
      },
      {
       "output_type": "stream",
       "stream": "stderr",
       "text": [
        "[2014-05-23 14:23] DEBUG: PyPinT Logging: Work Loop: 231\n"
       ]
      },
      {
       "output_type": "stream",
       "stream": "stderr",
       "text": [
        "[2014-05-23 14:23] DEBUG: PyPinT Logging: Next Iteration\n"
       ]
      },
      {
       "output_type": "stream",
       "stream": "stderr",
       "text": [
        "[2014-05-23 14:23] DEBUG: PyPinT Logging: Starting New Solver Main Loop\n"
       ]
      },
      {
       "output_type": "stream",
       "stream": "stdout",
       "text": [
        "[INFO    ] !>        6\n"
       ]
      },
      {
       "output_type": "stream",
       "stream": "stdout",
       "text": [
        "[INFO    ] >>         \\\n"
       ]
      },
      {
       "output_type": "stream",
       "stream": "stdout",
       "text": [
        "[INFO    ] >>          |-   1     0.150     0.160     0.010\n"
       ]
      },
      {
       "output_type": "stream",
       "stream": "stdout",
       "text": [
        "[INFO    ]  >          |     \\\n"
       ]
      },
      {
       "output_type": "stream",
       "stream": "stdout",
       "text": [
        "[INFO    ]  >          |      |-  1      na       0.150     2.155       na           na    \n"
       ]
      },
      {
       "output_type": "stream",
       "stream": "stdout",
       "text": [
        "[INFO    ]  >          |      |-  2     0.150     0.152     2.159     5.09e-03       na    \n"
       ]
      },
      {
       "output_type": "stream",
       "stream": "stdout",
       "text": [
        "[INFO    ]  >          |      |-  3     0.152     0.155     2.167     1.45e-02       na    \n"
       ]
      },
      {
       "output_type": "stream",
       "stream": "stdout",
       "text": [
        "[INFO    ]  >          |      |-  4     0.155     0.158     2.175     2.38e-02       na    \n"
       ]
      },
      {
       "output_type": "stream",
       "stream": "stdout",
       "text": [
        "[INFO    ]  >          |      |-  5     0.158     0.160     2.179     2.83e-02       na    \n"
       ]
      },
      {
       "output_type": "stream",
       "stream": "stdout",
       "text": [
        "[INFO    ] >>          |      \\_\n"
       ]
      },
      {
       "output_type": "stream",
       "stream": "stdout",
       "text": [
        "[INFO    ] !>          \\_    1.20e-03       na         5.09e-03     0.385\n"
       ]
      },
      {
       "output_type": "stream",
       "stream": "stderr",
       "text": [
        "[2014-05-23 14:23] DEBUG: PyPinT Logging: Work Loop: 232\n"
       ]
      },
      {
       "output_type": "stream",
       "stream": "stderr",
       "text": [
        "[2014-05-23 14:23] DEBUG: PyPinT Logging: Next Iteration\n"
       ]
      },
      {
       "output_type": "stream",
       "stream": "stderr",
       "text": [
        "[2014-05-23 14:23] DEBUG: PyPinT Logging: Starting New Solver Main Loop\n"
       ]
      },
      {
       "output_type": "stream",
       "stream": "stdout",
       "text": [
        "[INFO    ] !>        7\n"
       ]
      },
      {
       "output_type": "stream",
       "stream": "stdout",
       "text": [
        "[INFO    ] >>         \\\n"
       ]
      },
      {
       "output_type": "stream",
       "stream": "stdout",
       "text": [
        "[INFO    ] >>          |-   1     0.150     0.160     0.010\n"
       ]
      },
      {
       "output_type": "stream",
       "stream": "stdout",
       "text": [
        "[INFO    ]  >          |     \\\n"
       ]
      },
      {
       "output_type": "stream",
       "stream": "stdout",
       "text": [
        "[INFO    ]  >          |      |-  1      na       0.150     2.155       na           na    \n"
       ]
      },
      {
       "output_type": "stream",
       "stream": "stdout",
       "text": [
        "[INFO    ]  >          |      |-  2     0.150     0.152     2.159     5.08e-03       na    \n"
       ]
      },
      {
       "output_type": "stream",
       "stream": "stdout",
       "text": [
        "[INFO    ]  >          |      |-  3     0.152     0.155     2.167     1.47e-02       na    \n"
       ]
      },
      {
       "output_type": "stream",
       "stream": "stdout",
       "text": [
        "[INFO    ]  >          |      |-  4     0.155     0.158     2.175     2.36e-02       na    \n"
       ]
      },
      {
       "output_type": "stream",
       "stream": "stdout",
       "text": [
        "[INFO    ]  >          |      |-  5     0.158     0.160     2.179     2.83e-02       na    \n"
       ]
      },
      {
       "output_type": "stream",
       "stream": "stdout",
       "text": [
        "[INFO    ] >>          |      \\_\n"
       ]
      },
      {
       "output_type": "stream",
       "stream": "stdout",
       "text": [
        "[INFO    ] !>          \\_    2.07e-03       na         5.08e-03     0.385\n"
       ]
      },
      {
       "output_type": "stream",
       "stream": "stderr",
       "text": [
        "[2014-05-23 14:23] DEBUG: PyPinT Logging: Work Loop: 233\n"
       ]
      },
      {
       "output_type": "stream",
       "stream": "stderr",
       "text": [
        "[2014-05-23 14:23] DEBUG: PyPinT Logging: Next Iteration\n"
       ]
      },
      {
       "output_type": "stream",
       "stream": "stderr",
       "text": [
        "[2014-05-23 14:23] DEBUG: PyPinT Logging: Starting New Solver Main Loop\n"
       ]
      },
      {
       "output_type": "stream",
       "stream": "stdout",
       "text": [
        "[INFO    ] !>        8\n"
       ]
      },
      {
       "output_type": "stream",
       "stream": "stdout",
       "text": [
        "[INFO    ] >>         \\\n"
       ]
      },
      {
       "output_type": "stream",
       "stream": "stdout",
       "text": [
        "[INFO    ] >>          |-   1     0.150     0.160     0.010\n"
       ]
      },
      {
       "output_type": "stream",
       "stream": "stdout",
       "text": [
        "[INFO    ]  >          |     \\\n"
       ]
      },
      {
       "output_type": "stream",
       "stream": "stdout",
       "text": [
        "[INFO    ]  >          |      |-  1      na       0.150     2.155       na           na    \n"
       ]
      },
      {
       "output_type": "stream",
       "stream": "stdout",
       "text": [
        "[INFO    ]  >          |      |-  2     0.150     0.152     2.159     5.10e-03       na    \n"
       ]
      },
      {
       "output_type": "stream",
       "stream": "stdout",
       "text": [
        "[INFO    ]  >          |      |-  3     0.152     0.155     2.167     1.44e-02       na    \n"
       ]
      },
      {
       "output_type": "stream",
       "stream": "stdout",
       "text": [
        "[INFO    ]  >          |      |-  4     0.155     0.158     2.175     2.40e-02       na    \n"
       ]
      },
      {
       "output_type": "stream",
       "stream": "stdout",
       "text": [
        "[INFO    ]  >          |      |-  5     0.158     0.160     2.179     2.83e-02       na    \n"
       ]
      },
      {
       "output_type": "stream",
       "stream": "stdout",
       "text": [
        "[INFO    ] >>          |      \\_\n"
       ]
      },
      {
       "output_type": "stream",
       "stream": "stdout",
       "text": [
        "[INFO    ] !>          \\_    3.52e-03       na         5.10e-03     0.385\n"
       ]
      },
      {
       "output_type": "stream",
       "stream": "stderr",
       "text": [
        "[2014-05-23 14:23] DEBUG: PyPinT Logging: Work Loop: 234\n"
       ]
      },
      {
       "output_type": "stream",
       "stream": "stderr",
       "text": [
        "[2014-05-23 14:23] DEBUG: PyPinT Logging: Next Iteration\n"
       ]
      },
      {
       "output_type": "stream",
       "stream": "stderr",
       "text": [
        "[2014-05-23 14:23] DEBUG: PyPinT Logging: Starting New Solver Main Loop\n"
       ]
      },
      {
       "output_type": "stream",
       "stream": "stdout",
       "text": [
        "[INFO    ] !>        9\n"
       ]
      },
      {
       "output_type": "stream",
       "stream": "stdout",
       "text": [
        "[INFO    ] >>         \\\n"
       ]
      },
      {
       "output_type": "stream",
       "stream": "stdout",
       "text": [
        "[INFO    ] >>          |-   1     0.150     0.160     0.010\n"
       ]
      },
      {
       "output_type": "stream",
       "stream": "stdout",
       "text": [
        "[INFO    ]  >          |     \\\n"
       ]
      },
      {
       "output_type": "stream",
       "stream": "stdout",
       "text": [
        "[INFO    ]  >          |      |-  1      na       0.150     2.155       na           na    \n"
       ]
      },
      {
       "output_type": "stream",
       "stream": "stdout",
       "text": [
        "[INFO    ]  >          |      |-  2     0.150     0.152     2.159     5.06e-03       na    \n"
       ]
      },
      {
       "output_type": "stream",
       "stream": "stdout",
       "text": [
        "[INFO    ]  >          |      |-  3     0.152     0.155     2.167     1.50e-02       na    \n"
       ]
      },
      {
       "output_type": "stream",
       "stream": "stdout",
       "text": [
        "[INFO    ]  >          |      |-  4     0.155     0.158     2.175     2.31e-02       na    \n"
       ]
      },
      {
       "output_type": "stream",
       "stream": "stdout",
       "text": [
        "[INFO    ]  >          |      |-  5     0.158     0.160     2.179     2.83e-02       na    \n"
       ]
      },
      {
       "output_type": "stream",
       "stream": "stdout",
       "text": [
        "[INFO    ] >>          |      \\_\n"
       ]
      },
      {
       "output_type": "stream",
       "stream": "stdout",
       "text": [
        "[INFO    ] !>          \\_    5.92e-03       na         5.06e-03     0.443\n"
       ]
      },
      {
       "output_type": "stream",
       "stream": "stderr",
       "text": [
        "[2014-05-23 14:23] DEBUG: PyPinT Logging: Work Loop: 235\n"
       ]
      },
      {
       "output_type": "stream",
       "stream": "stderr",
       "text": [
        "[2014-05-23 14:23] DEBUG: PyPinT Logging: Next Iteration\n"
       ]
      },
      {
       "output_type": "stream",
       "stream": "stderr",
       "text": [
        "[2014-05-23 14:23] DEBUG: PyPinT Logging: Starting New Solver Main Loop\n"
       ]
      },
      {
       "output_type": "stream",
       "stream": "stdout",
       "text": [
        "[INFO    ] !>       10\n"
       ]
      },
      {
       "output_type": "stream",
       "stream": "stdout",
       "text": [
        "[INFO    ] >>         \\\n"
       ]
      },
      {
       "output_type": "stream",
       "stream": "stdout",
       "text": [
        "[INFO    ] >>          |-   1     0.150     0.160     0.010\n"
       ]
      },
      {
       "output_type": "stream",
       "stream": "stdout",
       "text": [
        "[INFO    ]  >          |     \\\n"
       ]
      },
      {
       "output_type": "stream",
       "stream": "stdout",
       "text": [
        "[INFO    ]  >          |      |-  1      na       0.150     2.155       na           na    \n"
       ]
      },
      {
       "output_type": "stream",
       "stream": "stdout",
       "text": [
        "[INFO    ]  >          |      |-  2     0.150     0.152     2.159     5.15e-03       na    \n"
       ]
      },
      {
       "output_type": "stream",
       "stream": "stdout",
       "text": [
        "[INFO    ]  >          |      |-  3     0.152     0.155     2.167     1.39e-02       na    \n"
       ]
      },
      {
       "output_type": "stream",
       "stream": "stdout",
       "text": [
        "[INFO    ]  >          |      |-  4     0.155     0.158     2.175     2.49e-02       na    \n"
       ]
      },
      {
       "output_type": "stream",
       "stream": "stdout",
       "text": [
        "[INFO    ]  >          |      |-  5     0.158     0.160     2.179     2.83e-02       na    \n"
       ]
      },
      {
       "output_type": "stream",
       "stream": "stdout",
       "text": [
        "[INFO    ] >>          |      \\_\n"
       ]
      },
      {
       "output_type": "stream",
       "stream": "stdout",
       "text": [
        "[INFO    ] !>          \\_    9.87e-03       na         5.15e-03     0.442\n"
       ]
      },
      {
       "output_type": "stream",
       "stream": "stderr",
       "text": [
        "[2014-05-23 14:23] DEBUG: PyPinT Logging: Work Loop: 236\n"
       ]
      },
      {
       "output_type": "stream",
       "stream": "stderr",
       "text": [
        "[2014-05-23 14:23] DEBUG: PyPinT Logging: Next Iteration\n"
       ]
      },
      {
       "output_type": "stream",
       "stream": "stderr",
       "text": [
        "[2014-05-23 14:23] DEBUG: PyPinT Logging: Starting New Solver Main Loop\n"
       ]
      },
      {
       "output_type": "stream",
       "stream": "stdout",
       "text": [
        "[INFO    ] !>       11\n"
       ]
      },
      {
       "output_type": "stream",
       "stream": "stdout",
       "text": [
        "[INFO    ] >>         \\\n"
       ]
      },
      {
       "output_type": "stream",
       "stream": "stdout",
       "text": [
        "[INFO    ] >>          |-   1     0.150     0.160     0.010\n"
       ]
      },
      {
       "output_type": "stream",
       "stream": "stdout",
       "text": [
        "[INFO    ]  >          |     \\\n"
       ]
      },
      {
       "output_type": "stream",
       "stream": "stdout",
       "text": [
        "[INFO    ]  >          |      |-  1      na       0.150     2.155       na           na    \n"
       ]
      },
      {
       "output_type": "stream",
       "stream": "stdout",
       "text": [
        "[INFO    ]  >          |      |-  2     0.150     0.152     2.159     4.95e-03       na    \n"
       ]
      },
      {
       "output_type": "stream",
       "stream": "stdout",
       "text": [
        "[INFO    ]  >          |      |-  3     0.152     0.155     2.167     1.60e-02       na    \n"
       ]
      },
      {
       "output_type": "stream",
       "stream": "stdout",
       "text": [
        "[INFO    ]  >          |      |-  4     0.155     0.158     2.175     2.14e-02       na    \n"
       ]
      },
      {
       "output_type": "stream",
       "stream": "stdout",
       "text": [
        "[INFO    ]  >          |      |-  5     0.158     0.160     2.179     2.84e-02       na    \n"
       ]
      },
      {
       "output_type": "stream",
       "stream": "stdout",
       "text": [
        "[INFO    ] >>          |      \\_\n"
       ]
      },
      {
       "output_type": "stream",
       "stream": "stdout",
       "text": [
        "[INFO    ] !>          \\_    1.58e-02       na         4.95e-03     0.501\n"
       ]
      },
      {
       "output_type": "stream",
       "stream": "stderr",
       "text": [
        "[2014-05-23 14:23] DEBUG: PyPinT Logging: Work Loop: 237\n"
       ]
      },
      {
       "output_type": "stream",
       "stream": "stderr",
       "text": [
        "[2014-05-23 14:23] DEBUG: PyPinT Logging: Next Iteration\n"
       ]
      },
      {
       "output_type": "stream",
       "stream": "stderr",
       "text": [
        "[2014-05-23 14:23] DEBUG: PyPinT Logging: Starting New Solver Main Loop\n"
       ]
      },
      {
       "output_type": "stream",
       "stream": "stdout",
       "text": [
        "[INFO    ] !>       12\n"
       ]
      },
      {
       "output_type": "stream",
       "stream": "stdout",
       "text": [
        "[INFO    ] >>         \\\n"
       ]
      },
      {
       "output_type": "stream",
       "stream": "stdout",
       "text": [
        "[INFO    ] >>          |-   1     0.150     0.160     0.010\n"
       ]
      },
      {
       "output_type": "stream",
       "stream": "stdout",
       "text": [
        "[INFO    ]  >          |     \\\n"
       ]
      },
      {
       "output_type": "stream",
       "stream": "stdout",
       "text": [
        "[INFO    ]  >          |      |-  1      na       0.150     2.155       na           na    \n"
       ]
      },
      {
       "output_type": "stream",
       "stream": "stdout",
       "text": [
        "[INFO    ]  >          |      |-  2     0.150     0.152     2.159     5.40e-03       na    \n"
       ]
      },
      {
       "output_type": "stream",
       "stream": "stdout",
       "text": [
        "[INFO    ]  >          |      |-  3     0.152     0.155     2.167     1.82e-02       na    \n"
       ]
      },
      {
       "output_type": "stream",
       "stream": "stdout",
       "text": [
        "[INFO    ]  >          |      |-  4     0.155     0.158     2.174     2.86e-02       na    \n"
       ]
      },
      {
       "output_type": "stream",
       "stream": "stdout",
       "text": [
        "[INFO    ]  >          |      |-  5     0.158     0.160     2.179     2.87e-02       na    \n"
       ]
      },
      {
       "output_type": "stream",
       "stream": "stdout",
       "text": [
        "[INFO    ] >>          |      \\_\n"
       ]
      },
      {
       "output_type": "stream",
       "stream": "stdout",
       "text": [
        "[INFO    ] !>          \\_    2.46e-02       na         5.40e-03     0.559\n"
       ]
      },
      {
       "output_type": "stream",
       "stream": "stderr",
       "text": [
        "[2014-05-23 14:23] DEBUG: PyPinT Logging: Work Loop: 238\n"
       ]
      },
      {
       "output_type": "stream",
       "stream": "stderr",
       "text": [
        "[2014-05-23 14:23] DEBUG: PyPinT Logging: Next Iteration\n"
       ]
      },
      {
       "output_type": "stream",
       "stream": "stderr",
       "text": [
        "[2014-05-23 14:23] DEBUG: PyPinT Logging: Starting New Solver Main Loop\n"
       ]
      },
      {
       "output_type": "stream",
       "stream": "stdout",
       "text": [
        "[INFO    ] !>       13\n"
       ]
      },
      {
       "output_type": "stream",
       "stream": "stdout",
       "text": [
        "[INFO    ] >>         \\\n"
       ]
      },
      {
       "output_type": "stream",
       "stream": "stdout",
       "text": [
        "[INFO    ] >>          |-   1     0.150     0.160     0.010\n"
       ]
      },
      {
       "output_type": "stream",
       "stream": "stdout",
       "text": [
        "[INFO    ]  >          |     \\\n"
       ]
      },
      {
       "output_type": "stream",
       "stream": "stdout",
       "text": [
        "[INFO    ]  >          |      |-  1      na       0.150     2.155       na           na    \n"
       ]
      },
      {
       "output_type": "stream",
       "stream": "stdout",
       "text": [
        "[INFO    ]  >          |      |-  2     0.150     0.152     2.159     9.29e-03       na    \n"
       ]
      },
      {
       "output_type": "stream",
       "stream": "stdout",
       "text": [
        "[INFO    ]  >          |      |-  3     0.152     0.155     2.167     3.13e-02       na    \n"
       ]
      },
      {
       "output_type": "stream",
       "stream": "stdout",
       "text": [
        "[INFO    ]  >          |      |-  4     0.155     0.158     2.176     5.38e-02       na    \n"
       ]
      },
      {
       "output_type": "stream",
       "stream": "stdout",
       "text": [
        "[INFO    ]  >          |      |-  5     0.158     0.160     2.180     4.47e-02       na    \n"
       ]
      },
      {
       "output_type": "stream",
       "stream": "stdout",
       "text": [
        "[INFO    ] >>          |      \\_\n"
       ]
      },
      {
       "output_type": "stream",
       "stream": "stdout",
       "text": [
        "[INFO    ] !>          \\_    3.52e-02       na         9.29e-03     0.618\n"
       ]
      },
      {
       "output_type": "stream",
       "stream": "stderr",
       "text": [
        "[2014-05-23 14:23] DEBUG: PyPinT Logging: Work Loop: 239\n"
       ]
      },
      {
       "output_type": "stream",
       "stream": "stderr",
       "text": [
        "[2014-05-23 14:23] DEBUG: PyPinT Logging: Next Iteration\n"
       ]
      },
      {
       "output_type": "stream",
       "stream": "stderr",
       "text": [
        "[2014-05-23 14:23] DEBUG: PyPinT Logging: Starting New Solver Main Loop\n"
       ]
      },
      {
       "output_type": "stream",
       "stream": "stdout",
       "text": [
        "[INFO    ] !>       14\n"
       ]
      },
      {
       "output_type": "stream",
       "stream": "stdout",
       "text": [
        "[INFO    ] >>         \\\n"
       ]
      },
      {
       "output_type": "stream",
       "stream": "stdout",
       "text": [
        "[INFO    ] >>          |-   1     0.150     0.160     0.010\n"
       ]
      },
      {
       "output_type": "stream",
       "stream": "stdout",
       "text": [
        "[INFO    ]  >          |     \\\n"
       ]
      },
      {
       "output_type": "stream",
       "stream": "stdout",
       "text": [
        "[INFO    ]  >          |      |-  1      na       0.150     2.155       na           na    \n"
       ]
      },
      {
       "output_type": "stream",
       "stream": "stdout",
       "text": [
        "[INFO    ]  >          |      |-  2     0.150     0.152     2.159     1.71e-02       na    \n"
       ]
      },
      {
       "output_type": "stream",
       "stream": "stdout",
       "text": [
        "[INFO    ]  >          |      |-  3     0.152     0.155     2.168     6.14e-02       na    \n"
       ]
      },
      {
       "output_type": "stream",
       "stream": "stdout",
       "text": [
        "[INFO    ]  >          |      |-  4     0.155     0.158     2.174     1.40e-01       na    \n"
       ]
      },
      {
       "output_type": "stream",
       "stream": "stdout",
       "text": [
        "[INFO    ]  >          |      |-  5     0.158     0.160     2.179     1.22e-01       na    \n"
       ]
      },
      {
       "output_type": "stream",
       "stream": "stdout",
       "text": [
        "[INFO    ] >>          |      \\_\n"
       ]
      },
      {
       "output_type": "stream",
       "stream": "stdout",
       "text": [
        "[INFO    ] !>          \\_    4.18e-02       na         1.71e-02     0.616\n"
       ]
      },
      {
       "output_type": "stream",
       "stream": "stderr",
       "text": [
        "[2014-05-23 14:23] DEBUG: PyPinT Logging: Work Loop: 240\n"
       ]
      },
      {
       "output_type": "stream",
       "stream": "stderr",
       "text": [
        "[2014-05-23 14:23] DEBUG: PyPinT Logging: Next Iteration\n"
       ]
      },
      {
       "output_type": "stream",
       "stream": "stderr",
       "text": [
        "[2014-05-23 14:23] DEBUG: PyPinT Logging: Starting New Solver Main Loop\n"
       ]
      },
      {
       "output_type": "stream",
       "stream": "stdout",
       "text": [
        "[INFO    ] !>       15\n"
       ]
      },
      {
       "output_type": "stream",
       "stream": "stdout",
       "text": [
        "[INFO    ] >>         \\\n"
       ]
      },
      {
       "output_type": "stream",
       "stream": "stdout",
       "text": [
        "[INFO    ] >>          |-   1     0.150     0.160     0.010\n"
       ]
      },
      {
       "output_type": "stream",
       "stream": "stdout",
       "text": [
        "[INFO    ]  >          |     \\\n"
       ]
      },
      {
       "output_type": "stream",
       "stream": "stdout",
       "text": [
        "[INFO    ]  >          |      |-  1      na       0.150     2.155       na           na    \n"
       ]
      },
      {
       "output_type": "stream",
       "stream": "stdout",
       "text": [
        "[INFO    ]  >          |      |-  2     0.150     0.152     2.159     3.44e-02       na    \n"
       ]
      },
      {
       "output_type": "stream",
       "stream": "stdout",
       "text": [
        "[INFO    ]  >          |      |-  3     0.152     0.155     2.166     1.35e-01       na    \n"
       ]
      },
      {
       "output_type": "stream",
       "stream": "stdout",
       "text": [
        "[INFO    ]  >          |      |-  4     0.155     0.158     2.176     3.04e-01       na    \n"
       ]
      },
      {
       "output_type": "stream",
       "stream": "stdout",
       "text": [
        "[INFO    ]  >          |      |-  5     0.158     0.160     2.180     3.05e-01       na    \n"
       ]
      },
      {
       "output_type": "stream",
       "stream": "stdout",
       "text": [
        "[INFO    ] >>          |      \\_\n"
       ]
      },
      {
       "output_type": "stream",
       "stream": "stderr",
       "text": [
        "[2014-05-23 14:23] DEBUG: PyPinT Logging: Maximum of iterations exceeded: 15 >= 15\n"
       ]
      },
      {
       "output_type": "stream",
       "stream": "stdout",
       "text": [
        "[INFO    ] !>          \\_    4.35e-02       na         3.44e-02     0.614\n"
       ]
      },
      {
       "output_type": "stream",
       "stream": "stdout",
       "text": [
        "[INFO    ] !>   Converged after 15 iteration(s):\n"
       ]
      },
      {
       "output_type": "stream",
       "stream": "stdout",
       "text": [
        "[INFO    ] !>     Threshold condition(s) met:    iterations\n"
       ]
      },
      {
       "output_type": "stream",
       "stream": "stdout",
       "text": [
        "[INFO    ] !>     Final Residual:                3.046e-01\n"
       ]
      },
      {
       "output_type": "stream",
       "stream": "stdout",
       "text": [
        "[INFO    ] !>     Solution Reduction:            4.347e-02\n"
       ]
      },
      {
       "output_type": "stream",
       "stream": "stderr",
       "text": [
        "[2014-05-23 14:23] DEBUG: PyPinT Logging: Work Loop: 241\n"
       ]
      },
      {
       "output_type": "stream",
       "stream": "stderr",
       "text": [
        "[2014-05-23 14:23] DEBUG: PyPinT Logging: Nodes: [0.16, 0.16172673164646012, 0.165, 0.1682732683535399, 0.17]\n"
       ]
      },
      {
       "output_type": "stream",
       "stream": "stderr",
       "text": [
        "[2014-05-23 14:23] DEBUG: PyPinT Logging: Nodes: [0.16, 0.16172673164646012, 0.165, 0.1682732683535399, 0.17]\n"
       ]
      },
      {
       "output_type": "stream",
       "stream": "stderr",
       "text": [
        "[2014-05-23 14:23] DEBUG: PyPinT Logging: New Interval Initialized\n"
       ]
      },
      {
       "output_type": "stream",
       "stream": "stdout",
       "text": [
        "[INFO    ] !> ................................................................................\n"
       ]
      },
      {
       "output_type": "stream",
       "stream": "stdout",
       "text": [
        "[INFO    ] !>   Interval: [0.160, 0.170]\n"
       ]
      },
      {
       "output_type": "stream",
       "stream": "stdout",
       "text": [
        "[INFO    ] !>    iter\n"
       ]
      },
      {
       "output_type": "stream",
       "stream": "stdout",
       "text": [
        "[INFO    ] >>         \\\n"
       ]
      },
      {
       "output_type": "stream",
       "stream": "stdout",
       "text": [
        "[INFO    ] >>          |- time    start     end        delta\n"
       ]
      },
      {
       "output_type": "stream",
       "stream": "stdout",
       "text": [
        "[INFO    ]  >          |     \\\n"
       ]
      },
      {
       "output_type": "stream",
       "stream": "stdout",
       "text": [
        "[INFO    ]  >          |      |- step    t_0      t_1       phi(t_1)    resid       err\n"
       ]
      },
      {
       "output_type": "stream",
       "stream": "stdout",
       "text": [
        "[INFO    ] >>          |      \\_\n"
       ]
      },
      {
       "output_type": "stream",
       "stream": "stdout",
       "text": [
        "[INFO    ] !>          \\_   sol r.red    err r.red      resid       time\n"
       ]
      },
      {
       "output_type": "stream",
       "stream": "stderr",
       "text": [
        "[2014-05-23 14:23] DEBUG: PyPinT Logging: Starting New Solver Main Loop\n"
       ]
      },
      {
       "output_type": "stream",
       "stream": "stdout",
       "text": [
        "[INFO    ] !>        1\n"
       ]
      },
      {
       "output_type": "stream",
       "stream": "stdout",
       "text": [
        "[INFO    ] >>         \\\n"
       ]
      },
      {
       "output_type": "stream",
       "stream": "stdout",
       "text": [
        "[INFO    ] >>          |-   1     0.160     0.170     0.010\n"
       ]
      },
      {
       "output_type": "stream",
       "stream": "stdout",
       "text": [
        "[INFO    ]  >          |     \\\n"
       ]
      },
      {
       "output_type": "stream",
       "stream": "stdout",
       "text": [
        "[INFO    ]  >          |      |-  1      na       0.160     2.179       na           na    \n"
       ]
      },
      {
       "output_type": "stream",
       "stream": "stdout",
       "text": [
        "[INFO    ]  >          |      |-  2     0.160     0.162     2.184     4.00e-03       na    \n"
       ]
      },
      {
       "output_type": "stream",
       "stream": "stdout",
       "text": [
        "[INFO    ]  >          |      |-  3     0.162     0.165     2.191     1.16e-02       na    \n"
       ]
      },
      {
       "output_type": "stream",
       "stream": "stdout",
       "text": [
        "[INFO    ]  >          |      |-  4     0.165     0.168     2.199     1.88e-02       na    \n"
       ]
      },
      {
       "output_type": "stream",
       "stream": "stdout",
       "text": [
        "[INFO    ]  >          |      |-  5     0.168     0.170     2.202     2.26e-02       na    \n"
       ]
      },
      {
       "output_type": "stream",
       "stream": "stdout",
       "text": [
        "[INFO    ] >>          |      \\_\n"
       ]
      },
      {
       "output_type": "stream",
       "stream": "stderr",
       "text": [
        "[2014-05-23 14:23] DEBUG: PyPinT Logging: Skipping computation of reduction: No previous iteration available.\n"
       ]
      },
      {
       "output_type": "stream",
       "stream": "stdout",
       "text": [
        "[INFO    ] !>          \\_      na           na           na         0.490\n"
       ]
      },
      {
       "output_type": "stream",
       "stream": "stderr",
       "text": [
        "[2014-05-23 14:23] DEBUG: PyPinT Logging: Work Loop: 242\n"
       ]
      },
      {
       "output_type": "stream",
       "stream": "stderr",
       "text": [
        "[2014-05-23 14:23] DEBUG: PyPinT Logging: Next Iteration\n"
       ]
      },
      {
       "output_type": "stream",
       "stream": "stderr",
       "text": [
        "[2014-05-23 14:23] DEBUG: PyPinT Logging: Starting New Solver Main Loop\n"
       ]
      },
      {
       "output_type": "stream",
       "stream": "stdout",
       "text": [
        "[INFO    ] !>        2\n"
       ]
      },
      {
       "output_type": "stream",
       "stream": "stdout",
       "text": [
        "[INFO    ] >>         \\\n"
       ]
      },
      {
       "output_type": "stream",
       "stream": "stdout",
       "text": [
        "[INFO    ] >>          |-   1     0.160     0.170     0.010\n"
       ]
      },
      {
       "output_type": "stream",
       "stream": "stdout",
       "text": [
        "[INFO    ]  >          |     \\\n"
       ]
      },
      {
       "output_type": "stream",
       "stream": "stdout",
       "text": [
        "[INFO    ]  >          |      |-  1      na       0.160     2.179       na           na    \n"
       ]
      },
      {
       "output_type": "stream",
       "stream": "stdout",
       "text": [
        "[INFO    ]  >          |      |-  2     0.160     0.162     2.184     4.22e-03       na    \n"
       ]
      },
      {
       "output_type": "stream",
       "stream": "stdout",
       "text": [
        "[INFO    ]  >          |      |-  3     0.162     0.165     2.191     1.24e-02       na    \n"
       ]
      },
      {
       "output_type": "stream",
       "stream": "stdout",
       "text": [
        "[INFO    ]  >          |      |-  4     0.165     0.168     2.198     2.01e-02       na    \n"
       ]
      },
      {
       "output_type": "stream",
       "stream": "stdout",
       "text": [
        "[INFO    ]  >          |      |-  5     0.168     0.170     2.202     2.41e-02       na    \n"
       ]
      },
      {
       "output_type": "stream",
       "stream": "stdout",
       "text": [
        "[INFO    ] >>          |      \\_\n"
       ]
      },
      {
       "output_type": "stream",
       "stream": "stdout",
       "text": [
        "[INFO    ] !>          \\_    1.64e-02       na         4.22e-03     0.441\n"
       ]
      },
      {
       "output_type": "stream",
       "stream": "stderr",
       "text": [
        "[2014-05-23 14:23] DEBUG: PyPinT Logging: Work Loop: 243\n"
       ]
      },
      {
       "output_type": "stream",
       "stream": "stderr",
       "text": [
        "[2014-05-23 14:23] DEBUG: PyPinT Logging: Next Iteration\n"
       ]
      },
      {
       "output_type": "stream",
       "stream": "stderr",
       "text": [
        "[2014-05-23 14:23] DEBUG: PyPinT Logging: Starting New Solver Main Loop\n"
       ]
      },
      {
       "output_type": "stream",
       "stream": "stdout",
       "text": [
        "[INFO    ] !>        3\n"
       ]
      },
      {
       "output_type": "stream",
       "stream": "stdout",
       "text": [
        "[INFO    ] >>         \\\n"
       ]
      },
      {
       "output_type": "stream",
       "stream": "stdout",
       "text": [
        "[INFO    ] >>          |-   1     0.160     0.170     0.010\n"
       ]
      },
      {
       "output_type": "stream",
       "stream": "stdout",
       "text": [
        "[INFO    ]  >          |     \\\n"
       ]
      },
      {
       "output_type": "stream",
       "stream": "stdout",
       "text": [
        "[INFO    ]  >          |      |-  1      na       0.160     2.179       na           na    \n"
       ]
      },
      {
       "output_type": "stream",
       "stream": "stdout",
       "text": [
        "[INFO    ]  >          |      |-  2     0.160     0.162     2.184     4.31e-03       na    \n"
       ]
      },
      {
       "output_type": "stream",
       "stream": "stdout",
       "text": [
        "[INFO    ]  >          |      |-  3     0.162     0.165     2.191     1.27e-02       na    \n"
       ]
      },
      {
       "output_type": "stream",
       "stream": "stdout",
       "text": [
        "[INFO    ]  >          |      |-  4     0.165     0.168     2.198     2.05e-02       na    \n"
       ]
      },
      {
       "output_type": "stream",
       "stream": "stdout",
       "text": [
        "[INFO    ]  >          |      |-  5     0.168     0.170     2.202     2.45e-02       na    \n"
       ]
      },
      {
       "output_type": "stream",
       "stream": "stdout",
       "text": [
        "[INFO    ] >>          |      \\_\n"
       ]
      },
      {
       "output_type": "stream",
       "stream": "stdout",
       "text": [
        "[INFO    ] !>          \\_    1.21e-03       na         4.31e-03     0.379\n"
       ]
      },
      {
       "output_type": "stream",
       "stream": "stderr",
       "text": [
        "[2014-05-23 14:23] DEBUG: PyPinT Logging: Work Loop: 244\n"
       ]
      },
      {
       "output_type": "stream",
       "stream": "stderr",
       "text": [
        "[2014-05-23 14:23] DEBUG: PyPinT Logging: Next Iteration\n"
       ]
      },
      {
       "output_type": "stream",
       "stream": "stderr",
       "text": [
        "[2014-05-23 14:23] DEBUG: PyPinT Logging: Starting New Solver Main Loop\n"
       ]
      },
      {
       "output_type": "stream",
       "stream": "stdout",
       "text": [
        "[INFO    ] !>        4\n"
       ]
      },
      {
       "output_type": "stream",
       "stream": "stdout",
       "text": [
        "[INFO    ] >>         \\\n"
       ]
      },
      {
       "output_type": "stream",
       "stream": "stdout",
       "text": [
        "[INFO    ] >>          |-   1     0.160     0.170     0.010\n"
       ]
      },
      {
       "output_type": "stream",
       "stream": "stdout",
       "text": [
        "[INFO    ]  >          |     \\\n"
       ]
      },
      {
       "output_type": "stream",
       "stream": "stdout",
       "text": [
        "[INFO    ]  >          |      |-  1      na       0.160     2.179       na           na    \n"
       ]
      },
      {
       "output_type": "stream",
       "stream": "stdout",
       "text": [
        "[INFO    ]  >          |      |-  2     0.160     0.162     2.184     4.34e-03       na    \n"
       ]
      },
      {
       "output_type": "stream",
       "stream": "stdout",
       "text": [
        "[INFO    ]  >          |      |-  3     0.162     0.165     2.191     1.27e-02       na    \n"
       ]
      },
      {
       "output_type": "stream",
       "stream": "stdout",
       "text": [
        "[INFO    ]  >          |      |-  4     0.165     0.168     2.198     2.06e-02       na    \n"
       ]
      },
      {
       "output_type": "stream",
       "stream": "stdout",
       "text": [
        "[INFO    ]  >          |      |-  5     0.168     0.170     2.202     2.46e-02       na    \n"
       ]
      },
      {
       "output_type": "stream",
       "stream": "stdout",
       "text": [
        "[INFO    ] >>          |      \\_\n"
       ]
      },
      {
       "output_type": "stream",
       "stream": "stdout",
       "text": [
        "[INFO    ] !>          \\_    3.35e-04       na         4.34e-03     0.324\n"
       ]
      },
      {
       "output_type": "stream",
       "stream": "stderr",
       "text": [
        "[2014-05-23 14:23] DEBUG: PyPinT Logging: Work Loop: 245\n"
       ]
      },
      {
       "output_type": "stream",
       "stream": "stderr",
       "text": [
        "[2014-05-23 14:23] DEBUG: PyPinT Logging: Next Iteration\n"
       ]
      },
      {
       "output_type": "stream",
       "stream": "stderr",
       "text": [
        "[2014-05-23 14:23] DEBUG: PyPinT Logging: Starting New Solver Main Loop\n"
       ]
      },
      {
       "output_type": "stream",
       "stream": "stdout",
       "text": [
        "[INFO    ] !>        5\n"
       ]
      },
      {
       "output_type": "stream",
       "stream": "stdout",
       "text": [
        "[INFO    ] >>         \\\n"
       ]
      },
      {
       "output_type": "stream",
       "stream": "stdout",
       "text": [
        "[INFO    ] >>          |-   1     0.160     0.170     0.010\n"
       ]
      },
      {
       "output_type": "stream",
       "stream": "stdout",
       "text": [
        "[INFO    ]  >          |     \\\n"
       ]
      },
      {
       "output_type": "stream",
       "stream": "stdout",
       "text": [
        "[INFO    ]  >          |      |-  1      na       0.160     2.179       na           na    \n"
       ]
      },
      {
       "output_type": "stream",
       "stream": "stdout",
       "text": [
        "[INFO    ]  >          |      |-  2     0.160     0.162     2.184     4.34e-03       na    \n"
       ]
      },
      {
       "output_type": "stream",
       "stream": "stdout",
       "text": [
        "[INFO    ]  >          |      |-  3     0.162     0.165     2.191     1.28e-02       na    \n"
       ]
      },
      {
       "output_type": "stream",
       "stream": "stdout",
       "text": [
        "[INFO    ]  >          |      |-  4     0.165     0.168     2.198     2.06e-02       na    \n"
       ]
      },
      {
       "output_type": "stream",
       "stream": "stdout",
       "text": [
        "[INFO    ]  >          |      |-  5     0.168     0.170     2.202     2.46e-02       na    \n"
       ]
      },
      {
       "output_type": "stream",
       "stream": "stdout",
       "text": [
        "[INFO    ] >>          |      \\_\n"
       ]
      },
      {
       "output_type": "stream",
       "stream": "stdout",
       "text": [
        "[INFO    ] !>          \\_    4.19e-04       na         4.34e-03     0.325\n"
       ]
      },
      {
       "output_type": "stream",
       "stream": "stderr",
       "text": [
        "[2014-05-23 14:23] DEBUG: PyPinT Logging: Work Loop: 246\n"
       ]
      },
      {
       "output_type": "stream",
       "stream": "stderr",
       "text": [
        "[2014-05-23 14:23] DEBUG: PyPinT Logging: Next Iteration\n"
       ]
      },
      {
       "output_type": "stream",
       "stream": "stderr",
       "text": [
        "[2014-05-23 14:23] DEBUG: PyPinT Logging: Starting New Solver Main Loop\n"
       ]
      },
      {
       "output_type": "stream",
       "stream": "stdout",
       "text": [
        "[INFO    ] !>        6\n"
       ]
      },
      {
       "output_type": "stream",
       "stream": "stdout",
       "text": [
        "[INFO    ] >>         \\\n"
       ]
      },
      {
       "output_type": "stream",
       "stream": "stdout",
       "text": [
        "[INFO    ] >>          |-   1     0.160     0.170     0.010\n"
       ]
      },
      {
       "output_type": "stream",
       "stream": "stdout",
       "text": [
        "[INFO    ]  >          |     \\\n"
       ]
      },
      {
       "output_type": "stream",
       "stream": "stdout",
       "text": [
        "[INFO    ]  >          |      |-  1      na       0.160     2.179       na           na    \n"
       ]
      },
      {
       "output_type": "stream",
       "stream": "stdout",
       "text": [
        "[INFO    ]  >          |      |-  2     0.160     0.162     2.184     4.36e-03       na    \n"
       ]
      },
      {
       "output_type": "stream",
       "stream": "stdout",
       "text": [
        "[INFO    ]  >          |      |-  3     0.162     0.165     2.191     1.27e-02       na    \n"
       ]
      },
      {
       "output_type": "stream",
       "stream": "stdout",
       "text": [
        "[INFO    ]  >          |      |-  4     0.165     0.168     2.198     2.07e-02       na    \n"
       ]
      },
      {
       "output_type": "stream",
       "stream": "stdout",
       "text": [
        "[INFO    ]  >          |      |-  5     0.168     0.170     2.202     2.46e-02       na    \n"
       ]
      },
      {
       "output_type": "stream",
       "stream": "stdout",
       "text": [
        "[INFO    ] >>          |      \\_\n"
       ]
      },
      {
       "output_type": "stream",
       "stream": "stdout",
       "text": [
        "[INFO    ] !>          \\_    7.35e-04       na         4.36e-03     0.379\n"
       ]
      },
      {
       "output_type": "stream",
       "stream": "stderr",
       "text": [
        "[2014-05-23 14:23] DEBUG: PyPinT Logging: Work Loop: 247\n"
       ]
      },
      {
       "output_type": "stream",
       "stream": "stderr",
       "text": [
        "[2014-05-23 14:23] DEBUG: PyPinT Logging: Next Iteration\n"
       ]
      },
      {
       "output_type": "stream",
       "stream": "stderr",
       "text": [
        "[2014-05-23 14:23] DEBUG: PyPinT Logging: Starting New Solver Main Loop\n"
       ]
      },
      {
       "output_type": "stream",
       "stream": "stdout",
       "text": [
        "[INFO    ] !>        7\n"
       ]
      },
      {
       "output_type": "stream",
       "stream": "stdout",
       "text": [
        "[INFO    ] >>         \\\n"
       ]
      },
      {
       "output_type": "stream",
       "stream": "stdout",
       "text": [
        "[INFO    ] >>          |-   1     0.160     0.170     0.010\n"
       ]
      },
      {
       "output_type": "stream",
       "stream": "stdout",
       "text": [
        "[INFO    ]  >          |     \\\n"
       ]
      },
      {
       "output_type": "stream",
       "stream": "stdout",
       "text": [
        "[INFO    ]  >          |      |-  1      na       0.160     2.179       na           na    \n"
       ]
      },
      {
       "output_type": "stream",
       "stream": "stdout",
       "text": [
        "[INFO    ]  >          |      |-  2     0.160     0.162     2.184     4.34e-03       na    \n"
       ]
      },
      {
       "output_type": "stream",
       "stream": "stdout",
       "text": [
        "[INFO    ]  >          |      |-  3     0.162     0.165     2.191     1.29e-02       na    \n"
       ]
      },
      {
       "output_type": "stream",
       "stream": "stdout",
       "text": [
        "[INFO    ]  >          |      |-  4     0.165     0.168     2.198     2.04e-02       na    \n"
       ]
      },
      {
       "output_type": "stream",
       "stream": "stdout",
       "text": [
        "[INFO    ]  >          |      |-  5     0.168     0.170     2.202     2.46e-02       na    \n"
       ]
      },
      {
       "output_type": "stream",
       "stream": "stdout",
       "text": [
        "[INFO    ] >>          |      \\_\n"
       ]
      },
      {
       "output_type": "stream",
       "stream": "stdout",
       "text": [
        "[INFO    ] !>          \\_    1.39e-03       na         4.34e-03     0.380\n"
       ]
      },
      {
       "output_type": "stream",
       "stream": "stderr",
       "text": [
        "[2014-05-23 14:23] DEBUG: PyPinT Logging: Work Loop: 248\n"
       ]
      },
      {
       "output_type": "stream",
       "stream": "stderr",
       "text": [
        "[2014-05-23 14:23] DEBUG: PyPinT Logging: Next Iteration\n"
       ]
      },
      {
       "output_type": "stream",
       "stream": "stderr",
       "text": [
        "[2014-05-23 14:23] DEBUG: PyPinT Logging: Starting New Solver Main Loop\n"
       ]
      },
      {
       "output_type": "stream",
       "stream": "stdout",
       "text": [
        "[INFO    ] !>        8\n"
       ]
      },
      {
       "output_type": "stream",
       "stream": "stdout",
       "text": [
        "[INFO    ] >>         \\\n"
       ]
      },
      {
       "output_type": "stream",
       "stream": "stdout",
       "text": [
        "[INFO    ] >>          |-   1     0.160     0.170     0.010\n"
       ]
      },
      {
       "output_type": "stream",
       "stream": "stdout",
       "text": [
        "[INFO    ]  >          |     \\\n"
       ]
      },
      {
       "output_type": "stream",
       "stream": "stdout",
       "text": [
        "[INFO    ]  >          |      |-  1      na       0.160     2.179       na           na    \n"
       ]
      },
      {
       "output_type": "stream",
       "stream": "stdout",
       "text": [
        "[INFO    ]  >          |      |-  2     0.160     0.162     2.183     4.39e-03       na    \n"
       ]
      },
      {
       "output_type": "stream",
       "stream": "stdout",
       "text": [
        "[INFO    ]  >          |      |-  3     0.162     0.165     2.191     1.26e-02       na    \n"
       ]
      },
      {
       "output_type": "stream",
       "stream": "stdout",
       "text": [
        "[INFO    ]  >          |      |-  4     0.165     0.168     2.198     2.10e-02       na    \n"
       ]
      },
      {
       "output_type": "stream",
       "stream": "stdout",
       "text": [
        "[INFO    ]  >          |      |-  5     0.168     0.170     2.202     2.46e-02       na    \n"
       ]
      },
      {
       "output_type": "stream",
       "stream": "stdout",
       "text": [
        "[INFO    ] >>          |      \\_\n"
       ]
      },
      {
       "output_type": "stream",
       "stream": "stdout",
       "text": [
        "[INFO    ] !>          \\_    2.45e-03       na         4.39e-03     0.376\n"
       ]
      },
      {
       "output_type": "stream",
       "stream": "stderr",
       "text": [
        "[2014-05-23 14:23] DEBUG: PyPinT Logging: Work Loop: 249\n"
       ]
      },
      {
       "output_type": "stream",
       "stream": "stderr",
       "text": [
        "[2014-05-23 14:23] DEBUG: PyPinT Logging: Next Iteration\n"
       ]
      },
      {
       "output_type": "stream",
       "stream": "stderr",
       "text": [
        "[2014-05-23 14:23] DEBUG: PyPinT Logging: Starting New Solver Main Loop\n"
       ]
      },
      {
       "output_type": "stream",
       "stream": "stdout",
       "text": [
        "[INFO    ] !>        9\n"
       ]
      },
      {
       "output_type": "stream",
       "stream": "stdout",
       "text": [
        "[INFO    ] >>         \\\n"
       ]
      },
      {
       "output_type": "stream",
       "stream": "stdout",
       "text": [
        "[INFO    ] >>          |-   1     0.160     0.170     0.010\n"
       ]
      },
      {
       "output_type": "stream",
       "stream": "stdout",
       "text": [
        "[INFO    ]  >          |     \\\n"
       ]
      },
      {
       "output_type": "stream",
       "stream": "stdout",
       "text": [
        "[INFO    ]  >          |      |-  1      na       0.160     2.179       na           na    \n"
       ]
      },
      {
       "output_type": "stream",
       "stream": "stdout",
       "text": [
        "[INFO    ]  >          |      |-  2     0.160     0.162     2.184     4.31e-03       na    \n"
       ]
      },
      {
       "output_type": "stream",
       "stream": "stdout",
       "text": [
        "[INFO    ]  >          |      |-  3     0.162     0.165     2.191     1.32e-02       na    \n"
       ]
      },
      {
       "output_type": "stream",
       "stream": "stdout",
       "text": [
        "[INFO    ]  >          |      |-  4     0.165     0.168     2.199     1.99e-02       na    \n"
       ]
      },
      {
       "output_type": "stream",
       "stream": "stdout",
       "text": [
        "[INFO    ]  >          |      |-  5     0.168     0.170     2.202     2.46e-02       na    \n"
       ]
      },
      {
       "output_type": "stream",
       "stream": "stdout",
       "text": [
        "[INFO    ] >>          |      \\_\n"
       ]
      },
      {
       "output_type": "stream",
       "stream": "stdout",
       "text": [
        "[INFO    ] !>          \\_    3.93e-03       na         4.31e-03     0.435\n"
       ]
      },
      {
       "output_type": "stream",
       "stream": "stderr",
       "text": [
        "[2014-05-23 14:23] DEBUG: PyPinT Logging: Work Loop: 250\n"
       ]
      },
      {
       "output_type": "stream",
       "stream": "stderr",
       "text": [
        "[2014-05-23 14:23] DEBUG: PyPinT Logging: Next Iteration\n"
       ]
      },
      {
       "output_type": "stream",
       "stream": "stderr",
       "text": [
        "[2014-05-23 14:23] DEBUG: PyPinT Logging: Starting New Solver Main Loop\n"
       ]
      },
      {
       "output_type": "stream",
       "stream": "stdout",
       "text": [
        "[INFO    ] !>       10\n"
       ]
      },
      {
       "output_type": "stream",
       "stream": "stdout",
       "text": [
        "[INFO    ] >>         \\\n"
       ]
      },
      {
       "output_type": "stream",
       "stream": "stdout",
       "text": [
        "[INFO    ] >>          |-   1     0.160     0.170     0.010\n"
       ]
      },
      {
       "output_type": "stream",
       "stream": "stdout",
       "text": [
        "[INFO    ]  >          |     \\\n"
       ]
      },
      {
       "output_type": "stream",
       "stream": "stdout",
       "text": [
        "[INFO    ]  >          |      |-  1      na       0.160     2.179       na           na    \n"
       ]
      },
      {
       "output_type": "stream",
       "stream": "stdout",
       "text": [
        "[INFO    ]  >          |      |-  2     0.160     0.162     2.183     4.49e-03       na    \n"
       ]
      },
      {
       "output_type": "stream",
       "stream": "stdout",
       "text": [
        "[INFO    ]  >          |      |-  3     0.162     0.165     2.191     1.19e-02       na    \n"
       ]
      },
      {
       "output_type": "stream",
       "stream": "stdout",
       "text": [
        "[INFO    ]  >          |      |-  4     0.165     0.168     2.197     2.21e-02       na    \n"
       ]
      },
      {
       "output_type": "stream",
       "stream": "stdout",
       "text": [
        "[INFO    ]  >          |      |-  5     0.168     0.170     2.202     2.46e-02       na    \n"
       ]
      },
      {
       "output_type": "stream",
       "stream": "stdout",
       "text": [
        "[INFO    ] >>          |      \\_\n"
       ]
      },
      {
       "output_type": "stream",
       "stream": "stdout",
       "text": [
        "[INFO    ] !>          \\_    6.36e-03       na         4.49e-03     0.438\n"
       ]
      },
      {
       "output_type": "stream",
       "stream": "stderr",
       "text": [
        "[2014-05-23 14:23] DEBUG: PyPinT Logging: Work Loop: 251\n"
       ]
      },
      {
       "output_type": "stream",
       "stream": "stderr",
       "text": [
        "[2014-05-23 14:23] DEBUG: PyPinT Logging: Next Iteration\n"
       ]
      },
      {
       "output_type": "stream",
       "stream": "stderr",
       "text": [
        "[2014-05-23 14:23] DEBUG: PyPinT Logging: Starting New Solver Main Loop\n"
       ]
      },
      {
       "output_type": "stream",
       "stream": "stdout",
       "text": [
        "[INFO    ] !>       11\n"
       ]
      },
      {
       "output_type": "stream",
       "stream": "stdout",
       "text": [
        "[INFO    ] >>         \\\n"
       ]
      },
      {
       "output_type": "stream",
       "stream": "stdout",
       "text": [
        "[INFO    ] >>          |-   1     0.160     0.170     0.010\n"
       ]
      },
      {
       "output_type": "stream",
       "stream": "stdout",
       "text": [
        "[INFO    ]  >          |     \\\n"
       ]
      },
      {
       "output_type": "stream",
       "stream": "stdout",
       "text": [
        "[INFO    ]  >          |      |-  1      na       0.160     2.179       na           na    \n"
       ]
      },
      {
       "output_type": "stream",
       "stream": "stdout",
       "text": [
        "[INFO    ]  >          |      |-  2     0.160     0.162     2.184     4.15e-03       na    \n"
       ]
      },
      {
       "output_type": "stream",
       "stream": "stdout",
       "text": [
        "[INFO    ]  >          |      |-  3     0.162     0.165     2.190     1.45e-02       na    \n"
       ]
      },
      {
       "output_type": "stream",
       "stream": "stdout",
       "text": [
        "[INFO    ]  >          |      |-  4     0.165     0.168     2.200     2.10e-02       na    \n"
       ]
      },
      {
       "output_type": "stream",
       "stream": "stdout",
       "text": [
        "[INFO    ]  >          |      |-  5     0.168     0.170     2.202     2.46e-02       na    \n"
       ]
      },
      {
       "output_type": "stream",
       "stream": "stdout",
       "text": [
        "[INFO    ] >>          |      \\_\n"
       ]
      },
      {
       "output_type": "stream",
       "stream": "stdout",
       "text": [
        "[INFO    ] !>          \\_    6.64e-03       na         4.15e-03     0.496\n"
       ]
      },
      {
       "output_type": "stream",
       "stream": "stderr",
       "text": [
        "[2014-05-23 14:23] DEBUG: PyPinT Logging: Work Loop: 252\n"
       ]
      },
      {
       "output_type": "stream",
       "stream": "stderr",
       "text": [
        "[2014-05-23 14:23] DEBUG: PyPinT Logging: Next Iteration\n"
       ]
      },
      {
       "output_type": "stream",
       "stream": "stderr",
       "text": [
        "[2014-05-23 14:23] DEBUG: PyPinT Logging: Starting New Solver Main Loop\n"
       ]
      },
      {
       "output_type": "stream",
       "stream": "stdout",
       "text": [
        "[INFO    ] !>       12\n"
       ]
      },
      {
       "output_type": "stream",
       "stream": "stdout",
       "text": [
        "[INFO    ] >>         \\\n"
       ]
      },
      {
       "output_type": "stream",
       "stream": "stdout",
       "text": [
        "[INFO    ] >>          |-   1     0.160     0.170     0.010\n"
       ]
      },
      {
       "output_type": "stream",
       "stream": "stdout",
       "text": [
        "[INFO    ]  >          |     \\\n"
       ]
      },
      {
       "output_type": "stream",
       "stream": "stdout",
       "text": [
        "[INFO    ]  >          |      |-  1      na       0.160     2.179       na           na    \n"
       ]
      },
      {
       "output_type": "stream",
       "stream": "stdout",
       "text": [
        "[INFO    ]  >          |      |-  2     0.160     0.162     2.183     6.63e-03       na    \n"
       ]
      },
      {
       "output_type": "stream",
       "stream": "stdout",
       "text": [
        "[INFO    ]  >          |      |-  3     0.162     0.165     2.192     2.41e-02       na    \n"
       ]
      },
      {
       "output_type": "stream",
       "stream": "stdout",
       "text": [
        "[INFO    ]  >          |      |-  4     0.165     0.168     2.195     4.26e-02       na    \n"
       ]
      },
      {
       "output_type": "stream",
       "stream": "stdout",
       "text": [
        "[INFO    ]  >          |      |-  5     0.168     0.170     2.202     2.51e-02       na    \n"
       ]
      },
      {
       "output_type": "stream",
       "stream": "stdout",
       "text": [
        "[INFO    ] >>          |      \\_\n"
       ]
      },
      {
       "output_type": "stream",
       "stream": "stdout",
       "text": [
        "[INFO    ] !>          \\_    8.44e-03       na         6.63e-03     0.551\n"
       ]
      },
      {
       "output_type": "stream",
       "stream": "stderr",
       "text": [
        "[2014-05-23 14:23] DEBUG: PyPinT Logging: Work Loop: 253\n"
       ]
      },
      {
       "output_type": "stream",
       "stream": "stderr",
       "text": [
        "[2014-05-23 14:23] DEBUG: PyPinT Logging: Next Iteration\n"
       ]
      },
      {
       "output_type": "stream",
       "stream": "stderr",
       "text": [
        "[2014-05-23 14:23] DEBUG: PyPinT Logging: Starting New Solver Main Loop\n"
       ]
      },
      {
       "output_type": "stream",
       "stream": "stdout",
       "text": [
        "[INFO    ] !>       13\n"
       ]
      },
      {
       "output_type": "stream",
       "stream": "stdout",
       "text": [
        "[INFO    ] >>         \\\n"
       ]
      },
      {
       "output_type": "stream",
       "stream": "stdout",
       "text": [
        "[INFO    ] >>          |-   1     0.160     0.170     0.010\n"
       ]
      },
      {
       "output_type": "stream",
       "stream": "stdout",
       "text": [
        "[INFO    ]  >          |     \\\n"
       ]
      },
      {
       "output_type": "stream",
       "stream": "stdout",
       "text": [
        "[INFO    ]  >          |      |-  1      na       0.160     2.179       na           na    \n"
       ]
      },
      {
       "output_type": "stream",
       "stream": "stdout",
       "text": [
        "[INFO    ]  >          |      |-  2     0.160     0.162     2.184     1.34e-02       na    \n"
       ]
      },
      {
       "output_type": "stream",
       "stream": "stdout",
       "text": [
        "[INFO    ]  >          |      |-  3     0.162     0.165     2.188     4.74e-02       na    \n"
       ]
      },
      {
       "output_type": "stream",
       "stream": "stdout",
       "text": [
        "[INFO    ]  >          |      |-  4     0.165     0.168     2.203     8.28e-02       na    \n"
       ]
      },
      {
       "output_type": "stream",
       "stream": "stdout",
       "text": [
        "[INFO    ]  >          |      |-  5     0.168     0.170     2.201     7.32e-02       na    \n"
       ]
      },
      {
       "output_type": "stream",
       "stream": "stdout",
       "text": [
        "[INFO    ] >>          |      \\_\n"
       ]
      },
      {
       "output_type": "stream",
       "stream": "stdout",
       "text": [
        "[INFO    ] !>          \\_    2.32e-02       na         1.34e-02     0.611\n"
       ]
      },
      {
       "output_type": "stream",
       "stream": "stderr",
       "text": [
        "[2014-05-23 14:23] DEBUG: PyPinT Logging: Work Loop: 254\n"
       ]
      },
      {
       "output_type": "stream",
       "stream": "stderr",
       "text": [
        "[2014-05-23 14:23] DEBUG: PyPinT Logging: Next Iteration\n"
       ]
      },
      {
       "output_type": "stream",
       "stream": "stderr",
       "text": [
        "[2014-05-23 14:23] DEBUG: PyPinT Logging: Starting New Solver Main Loop\n"
       ]
      },
      {
       "output_type": "stream",
       "stream": "stdout",
       "text": [
        "[INFO    ] !>       14\n"
       ]
      },
      {
       "output_type": "stream",
       "stream": "stdout",
       "text": [
        "[INFO    ] >>         \\\n"
       ]
      },
      {
       "output_type": "stream",
       "stream": "stdout",
       "text": [
        "[INFO    ] >>          |-   1     0.160     0.170     0.010\n"
       ]
      },
      {
       "output_type": "stream",
       "stream": "stdout",
       "text": [
        "[INFO    ]  >          |     \\\n"
       ]
      },
      {
       "output_type": "stream",
       "stream": "stdout",
       "text": [
        "[INFO    ]  >          |      |-  1      na       0.160     2.179       na           na    \n"
       ]
      },
      {
       "output_type": "stream",
       "stream": "stdout",
       "text": [
        "[INFO    ]  >          |      |-  2     0.160     0.162     2.183     2.48e-02       na    \n"
       ]
      },
      {
       "output_type": "stream",
       "stream": "stdout",
       "text": [
        "[INFO    ]  >          |      |-  3     0.162     0.165     2.196     9.34e-02       na    \n"
       ]
      },
      {
       "output_type": "stream",
       "stream": "stdout",
       "text": [
        "[INFO    ]  >          |      |-  4     0.165     0.168     2.188     2.19e-01       na    \n"
       ]
      },
      {
       "output_type": "stream",
       "stream": "stdout",
       "text": [
        "[INFO    ]  >          |      |-  5     0.168     0.170     2.202     2.17e-01       na    \n"
       ]
      },
      {
       "output_type": "stream",
       "stream": "stdout",
       "text": [
        "[INFO    ] >>          |      \\_\n"
       ]
      },
      {
       "output_type": "stream",
       "stream": "stdout",
       "text": [
        "[INFO    ] !>          \\_    3.79e-02       na         2.48e-02     0.611\n"
       ]
      },
      {
       "output_type": "stream",
       "stream": "stderr",
       "text": [
        "[2014-05-23 14:23] DEBUG: PyPinT Logging: Work Loop: 255\n"
       ]
      },
      {
       "output_type": "stream",
       "stream": "stderr",
       "text": [
        "[2014-05-23 14:23] DEBUG: PyPinT Logging: Next Iteration\n"
       ]
      },
      {
       "output_type": "stream",
       "stream": "stderr",
       "text": [
        "[2014-05-23 14:23] DEBUG: PyPinT Logging: Starting New Solver Main Loop\n"
       ]
      },
      {
       "output_type": "stream",
       "stream": "stdout",
       "text": [
        "[INFO    ] !>       15\n"
       ]
      },
      {
       "output_type": "stream",
       "stream": "stdout",
       "text": [
        "[INFO    ] >>         \\\n"
       ]
      },
      {
       "output_type": "stream",
       "stream": "stdout",
       "text": [
        "[INFO    ] >>          |-   1     0.160     0.170     0.010\n"
       ]
      },
      {
       "output_type": "stream",
       "stream": "stdout",
       "text": [
        "[INFO    ]  >          |     \\\n"
       ]
      },
      {
       "output_type": "stream",
       "stream": "stdout",
       "text": [
        "[INFO    ]  >          |      |-  1      na       0.160     2.179       na           na    \n"
       ]
      },
      {
       "output_type": "stream",
       "stream": "stdout",
       "text": [
        "[INFO    ]  >          |      |-  2     0.160     0.162     2.185     5.44e-02       na    \n"
       ]
      },
      {
       "output_type": "stream",
       "stream": "stdout",
       "text": [
        "[INFO    ]  >          |      |-  3     0.162     0.165     2.180     2.20e-01       na    \n"
       ]
      },
      {
       "output_type": "stream",
       "stream": "stdout",
       "text": [
        "[INFO    ]  >          |      |-  4     0.165     0.168     2.214     5.73e-01       na    \n"
       ]
      },
      {
       "output_type": "stream",
       "stream": "stdout",
       "text": [
        "[INFO    ]  >          |      |-  5     0.168     0.170     2.193     1.87e+00       na    \n"
       ]
      },
      {
       "output_type": "stream",
       "stream": "stdout",
       "text": [
        "[INFO    ] >>          |      \\_\n"
       ]
      },
      {
       "output_type": "stream",
       "stream": "stderr",
       "text": [
        "[2014-05-23 14:23] DEBUG: PyPinT Logging: Maximum of iterations exceeded: 15 >= 15\n"
       ]
      },
      {
       "output_type": "stream",
       "stream": "stdout",
       "text": [
        "[INFO    ] !>          \\_    4.13e-01       na         5.44e-02     0.678\n"
       ]
      },
      {
       "output_type": "stream",
       "stream": "stdout",
       "text": [
        "[INFO    ] !>   Converged after 15 iteration(s):\n"
       ]
      },
      {
       "output_type": "stream",
       "stream": "stdout",
       "text": [
        "[INFO    ] !>     Threshold condition(s) met:    iterations\n"
       ]
      },
      {
       "output_type": "stream",
       "stream": "stdout",
       "text": [
        "[INFO    ] !>     Final Residual:                1.873e+00\n"
       ]
      },
      {
       "output_type": "stream",
       "stream": "stdout",
       "text": [
        "[INFO    ] !>     Solution Reduction:            4.130e-01\n"
       ]
      },
      {
       "output_type": "stream",
       "stream": "stderr",
       "text": [
        "[2014-05-23 14:23] DEBUG: PyPinT Logging: Work Loop: 256\n"
       ]
      },
      {
       "output_type": "stream",
       "stream": "stderr",
       "text": [
        "[2014-05-23 14:23] DEBUG: PyPinT Logging: Nodes: [0.17, 0.17172673164646013, 0.17500000000000002, 0.1782732683535399, 0.18000000000000002]\n"
       ]
      },
      {
       "output_type": "stream",
       "stream": "stderr",
       "text": [
        "[2014-05-23 14:23] DEBUG: PyPinT Logging: Nodes: [0.17, 0.17172673164646013, 0.17500000000000002, 0.1782732683535399, 0.18000000000000002]\n"
       ]
      },
      {
       "output_type": "stream",
       "stream": "stderr",
       "text": [
        "[2014-05-23 14:23] DEBUG: PyPinT Logging: New Interval Initialized\n"
       ]
      },
      {
       "output_type": "stream",
       "stream": "stdout",
       "text": [
        "[INFO    ] !> ................................................................................\n"
       ]
      },
      {
       "output_type": "stream",
       "stream": "stdout",
       "text": [
        "[INFO    ] !>   Interval: [0.170, 0.180]\n"
       ]
      },
      {
       "output_type": "stream",
       "stream": "stdout",
       "text": [
        "[INFO    ] !>    iter\n"
       ]
      },
      {
       "output_type": "stream",
       "stream": "stdout",
       "text": [
        "[INFO    ] >>         \\\n"
       ]
      },
      {
       "output_type": "stream",
       "stream": "stdout",
       "text": [
        "[INFO    ] >>          |- time    start     end        delta\n"
       ]
      },
      {
       "output_type": "stream",
       "stream": "stdout",
       "text": [
        "[INFO    ]  >          |     \\\n"
       ]
      },
      {
       "output_type": "stream",
       "stream": "stdout",
       "text": [
        "[INFO    ]  >          |      |- step    t_0      t_1       phi(t_1)    resid       err\n"
       ]
      },
      {
       "output_type": "stream",
       "stream": "stdout",
       "text": [
        "[INFO    ] >>          |      \\_\n"
       ]
      },
      {
       "output_type": "stream",
       "stream": "stdout",
       "text": [
        "[INFO    ] !>          \\_   sol r.red    err r.red      resid       time\n"
       ]
      },
      {
       "output_type": "stream",
       "stream": "stderr",
       "text": [
        "[2014-05-23 14:23] DEBUG: PyPinT Logging: Starting New Solver Main Loop\n"
       ]
      },
      {
       "output_type": "stream",
       "stream": "stdout",
       "text": [
        "[INFO    ] !>        1\n"
       ]
      },
      {
       "output_type": "stream",
       "stream": "stdout",
       "text": [
        "[INFO    ] >>         \\\n"
       ]
      },
      {
       "output_type": "stream",
       "stream": "stdout",
       "text": [
        "[INFO    ] >>          |-   1     0.170     0.180     0.010\n"
       ]
      },
      {
       "output_type": "stream",
       "stream": "stdout",
       "text": [
        "[INFO    ]  >          |     \\\n"
       ]
      },
      {
       "output_type": "stream",
       "stream": "stdout",
       "text": [
        "[INFO    ]  >          |      |-  1      na       0.170     2.202       na           na    \n"
       ]
      },
      {
       "output_type": "stream",
       "stream": "stdout",
       "text": [
        "[INFO    ]  >          |      |-  2     0.170     0.172     2.206     3.47e-03       na    \n"
       ]
      },
      {
       "output_type": "stream",
       "stream": "stdout",
       "text": [
        "[INFO    ]  >          |      |-  3     0.172     0.175     2.213     1.03e-02       na    \n"
       ]
      },
      {
       "output_type": "stream",
       "stream": "stdout",
       "text": [
        "[INFO    ]  >          |      |-  4     0.175     0.178     2.219     1.70e-02       na    \n"
       ]
      },
      {
       "output_type": "stream",
       "stream": "stdout",
       "text": [
        "[INFO    ]  >          |      |-  5     0.178     0.180     2.223     2.04e-02       na    \n"
       ]
      },
      {
       "output_type": "stream",
       "stream": "stdout",
       "text": [
        "[INFO    ] >>          |      \\_\n"
       ]
      },
      {
       "output_type": "stream",
       "stream": "stderr",
       "text": [
        "[2014-05-23 14:23] DEBUG: PyPinT Logging: Skipping computation of reduction: No previous iteration available.\n"
       ]
      },
      {
       "output_type": "stream",
       "stream": "stdout",
       "text": [
        "[INFO    ] !>          \\_      na           na           na         0.484\n"
       ]
      },
      {
       "output_type": "stream",
       "stream": "stderr",
       "text": [
        "[2014-05-23 14:23] DEBUG: PyPinT Logging: Work Loop: 257\n"
       ]
      },
      {
       "output_type": "stream",
       "stream": "stderr",
       "text": [
        "[2014-05-23 14:23] DEBUG: PyPinT Logging: Next Iteration\n"
       ]
      },
      {
       "output_type": "stream",
       "stream": "stderr",
       "text": [
        "[2014-05-23 14:23] DEBUG: PyPinT Logging: Starting New Solver Main Loop\n"
       ]
      },
      {
       "output_type": "stream",
       "stream": "stdout",
       "text": [
        "[INFO    ] !>        2\n"
       ]
      },
      {
       "output_type": "stream",
       "stream": "stdout",
       "text": [
        "[INFO    ] >>         \\\n"
       ]
      },
      {
       "output_type": "stream",
       "stream": "stdout",
       "text": [
        "[INFO    ] >>          |-   1     0.170     0.180     0.010\n"
       ]
      },
      {
       "output_type": "stream",
       "stream": "stdout",
       "text": [
        "[INFO    ]  >          |     \\\n"
       ]
      },
      {
       "output_type": "stream",
       "stream": "stdout",
       "text": [
        "[INFO    ]  >          |      |-  1      na       0.170     2.202       na           na    \n"
       ]
      },
      {
       "output_type": "stream",
       "stream": "stdout",
       "text": [
        "[INFO    ]  >          |      |-  2     0.170     0.172     2.206     3.67e-03       na    \n"
       ]
      },
      {
       "output_type": "stream",
       "stream": "stdout",
       "text": [
        "[INFO    ]  >          |      |-  3     0.172     0.175     2.213     1.06e-02       na    \n"
       ]
      },
      {
       "output_type": "stream",
       "stream": "stdout",
       "text": [
        "[INFO    ]  >          |      |-  4     0.175     0.178     2.219     1.72e-02       na    \n"
       ]
      },
      {
       "output_type": "stream",
       "stream": "stdout",
       "text": [
        "[INFO    ]  >          |      |-  5     0.178     0.180     2.223     2.06e-02       na    \n"
       ]
      },
      {
       "output_type": "stream",
       "stream": "stdout",
       "text": [
        "[INFO    ] >>          |      \\_\n"
       ]
      },
      {
       "output_type": "stream",
       "stream": "stdout",
       "text": [
        "[INFO    ] !>          \\_    1.50e-02       na         3.67e-03     0.443\n"
       ]
      },
      {
       "output_type": "stream",
       "stream": "stderr",
       "text": [
        "[2014-05-23 14:23] DEBUG: PyPinT Logging: Work Loop: 258\n"
       ]
      },
      {
       "output_type": "stream",
       "stream": "stderr",
       "text": [
        "[2014-05-23 14:23] DEBUG: PyPinT Logging: Next Iteration\n"
       ]
      },
      {
       "output_type": "stream",
       "stream": "stderr",
       "text": [
        "[2014-05-23 14:23] DEBUG: PyPinT Logging: Starting New Solver Main Loop\n"
       ]
      },
      {
       "output_type": "stream",
       "stream": "stdout",
       "text": [
        "[INFO    ] !>        3\n"
       ]
      },
      {
       "output_type": "stream",
       "stream": "stdout",
       "text": [
        "[INFO    ] >>         \\\n"
       ]
      },
      {
       "output_type": "stream",
       "stream": "stdout",
       "text": [
        "[INFO    ] >>          |-   1     0.170     0.180     0.010\n"
       ]
      },
      {
       "output_type": "stream",
       "stream": "stdout",
       "text": [
        "[INFO    ]  >          |     \\\n"
       ]
      },
      {
       "output_type": "stream",
       "stream": "stdout",
       "text": [
        "[INFO    ]  >          |      |-  1      na       0.170     2.202       na           na    \n"
       ]
      },
      {
       "output_type": "stream",
       "stream": "stdout",
       "text": [
        "[INFO    ]  >          |      |-  2     0.170     0.172     2.206     3.75e-03       na    \n"
       ]
      },
      {
       "output_type": "stream",
       "stream": "stdout",
       "text": [
        "[INFO    ]  >          |      |-  3     0.172     0.175     2.213     1.09e-02       na    \n"
       ]
      },
      {
       "output_type": "stream",
       "stream": "stdout",
       "text": [
        "[INFO    ]  >          |      |-  4     0.175     0.178     2.219     1.76e-02       na    \n"
       ]
      },
      {
       "output_type": "stream",
       "stream": "stdout",
       "text": [
        "[INFO    ]  >          |      |-  5     0.178     0.180     2.223     2.10e-02       na    \n"
       ]
      },
      {
       "output_type": "stream",
       "stream": "stdout",
       "text": [
        "[INFO    ] >>          |      \\_\n"
       ]
      },
      {
       "output_type": "stream",
       "stream": "stdout",
       "text": [
        "[INFO    ] !>          \\_    1.01e-03       na         3.75e-03     0.380\n"
       ]
      },
      {
       "output_type": "stream",
       "stream": "stderr",
       "text": [
        "[2014-05-23 14:23] DEBUG: PyPinT Logging: Work Loop: 259\n"
       ]
      },
      {
       "output_type": "stream",
       "stream": "stderr",
       "text": [
        "[2014-05-23 14:23] DEBUG: PyPinT Logging: Next Iteration\n"
       ]
      },
      {
       "output_type": "stream",
       "stream": "stderr",
       "text": [
        "[2014-05-23 14:23] DEBUG: PyPinT Logging: Starting New Solver Main Loop\n"
       ]
      },
      {
       "output_type": "stream",
       "stream": "stdout",
       "text": [
        "[INFO    ] !>        4\n"
       ]
      },
      {
       "output_type": "stream",
       "stream": "stdout",
       "text": [
        "[INFO    ] >>         \\\n"
       ]
      },
      {
       "output_type": "stream",
       "stream": "stdout",
       "text": [
        "[INFO    ] >>          |-   1     0.170     0.180     0.010\n"
       ]
      },
      {
       "output_type": "stream",
       "stream": "stdout",
       "text": [
        "[INFO    ]  >          |     \\\n"
       ]
      },
      {
       "output_type": "stream",
       "stream": "stdout",
       "text": [
        "[INFO    ]  >          |      |-  1      na       0.170     2.202       na           na    \n"
       ]
      },
      {
       "output_type": "stream",
       "stream": "stdout",
       "text": [
        "[INFO    ]  >          |      |-  2     0.170     0.172     2.206     3.78e-03       na    \n"
       ]
      },
      {
       "output_type": "stream",
       "stream": "stdout",
       "text": [
        "[INFO    ]  >          |      |-  3     0.172     0.175     2.213     1.10e-02       na    \n"
       ]
      },
      {
       "output_type": "stream",
       "stream": "stdout",
       "text": [
        "[INFO    ]  >          |      |-  4     0.175     0.178     2.219     1.77e-02       na    \n"
       ]
      },
      {
       "output_type": "stream",
       "stream": "stdout",
       "text": [
        "[INFO    ]  >          |      |-  5     0.178     0.180     2.223     2.11e-02       na    \n"
       ]
      },
      {
       "output_type": "stream",
       "stream": "stdout",
       "text": [
        "[INFO    ] >>          |      \\_\n"
       ]
      },
      {
       "output_type": "stream",
       "stream": "stdout",
       "text": [
        "[INFO    ] !>          \\_    2.53e-05       na         3.78e-03     0.328\n"
       ]
      },
      {
       "output_type": "stream",
       "stream": "stderr",
       "text": [
        "[2014-05-23 14:23] DEBUG: PyPinT Logging: Work Loop: 260\n"
       ]
      },
      {
       "output_type": "stream",
       "stream": "stderr",
       "text": [
        "[2014-05-23 14:23] DEBUG: PyPinT Logging: Next Iteration\n"
       ]
      },
      {
       "output_type": "stream",
       "stream": "stderr",
       "text": [
        "[2014-05-23 14:23] DEBUG: PyPinT Logging: Starting New Solver Main Loop\n"
       ]
      },
      {
       "output_type": "stream",
       "stream": "stdout",
       "text": [
        "[INFO    ] !>        5\n"
       ]
      },
      {
       "output_type": "stream",
       "stream": "stdout",
       "text": [
        "[INFO    ] >>         \\\n"
       ]
      },
      {
       "output_type": "stream",
       "stream": "stdout",
       "text": [
        "[INFO    ] >>          |-   1     0.170     0.180     0.010\n"
       ]
      },
      {
       "output_type": "stream",
       "stream": "stdout",
       "text": [
        "[INFO    ]  >          |     \\\n"
       ]
      },
      {
       "output_type": "stream",
       "stream": "stdout",
       "text": [
        "[INFO    ]  >          |      |-  1      na       0.170     2.202       na           na    \n"
       ]
      },
      {
       "output_type": "stream",
       "stream": "stdout",
       "text": [
        "[INFO    ]  >          |      |-  2     0.170     0.172     2.206     3.78e-03       na    \n"
       ]
      },
      {
       "output_type": "stream",
       "stream": "stdout",
       "text": [
        "[INFO    ]  >          |      |-  3     0.172     0.175     2.213     1.11e-02       na    \n"
       ]
      },
      {
       "output_type": "stream",
       "stream": "stdout",
       "text": [
        "[INFO    ]  >          |      |-  4     0.175     0.178     2.219     1.77e-02       na    \n"
       ]
      },
      {
       "output_type": "stream",
       "stream": "stdout",
       "text": [
        "[INFO    ]  >          |      |-  5     0.178     0.180     2.223     2.11e-02       na    \n"
       ]
      },
      {
       "output_type": "stream",
       "stream": "stdout",
       "text": [
        "[INFO    ] >>          |      \\_\n"
       ]
      },
      {
       "output_type": "stream",
       "stream": "stdout",
       "text": [
        "[INFO    ] !>          \\_    1.86e-06       na         3.78e-03     0.381\n"
       ]
      },
      {
       "output_type": "stream",
       "stream": "stderr",
       "text": [
        "[2014-05-23 14:23] DEBUG: PyPinT Logging: Work Loop: 261\n"
       ]
      },
      {
       "output_type": "stream",
       "stream": "stderr",
       "text": [
        "[2014-05-23 14:23] DEBUG: PyPinT Logging: Next Iteration\n"
       ]
      },
      {
       "output_type": "stream",
       "stream": "stderr",
       "text": [
        "[2014-05-23 14:23] DEBUG: PyPinT Logging: Starting New Solver Main Loop\n"
       ]
      },
      {
       "output_type": "stream",
       "stream": "stdout",
       "text": [
        "[INFO    ] !>        6\n"
       ]
      },
      {
       "output_type": "stream",
       "stream": "stdout",
       "text": [
        "[INFO    ] >>         \\\n"
       ]
      },
      {
       "output_type": "stream",
       "stream": "stdout",
       "text": [
        "[INFO    ] >>          |-   1     0.170     0.180     0.010\n"
       ]
      },
      {
       "output_type": "stream",
       "stream": "stdout",
       "text": [
        "[INFO    ]  >          |     \\\n"
       ]
      },
      {
       "output_type": "stream",
       "stream": "stdout",
       "text": [
        "[INFO    ]  >          |      |-  1      na       0.170     2.202       na           na    \n"
       ]
      },
      {
       "output_type": "stream",
       "stream": "stdout",
       "text": [
        "[INFO    ]  >          |      |-  2     0.170     0.172     2.206     3.80e-03       na    \n"
       ]
      },
      {
       "output_type": "stream",
       "stream": "stdout",
       "text": [
        "[INFO    ]  >          |      |-  3     0.172     0.175     2.213     1.10e-02       na    \n"
       ]
      },
      {
       "output_type": "stream",
       "stream": "stdout",
       "text": [
        "[INFO    ]  >          |      |-  4     0.175     0.178     2.219     1.78e-02       na    \n"
       ]
      },
      {
       "output_type": "stream",
       "stream": "stdout",
       "text": [
        "[INFO    ]  >          |      |-  5     0.178     0.180     2.223     2.11e-02       na    \n"
       ]
      },
      {
       "output_type": "stream",
       "stream": "stdout",
       "text": [
        "[INFO    ] >>          |      \\_\n"
       ]
      },
      {
       "output_type": "stream",
       "stream": "stdout",
       "text": [
        "[INFO    ] !>          \\_    3.10e-05       na         3.80e-03     0.385\n"
       ]
      },
      {
       "output_type": "stream",
       "stream": "stderr",
       "text": [
        "[2014-05-23 14:23] DEBUG: PyPinT Logging: Work Loop: 262\n"
       ]
      },
      {
       "output_type": "stream",
       "stream": "stderr",
       "text": [
        "[2014-05-23 14:23] DEBUG: PyPinT Logging: Next Iteration\n"
       ]
      },
      {
       "output_type": "stream",
       "stream": "stderr",
       "text": [
        "[2014-05-23 14:23] DEBUG: PyPinT Logging: Starting New Solver Main Loop\n"
       ]
      },
      {
       "output_type": "stream",
       "stream": "stdout",
       "text": [
        "[INFO    ] !>        7\n"
       ]
      },
      {
       "output_type": "stream",
       "stream": "stdout",
       "text": [
        "[INFO    ] >>         \\\n"
       ]
      },
      {
       "output_type": "stream",
       "stream": "stdout",
       "text": [
        "[INFO    ] >>          |-   1     0.170     0.180     0.010\n"
       ]
      },
      {
       "output_type": "stream",
       "stream": "stdout",
       "text": [
        "[INFO    ]  >          |     \\\n"
       ]
      },
      {
       "output_type": "stream",
       "stream": "stdout",
       "text": [
        "[INFO    ]  >          |      |-  1      na       0.170     2.202       na           na    \n"
       ]
      },
      {
       "output_type": "stream",
       "stream": "stdout",
       "text": [
        "[INFO    ]  >          |      |-  2     0.170     0.172     2.206     3.78e-03       na    \n"
       ]
      },
      {
       "output_type": "stream",
       "stream": "stdout",
       "text": [
        "[INFO    ]  >          |      |-  3     0.172     0.175     2.213     1.12e-02       na    \n"
       ]
      },
      {
       "output_type": "stream",
       "stream": "stdout",
       "text": [
        "[INFO    ]  >          |      |-  4     0.175     0.178     2.219     1.75e-02       na    \n"
       ]
      },
      {
       "output_type": "stream",
       "stream": "stdout",
       "text": [
        "[INFO    ]  >          |      |-  5     0.178     0.180     2.223     2.10e-02       na    \n"
       ]
      },
      {
       "output_type": "stream",
       "stream": "stdout",
       "text": [
        "[INFO    ] >>          |      \\_\n"
       ]
      },
      {
       "output_type": "stream",
       "stream": "stdout",
       "text": [
        "[INFO    ] !>          \\_    4.01e-05       na         3.78e-03     0.382\n"
       ]
      },
      {
       "output_type": "stream",
       "stream": "stderr",
       "text": [
        "[2014-05-23 14:23] DEBUG: PyPinT Logging: Work Loop: 263\n"
       ]
      },
      {
       "output_type": "stream",
       "stream": "stderr",
       "text": [
        "[2014-05-23 14:23] DEBUG: PyPinT Logging: Next Iteration\n"
       ]
      },
      {
       "output_type": "stream",
       "stream": "stderr",
       "text": [
        "[2014-05-23 14:23] DEBUG: PyPinT Logging: Starting New Solver Main Loop\n"
       ]
      },
      {
       "output_type": "stream",
       "stream": "stdout",
       "text": [
        "[INFO    ] !>        8\n"
       ]
      },
      {
       "output_type": "stream",
       "stream": "stdout",
       "text": [
        "[INFO    ] >>         \\\n"
       ]
      },
      {
       "output_type": "stream",
       "stream": "stdout",
       "text": [
        "[INFO    ] >>          |-   1     0.170     0.180     0.010\n"
       ]
      },
      {
       "output_type": "stream",
       "stream": "stdout",
       "text": [
        "[INFO    ]  >          |     \\\n"
       ]
      },
      {
       "output_type": "stream",
       "stream": "stdout",
       "text": [
        "[INFO    ]  >          |      |-  1      na       0.170     2.202       na           na    \n"
       ]
      },
      {
       "output_type": "stream",
       "stream": "stdout",
       "text": [
        "[INFO    ]  >          |      |-  2     0.170     0.172     2.206     3.83e-03       na    \n"
       ]
      },
      {
       "output_type": "stream",
       "stream": "stdout",
       "text": [
        "[INFO    ]  >          |      |-  3     0.172     0.175     2.213     1.08e-02       na    \n"
       ]
      },
      {
       "output_type": "stream",
       "stream": "stdout",
       "text": [
        "[INFO    ]  >          |      |-  4     0.175     0.178     2.219     1.81e-02       na    \n"
       ]
      },
      {
       "output_type": "stream",
       "stream": "stdout",
       "text": [
        "[INFO    ]  >          |      |-  5     0.178     0.180     2.223     2.11e-02       na    \n"
       ]
      },
      {
       "output_type": "stream",
       "stream": "stdout",
       "text": [
        "[INFO    ] >>          |      \\_\n"
       ]
      },
      {
       "output_type": "stream",
       "stream": "stdout",
       "text": [
        "[INFO    ] !>          \\_    1.23e-04       na         3.83e-03     0.380\n"
       ]
      },
      {
       "output_type": "stream",
       "stream": "stderr",
       "text": [
        "[2014-05-23 14:23] DEBUG: PyPinT Logging: Work Loop: 264\n"
       ]
      },
      {
       "output_type": "stream",
       "stream": "stderr",
       "text": [
        "[2014-05-23 14:23] DEBUG: PyPinT Logging: Next Iteration\n"
       ]
      },
      {
       "output_type": "stream",
       "stream": "stderr",
       "text": [
        "[2014-05-23 14:23] DEBUG: PyPinT Logging: Starting New Solver Main Loop\n"
       ]
      },
      {
       "output_type": "stream",
       "stream": "stdout",
       "text": [
        "[INFO    ] !>        9\n"
       ]
      },
      {
       "output_type": "stream",
       "stream": "stdout",
       "text": [
        "[INFO    ] >>         \\\n"
       ]
      },
      {
       "output_type": "stream",
       "stream": "stdout",
       "text": [
        "[INFO    ] >>          |-   1     0.170     0.180     0.010\n"
       ]
      },
      {
       "output_type": "stream",
       "stream": "stdout",
       "text": [
        "[INFO    ]  >          |     \\\n"
       ]
      },
      {
       "output_type": "stream",
       "stream": "stdout",
       "text": [
        "[INFO    ]  >          |      |-  1      na       0.170     2.202       na           na    \n"
       ]
      },
      {
       "output_type": "stream",
       "stream": "stdout",
       "text": [
        "[INFO    ]  >          |      |-  2     0.170     0.172     2.206     3.72e-03       na    \n"
       ]
      },
      {
       "output_type": "stream",
       "stream": "stdout",
       "text": [
        "[INFO    ]  >          |      |-  3     0.172     0.175     2.212     1.15e-02       na    \n"
       ]
      },
      {
       "output_type": "stream",
       "stream": "stdout",
       "text": [
        "[INFO    ]  >          |      |-  4     0.175     0.178     2.220     1.76e-02       na    \n"
       ]
      },
      {
       "output_type": "stream",
       "stream": "stdout",
       "text": [
        "[INFO    ]  >          |      |-  5     0.178     0.180     2.223     2.10e-02       na    \n"
       ]
      },
      {
       "output_type": "stream",
       "stream": "stdout",
       "text": [
        "[INFO    ] >>          |      \\_\n"
       ]
      },
      {
       "output_type": "stream",
       "stream": "stdout",
       "text": [
        "[INFO    ] !>          \\_    1.87e-03       na         3.72e-03     0.440\n"
       ]
      },
      {
       "output_type": "stream",
       "stream": "stderr",
       "text": [
        "[2014-05-23 14:23] DEBUG: PyPinT Logging: Work Loop: 265\n"
       ]
      },
      {
       "output_type": "stream",
       "stream": "stderr",
       "text": [
        "[2014-05-23 14:23] DEBUG: PyPinT Logging: Next Iteration\n"
       ]
      },
      {
       "output_type": "stream",
       "stream": "stderr",
       "text": [
        "[2014-05-23 14:23] DEBUG: PyPinT Logging: Starting New Solver Main Loop\n"
       ]
      },
      {
       "output_type": "stream",
       "stream": "stdout",
       "text": [
        "[INFO    ] !>       10\n"
       ]
      },
      {
       "output_type": "stream",
       "stream": "stdout",
       "text": [
        "[INFO    ] >>         \\\n"
       ]
      },
      {
       "output_type": "stream",
       "stream": "stdout",
       "text": [
        "[INFO    ] >>          |-   1     0.170     0.180     0.010\n"
       ]
      },
      {
       "output_type": "stream",
       "stream": "stdout",
       "text": [
        "[INFO    ]  >          |     \\\n"
       ]
      },
      {
       "output_type": "stream",
       "stream": "stdout",
       "text": [
        "[INFO    ]  >          |      |-  1      na       0.170     2.202       na           na    \n"
       ]
      },
      {
       "output_type": "stream",
       "stream": "stdout",
       "text": [
        "[INFO    ]  >          |      |-  2     0.170     0.172     2.206     3.95e-03       na    \n"
       ]
      },
      {
       "output_type": "stream",
       "stream": "stdout",
       "text": [
        "[INFO    ]  >          |      |-  3     0.172     0.175     2.214     1.11e-02       na    \n"
       ]
      },
      {
       "output_type": "stream",
       "stream": "stdout",
       "text": [
        "[INFO    ]  >          |      |-  4     0.175     0.178     2.217     1.93e-02       na    \n"
       ]
      },
      {
       "output_type": "stream",
       "stream": "stdout",
       "text": [
        "[INFO    ]  >          |      |-  5     0.178     0.180     2.223     2.11e-02       na    \n"
       ]
      },
      {
       "output_type": "stream",
       "stream": "stdout",
       "text": [
        "[INFO    ] >>          |      \\_\n"
       ]
      },
      {
       "output_type": "stream",
       "stream": "stdout",
       "text": [
        "[INFO    ] !>          \\_    4.48e-03       na         3.95e-03     0.495\n"
       ]
      },
      {
       "output_type": "stream",
       "stream": "stderr",
       "text": [
        "[2014-05-23 14:23] DEBUG: PyPinT Logging: Work Loop: 266\n"
       ]
      },
      {
       "output_type": "stream",
       "stream": "stderr",
       "text": [
        "[2014-05-23 14:23] DEBUG: PyPinT Logging: Next Iteration\n"
       ]
      },
      {
       "output_type": "stream",
       "stream": "stderr",
       "text": [
        "[2014-05-23 14:23] DEBUG: PyPinT Logging: Starting New Solver Main Loop\n"
       ]
      },
      {
       "output_type": "stream",
       "stream": "stdout",
       "text": [
        "[INFO    ] !>       11\n"
       ]
      },
      {
       "output_type": "stream",
       "stream": "stdout",
       "text": [
        "[INFO    ] >>         \\\n"
       ]
      },
      {
       "output_type": "stream",
       "stream": "stdout",
       "text": [
        "[INFO    ] >>          |-   1     0.170     0.180     0.010\n"
       ]
      },
      {
       "output_type": "stream",
       "stream": "stdout",
       "text": [
        "[INFO    ]  >          |     \\\n"
       ]
      },
      {
       "output_type": "stream",
       "stream": "stdout",
       "text": [
        "[INFO    ]  >          |      |-  1      na       0.170     2.202       na           na    \n"
       ]
      },
      {
       "output_type": "stream",
       "stream": "stdout",
       "text": [
        "[INFO    ]  >          |      |-  2     0.170     0.172     2.206     4.26e-03       na    \n"
       ]
      },
      {
       "output_type": "stream",
       "stream": "stdout",
       "text": [
        "[INFO    ]  >          |      |-  3     0.172     0.175     2.211     1.61e-02       na    \n"
       ]
      },
      {
       "output_type": "stream",
       "stream": "stdout",
       "text": [
        "[INFO    ]  >          |      |-  4     0.175     0.178     2.223     2.55e-02       na    \n"
       ]
      },
      {
       "output_type": "stream",
       "stream": "stdout",
       "text": [
        "[INFO    ]  >          |      |-  5     0.178     0.180     2.222     2.25e-02       na    \n"
       ]
      },
      {
       "output_type": "stream",
       "stream": "stdout",
       "text": [
        "[INFO    ] >>          |      \\_\n"
       ]
      },
      {
       "output_type": "stream",
       "stream": "stdout",
       "text": [
        "[INFO    ] !>          \\_    2.74e-02       na         4.26e-03     0.556\n"
       ]
      },
      {
       "output_type": "stream",
       "stream": "stderr",
       "text": [
        "[2014-05-23 14:23] DEBUG: PyPinT Logging: Work Loop: 267\n"
       ]
      },
      {
       "output_type": "stream",
       "stream": "stderr",
       "text": [
        "[2014-05-23 14:23] DEBUG: PyPinT Logging: Next Iteration\n"
       ]
      },
      {
       "output_type": "stream",
       "stream": "stderr",
       "text": [
        "[2014-05-23 14:23] DEBUG: PyPinT Logging: Starting New Solver Main Loop\n"
       ]
      },
      {
       "output_type": "stream",
       "stream": "stdout",
       "text": [
        "[INFO    ] !>       12\n"
       ]
      },
      {
       "output_type": "stream",
       "stream": "stdout",
       "text": [
        "[INFO    ] >>         \\\n"
       ]
      },
      {
       "output_type": "stream",
       "stream": "stdout",
       "text": [
        "[INFO    ] >>          |-   1     0.170     0.180     0.010\n"
       ]
      },
      {
       "output_type": "stream",
       "stream": "stdout",
       "text": [
        "[INFO    ]  >          |     \\\n"
       ]
      },
      {
       "output_type": "stream",
       "stream": "stdout",
       "text": [
        "[INFO    ]  >          |      |-  1      na       0.170     2.202       na           na    \n"
       ]
      },
      {
       "output_type": "stream",
       "stream": "stdout",
       "text": [
        "[INFO    ]  >          |      |-  2     0.170     0.172     2.205     8.54e-03       na    \n"
       ]
      },
      {
       "output_type": "stream",
       "stream": "stdout",
       "text": [
        "[INFO    ]  >          |      |-  3     0.172     0.175     2.217     2.98e-02       na    \n"
       ]
      },
      {
       "output_type": "stream",
       "stream": "stdout",
       "text": [
        "[INFO    ]  >          |      |-  4     0.175     0.178     2.211     5.47e-02       na    \n"
       ]
      },
      {
       "output_type": "stream",
       "stream": "stdout",
       "text": [
        "[INFO    ]  >          |      |-  5     0.178     0.180     2.223     3.40e-02       na    \n"
       ]
      },
      {
       "output_type": "stream",
       "stream": "stdout",
       "text": [
        "[INFO    ] >>          |      \\_\n"
       ]
      },
      {
       "output_type": "stream",
       "stream": "stdout",
       "text": [
        "[INFO    ] !>          \\_    3.17e-02       na         8.54e-03     0.619\n"
       ]
      },
      {
       "output_type": "stream",
       "stream": "stderr",
       "text": [
        "[2014-05-23 14:23] DEBUG: PyPinT Logging: Work Loop: 268\n"
       ]
      },
      {
       "output_type": "stream",
       "stream": "stderr",
       "text": [
        "[2014-05-23 14:23] DEBUG: PyPinT Logging: Next Iteration\n"
       ]
      },
      {
       "output_type": "stream",
       "stream": "stderr",
       "text": [
        "[2014-05-23 14:23] DEBUG: PyPinT Logging: Starting New Solver Main Loop\n"
       ]
      },
      {
       "output_type": "stream",
       "stream": "stdout",
       "text": [
        "[INFO    ] !>       13\n"
       ]
      },
      {
       "output_type": "stream",
       "stream": "stdout",
       "text": [
        "[INFO    ] >>         \\\n"
       ]
      },
      {
       "output_type": "stream",
       "stream": "stdout",
       "text": [
        "[INFO    ] >>          |-   1     0.170     0.180     0.010\n"
       ]
      },
      {
       "output_type": "stream",
       "stream": "stdout",
       "text": [
        "[INFO    ]  >          |     \\\n"
       ]
      },
      {
       "output_type": "stream",
       "stream": "stdout",
       "text": [
        "[INFO    ]  >          |      |-  1      na       0.170     2.202       na           na    \n"
       ]
      },
      {
       "output_type": "stream",
       "stream": "stdout",
       "text": [
        "[INFO    ]  >          |      |-  2     0.170     0.172     2.207     1.67e-02       na    \n"
       ]
      },
      {
       "output_type": "stream",
       "stream": "stdout",
       "text": [
        "[INFO    ]  >          |      |-  3     0.172     0.175     2.204     6.13e-02       na    \n"
       ]
      },
      {
       "output_type": "stream",
       "stream": "stdout",
       "text": [
        "[INFO    ]  >          |      |-  4     0.175     0.178     2.234     1.08e-01       na    \n"
       ]
      },
      {
       "output_type": "stream",
       "stream": "stdout",
       "text": [
        "[INFO    ]  >          |      |-  5     0.178     0.180     2.216     9.72e-02       na    \n"
       ]
      },
      {
       "output_type": "stream",
       "stream": "stdout",
       "text": [
        "[INFO    ] >>          |      \\_\n"
       ]
      },
      {
       "output_type": "stream",
       "stream": "stdout",
       "text": [
        "[INFO    ] !>          \\_    3.09e-01       na         1.67e-02     0.615\n"
       ]
      },
      {
       "output_type": "stream",
       "stream": "stderr",
       "text": [
        "[2014-05-23 14:23] DEBUG: PyPinT Logging: Work Loop: 269\n"
       ]
      },
      {
       "output_type": "stream",
       "stream": "stderr",
       "text": [
        "[2014-05-23 14:23] DEBUG: PyPinT Logging: Next Iteration\n"
       ]
      },
      {
       "output_type": "stream",
       "stream": "stderr",
       "text": [
        "[2014-05-23 14:23] DEBUG: PyPinT Logging: Starting New Solver Main Loop\n"
       ]
      },
      {
       "output_type": "stream",
       "stream": "stdout",
       "text": [
        "[INFO    ] !>       14\n"
       ]
      },
      {
       "output_type": "stream",
       "stream": "stdout",
       "text": [
        "[INFO    ] >>         \\\n"
       ]
      },
      {
       "output_type": "stream",
       "stream": "stdout",
       "text": [
        "[INFO    ] >>          |-   1     0.170     0.180     0.010\n"
       ]
      },
      {
       "output_type": "stream",
       "stream": "stdout",
       "text": [
        "[INFO    ]  >          |     \\\n"
       ]
      },
      {
       "output_type": "stream",
       "stream": "stdout",
       "text": [
        "[INFO    ]  >          |      |-  1      na       0.170     2.202       na           na    \n"
       ]
      },
      {
       "output_type": "stream",
       "stream": "stdout",
       "text": [
        "[INFO    ]  >          |      |-  2     0.170     0.172     2.203     3.17e-02       na    \n"
       ]
      },
      {
       "output_type": "stream",
       "stream": "stdout",
       "text": [
        "[INFO    ]  >          |      |-  3     0.172     0.175     2.230     1.19e-01       na    \n"
       ]
      },
      {
       "output_type": "stream",
       "stream": "stdout",
       "text": [
        "[INFO    ]  >          |      |-  4     0.175     0.178     2.176     2.80e-01       na    \n"
       ]
      },
      {
       "output_type": "stream",
       "stream": "stdout",
       "text": [
        "[INFO    ]  >          |      |-  5     0.178     0.180     2.213     2.98e-01       na    \n"
       ]
      },
      {
       "output_type": "stream",
       "stream": "stdout",
       "text": [
        "[INFO    ] >>          |      \\_\n"
       ]
      },
      {
       "output_type": "stream",
       "stream": "stdout",
       "text": [
        "[INFO    ] !>          \\_    1.07e-01       na         3.17e-02     0.616\n"
       ]
      },
      {
       "output_type": "stream",
       "stream": "stderr",
       "text": [
        "[2014-05-23 14:23] DEBUG: PyPinT Logging: Work Loop: 270\n"
       ]
      },
      {
       "output_type": "stream",
       "stream": "stderr",
       "text": [
        "[2014-05-23 14:23] DEBUG: PyPinT Logging: Next Iteration\n"
       ]
      },
      {
       "output_type": "stream",
       "stream": "stderr",
       "text": [
        "[2014-05-23 14:23] DEBUG: PyPinT Logging: Starting New Solver Main Loop\n"
       ]
      },
      {
       "output_type": "stream",
       "stream": "stdout",
       "text": [
        "[INFO    ] !>       15\n"
       ]
      },
      {
       "output_type": "stream",
       "stream": "stdout",
       "text": [
        "[INFO    ] >>         \\\n"
       ]
      },
      {
       "output_type": "stream",
       "stream": "stdout",
       "text": [
        "[INFO    ] >>          |-   1     0.170     0.180     0.010\n"
       ]
      },
      {
       "output_type": "stream",
       "stream": "stdout",
       "text": [
        "[INFO    ]  >          |     \\\n"
       ]
      },
      {
       "output_type": "stream",
       "stream": "stdout",
       "text": [
        "[INFO    ]  >          |      |-  1      na       0.170     2.202       na           na    \n"
       ]
      },
      {
       "output_type": "stream",
       "stream": "stdout",
       "text": [
        "[INFO    ]  >          |      |-  2     0.170     0.172     2.213     7.52e-02       na    \n"
       ]
      },
      {
       "output_type": "stream",
       "stream": "stdout",
       "text": [
        "[INFO    ]  >          |      |-  3     0.172     0.175     2.170     3.20e-01       na    \n"
       ]
      },
      {
       "output_type": "stream",
       "stream": "stdout",
       "text": [
        "[INFO    ]  >          |      |-  4     0.175     0.178     2.261     1.07e+00       na    \n"
       ]
      },
      {
       "output_type": "stream",
       "stream": "stdout",
       "text": [
        "[INFO    ]  >          |      |-  5     0.178     0.180     23.117     2.32e+01       na    \n"
       ]
      },
      {
       "output_type": "stream",
       "stream": "stdout",
       "text": [
        "[INFO    ] >>          |      \\_\n"
       ]
      },
      {
       "output_type": "stream",
       "stream": "stderr",
       "text": [
        "[2014-05-23 14:23] DEBUG: PyPinT Logging: Maximum of iterations exceeded: 15 >= 15\n"
       ]
      },
      {
       "output_type": "stream",
       "stream": "stdout",
       "text": [
        "[INFO    ] !>          \\_    9.44e+02       na         7.52e-02     0.674\n"
       ]
      },
      {
       "output_type": "stream",
       "stream": "stdout",
       "text": [
        "[INFO    ] !>   Converged after 15 iteration(s):\n"
       ]
      },
      {
       "output_type": "stream",
       "stream": "stdout",
       "text": [
        "[INFO    ] !>     Threshold condition(s) met:    iterations\n"
       ]
      },
      {
       "output_type": "stream",
       "stream": "stdout",
       "text": [
        "[INFO    ] !>     Final Residual:                2.317e+01\n"
       ]
      },
      {
       "output_type": "stream",
       "stream": "stdout",
       "text": [
        "[INFO    ] !>     Solution Reduction:            9.444e+02\n"
       ]
      },
      {
       "output_type": "stream",
       "stream": "stderr",
       "text": [
        "[2014-05-23 14:23] DEBUG: PyPinT Logging: Work Loop: 271\n"
       ]
      },
      {
       "output_type": "stream",
       "stream": "stderr",
       "text": [
        "[2014-05-23 14:23] DEBUG: PyPinT Logging: Nodes: [0.18000000000000002, 0.18172673164646014, 0.18500000000000003, 0.1882732683535399, 0.19000000000000003]\n"
       ]
      },
      {
       "output_type": "stream",
       "stream": "stderr",
       "text": [
        "[2014-05-23 14:23] DEBUG: PyPinT Logging: Nodes: [0.18000000000000002, 0.18172673164646014, 0.18500000000000003, 0.1882732683535399, 0.19000000000000003]\n"
       ]
      },
      {
       "output_type": "stream",
       "stream": "stderr",
       "text": [
        "[2014-05-23 14:23] DEBUG: PyPinT Logging: New Interval Initialized\n"
       ]
      },
      {
       "output_type": "stream",
       "stream": "stdout",
       "text": [
        "[INFO    ] !> ................................................................................\n"
       ]
      },
      {
       "output_type": "stream",
       "stream": "stdout",
       "text": [
        "[INFO    ] !>   Interval: [0.180, 0.190]\n"
       ]
      },
      {
       "output_type": "stream",
       "stream": "stdout",
       "text": [
        "[INFO    ] !>    iter\n"
       ]
      },
      {
       "output_type": "stream",
       "stream": "stdout",
       "text": [
        "[INFO    ] >>         \\\n"
       ]
      },
      {
       "output_type": "stream",
       "stream": "stdout",
       "text": [
        "[INFO    ] >>          |- time    start     end        delta\n"
       ]
      },
      {
       "output_type": "stream",
       "stream": "stdout",
       "text": [
        "[INFO    ]  >          |     \\\n"
       ]
      },
      {
       "output_type": "stream",
       "stream": "stdout",
       "text": [
        "[INFO    ]  >          |      |- step    t_0      t_1       phi(t_1)    resid       err\n"
       ]
      },
      {
       "output_type": "stream",
       "stream": "stdout",
       "text": [
        "[INFO    ] >>          |      \\_\n"
       ]
      },
      {
       "output_type": "stream",
       "stream": "stdout",
       "text": [
        "[INFO    ] !>          \\_   sol r.red    err r.red      resid       time\n"
       ]
      },
      {
       "output_type": "stream",
       "stream": "stderr",
       "text": [
        "[2014-05-23 14:23] DEBUG: PyPinT Logging: Starting New Solver Main Loop\n"
       ]
      },
      {
       "output_type": "stream",
       "stream": "stdout",
       "text": [
        "[INFO    ] !>        1\n"
       ]
      },
      {
       "output_type": "stream",
       "stream": "stdout",
       "text": [
        "[INFO    ] >>         \\\n"
       ]
      },
      {
       "output_type": "stream",
       "stream": "stdout",
       "text": [
        "[INFO    ] >>          |-   1     0.180     0.190     0.010\n"
       ]
      },
      {
       "output_type": "stream",
       "stream": "stdout",
       "text": [
        "[INFO    ]  >          |     \\\n"
       ]
      },
      {
       "output_type": "stream",
       "stream": "stdout",
       "text": [
        "[INFO    ]  >          |      |-  1      na       0.180     2.223       na           na    \n"
       ]
      },
      {
       "output_type": "stream",
       "stream": "stdout",
       "text": [
        "[INFO    ]  >          |      |-  2     0.180     0.182     2.226     3.10e-03       na    \n"
       ]
      },
      {
       "output_type": "stream",
       "stream": "stdout",
       "text": [
        "[INFO    ]  >          |      |-  3     0.182     0.185     2.232     9.21e-03       na    \n"
       ]
      },
      {
       "output_type": "stream",
       "stream": "stdout",
       "text": [
        "[INFO    ]  >          |      |-  4     0.185     0.188     2.238     1.51e-02       na    \n"
       ]
      },
      {
       "output_type": "stream",
       "stream": "stdout",
       "text": [
        "[INFO    ]  >          |      |-  5     0.188     0.190     2.241     1.81e-02       na    \n"
       ]
      },
      {
       "output_type": "stream",
       "stream": "stdout",
       "text": [
        "[INFO    ] >>          |      \\_\n"
       ]
      },
      {
       "output_type": "stream",
       "stream": "stderr",
       "text": [
        "[2014-05-23 14:23] DEBUG: PyPinT Logging: Skipping computation of reduction: No previous iteration available.\n"
       ]
      },
      {
       "output_type": "stream",
       "stream": "stdout",
       "text": [
        "[INFO    ] !>          \\_      na           na           na         0.431\n"
       ]
      },
      {
       "output_type": "stream",
       "stream": "stderr",
       "text": [
        "[2014-05-23 14:23] DEBUG: PyPinT Logging: Work Loop: 272\n"
       ]
      },
      {
       "output_type": "stream",
       "stream": "stderr",
       "text": [
        "[2014-05-23 14:23] DEBUG: PyPinT Logging: Next Iteration\n"
       ]
      },
      {
       "output_type": "stream",
       "stream": "stderr",
       "text": [
        "[2014-05-23 14:23] DEBUG: PyPinT Logging: Starting New Solver Main Loop\n"
       ]
      },
      {
       "output_type": "stream",
       "stream": "stdout",
       "text": [
        "[INFO    ] !>        2\n"
       ]
      },
      {
       "output_type": "stream",
       "stream": "stdout",
       "text": [
        "[INFO    ] >>         \\\n"
       ]
      },
      {
       "output_type": "stream",
       "stream": "stdout",
       "text": [
        "[INFO    ] >>          |-   1     0.180     0.190     0.010\n"
       ]
      },
      {
       "output_type": "stream",
       "stream": "stdout",
       "text": [
        "[INFO    ]  >          |     \\\n"
       ]
      },
      {
       "output_type": "stream",
       "stream": "stdout",
       "text": [
        "[INFO    ]  >          |      |-  1      na       0.180     2.223       na           na    \n"
       ]
      },
      {
       "output_type": "stream",
       "stream": "stdout",
       "text": [
        "[INFO    ]  >          |      |-  2     0.180     0.182     2.226     3.16e-03       na    \n"
       ]
      },
      {
       "output_type": "stream",
       "stream": "stdout",
       "text": [
        "[INFO    ]  >          |      |-  3     0.182     0.185     2.232     9.10e-03       na    \n"
       ]
      },
      {
       "output_type": "stream",
       "stream": "stdout",
       "text": [
        "[INFO    ]  >          |      |-  4     0.185     0.188     2.238     1.48e-02       na    \n"
       ]
      },
      {
       "output_type": "stream",
       "stream": "stdout",
       "text": [
        "[INFO    ]  >          |      |-  5     0.188     0.190     2.241     1.78e-02       na    \n"
       ]
      },
      {
       "output_type": "stream",
       "stream": "stdout",
       "text": [
        "[INFO    ] >>          |      \\_\n"
       ]
      },
      {
       "output_type": "stream",
       "stream": "stdout",
       "text": [
        "[INFO    ] !>          \\_    1.33e-02       na         3.16e-03     0.439\n"
       ]
      },
      {
       "output_type": "stream",
       "stream": "stderr",
       "text": [
        "[2014-05-23 14:23] DEBUG: PyPinT Logging: Work Loop: 273\n"
       ]
      },
      {
       "output_type": "stream",
       "stream": "stderr",
       "text": [
        "[2014-05-23 14:23] DEBUG: PyPinT Logging: Next Iteration\n"
       ]
      },
      {
       "output_type": "stream",
       "stream": "stderr",
       "text": [
        "[2014-05-23 14:23] DEBUG: PyPinT Logging: Starting New Solver Main Loop\n"
       ]
      },
      {
       "output_type": "stream",
       "stream": "stdout",
       "text": [
        "[INFO    ] !>        3\n"
       ]
      },
      {
       "output_type": "stream",
       "stream": "stdout",
       "text": [
        "[INFO    ] >>         \\\n"
       ]
      },
      {
       "output_type": "stream",
       "stream": "stdout",
       "text": [
        "[INFO    ] >>          |-   1     0.180     0.190     0.010\n"
       ]
      },
      {
       "output_type": "stream",
       "stream": "stdout",
       "text": [
        "[INFO    ]  >          |     \\\n"
       ]
      },
      {
       "output_type": "stream",
       "stream": "stdout",
       "text": [
        "[INFO    ]  >          |      |-  1      na       0.180     2.223       na           na    \n"
       ]
      },
      {
       "output_type": "stream",
       "stream": "stdout",
       "text": [
        "[INFO    ]  >          |      |-  2     0.180     0.182     2.226     3.24e-03       na    \n"
       ]
      },
      {
       "output_type": "stream",
       "stream": "stdout",
       "text": [
        "[INFO    ]  >          |      |-  3     0.182     0.185     2.232     9.37e-03       na    \n"
       ]
      },
      {
       "output_type": "stream",
       "stream": "stdout",
       "text": [
        "[INFO    ]  >          |      |-  4     0.185     0.188     2.238     1.50e-02       na    \n"
       ]
      },
      {
       "output_type": "stream",
       "stream": "stdout",
       "text": [
        "[INFO    ]  >          |      |-  5     0.188     0.190     2.241     1.79e-02       na    \n"
       ]
      },
      {
       "output_type": "stream",
       "stream": "stdout",
       "text": [
        "[INFO    ] >>          |      \\_\n"
       ]
      },
      {
       "output_type": "stream",
       "stream": "stdout",
       "text": [
        "[INFO    ] !>          \\_    7.89e-04       na         3.24e-03     0.385\n"
       ]
      },
      {
       "output_type": "stream",
       "stream": "stderr",
       "text": [
        "[2014-05-23 14:23] DEBUG: PyPinT Logging: Work Loop: 274\n"
       ]
      },
      {
       "output_type": "stream",
       "stream": "stderr",
       "text": [
        "[2014-05-23 14:23] DEBUG: PyPinT Logging: Next Iteration\n"
       ]
      },
      {
       "output_type": "stream",
       "stream": "stderr",
       "text": [
        "[2014-05-23 14:23] DEBUG: PyPinT Logging: Starting New Solver Main Loop\n"
       ]
      },
      {
       "output_type": "stream",
       "stream": "stdout",
       "text": [
        "[INFO    ] !>        4\n"
       ]
      },
      {
       "output_type": "stream",
       "stream": "stdout",
       "text": [
        "[INFO    ] >>         \\\n"
       ]
      },
      {
       "output_type": "stream",
       "stream": "stdout",
       "text": [
        "[INFO    ] >>          |-   1     0.180     0.190     0.010\n"
       ]
      },
      {
       "output_type": "stream",
       "stream": "stdout",
       "text": [
        "[INFO    ]  >          |     \\\n"
       ]
      },
      {
       "output_type": "stream",
       "stream": "stdout",
       "text": [
        "[INFO    ]  >          |      |-  1      na       0.180     2.223       na           na    \n"
       ]
      },
      {
       "output_type": "stream",
       "stream": "stdout",
       "text": [
        "[INFO    ]  >          |      |-  2     0.180     0.182     2.226     3.27e-03       na    \n"
       ]
      },
      {
       "output_type": "stream",
       "stream": "stdout",
       "text": [
        "[INFO    ]  >          |      |-  3     0.182     0.185     2.232     9.41e-03       na    \n"
       ]
      },
      {
       "output_type": "stream",
       "stream": "stdout",
       "text": [
        "[INFO    ]  >          |      |-  4     0.185     0.188     2.238     1.51e-02       na    \n"
       ]
      },
      {
       "output_type": "stream",
       "stream": "stdout",
       "text": [
        "[INFO    ]  >          |      |-  5     0.188     0.190     2.241     1.80e-02       na    \n"
       ]
      },
      {
       "output_type": "stream",
       "stream": "stdout",
       "text": [
        "[INFO    ] >>          |      \\_\n"
       ]
      },
      {
       "output_type": "stream",
       "stream": "stdout",
       "text": [
        "[INFO    ] !>          \\_    2.24e-04       na         3.27e-03     0.333\n"
       ]
      },
      {
       "output_type": "stream",
       "stream": "stderr",
       "text": [
        "[2014-05-23 14:23] DEBUG: PyPinT Logging: Work Loop: 275\n"
       ]
      },
      {
       "output_type": "stream",
       "stream": "stderr",
       "text": [
        "[2014-05-23 14:23] DEBUG: PyPinT Logging: Next Iteration\n"
       ]
      },
      {
       "output_type": "stream",
       "stream": "stderr",
       "text": [
        "[2014-05-23 14:23] DEBUG: PyPinT Logging: Starting New Solver Main Loop\n"
       ]
      },
      {
       "output_type": "stream",
       "stream": "stdout",
       "text": [
        "[INFO    ] !>        5\n"
       ]
      },
      {
       "output_type": "stream",
       "stream": "stdout",
       "text": [
        "[INFO    ] >>         \\\n"
       ]
      },
      {
       "output_type": "stream",
       "stream": "stdout",
       "text": [
        "[INFO    ] >>          |-   1     0.180     0.190     0.010\n"
       ]
      },
      {
       "output_type": "stream",
       "stream": "stdout",
       "text": [
        "[INFO    ]  >          |     \\\n"
       ]
      },
      {
       "output_type": "stream",
       "stream": "stdout",
       "text": [
        "[INFO    ]  >          |      |-  1      na       0.180     2.223       na           na    \n"
       ]
      },
      {
       "output_type": "stream",
       "stream": "stdout",
       "text": [
        "[INFO    ]  >          |      |-  2     0.180     0.182     2.226     3.27e-03       na    \n"
       ]
      },
      {
       "output_type": "stream",
       "stream": "stdout",
       "text": [
        "[INFO    ]  >          |      |-  3     0.182     0.185     2.232     9.49e-03       na    \n"
       ]
      },
      {
       "output_type": "stream",
       "stream": "stdout",
       "text": [
        "[INFO    ]  >          |      |-  4     0.185     0.188     2.238     1.51e-02       na    \n"
       ]
      },
      {
       "output_type": "stream",
       "stream": "stdout",
       "text": [
        "[INFO    ]  >          |      |-  5     0.188     0.190     2.241     1.80e-02       na    \n"
       ]
      },
      {
       "output_type": "stream",
       "stream": "stdout",
       "text": [
        "[INFO    ] >>          |      \\_\n"
       ]
      },
      {
       "output_type": "stream",
       "stream": "stdout",
       "text": [
        "[INFO    ] !>          \\_    4.45e-04       na         3.27e-03     0.385\n"
       ]
      },
      {
       "output_type": "stream",
       "stream": "stderr",
       "text": [
        "[2014-05-23 14:23] DEBUG: PyPinT Logging: Work Loop: 276\n"
       ]
      },
      {
       "output_type": "stream",
       "stream": "stderr",
       "text": [
        "[2014-05-23 14:23] DEBUG: PyPinT Logging: Next Iteration\n"
       ]
      },
      {
       "output_type": "stream",
       "stream": "stderr",
       "text": [
        "[2014-05-23 14:23] DEBUG: PyPinT Logging: Starting New Solver Main Loop\n"
       ]
      },
      {
       "output_type": "stream",
       "stream": "stdout",
       "text": [
        "[INFO    ] !>        6\n"
       ]
      },
      {
       "output_type": "stream",
       "stream": "stdout",
       "text": [
        "[INFO    ] >>         \\\n"
       ]
      },
      {
       "output_type": "stream",
       "stream": "stdout",
       "text": [
        "[INFO    ] >>          |-   1     0.180     0.190     0.010\n"
       ]
      },
      {
       "output_type": "stream",
       "stream": "stdout",
       "text": [
        "[INFO    ]  >          |     \\\n"
       ]
      },
      {
       "output_type": "stream",
       "stream": "stdout",
       "text": [
        "[INFO    ]  >          |      |-  1      na       0.180     2.223       na           na    \n"
       ]
      },
      {
       "output_type": "stream",
       "stream": "stdout",
       "text": [
        "[INFO    ]  >          |      |-  2     0.180     0.182     2.226     3.29e-03       na    \n"
       ]
      },
      {
       "output_type": "stream",
       "stream": "stdout",
       "text": [
        "[INFO    ]  >          |      |-  3     0.182     0.185     2.232     9.40e-03       na    \n"
       ]
      },
      {
       "output_type": "stream",
       "stream": "stdout",
       "text": [
        "[INFO    ]  >          |      |-  4     0.185     0.188     2.238     1.52e-02       na    \n"
       ]
      },
      {
       "output_type": "stream",
       "stream": "stdout",
       "text": [
        "[INFO    ]  >          |      |-  5     0.188     0.190     2.241     1.80e-02       na    \n"
       ]
      },
      {
       "output_type": "stream",
       "stream": "stdout",
       "text": [
        "[INFO    ] >>          |      \\_\n"
       ]
      },
      {
       "output_type": "stream",
       "stream": "stdout",
       "text": [
        "[INFO    ] !>          \\_    9.15e-04       na         3.29e-03     0.389\n"
       ]
      },
      {
       "output_type": "stream",
       "stream": "stderr",
       "text": [
        "[2014-05-23 14:23] DEBUG: PyPinT Logging: Work Loop: 277\n"
       ]
      },
      {
       "output_type": "stream",
       "stream": "stderr",
       "text": [
        "[2014-05-23 14:23] DEBUG: PyPinT Logging: Next Iteration\n"
       ]
      },
      {
       "output_type": "stream",
       "stream": "stderr",
       "text": [
        "[2014-05-23 14:23] DEBUG: PyPinT Logging: Starting New Solver Main Loop\n"
       ]
      },
      {
       "output_type": "stream",
       "stream": "stdout",
       "text": [
        "[INFO    ] !>        7\n"
       ]
      },
      {
       "output_type": "stream",
       "stream": "stdout",
       "text": [
        "[INFO    ] >>         \\\n"
       ]
      },
      {
       "output_type": "stream",
       "stream": "stdout",
       "text": [
        "[INFO    ] >>          |-   1     0.180     0.190     0.010\n"
       ]
      },
      {
       "output_type": "stream",
       "stream": "stdout",
       "text": [
        "[INFO    ]  >          |     \\\n"
       ]
      },
      {
       "output_type": "stream",
       "stream": "stdout",
       "text": [
        "[INFO    ]  >          |      |-  1      na       0.180     2.223       na           na    \n"
       ]
      },
      {
       "output_type": "stream",
       "stream": "stdout",
       "text": [
        "[INFO    ]  >          |      |-  2     0.180     0.182     2.226     3.26e-03       na    \n"
       ]
      },
      {
       "output_type": "stream",
       "stream": "stdout",
       "text": [
        "[INFO    ]  >          |      |-  3     0.182     0.185     2.232     9.58e-03       na    \n"
       ]
      },
      {
       "output_type": "stream",
       "stream": "stdout",
       "text": [
        "[INFO    ]  >          |      |-  4     0.185     0.188     2.238     1.52e-02       na    \n"
       ]
      },
      {
       "output_type": "stream",
       "stream": "stdout",
       "text": [
        "[INFO    ]  >          |      |-  5     0.188     0.190     2.241     1.80e-02       na    \n"
       ]
      },
      {
       "output_type": "stream",
       "stream": "stdout",
       "text": [
        "[INFO    ] >>          |      \\_\n"
       ]
      },
      {
       "output_type": "stream",
       "stream": "stdout",
       "text": [
        "[INFO    ] !>          \\_    2.14e-03       na         3.26e-03     0.382\n"
       ]
      },
      {
       "output_type": "stream",
       "stream": "stderr",
       "text": [
        "[2014-05-23 14:23] DEBUG: PyPinT Logging: Work Loop: 278\n"
       ]
      },
      {
       "output_type": "stream",
       "stream": "stderr",
       "text": [
        "[2014-05-23 14:23] DEBUG: PyPinT Logging: Next Iteration\n"
       ]
      },
      {
       "output_type": "stream",
       "stream": "stderr",
       "text": [
        "[2014-05-23 14:23] DEBUG: PyPinT Logging: Starting New Solver Main Loop\n"
       ]
      },
      {
       "output_type": "stream",
       "stream": "stdout",
       "text": [
        "[INFO    ] !>        8\n"
       ]
      },
      {
       "output_type": "stream",
       "stream": "stdout",
       "text": [
        "[INFO    ] >>         \\\n"
       ]
      },
      {
       "output_type": "stream",
       "stream": "stdout",
       "text": [
        "[INFO    ] >>          |-   1     0.180     0.190     0.010\n"
       ]
      },
      {
       "output_type": "stream",
       "stream": "stdout",
       "text": [
        "[INFO    ]  >          |     \\\n"
       ]
      },
      {
       "output_type": "stream",
       "stream": "stdout",
       "text": [
        "[INFO    ]  >          |      |-  1      na       0.180     2.223       na           na    \n"
       ]
      },
      {
       "output_type": "stream",
       "stream": "stdout",
       "text": [
        "[INFO    ]  >          |      |-  2     0.180     0.182     2.226     3.32e-03       na    \n"
       ]
      },
      {
       "output_type": "stream",
       "stream": "stdout",
       "text": [
        "[INFO    ]  >          |      |-  3     0.182     0.185     2.232     9.44e-03       na    \n"
       ]
      },
      {
       "output_type": "stream",
       "stream": "stdout",
       "text": [
        "[INFO    ]  >          |      |-  4     0.185     0.188     2.237     1.55e-02       na    \n"
       ]
      },
      {
       "output_type": "stream",
       "stream": "stdout",
       "text": [
        "[INFO    ]  >          |      |-  5     0.188     0.190     2.241     1.80e-02       na    \n"
       ]
      },
      {
       "output_type": "stream",
       "stream": "stdout",
       "text": [
        "[INFO    ] >>          |      \\_\n"
       ]
      },
      {
       "output_type": "stream",
       "stream": "stdout",
       "text": [
        "[INFO    ] !>          \\_    4.88e-03       na         3.32e-03     0.441\n"
       ]
      },
      {
       "output_type": "stream",
       "stream": "stderr",
       "text": [
        "[2014-05-23 14:23] DEBUG: PyPinT Logging: Work Loop: 279\n"
       ]
      },
      {
       "output_type": "stream",
       "stream": "stderr",
       "text": [
        "[2014-05-23 14:23] DEBUG: PyPinT Logging: Next Iteration\n"
       ]
      },
      {
       "output_type": "stream",
       "stream": "stderr",
       "text": [
        "[2014-05-23 14:23] DEBUG: PyPinT Logging: Starting New Solver Main Loop\n"
       ]
      },
      {
       "output_type": "stream",
       "stream": "stdout",
       "text": [
        "[INFO    ] !>        9\n"
       ]
      },
      {
       "output_type": "stream",
       "stream": "stdout",
       "text": [
        "[INFO    ] >>         \\\n"
       ]
      },
      {
       "output_type": "stream",
       "stream": "stdout",
       "text": [
        "[INFO    ] >>          |-   1     0.180     0.190     0.010\n"
       ]
      },
      {
       "output_type": "stream",
       "stream": "stdout",
       "text": [
        "[INFO    ]  >          |     \\\n"
       ]
      },
      {
       "output_type": "stream",
       "stream": "stdout",
       "text": [
        "[INFO    ]  >          |      |-  1      na       0.180     2.223       na           na    \n"
       ]
      },
      {
       "output_type": "stream",
       "stream": "stdout",
       "text": [
        "[INFO    ]  >          |      |-  2     0.180     0.182     2.226     3.23e-03       na    \n"
       ]
      },
      {
       "output_type": "stream",
       "stream": "stdout",
       "text": [
        "[INFO    ]  >          |      |-  3     0.182     0.185     2.231     9.94e-03       na    \n"
       ]
      },
      {
       "output_type": "stream",
       "stream": "stdout",
       "text": [
        "[INFO    ]  >          |      |-  4     0.185     0.188     2.239     1.64e-02       na    \n"
       ]
      },
      {
       "output_type": "stream",
       "stream": "stdout",
       "text": [
        "[INFO    ]  >          |      |-  5     0.188     0.190     2.241     1.85e-02       na    \n"
       ]
      },
      {
       "output_type": "stream",
       "stream": "stdout",
       "text": [
        "[INFO    ] >>          |      \\_\n"
       ]
      },
      {
       "output_type": "stream",
       "stream": "stdout",
       "text": [
        "[INFO    ] !>          \\_    1.43e-02       na         3.23e-03     0.439\n"
       ]
      },
      {
       "output_type": "stream",
       "stream": "stderr",
       "text": [
        "[2014-05-23 14:23] DEBUG: PyPinT Logging: Work Loop: 280\n"
       ]
      },
      {
       "output_type": "stream",
       "stream": "stderr",
       "text": [
        "[2014-05-23 14:23] DEBUG: PyPinT Logging: Next Iteration\n"
       ]
      },
      {
       "output_type": "stream",
       "stream": "stderr",
       "text": [
        "[2014-05-23 14:23] DEBUG: PyPinT Logging: Starting New Solver Main Loop\n"
       ]
      },
      {
       "output_type": "stream",
       "stream": "stdout",
       "text": [
        "[INFO    ] !>       10\n"
       ]
      },
      {
       "output_type": "stream",
       "stream": "stdout",
       "text": [
        "[INFO    ] >>         \\\n"
       ]
      },
      {
       "output_type": "stream",
       "stream": "stdout",
       "text": [
        "[INFO    ] >>          |-   1     0.180     0.190     0.010\n"
       ]
      },
      {
       "output_type": "stream",
       "stream": "stdout",
       "text": [
        "[INFO    ]  >          |     \\\n"
       ]
      },
      {
       "output_type": "stream",
       "stream": "stdout",
       "text": [
        "[INFO    ]  >          |      |-  1      na       0.180     2.223       na           na    \n"
       ]
      },
      {
       "output_type": "stream",
       "stream": "stdout",
       "text": [
        "[INFO    ]  >          |      |-  2     0.180     0.182     2.226     3.65e-03       na    \n"
       ]
      },
      {
       "output_type": "stream",
       "stream": "stdout",
       "text": [
        "[INFO    ]  >          |      |-  3     0.182     0.185     2.234     1.20e-02       na    \n"
       ]
      },
      {
       "output_type": "stream",
       "stream": "stdout",
       "text": [
        "[INFO    ]  >          |      |-  4     0.185     0.188     2.235     1.85e-02       na    \n"
       ]
      },
      {
       "output_type": "stream",
       "stream": "stdout",
       "text": [
        "[INFO    ]  >          |      |-  5     0.188     0.190     2.241     2.07e-02       na    \n"
       ]
      },
      {
       "output_type": "stream",
       "stream": "stdout",
       "text": [
        "[INFO    ] >>          |      \\_\n"
       ]
      },
      {
       "output_type": "stream",
       "stream": "stdout",
       "text": [
        "[INFO    ] !>          \\_    2.90e-02       na         3.65e-03     0.494\n"
       ]
      },
      {
       "output_type": "stream",
       "stream": "stderr",
       "text": [
        "[2014-05-23 14:23] DEBUG: PyPinT Logging: Work Loop: 281\n"
       ]
      },
      {
       "output_type": "stream",
       "stream": "stderr",
       "text": [
        "[2014-05-23 14:23] DEBUG: PyPinT Logging: Next Iteration\n"
       ]
      },
      {
       "output_type": "stream",
       "stream": "stderr",
       "text": [
        "[2014-05-23 14:23] DEBUG: PyPinT Logging: Starting New Solver Main Loop\n"
       ]
      },
      {
       "output_type": "stream",
       "stream": "stdout",
       "text": [
        "[INFO    ] !>       11\n"
       ]
      },
      {
       "output_type": "stream",
       "stream": "stdout",
       "text": [
        "[INFO    ] >>         \\\n"
       ]
      },
      {
       "output_type": "stream",
       "stream": "stdout",
       "text": [
        "[INFO    ] >>          |-   1     0.180     0.190     0.010\n"
       ]
      },
      {
       "output_type": "stream",
       "stream": "stdout",
       "text": [
        "[INFO    ]  >          |     \\\n"
       ]
      },
      {
       "output_type": "stream",
       "stream": "stdout",
       "text": [
        "[INFO    ]  >          |      |-  1      na       0.180     2.223       na           na    \n"
       ]
      },
      {
       "output_type": "stream",
       "stream": "stdout",
       "text": [
        "[INFO    ]  >          |      |-  2     0.180     0.182     2.227     5.14e-03       na    \n"
       ]
      },
      {
       "output_type": "stream",
       "stream": "stdout",
       "text": [
        "[INFO    ]  >          |      |-  3     0.182     0.185     2.228     1.84e-02       na    \n"
       ]
      },
      {
       "output_type": "stream",
       "stream": "stdout",
       "text": [
        "[INFO    ]  >          |      |-  4     0.185     0.188     2.245     2.99e-02       na    \n"
       ]
      },
      {
       "output_type": "stream",
       "stream": "stdout",
       "text": [
        "[INFO    ]  >          |      |-  5     0.188     0.190     2.239     2.56e-02       na    \n"
       ]
      },
      {
       "output_type": "stream",
       "stream": "stdout",
       "text": [
        "[INFO    ] >>          |      \\_\n"
       ]
      },
      {
       "output_type": "stream",
       "stream": "stdout",
       "text": [
        "[INFO    ] !>          \\_    1.18e-01       na         5.14e-03     0.556\n"
       ]
      },
      {
       "output_type": "stream",
       "stream": "stderr",
       "text": [
        "[2014-05-23 14:23] DEBUG: PyPinT Logging: Work Loop: 282\n"
       ]
      },
      {
       "output_type": "stream",
       "stream": "stderr",
       "text": [
        "[2014-05-23 14:23] DEBUG: PyPinT Logging: Next Iteration\n"
       ]
      },
      {
       "output_type": "stream",
       "stream": "stderr",
       "text": [
        "[2014-05-23 14:23] DEBUG: PyPinT Logging: Starting New Solver Main Loop\n"
       ]
      },
      {
       "output_type": "stream",
       "stream": "stdout",
       "text": [
        "[INFO    ] !>       12\n"
       ]
      },
      {
       "output_type": "stream",
       "stream": "stdout",
       "text": [
        "[INFO    ] >>         \\\n"
       ]
      },
      {
       "output_type": "stream",
       "stream": "stdout",
       "text": [
        "[INFO    ] >>          |-   1     0.180     0.190     0.010\n"
       ]
      },
      {
       "output_type": "stream",
       "stream": "stdout",
       "text": [
        "[INFO    ]  >          |     \\\n"
       ]
      },
      {
       "output_type": "stream",
       "stream": "stdout",
       "text": [
        "[INFO    ]  >          |      |-  1      na       0.180     2.223       na           na    \n"
       ]
      },
      {
       "output_type": "stream",
       "stream": "stdout",
       "text": [
        "[INFO    ]  >          |      |-  2     0.180     0.182     2.225     9.81e-03       na    \n"
       ]
      },
      {
       "output_type": "stream",
       "stream": "stdout",
       "text": [
        "[INFO    ]  >          |      |-  3     0.182     0.185     2.240     3.30e-02       na    \n"
       ]
      },
      {
       "output_type": "stream",
       "stream": "stdout",
       "text": [
        "[INFO    ]  >          |      |-  4     0.185     0.188     2.220     6.18e-02       na    \n"
       ]
      },
      {
       "output_type": "stream",
       "stream": "stdout",
       "text": [
        "[INFO    ]  >          |      |-  5     0.188     0.190     2.241     4.23e-02       na    \n"
       ]
      },
      {
       "output_type": "stream",
       "stream": "stdout",
       "text": [
        "[INFO    ] >>          |      \\_\n"
       ]
      },
      {
       "output_type": "stream",
       "stream": "stdout",
       "text": [
        "[INFO    ] !>          \\_    9.80e-02       na         9.81e-03     0.609\n"
       ]
      },
      {
       "output_type": "stream",
       "stream": "stderr",
       "text": [
        "[2014-05-23 14:23] DEBUG: PyPinT Logging: Work Loop: 283\n"
       ]
      },
      {
       "output_type": "stream",
       "stream": "stderr",
       "text": [
        "[2014-05-23 14:23] DEBUG: PyPinT Logging: Next Iteration\n"
       ]
      },
      {
       "output_type": "stream",
       "stream": "stderr",
       "text": [
        "[2014-05-23 14:23] DEBUG: PyPinT Logging: Starting New Solver Main Loop\n"
       ]
      },
      {
       "output_type": "stream",
       "stream": "stdout",
       "text": [
        "[INFO    ] !>       13\n"
       ]
      },
      {
       "output_type": "stream",
       "stream": "stdout",
       "text": [
        "[INFO    ] >>         \\\n"
       ]
      },
      {
       "output_type": "stream",
       "stream": "stdout",
       "text": [
        "[INFO    ] >>          |-   1     0.180     0.190     0.010\n"
       ]
      },
      {
       "output_type": "stream",
       "stream": "stdout",
       "text": [
        "[INFO    ]  >          |     \\\n"
       ]
      },
      {
       "output_type": "stream",
       "stream": "stdout",
       "text": [
        "[INFO    ]  >          |      |-  1      na       0.180     2.223       na           na    \n"
       ]
      },
      {
       "output_type": "stream",
       "stream": "stdout",
       "text": [
        "[INFO    ]  >          |      |-  2     0.180     0.182     2.229     1.90e-02       na    \n"
       ]
      },
      {
       "output_type": "stream",
       "stream": "stdout",
       "text": [
        "[INFO    ]  >          |      |-  3     0.182     0.185     2.213     7.02e-02       na    \n"
       ]
      },
      {
       "output_type": "stream",
       "stream": "stdout",
       "text": [
        "[INFO    ]  >          |      |-  4     0.185     0.188     2.267     1.27e-01       na    \n"
       ]
      },
      {
       "output_type": "stream",
       "stream": "stdout",
       "text": [
        "[INFO    ]  >          |      |-  5     0.188     0.190     2.209     1.13e-01       na    \n"
       ]
      },
      {
       "output_type": "stream",
       "stream": "stdout",
       "text": [
        "[INFO    ] >>          |      \\_\n"
       ]
      },
      {
       "output_type": "stream",
       "stream": "stdout",
       "text": [
        "[INFO    ] !>          \\_    1.43e+00       na         1.90e-02     0.619\n"
       ]
      },
      {
       "output_type": "stream",
       "stream": "stderr",
       "text": [
        "[2014-05-23 14:23] DEBUG: PyPinT Logging: Work Loop: 284\n"
       ]
      },
      {
       "output_type": "stream",
       "stream": "stderr",
       "text": [
        "[2014-05-23 14:23] DEBUG: PyPinT Logging: Next Iteration\n"
       ]
      },
      {
       "output_type": "stream",
       "stream": "stderr",
       "text": [
        "[2014-05-23 14:23] DEBUG: PyPinT Logging: Starting New Solver Main Loop\n"
       ]
      },
      {
       "output_type": "stream",
       "stream": "stdout",
       "text": [
        "[INFO    ] !>       14\n"
       ]
      },
      {
       "output_type": "stream",
       "stream": "stdout",
       "text": [
        "[INFO    ] >>         \\\n"
       ]
      },
      {
       "output_type": "stream",
       "stream": "stdout",
       "text": [
        "[INFO    ] >>          |-   1     0.180     0.190     0.010\n"
       ]
      },
      {
       "output_type": "stream",
       "stream": "stdout",
       "text": [
        "[INFO    ]  >          |     \\\n"
       ]
      },
      {
       "output_type": "stream",
       "stream": "stdout",
       "text": [
        "[INFO    ]  >          |      |-  1      na       0.180     2.223       na           na    \n"
       ]
      },
      {
       "output_type": "stream",
       "stream": "stdout",
       "text": [
        "[INFO    ]  >          |      |-  2     0.180     0.182     2.218     3.66e-02       na    \n"
       ]
      },
      {
       "output_type": "stream",
       "stream": "stdout",
       "text": [
        "[INFO    ]  >          |      |-  3     0.182     0.185     2.273     1.37e-01       na    \n"
       ]
      },
      {
       "output_type": "stream",
       "stream": "stdout",
       "text": [
        "[INFO    ]  >          |      |-  4     0.185     0.188     2.098     3.71e-01       na    \n"
       ]
      },
      {
       "output_type": "stream",
       "stream": "stdout",
       "text": [
        "[INFO    ]  >          |      |-  5     0.188     0.190     2.176     9.89e-01       na    \n"
       ]
      },
      {
       "output_type": "stream",
       "stream": "stdout",
       "text": [
        "[INFO    ] >>          |      \\_\n"
       ]
      },
      {
       "output_type": "stream",
       "stream": "stdout",
       "text": [
        "[INFO    ] !>          \\_    1.46e+00       na         3.66e-02     0.677\n"
       ]
      },
      {
       "output_type": "stream",
       "stream": "stderr",
       "text": [
        "[2014-05-23 14:23] DEBUG: PyPinT Logging: Work Loop: 285\n"
       ]
      },
      {
       "output_type": "stream",
       "stream": "stderr",
       "text": [
        "[2014-05-23 14:23] DEBUG: PyPinT Logging: Next Iteration\n"
       ]
      },
      {
       "output_type": "stream",
       "stream": "stderr",
       "text": [
        "[2014-05-23 14:23] DEBUG: PyPinT Logging: Starting New Solver Main Loop\n"
       ]
      },
      {
       "output_type": "stream",
       "stream": "stdout",
       "text": [
        "[INFO    ] !>       15\n"
       ]
      },
      {
       "output_type": "stream",
       "stream": "stdout",
       "text": [
        "[INFO    ] >>         \\\n"
       ]
      },
      {
       "output_type": "stream",
       "stream": "stdout",
       "text": [
        "[INFO    ] >>          |-   1     0.180     0.190     0.010\n"
       ]
      },
      {
       "output_type": "stream",
       "stream": "stdout",
       "text": [
        "[INFO    ]  >          |     \\\n"
       ]
      },
      {
       "output_type": "stream",
       "stream": "stdout",
       "text": [
        "[INFO    ]  >          |      |-  1      na       0.180     2.223       na           na    \n"
       ]
      },
      {
       "ename": "ValueError",
       "evalue": "Jacobian inversion yielded zero vector. This indicates a bug in the Jacobian approximation.",
       "output_type": "pyerr",
       "traceback": [
        "\u001b[1;31m---------------------------------------------------------------------------\u001b[0m\n\u001b[1;31mValueError\u001b[0m                                Traceback (most recent call last)",
        "\u001b[1;32m<ipython-input-24-7bc7f999165c>\u001b[0m in \u001b[0;36m<module>\u001b[1;34m()\u001b[0m\n\u001b[0;32m     15\u001b[0m     \u001b[1;32mreturn\u001b[0m \u001b[0msolvers\u001b[0m\u001b[1;33m\u001b[0m\u001b[0m\n\u001b[0;32m     16\u001b[0m \u001b[1;33m\u001b[0m\u001b[0m\n\u001b[1;32m---> 17\u001b[1;33m \u001b[0msolvers\u001b[0m \u001b[1;33m=\u001b[0m \u001b[0msolve_with_factory\u001b[0m\u001b[1;33m(\u001b[0m\u001b[0mproblem\u001b[0m\u001b[1;33m,\u001b[0m \u001b[0mSemiImplicitSdcCore\u001b[0m\u001b[1;33m,\u001b[0m \u001b[1;36m1\u001b[0m\u001b[1;33m,\u001b[0m \u001b[1;36m100\u001b[0m\u001b[1;33m)\u001b[0m\u001b[1;33m\u001b[0m\u001b[0m\n\u001b[0m\u001b[0;32m     18\u001b[0m \u001b[0mprint\u001b[0m\u001b[1;33m(\u001b[0m\u001b[1;34m\"RHS Evaluations: %d\"\u001b[0m \u001b[1;33m%\u001b[0m \u001b[0mproblem\u001b[0m\u001b[1;33m.\u001b[0m\u001b[0mrhs_evaluations\u001b[0m\u001b[1;33m)\u001b[0m\u001b[1;33m\u001b[0m\u001b[0m\n",
        "\u001b[1;32m<ipython-input-24-7bc7f999165c>\u001b[0m in \u001b[0;36msolve_with_factory\u001b[1;34m(prob, core, num_solvers, num_total_time_steps)\u001b[0m\n\u001b[0;32m     12\u001b[0m                             \u001b[0mmin_threshold\u001b[0m\u001b[1;33m=\u001b[0m\u001b[1;36m1e-7\u001b[0m\u001b[1;33m,\u001b[0m\u001b[1;33m\u001b[0m\u001b[0m\n\u001b[0;32m     13\u001b[0m                             conditions=('residual', 'iterations'))\n\u001b[1;32m---> 14\u001b[1;33m     \u001b[0msolvers\u001b[0m \u001b[1;33m=\u001b[0m \u001b[0msdc_solver_factory\u001b[0m\u001b[1;33m(\u001b[0m\u001b[0mprob\u001b[0m\u001b[1;33m,\u001b[0m \u001b[0mnum_solvers\u001b[0m\u001b[1;33m,\u001b[0m \u001b[0mnum_total_time_steps\u001b[0m\u001b[1;33m,\u001b[0m \u001b[0mcore\u001b[0m\u001b[1;33m,\u001b[0m \u001b[0mthreshold\u001b[0m\u001b[1;33m=\u001b[0m\u001b[0mthresh\u001b[0m\u001b[1;33m,\u001b[0m \u001b[0mnum_time_steps\u001b[0m\u001b[1;33m=\u001b[0m\u001b[1;36m1\u001b[0m\u001b[1;33m,\u001b[0m \u001b[0mnum_nodes\u001b[0m\u001b[1;33m=\u001b[0m\u001b[1;36m5\u001b[0m\u001b[1;33m)\u001b[0m\u001b[1;33m\u001b[0m\u001b[0m\n\u001b[0m\u001b[0;32m     15\u001b[0m     \u001b[1;32mreturn\u001b[0m \u001b[0msolvers\u001b[0m\u001b[1;33m\u001b[0m\u001b[0m\n\u001b[0;32m     16\u001b[0m \u001b[1;33m\u001b[0m\u001b[0m\n",
        "\u001b[1;32m/home11/moser/PycharmProjects/PyPinT/pypint/utilities/sdc_solver_factory.py\u001b[0m in \u001b[0;36msdc_solver_factory\u001b[1;34m(problem, num_solvers, num_total_time_steps, solver_core, **solver_options)\u001b[0m\n\u001b[0;32m    131\u001b[0m             \u001b[0mLOG\u001b[0m\u001b[1;33m.\u001b[0m\u001b[0minfo\u001b[0m\u001b[1;33m(\u001b[0m\u001b[1;34m\"%s%s\"\u001b[0m \u001b[1;33m%\u001b[0m \u001b[1;33m(\u001b[0m\u001b[0mVERBOSITY_LVL1\u001b[0m\u001b[1;33m,\u001b[0m \u001b[0mSEPARATOR_LVL1\u001b[0m\u001b[1;33m)\u001b[0m\u001b[1;33m)\u001b[0m\u001b[1;33m\u001b[0m\u001b[0m\n\u001b[0;32m    132\u001b[0m             \u001b[0mLOG\u001b[0m\u001b[1;33m.\u001b[0m\u001b[0minfo\u001b[0m\u001b[1;33m(\u001b[0m\u001b[1;34m\"%sCalling solver %d\"\u001b[0m \u001b[1;33m%\u001b[0m \u001b[1;33m(\u001b[0m\u001b[0mVERBOSITY_LVL1\u001b[0m\u001b[1;33m,\u001b[0m \u001b[0m_solvers\u001b[0m\u001b[1;33m.\u001b[0m\u001b[0mindex\u001b[0m\u001b[1;33m(\u001b[0m\u001b[0m_s\u001b[0m\u001b[1;33m)\u001b[0m\u001b[1;33m)\u001b[0m\u001b[1;33m)\u001b[0m\u001b[1;33m\u001b[0m\u001b[0m\n\u001b[1;32m--> 133\u001b[1;33m             \u001b[0m_s\u001b[0m\u001b[1;33m.\u001b[0m\u001b[0mrun\u001b[0m\u001b[1;33m(\u001b[0m\u001b[0mcore\u001b[0m\u001b[1;33m=\u001b[0m\u001b[0msolver_core\u001b[0m\u001b[1;33m,\u001b[0m \u001b[0mdt\u001b[0m\u001b[1;33m=\u001b[0m\u001b[0m_dt\u001b[0m\u001b[1;33m)\u001b[0m\u001b[1;33m\u001b[0m\u001b[0m\n\u001b[0m\u001b[0;32m    134\u001b[0m             \u001b[0m_calls\u001b[0m\u001b[1;33m.\u001b[0m\u001b[0mappend\u001b[0m\u001b[1;33m(\u001b[0m\u001b[0m_solvers\u001b[0m\u001b[1;33m.\u001b[0m\u001b[0mindex\u001b[0m\u001b[1;33m(\u001b[0m\u001b[0m_s\u001b[0m\u001b[1;33m)\u001b[0m\u001b[1;33m)\u001b[0m\u001b[1;33m\u001b[0m\u001b[0m\n\u001b[0;32m    135\u001b[0m     \u001b[0mLOG\u001b[0m\u001b[1;33m.\u001b[0m\u001b[0minfo\u001b[0m\u001b[1;33m(\u001b[0m\u001b[1;34m\"%s%s\"\u001b[0m \u001b[1;33m%\u001b[0m \u001b[1;33m(\u001b[0m\u001b[0mVERBOSITY_LVL1\u001b[0m\u001b[1;33m,\u001b[0m \u001b[0mSEPARATOR_LVL1\u001b[0m\u001b[1;33m)\u001b[0m\u001b[1;33m)\u001b[0m\u001b[1;33m\u001b[0m\u001b[0m\n",
        "\u001b[1;32m/home11/moser/PycharmProjects/PyPinT/pypint/solvers/parallel_sdc.py\u001b[0m in \u001b[0;36mrun\u001b[1;34m(self, core, **kwargs)\u001b[0m\n\u001b[0;32m    276\u001b[0m                                 \u001b[0mself\u001b[0m\u001b[1;33m.\u001b[0m\u001b[0mstate\u001b[0m\u001b[1;33m.\u001b[0m\u001b[0mcurrent_iteration\u001b[0m\u001b[1;33m.\u001b[0m\u001b[0minitial\u001b[0m\u001b[1;33m.\u001b[0m\u001b[0msolution\u001b[0m\u001b[1;33m.\u001b[0m\u001b[0mvalue\u001b[0m \u001b[1;33m=\u001b[0m \u001b[0m_msg\u001b[0m\u001b[1;33m.\u001b[0m\u001b[0mvalue\u001b[0m\u001b[1;33m.\u001b[0m\u001b[0mcopy\u001b[0m\u001b[1;33m(\u001b[0m\u001b[1;33m)\u001b[0m\u001b[1;33m\u001b[0m\u001b[0m\n\u001b[0;32m    277\u001b[0m \u001b[1;33m\u001b[0m\u001b[0m\n\u001b[1;32m--> 278\u001b[1;33m                         \u001b[0m_current_flag\u001b[0m \u001b[1;33m=\u001b[0m \u001b[0mself\u001b[0m\u001b[1;33m.\u001b[0m\u001b[0m_main_solver_loop\u001b[0m\u001b[1;33m(\u001b[0m\u001b[1;33m)\u001b[0m\u001b[1;33m\u001b[0m\u001b[0m\n\u001b[0m\u001b[0;32m    279\u001b[0m \u001b[1;33m\u001b[0m\u001b[0m\n\u001b[0;32m    280\u001b[0m                         \u001b[1;32mif\u001b[0m \u001b[0m_current_flag\u001b[0m \u001b[1;32min\u001b[0m\u001b[0;31m \u001b[0m\u001b[0;31m\\\u001b[0m\u001b[1;33m\u001b[0m\u001b[0m\n",
        "\u001b[1;32m/home11/moser/PycharmProjects/PyPinT/pypint/solvers/parallel_sdc.py\u001b[0m in \u001b[0;36m_main_solver_loop\u001b[1;34m(self)\u001b[0m\n\u001b[0;32m    464\u001b[0m         \u001b[1;32mfor\u001b[0m \u001b[0m_current_time_step\u001b[0m \u001b[1;32min\u001b[0m \u001b[0mself\u001b[0m\u001b[1;33m.\u001b[0m\u001b[0mstate\u001b[0m\u001b[1;33m.\u001b[0m\u001b[0mcurrent_iteration\u001b[0m\u001b[1;33m:\u001b[0m\u001b[1;33m\u001b[0m\u001b[0m\n\u001b[0;32m    465\u001b[0m             \u001b[1;31m# run this time step\u001b[0m\u001b[1;33m\u001b[0m\u001b[1;33m\u001b[0m\u001b[0m\n\u001b[1;32m--> 466\u001b[1;33m             \u001b[0mself\u001b[0m\u001b[1;33m.\u001b[0m\u001b[0m_time_step\u001b[0m\u001b[1;33m(\u001b[0m\u001b[1;33m)\u001b[0m\u001b[1;33m\u001b[0m\u001b[0m\n\u001b[0m\u001b[0;32m    467\u001b[0m             \u001b[1;32mif\u001b[0m \u001b[0mself\u001b[0m\u001b[1;33m.\u001b[0m\u001b[0mstate\u001b[0m\u001b[1;33m.\u001b[0m\u001b[0mcurrent_time_step_index\u001b[0m \u001b[1;33m<\u001b[0m \u001b[0mlen\u001b[0m\u001b[1;33m(\u001b[0m\u001b[0mself\u001b[0m\u001b[1;33m.\u001b[0m\u001b[0mstate\u001b[0m\u001b[1;33m.\u001b[0m\u001b[0mcurrent_iteration\u001b[0m\u001b[1;33m)\u001b[0m \u001b[1;33m-\u001b[0m \u001b[1;36m1\u001b[0m\u001b[1;33m:\u001b[0m\u001b[1;33m\u001b[0m\u001b[0m\n\u001b[0;32m    468\u001b[0m                 \u001b[0mself\u001b[0m\u001b[1;33m.\u001b[0m\u001b[0mstate\u001b[0m\u001b[1;33m.\u001b[0m\u001b[0mcurrent_iteration\u001b[0m\u001b[1;33m.\u001b[0m\u001b[0mproceed\u001b[0m\u001b[1;33m(\u001b[0m\u001b[1;33m)\u001b[0m\u001b[1;33m\u001b[0m\u001b[0m\n",
        "\u001b[1;32m/home11/moser/PycharmProjects/PyPinT/pypint/solvers/parallel_sdc.py\u001b[0m in \u001b[0;36m_time_step\u001b[1;34m(self)\u001b[0m\n\u001b[0;32m    560\u001b[0m             \u001b[0m_current_step\u001b[0m\u001b[1;33m.\u001b[0m\u001b[0mintegral\u001b[0m \u001b[1;33m=\u001b[0m \u001b[0m_integral\u001b[0m\u001b[1;33m.\u001b[0m\u001b[0mcopy\u001b[0m\u001b[1;33m(\u001b[0m\u001b[1;33m)\u001b[0m\u001b[1;33m\u001b[0m\u001b[0m\n\u001b[0;32m    561\u001b[0m             \u001b[1;31m# do the SDC step of this sweep\u001b[0m\u001b[1;33m\u001b[0m\u001b[1;33m\u001b[0m\u001b[0m\n\u001b[1;32m--> 562\u001b[1;33m             \u001b[0mself\u001b[0m\u001b[1;33m.\u001b[0m\u001b[0m_sdc_step\u001b[0m\u001b[1;33m(\u001b[0m\u001b[1;33m)\u001b[0m\u001b[1;33m\u001b[0m\u001b[0m\n\u001b[0m\u001b[0;32m    563\u001b[0m             \u001b[1;32mif\u001b[0m \u001b[0mself\u001b[0m\u001b[1;33m.\u001b[0m\u001b[0mstate\u001b[0m\u001b[1;33m.\u001b[0m\u001b[0mcurrent_step_index\u001b[0m \u001b[1;33m<\u001b[0m \u001b[0mlen\u001b[0m\u001b[1;33m(\u001b[0m\u001b[0mself\u001b[0m\u001b[1;33m.\u001b[0m\u001b[0mstate\u001b[0m\u001b[1;33m.\u001b[0m\u001b[0mcurrent_time_step\u001b[0m\u001b[1;33m)\u001b[0m \u001b[1;33m-\u001b[0m \u001b[1;36m1\u001b[0m\u001b[1;33m:\u001b[0m\u001b[1;33m\u001b[0m\u001b[0m\n\u001b[0;32m    564\u001b[0m                 \u001b[0mself\u001b[0m\u001b[1;33m.\u001b[0m\u001b[0mstate\u001b[0m\u001b[1;33m.\u001b[0m\u001b[0mcurrent_time_step\u001b[0m\u001b[1;33m.\u001b[0m\u001b[0mproceed\u001b[0m\u001b[1;33m(\u001b[0m\u001b[1;33m)\u001b[0m\u001b[1;33m\u001b[0m\u001b[0m\n",
        "\u001b[1;32m/home11/moser/PycharmProjects/PyPinT/pypint/solvers/parallel_sdc.py\u001b[0m in \u001b[0;36m_sdc_step\u001b[1;34m(self)\u001b[0m\n\u001b[0;32m    661\u001b[0m \u001b[1;33m\u001b[0m\u001b[0m\n\u001b[0;32m    662\u001b[0m         \u001b[1;31m# compute step\u001b[0m\u001b[1;33m\u001b[0m\u001b[1;33m\u001b[0m\u001b[0m\n\u001b[1;32m--> 663\u001b[1;33m         \u001b[0mself\u001b[0m\u001b[1;33m.\u001b[0m\u001b[0m_core\u001b[0m\u001b[1;33m.\u001b[0m\u001b[0mrun\u001b[0m\u001b[1;33m(\u001b[0m\u001b[0mself\u001b[0m\u001b[1;33m.\u001b[0m\u001b[0mstate\u001b[0m\u001b[1;33m,\u001b[0m \u001b[0mproblem\u001b[0m\u001b[1;33m=\u001b[0m\u001b[0mself\u001b[0m\u001b[1;33m.\u001b[0m\u001b[0mproblem\u001b[0m\u001b[1;33m)\u001b[0m\u001b[1;33m\u001b[0m\u001b[0m\n\u001b[0m\u001b[0;32m    664\u001b[0m \u001b[1;33m\u001b[0m\u001b[0m\n\u001b[0;32m    665\u001b[0m         \u001b[1;31m# calculate error\u001b[0m\u001b[1;33m\u001b[0m\u001b[1;33m\u001b[0m\u001b[0m\n",
        "\u001b[1;32m/home11/moser/PycharmProjects/PyPinT/pypint/solvers/cores/semi_implicit_sdc_core.py\u001b[0m in \u001b[0;36mrun\u001b[1;34m(self, state, **kwargs)\u001b[0m\n\u001b[0;32m     80\u001b[0m                                            \u001b[0mexpl_term\u001b[0m\u001b[1;33m=\u001b[0m\u001b[0m_expl_term\u001b[0m\u001b[1;33m,\u001b[0m\u001b[1;33m\u001b[0m\u001b[0m\n\u001b[0;32m     81\u001b[0m                                            \u001b[0mtime_level\u001b[0m\u001b[1;33m=\u001b[0m\u001b[1;36m0\u001b[0m\u001b[1;33m,\u001b[0m\u001b[1;33m\u001b[0m\u001b[0m\n\u001b[1;32m---> 82\u001b[1;33m                                            delta_time=state.current_step.delta_tau).reshape(state.current_step.value.shape)\n\u001b[0m\u001b[0;32m     83\u001b[0m \u001b[1;33m\u001b[0m\u001b[0m\n\u001b[0;32m     84\u001b[0m         \u001b[1;32mif\u001b[0m \u001b[0mtype\u001b[0m\u001b[1;33m(\u001b[0m\u001b[0mstate\u001b[0m\u001b[1;33m.\u001b[0m\u001b[0mcurrent_step\u001b[0m\u001b[1;33m.\u001b[0m\u001b[0mvalue\u001b[0m\u001b[1;33m)\u001b[0m \u001b[1;33m==\u001b[0m \u001b[0mtype\u001b[0m\u001b[1;33m(\u001b[0m\u001b[0m_sol\u001b[0m\u001b[1;33m)\u001b[0m\u001b[1;33m:\u001b[0m\u001b[1;33m\u001b[0m\u001b[0m\n",
        "\u001b[1;32m/home11/moser/PycharmProjects/PyPinT/examples/problems/aviles_giga.py\u001b[0m in \u001b[0;36mimplicit_solve\u001b[1;34m(self, next_x, func, method, **kwargs)\u001b[0m\n\u001b[0;32m    146\u001b[0m         \u001b[0massert_is_instance\u001b[0m\u001b[1;33m(\u001b[0m\u001b[0mnext_x\u001b[0m\u001b[1;33m,\u001b[0m \u001b[0mnp\u001b[0m\u001b[1;33m.\u001b[0m\u001b[0mndarray\u001b[0m\u001b[1;33m,\u001b[0m \u001b[0mdescriptor\u001b[0m\u001b[1;33m=\u001b[0m\u001b[1;34m\"Initial Guess\"\u001b[0m\u001b[1;33m,\u001b[0m \u001b[0mchecking_obj\u001b[0m\u001b[1;33m=\u001b[0m\u001b[0mself\u001b[0m\u001b[1;33m)\u001b[0m\u001b[1;33m\u001b[0m\u001b[0m\n\u001b[0;32m    147\u001b[0m         \u001b[0massert_is_callable\u001b[0m\u001b[1;33m(\u001b[0m\u001b[0mfunc\u001b[0m\u001b[1;33m,\u001b[0m \u001b[0mdescriptor\u001b[0m\u001b[1;33m=\u001b[0m\u001b[1;34m\"Function of RHS for Implicit Solver\"\u001b[0m\u001b[1;33m,\u001b[0m \u001b[0mchecking_obj\u001b[0m\u001b[1;33m=\u001b[0m\u001b[0mself\u001b[0m\u001b[1;33m)\u001b[0m\u001b[1;33m\u001b[0m\u001b[0m\n\u001b[1;32m--> 148\u001b[1;33m         \u001b[0msol\u001b[0m \u001b[1;33m=\u001b[0m \u001b[0mscop\u001b[0m\u001b[1;33m.\u001b[0m\u001b[0mnewton_krylov\u001b[0m\u001b[1;33m(\u001b[0m\u001b[0mfunc\u001b[0m\u001b[1;33m,\u001b[0m \u001b[0mnext_x\u001b[0m\u001b[1;33m.\u001b[0m\u001b[0mreshape\u001b[0m\u001b[1;33m(\u001b[0m\u001b[1;33m-\u001b[0m\u001b[1;36m1\u001b[0m\u001b[1;33m)\u001b[0m\u001b[1;33m)\u001b[0m\u001b[1;33m\u001b[0m\u001b[0m\n\u001b[0m\u001b[0;32m    149\u001b[0m         \u001b[0massert_is_instance\u001b[0m\u001b[1;33m(\u001b[0m\u001b[0msol\u001b[0m\u001b[1;33m,\u001b[0m \u001b[0mnp\u001b[0m\u001b[1;33m.\u001b[0m\u001b[0mndarray\u001b[0m\u001b[1;33m,\u001b[0m \u001b[0mdescriptor\u001b[0m\u001b[1;33m=\u001b[0m\u001b[1;34m\"Solution\"\u001b[0m\u001b[1;33m,\u001b[0m \u001b[0mchecking_obj\u001b[0m\u001b[1;33m=\u001b[0m\u001b[0mself\u001b[0m\u001b[1;33m)\u001b[0m\u001b[1;33m\u001b[0m\u001b[0m\n\u001b[0;32m    150\u001b[0m \u001b[1;33m\u001b[0m\u001b[0m\n",
        "\u001b[1;32m/usr/lib64/python3.3/site-packages/scipy/optimize/nonlin.py\u001b[0m in \u001b[0;36mnewton_krylov\u001b[1;34m(F, xin, iter, rdiff, method, inner_maxiter, inner_M, outer_k, verbose, maxiter, f_tol, f_rtol, x_tol, x_rtol, tol_norm, line_search, callback, **kw)\u001b[0m\n",
        "\u001b[1;32m/usr/lib64/python3.3/site-packages/scipy/optimize/nonlin.py\u001b[0m in \u001b[0;36mnonlin_solve\u001b[1;34m(F, x0, jacobian, iter, verbose, maxiter, f_tol, f_rtol, x_tol, x_rtol, tol_norm, line_search, callback, full_output, raise_exception)\u001b[0m\n\u001b[0;32m    314\u001b[0m \u001b[1;33m\u001b[0m\u001b[0m\n\u001b[0;32m    315\u001b[0m         \u001b[1;32mif\u001b[0m \u001b[0mnorm\u001b[0m\u001b[1;33m(\u001b[0m\u001b[0mdx\u001b[0m\u001b[1;33m)\u001b[0m \u001b[1;33m==\u001b[0m \u001b[1;36m0\u001b[0m\u001b[1;33m:\u001b[0m\u001b[1;33m\u001b[0m\u001b[0m\n\u001b[1;32m--> 316\u001b[1;33m             raise ValueError(\"Jacobian inversion yielded zero vector. \"\n\u001b[0m\u001b[0;32m    317\u001b[0m                              \u001b[1;34m\"This indicates a bug in the Jacobian \"\u001b[0m\u001b[1;33m\u001b[0m\u001b[0m\n\u001b[0;32m    318\u001b[0m                              \"approximation.\")\n",
        "\u001b[1;31mValueError\u001b[0m: Jacobian inversion yielded zero vector. This indicates a bug in the Jacobian approximation."
       ]
      }
     ],
     "prompt_number": 24
    },
    {
     "cell_type": "code",
     "collapsed": false,
     "input": [
      "# get all the solvers\n",
      "solver=solvers[-1]\n",
      "last=solver._states[-1].last.final_step.solution.value\n",
      "first=solvers[0]._states[0].initial.value"
     ],
     "language": "python",
     "metadata": {},
     "outputs": [],
     "prompt_number": 11
    },
    {
     "cell_type": "code",
     "collapsed": false,
     "input": [
      "%matplotlib inline"
     ],
     "language": "python",
     "metadata": {},
     "outputs": [],
     "prompt_number": 12
    },
    {
     "cell_type": "code",
     "collapsed": false,
     "input": [
      "import matplotlib.pyplot as plt\n",
      "\n",
      "\n",
      "# last state\n",
      "\n",
      "shape = (m, m)\n",
      "plt.imshow(last.reshape(shape))\n",
      "plt.colorbar(cmap=plt.cm.coolwarm)\n",
      "plt.show()"
     ],
     "language": "python",
     "metadata": {},
     "outputs": [
      {
       "metadata": {},
       "output_type": "display_data",
       "png": "[encoded data removed]",
       "text": [
        "<matplotlib.figure.Figure at 0x7f977f3474d0>"
       ]
      }
     ],
     "prompt_number": 13
    },
    {
     "cell_type": "code",
     "collapsed": false,
     "input": [
      "# first state\n",
      "\n",
      "plt.imshow(first.reshape(shape))\n",
      "plt.colorbar(cmap=plt.cm.coolwarm)\n",
      "plt.show()"
     ],
     "language": "python",
     "metadata": {},
     "outputs": [
      {
       "metadata": {},
       "output_type": "display_data",
       "png": "[encoded data removed]",
       "text": [
        "<matplotlib.figure.Figure at 0x7f977f354910>"
       ]
      }
     ],
     "prompt_number": 14
    },
    {
     "cell_type": "code",
     "collapsed": false,
     "input": [
      "# difference\n",
      "\n",
      "plt.imshow(first.reshape(shape) - last.reshape(shape))\n",
      "plt.colorbar(cmap=plt.cm.coolwarm)\n",
      "plt.show()"
     ],
     "language": "python",
     "metadata": {},
     "outputs": [
      {
       "metadata": {},
       "output_type": "display_data",
       "png": "[encoded data removed]",
       "text": [
        "<matplotlib.figure.Figure at 0x7f977f4c0390>"
       ]
      }
     ],
     "prompt_number": 15
    },
    {
     "cell_type": "code",
     "collapsed": false,
     "input": [
      "# with angle\n",
      "plt.subplot(121)\n",
      "plt.imshow(last.reshape(shape))\n",
      "plt.title('u')\n",
      "plt.xticks([]); plt.yticks([])\n",
      "plt.subplot(122)\n",
      "plt.imshow(problem.angle(last.reshape(shape)))\n",
      "plt.title('angle of grad u')\n",
      "plt.xticks([]); plt.yticks([])\n",
      "plt.show()"
     ],
     "language": "python",
     "metadata": {},
     "outputs": [
      {
       "metadata": {},
       "output_type": "display_data",
       "png": "[encoded data removed]",
       "text": [
        "<matplotlib.figure.Figure at 0x7f977f3e1810>"
       ]
      }
     ],
     "prompt_number": 16
    },
    {
     "cell_type": "code",
     "collapsed": true,
     "input": [],
     "language": "python",
     "metadata": {},
     "outputs": []
    }
   ],
   "metadata": {}
  }
 ]
}